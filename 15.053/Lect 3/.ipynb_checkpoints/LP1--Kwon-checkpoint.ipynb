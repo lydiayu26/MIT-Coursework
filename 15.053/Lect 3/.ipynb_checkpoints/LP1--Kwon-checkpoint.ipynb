{
 "cells": [
  {
   "cell_type": "code",
   "execution_count": null,
   "metadata": {},
   "outputs": [],
   "source": [
    "#  A linear program from Chapter 2 of Kwon's book\n",
    "#  With additional comments of my own\n",
    "#  We will rely on JuMP and Cbc.  Cbc is a publicly available solver\n",
    "using JuMP\n",
    "using Cbc"
   ]
  },
  {
   "cell_type": "code",
   "execution_count": null,
   "metadata": {},
   "outputs": [],
   "source": [
    "# Preparing an optimization model\n",
    "# We'll start by defining a model m (we could have used any other name)\n",
    "# We immediately specify the solver as well\n",
    "m = Model(solver=CbcSolver())"
   ]
  },
  {
   "cell_type": "code",
   "execution_count": null,
   "metadata": {},
   "outputs": [],
   "source": [
    "# Declaring variables\n",
    "# This simple model has three variables, x1, x2, and x3.  We can specify upper and lower bounds.\n",
    "@variable(m, 0<= x1 <=10)\n",
    "@variable(m, x2 >=0)\n",
    "@variable(m, x3 >=0)"
   ]
  },
  {
   "cell_type": "code",
   "execution_count": null,
   "metadata": {},
   "outputs": [],
   "source": [
    "# Setting the objective\n",
    "# We need to specify the objective and whether it is Max or Min\n",
    "@objective(m, Max, x1 + 2x2 + 5x3)"
   ]
  },
  {
   "cell_type": "code",
   "execution_count": null,
   "metadata": {},
   "outputs": [],
   "source": [
    "# Adding constraints\n",
    "#Contraints can be labeled, but they don't need to be.\n",
    "@constraint(m, constraint1, -x1 +  x2 + 3x3 <= -5)\n",
    "@constraint(m, constraint2,  x1 + 3x2 - 7x3 <= 10)"
   ]
  },
  {
   "cell_type": "code",
   "execution_count": null,
   "metadata": {},
   "outputs": [],
   "source": [
    "# Printing the prepared optimization model\n",
    "# It's always good to know what model you have actually enterred into JuMP\n",
    "print(m)"
   ]
  },
  {
   "cell_type": "code",
   "execution_count": null,
   "metadata": {},
   "outputs": [],
   "source": [
    "# Solving the optimization problem  \n",
    "# Recall that you specified the solver earlier\n",
    "solve(m)"
   ]
  },
  {
   "cell_type": "code",
   "execution_count": null,
   "metadata": {},
   "outputs": [],
   "source": [
    "# Printing the optimal solutions obtained\n",
    "println(\"Optimal Solutions:\")\n",
    "println(\"x1 = \", getvalue(x1))\n",
    "println(\"x2 = \", getvalue(x2))\n",
    "println(\"x3 = \", getvalue(x3))"
   ]
  },
  {
   "cell_type": "code",
   "execution_count": 1,
   "metadata": {},
   "outputs": [
    {
     "data": {
      "text/plain": [
       "7"
      ]
     },
     "execution_count": 1,
     "metadata": {},
     "output_type": "execute_result"
    }
   ],
   "source": [
    "num = 7"
   ]
  },
  {
   "cell_type": "code",
   "execution_count": 2,
   "metadata": {},
   "outputs": [
    {
     "data": {
      "text/plain": [
       "true"
      ]
     },
     "execution_count": 2,
     "metadata": {},
     "output_type": "execute_result"
    }
   ],
   "source": [
    "num == 7"
   ]
  }
 ],
 "metadata": {
  "kernelspec": {
   "display_name": "Julia 1.1.0",
   "language": "julia",
   "name": "julia-1.1"
  },
  "language_info": {
   "file_extension": ".jl",
   "mimetype": "application/julia",
   "name": "julia",
   "version": "1.1.0"
  }
 },
 "nbformat": 4,
 "nbformat_minor": 2
}
