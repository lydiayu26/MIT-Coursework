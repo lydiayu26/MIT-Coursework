{
 "cells": [
  {
   "cell_type": "code",
   "execution_count": 17,
   "metadata": {},
   "outputs": [
    {
     "name": "stdout",
     "output_type": "stream",
     "text": [
      "Academic license - for non-commercial use only\n"
     ]
    },
    {
     "data": {
      "text/latex": [
       "$$ \\begin{alignat*}{1}\\max\\quad & 2 x1 + x2\\\\\n",
       "\\text{Subject to} \\quad & x1 \\geq 0.0\\\\\n",
       " & x2 \\geq 0.0\\\\\n",
       " & 12 x1 + 3 x2 \\leq 7.0\\\\\n",
       " & -3 x1 + x2 \\leq 7.0\\\\\n",
       " & x2 \\leq 10.0\\\\\n",
       "\\end{alignat*}\n",
       " $$"
      ],
      "text/plain": [
       "A JuMP Model\n",
       "Maximization problem with:\n",
       "Variables: 2\n",
       "Objective function type: GenericAffExpr{Float64,VariableRef}\n",
       "`VariableRef`-in-`MathOptInterface.GreaterThan{Float64}`: 2 constraints\n",
       "`GenericAffExpr{Float64,VariableRef}`-in-`MathOptInterface.LessThan{Float64}`: 3 constraints\n",
       "Model mode: AUTOMATIC\n",
       "CachingOptimizer state: EMPTY_OPTIMIZER\n",
       "Solver name: Gurobi\n",
       "Names registered in the model: x1, x2"
      ]
     },
     "execution_count": 17,
     "metadata": {},
     "output_type": "execute_result"
    }
   ],
   "source": [
    "#PROBLEM 5A\n",
    "\n",
    "using JuMP, Gurobi\n",
    "model = Model(with_optimizer(Gurobi.Optimizer))\n",
    "\n",
    "#variables\n",
    "@variable(model, x1>=0)\n",
    "@variable(model, x2>=0)\n",
    "\n",
    "@objective(model, Max, 2x1+x2)\n",
    "\n",
    "#constraints\n",
    "@constraint(model, 12x1+3x2<=7)\n",
    "@constraint(model, -3x1+x2<=7)\n",
    "@constraint(model, x2<=10)\n",
    "\n",
    "model"
   ]
  },
  {
   "cell_type": "code",
   "execution_count": 18,
   "metadata": {},
   "outputs": [
    {
     "name": "stdout",
     "output_type": "stream",
     "text": [
      "Optimize a model with 3 rows, 2 columns and 5 nonzeros\n",
      "Coefficient statistics:\n",
      "  Matrix range     [1e+00, 1e+01]\n",
      "  Objective range  [1e+00, 2e+00]\n",
      "  Bounds range     [0e+00, 0e+00]\n",
      "  RHS range        [7e+00, 1e+01]\n",
      "Presolve removed 3 rows and 2 columns\n",
      "Presolve time: 0.00s\n",
      "Presolve: All rows and columns removed\n",
      "Iteration    Objective       Primal Inf.    Dual Inf.      Time\n",
      "       0    2.3333333e+00   0.000000e+00   0.000000e+00      0s\n",
      "\n",
      "Solved in 0 iterations and 0.00 seconds\n",
      "Optimal objective  2.333333333e+00\n",
      "Objective Value: 2.3333333333333335\n",
      "x1: 0.0\n",
      "x2: 2.3333333333333335\n"
     ]
    }
   ],
   "source": [
    "optimize!(model)\n",
    "\n",
    "println(\"Objective Value: \", objective_value(model))\n",
    "println(\"x1: \", value(x1))\n",
    "println(\"x2: \", value(x2))"
   ]
  },
  {
   "cell_type": "code",
   "execution_count": 31,
   "metadata": {},
   "outputs": [
    {
     "name": "stdout",
     "output_type": "stream",
     "text": [
      "\u001b[32m\u001b[1m Resolving\u001b[22m\u001b[39m package versions...\n",
      "\u001b[32m\u001b[1m  Updating\u001b[22m\u001b[39m `~/.julia/environments/v1.1/Project.toml`\n",
      "\u001b[90m [no changes]\u001b[39m\n",
      "\u001b[32m\u001b[1m  Updating\u001b[22m\u001b[39m `~/.julia/environments/v1.1/Manifest.toml`\n",
      "\u001b[90m [no changes]\u001b[39m\n",
      "\u001b[32m\u001b[1m    Status\u001b[22m\u001b[39m `~/.julia/environments/v1.1/Project.toml`\n",
      " \u001b[90m [336ed68f]\u001b[39m\u001b[37m CSV v0.4.3\u001b[39m\n",
      " \u001b[90m [9961bab8]\u001b[39m\u001b[37m Cbc v0.6.0\u001b[39m\n",
      " \u001b[90m [e2554f3b]\u001b[39m\u001b[37m Clp v0.6.1\u001b[39m\n",
      " \u001b[90m [c91e804a]\u001b[39m\u001b[37m Gadfly v1.0.1\u001b[39m\n",
      " \u001b[90m [2e9cd046]\u001b[39m\u001b[37m Gurobi v0.5.9\u001b[39m\n",
      " \u001b[90m [7073ff75]\u001b[39m\u001b[37m IJulia v1.17.0\u001b[39m\n",
      " \u001b[90m [b6b21f68]\u001b[39m\u001b[37m Ipopt v0.5.4\u001b[39m\n",
      " \u001b[90m [4076af6c]\u001b[39m\u001b[37m JuMP v0.19.0\u001b[39m\n",
      " \u001b[90m [b964fa9f]\u001b[39m\u001b[37m LaTeXStrings v1.0.3\u001b[39m\n",
      " \u001b[90m [d330b81b]\u001b[39m\u001b[37m PyPlot v2.7.0\u001b[39m\n"
     ]
    }
   ],
   "source": [
    "using Pkg\n",
    "Pkg.add(\"CSV\")\n",
    "Pkg.status()"
   ]
  },
  {
   "cell_type": "code",
   "execution_count": 13,
   "metadata": {},
   "outputs": [
    {
     "name": "stdout",
     "output_type": "stream",
     "text": [
      "Academic license - for non-commercial use only\n",
      "2.0\n",
      "Optimize a model with 4 rows, 6 columns and 19 nonzeros\n",
      "Coefficient statistics:\n",
      "  Matrix range     [4e-01, 1e+01]\n",
      "  Objective range  [2e-02, 4e-02]\n",
      "  Bounds range     [1e+00, 1e+00]\n",
      "  RHS range        [4e+00, 1e+01]\n",
      "Presolve time: 0.00s\n",
      "Presolved: 4 rows, 6 columns, 19 nonzeros\n",
      "\n",
      "Iteration    Objective       Primal Inf.    Dual Inf.      Time\n",
      "       0    1.6200000e+29   7.000000e+30   1.620000e-01      0s\n",
      "       3    3.0070000e-01   0.000000e+00   0.000000e+00      0s\n",
      "\n",
      "Solved in 3 iterations and 0.00 seconds\n",
      "Optimal objective  3.007000000e-01\n",
      "Objective Value: 0.3006999999999999\n",
      "x1: 2.4\n",
      "x2: 0.0\n",
      "x3: 8.1\n",
      "x4: 0.0\n",
      "x5: 0.49999999999999967\n",
      "y: 1.0\n"
     ]
    }
   ],
   "source": [
    "#PROBLEM 5B\n",
    "\n",
    "using JuMP, Gurobi, CSV\n",
    "model = Model(with_optimizer(Gurobi.Optimizer))\n",
    "\n",
    "data = CSV.read(\"ps2_Portfolio1.csv\", header = true)\n",
    "rating = data[:,4]\n",
    "maturity = data[:,5]\n",
    "afterTax = data[:,8]\n",
    "\n",
    "AvgBankQuality = 1.4\n",
    "AvgYearsToMaturity = 5\n",
    "\n",
    "\n",
    "@variable(model, x[1:5]>=0)\n",
    "@variable(model, 0<=y<=1)\n",
    "\n",
    "println(float(rating[1]))\n",
    "@constraint(model, (sum(x[1:5])-y)<=10)\n",
    "@constraint(model, x[2]+x[3]+x[4]>=4)\n",
    "@constraint(model, sum((rating[i])*x[i] for i in 1:5)<=AvgBankQuality*sum(x[1:5]))\n",
    "@constraint(model, sum(maturity[i]*x[i] for i in 1:5)<=AvgYearsToMaturity*sum(x[1:5]))\n",
    "\n",
    "@objective(model, Max, (sum(afterTax[i]*x[i] for i in 1:5)-0.0275*y))\n",
    "\n",
    "optimize!(model)\n",
    "\n",
    "println(\"Objective Value: \", objective_value(model))\n",
    "for i in 1:5\n",
    "    println(\"x\", i, \": \", value(x[i]))\n",
    "end\n",
    "println(\"y: \", value(y))"
   ]
  },
  {
   "cell_type": "code",
   "execution_count": 60,
   "metadata": {},
   "outputs": [
    {
     "name": "stdout",
     "output_type": "stream",
     "text": [
      "This is Ipopt version 3.12.10, running with linear solver mumps.\n",
      "NOTE: Other linear solvers might be more efficient (see Ipopt documentation).\n",
      "\n",
      "Number of nonzeros in equality constraint Jacobian...:        0\n",
      "Number of nonzeros in inequality constraint Jacobian.:        0\n",
      "Number of nonzeros in Lagrangian Hessian.............:        3\n",
      "\n",
      "Total number of variables............................:        2\n",
      "                     variables with only lower bounds:        0\n",
      "                variables with lower and upper bounds:        0\n",
      "                     variables with only upper bounds:        0\n",
      "Total number of equality constraints.................:        0\n",
      "Total number of inequality constraints...............:        0\n",
      "        inequality constraints with only lower bounds:        0\n",
      "   inequality constraints with lower and upper bounds:        0\n",
      "        inequality constraints with only upper bounds:        0\n",
      "\n",
      "iter    objective    inf_pr   inf_du lg(mu)  ||d||  lg(rg) alpha_du alpha_pr  ls\n",
      "   0  8.9108729e+03 0.00e+00 1.00e+02  -1.0 0.00e+00    -  0.00e+00 0.00e+00   0\n",
      "   1  7.5673882e+03 0.00e+00 1.00e+02  -1.0 4.25e+02    -  1.00e+00 3.12e-02f  6\n",
      "   2  1.9302472e+03 0.00e+00 2.63e+01  -1.0 2.22e+02    -  1.00e+00 3.12e-02f  6\n",
      "   3  1.7785133e+03 0.00e+00 1.31e+01  -1.0 6.26e-01    -  1.00e+00 1.00e+00f  1\n",
      "   4  1.7480463e+03 0.00e+00 1.26e+00  -1.0 3.89e-01    -  1.00e+00 1.00e+00f  1\n",
      "   5  1.7477098e+03 0.00e+00 2.09e-02  -1.0 4.47e-02    -  1.00e+00 1.00e+00f  1\n",
      "   6  1.7477097e+03 0.00e+00 1.24e-05  -3.8 7.90e-04    -  1.00e+00 1.00e+00f  1\n",
      "   7  1.7477097e+03 0.00e+00 1.30e-12  -8.6 2.24e-07    -  1.00e+00 1.00e+00f  1\n",
      "\n",
      "Number of Iterations....: 7\n",
      "\n",
      "                                   (scaled)                 (unscaled)\n",
      "Objective...............:   1.6399695231371879e+02    1.7477096891328363e+03\n",
      "Dual infeasibility......:   1.3034772295492099e-12    1.3891110484109959e-11\n",
      "Constraint violation....:   0.0000000000000000e+00    0.0000000000000000e+00\n",
      "Complementarity.........:   0.0000000000000000e+00    0.0000000000000000e+00\n",
      "Overall NLP error.......:   1.3034772295492099e-12    1.3891110484109959e-11\n",
      "\n",
      "\n",
      "Number of objective function evaluations             = 26\n",
      "Number of objective gradient evaluations             = 8\n",
      "Number of equality constraint evaluations            = 0\n",
      "Number of inequality constraint evaluations          = 0\n",
      "Number of equality constraint Jacobian evaluations   = 0\n",
      "Number of inequality constraint Jacobian evaluations = 0\n",
      "Number of Lagrangian Hessian evaluations             = 7\n",
      "Total CPU secs in IPOPT (w/o function evaluations)   =      0.003\n",
      "Total CPU secs in NLP function evaluations           =      0.000\n",
      "\n",
      "EXIT: Optimal Solution Found.\n"
     ]
    }
   ],
   "source": [
    "#PROBLEM 6\n",
    "\n",
    "using JuMP, Ipopt \n",
    "model = Model(with_optimizer(Ipopt.Optimizer))\n",
    "\n",
    "x = [1, 1.5, 2.5, 2.5, 4]\n",
    "y = [5, 7, 9, 6, 7]\n",
    "shipments = [100, 150, 300, 200, 400]\n",
    "\n",
    "@variable(model, x0)\n",
    "@variable(model, y0)\n",
    "\n",
    "@NLobjective(model, Min, sum(shipments[i]*sqrt((x0-x[i])^2+(y0-y[i])^2) for i in 1:5))\n",
    "\n",
    "optimize!(model)"
   ]
  },
  {
   "cell_type": "code",
   "execution_count": 61,
   "metadata": {},
   "outputs": [
    {
     "name": "stdout",
     "output_type": "stream",
     "text": [
      "Objective Value: 1747.7096891328363\n",
      "x0: 3.0679192152498205\n",
      "y0: 7.076400277458581\n"
     ]
    }
   ],
   "source": [
    "println(\"Objective Value: \", objective_value(model))\n",
    "println(\"x0: \", value(x0))\n",
    "println(\"y0: \", value(y0))"
   ]
  }
 ],
 "metadata": {
  "kernelspec": {
   "display_name": "Julia 1.1.0",
   "language": "julia",
   "name": "julia-1.1"
  },
  "language_info": {
   "file_extension": ".jl",
   "mimetype": "application/julia",
   "name": "julia",
   "version": "1.1.0"
  }
 },
 "nbformat": 4,
 "nbformat_minor": 2
}
