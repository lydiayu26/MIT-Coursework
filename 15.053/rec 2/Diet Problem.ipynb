{
 "cells": [
  {
   "cell_type": "code",
   "execution_count": 6,
   "metadata": {},
   "outputs": [
    {
     "name": "stdout",
     "output_type": "stream",
     "text": [
      "Variable Values: x: 1 dimensions:\n",
      "[   brownies] = 0.0\n",
      "[  ice cream] = 3.0000000000000004\n",
      "[       cola] = 0.9999999999999998\n",
      "[cheese cake] = 0.0\n",
      "Objective Value: 0.9\n"
     ]
    }
   ],
   "source": [
    "using JuMP, Cbc\n",
    "\n",
    "# Define Model\n",
    "mymodel = Model(solver = CbcSolver())\n",
    "\n",
    "# Food available\n",
    "foods = [\"brownies\", \"ice cream\", \"cola\", \"cheese cake\"]\n",
    "\n",
    "# Define decision variables\n",
    "@variable(mymodel, x[foods] >= 0)\n",
    "\n",
    "# Constraints\n",
    "# At least 500 calories\n",
    "@constraint(mymodel, 400x[\"brownies\"] + 200x[\"ice cream\"] + 150x[\"cola\"] + 500x[\"cheese cake\"] >= 500)\n",
    "\n",
    "# At least 6 grams of chocolate\n",
    "@constraint(mymodel, 3x[\"brownies\"] + 2x[\"ice cream\"] >= 6)\n",
    "\n",
    "# At least 10 grams of sugar\n",
    "@constraint(mymodel, 2x[\"brownies\"] + 2x[\"ice cream\"] + 4x[\"cola\"] + 4x[\"cheese cake\"] >= 10)\n",
    "\n",
    "# At least 8 grams of fat\n",
    "@constraint(mymodel, 2x[\"brownies\"] + 4x[\"ice cream\"] + 1x[\"cola\"] + 5x[\"cheese cake\"] >= 8)\n",
    "\n",
    "@objective(mymodel, Min, 0.5x[\"brownies\"] + 0.2x[\"ice cream\"] + 0.3x[\"cola\"] + 0.8x[\"cheese cake\"])\n",
    "\n",
    "# Solve the optimization problem\n",
    "solve(mymodel)\n",
    "\n",
    "# Print the consumption amounts\n",
    "println(\"Variable Values: \", getvalue(x))\n",
    "\n",
    "# Print the objective value\n",
    "println(\"Objective Value: \", getobjectivevalue(mymodel))\n"
   ]
  },
  {
   "cell_type": "code",
   "execution_count": 6,
   "metadata": {},
   "outputs": [
    {
     "name": "stdout",
     "output_type": "stream",
     "text": [
      "val:4.0\n"
     ]
    }
   ],
   "source": [
    "using JuMP\n",
    "using Clp\n",
    "m = Model(solver = ClpSolver())\n",
    "@variable(m, x >= 0)\n",
    "@constraint(m, x<=4)\n",
    "@objective(m, Max, x)\n",
    "solve(m)\n",
    "m\n",
    "println(\"val:\",getvalue(x))"
   ]
  },
  {
   "cell_type": "code",
   "execution_count": 10,
   "metadata": {},
   "outputs": [
    {
     "name": "stdout",
     "output_type": "stream",
     "text": [
      "B: 40.0\n",
      "S: 50.0\n",
      "Objective Val:500.0\n"
     ]
    }
   ],
   "source": [
    "### cafe optimization\n",
    "    #key ingedients for fruit tarts and sponge cakes:\n",
    "    #1 lb of butter dough = $5 profit\n",
    "    #l lb of sponge dough = $6 profit\n",
    "    #sell enough fruit tarts to require 90 lbs butter dough and 60 lbs sponge dough\n",
    "    #mixter time: 6 mins for butter, 4.5 mins for sponge\n",
    "    #manual labor: 3 mins for butter, 6 mins for sponge\n",
    "    #every day, 420 mins labor time, 465 mins mixing time\n",
    "                    \n",
    "    #dec var: B, S >= 0\n",
    "    #ob func: max 5B + 6S\n",
    "    #Constraints: 6B+4.5S <= 465\n",
    "    #           3B + 6S <= 420\n",
    "    #            B <= 90\n",
    "    #           S <= 60\n",
    "###\n",
    "\n",
    "using JuMP, Clp\n",
    "m = Model(solver = ClpSolver())\n",
    "@variable(m, B>=0)\n",
    "@variable(m, S>=0)\n",
    "@constraint(m, 6B+4.5S<= 465)\n",
    "@constraint(m, 3B + 6S <= 420)\n",
    "@constraint(m, B <= 90)\n",
    "@constraint(m, S<= 60)\n",
    "@objective(m, Max, 5B+6S)\n",
    "m\n",
    "solve(m)\n",
    "println(\"B: \", getvalue(B))\n",
    "println(\"S: \", getvalue(S))\n",
    "println(\"Objective Val:\", getobjectivevalue(m))"
   ]
  },
  {
   "cell_type": "code",
   "execution_count": 12,
   "metadata": {},
   "outputs": [
    {
     "ename": "MethodError",
     "evalue": "MethodError: no method matching (::Colon)(::Int64, ::Model)\nClosest candidates are:\n  Colon(::T<:Real, ::Any, !Matched::T<:Real) where T<:Real at range.jl:40\n  Colon(::A<:Real, ::Any, !Matched::C<:Real) where {A<:Real, C<:Real} at range.jl:10\n  Colon(::T, ::Any, !Matched::T) where T at range.jl:39\n  ...",
     "output_type": "error",
     "traceback": [
      "MethodError: no method matching (::Colon)(::Int64, ::Model)\nClosest candidates are:\n  Colon(::T<:Real, ::Any, !Matched::T<:Real) where T<:Real at range.jl:40\n  Colon(::A<:Real, ::Any, !Matched::C<:Real) where {A<:Real, C<:Real} at range.jl:10\n  Colon(::T, ::Any, !Matched::T) where T at range.jl:39\n  ...",
      "",
      "Stacktrace:",
      " [1] top-level scope at /Users/lydiayu/.julia/packages/JuMP/PbnIJ/src/macros.jl:231",
      " [2] top-level scope at In[12]:4"
     ]
    }
   ],
   "source": [
    "using JuMP, Gurobi\n",
    "\n",
    "model = Model(solver = GurobiSolver())\n",
    "\n",
    "#variables\n",
    "@variable(model, x[i=1:m, j=1:n]>=0)\n",
    "\n",
    "#constraints\n",
    "for i=1:m\n",
    "    @constraint(model, sum(x[i,j] for j=1:n)<=s[i])\n",
    "end\n",
    "\n",
    "for j=1:n\n",
    "    @constraint(model, sum(x[i,j] for i=1:m)>=d[j])\n",
    "end\n",
    "\n",
    "@objective(model, Min, sum(c[i,j]*x[i,j] for i=1:m, j=1:n))\n",
    "\n",
    "model"
   ]
  },
  {
   "cell_type": "code",
   "execution_count": null,
   "metadata": {},
   "outputs": [],
   "source": []
  }
 ],
 "metadata": {
  "kernelspec": {
   "display_name": "Julia 1.1.0",
   "language": "julia",
   "name": "julia-1.1"
  },
  "language_info": {
   "file_extension": ".jl",
   "mimetype": "application/julia",
   "name": "julia",
   "version": "1.1.0"
  }
 },
 "nbformat": 4,
 "nbformat_minor": 2
}
