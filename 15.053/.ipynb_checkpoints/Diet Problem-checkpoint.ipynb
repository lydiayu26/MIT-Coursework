{
 "cells": [
  {
   "cell_type": "code",
   "execution_count": 6,
   "metadata": {},
   "outputs": [
    {
     "name": "stdout",
     "output_type": "stream",
     "text": [
      "Variable Values: x: 1 dimensions:\n",
      "[   brownies] = 0.0\n",
      "[  ice cream] = 3.0000000000000004\n",
      "[       cola] = 0.9999999999999998\n",
      "[cheese cake] = 0.0\n",
      "Objective Value: 0.9\n"
     ]
    }
   ],
   "source": [
    "using JuMP, Cbc\n",
    "\n",
    "# Define Model\n",
    "mymodel = Model(solver = CbcSolver())\n",
    "\n",
    "# Food available\n",
    "foods = [\"brownies\", \"ice cream\", \"cola\", \"cheese cake\"]\n",
    "\n",
    "# Define decision variables\n",
    "@variable(mymodel, x[foods] >= 0)\n",
    "\n",
    "# Constraints\n",
    "# At least 500 calories\n",
    "@constraint(mymodel, 400x[\"brownies\"] + 200x[\"ice cream\"] + 150x[\"cola\"] + 500x[\"cheese cake\"] >= 500)\n",
    "\n",
    "# At least 6 grams of chocolate\n",
    "@constraint(mymodel, 3x[\"brownies\"] + 2x[\"ice cream\"] >= 6)\n",
    "\n",
    "# At least 10 grams of sugar\n",
    "@constraint(mymodel, 2x[\"brownies\"] + 2x[\"ice cream\"] + 4x[\"cola\"] + 4x[\"cheese cake\"] >= 10)\n",
    "\n",
    "# At least 8 grams of fat\n",
    "@constraint(mymodel, 2x[\"brownies\"] + 4x[\"ice cream\"] + 1x[\"cola\"] + 5x[\"cheese cake\"] >= 8)\n",
    "\n",
    "@objective(mymodel, Min, 0.5x[\"brownies\"] + 0.2x[\"ice cream\"] + 0.3x[\"cola\"] + 0.8x[\"cheese cake\"])\n",
    "\n",
    "# Solve the optimization problem\n",
    "solve(mymodel)\n",
    "\n",
    "# Print the consumption amounts\n",
    "println(\"Variable Values: \", getvalue(x))\n",
    "\n",
    "# Print the objective value\n",
    "println(\"Objective Value: \", getobjectivevalue(mymodel))\n"
   ]
  },
  {
   "cell_type": "code",
   "execution_count": null,
   "metadata": {},
   "outputs": [
    {
     "name": "stderr",
     "output_type": "stream",
     "text": [
      "┌ Info: Precompiling JuMP [4076af6c-e467-56ae-b986-b466b2749572]\n",
      "└ @ Base loading.jl:1186\n",
      "┌ Info: Precompiling Clp [e2554f3b-3117-50c0-817c-e040a3ddf72d]\n",
      "└ @ Base loading.jl:1186\n"
     ]
    }
   ],
   "source": [
    "using JuMP\n",
    "using Clp\n",
    "m = Model(solver = ClpSolver())\n",
    "@variable(m, x >= 0)\n",
    "@constraint(m, x<=4)\n",
    "@objective(m, Max, x)\n",
    "solve(m)\n"
   ]
  }
 ],
 "metadata": {
  "kernelspec": {
   "display_name": "Julia 1.1.0",
   "language": "julia",
   "name": "julia-1.1"
  },
  "language_info": {
   "file_extension": ".jl",
   "mimetype": "application/julia",
   "name": "julia",
   "version": "1.1.0"
  }
 },
 "nbformat": 4,
 "nbformat_minor": 2
}
