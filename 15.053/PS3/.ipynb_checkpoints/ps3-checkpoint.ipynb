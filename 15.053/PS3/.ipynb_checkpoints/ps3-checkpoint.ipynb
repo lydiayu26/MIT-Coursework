{
 "cells": [
  {
   "cell_type": "code",
   "execution_count": 20,
   "metadata": {},
   "outputs": [
    {
     "name": "stdout",
     "output_type": "stream",
     "text": [
      "\u001b[32m\u001b[1m Resolving\u001b[22m\u001b[39m package versions...\n",
      "\u001b[32m\u001b[1m  Updating\u001b[22m\u001b[39m `~/.julia/environments/v1.1/Project.toml`\n",
      "\u001b[90m [no changes]\u001b[39m\n",
      "\u001b[32m\u001b[1m  Updating\u001b[22m\u001b[39m `~/.julia/environments/v1.1/Manifest.toml`\n",
      "\u001b[90m [no changes]\u001b[39m\n",
      "\u001b[32m\u001b[1m    Status\u001b[22m\u001b[39m `~/.julia/environments/v1.1/Project.toml`\n",
      " \u001b[90m [336ed68f]\u001b[39m\u001b[37m CSV v0.4.3\u001b[39m\n",
      " \u001b[90m [9961bab8]\u001b[39m\u001b[37m Cbc v0.6.0\u001b[39m\n",
      " \u001b[90m [e2554f3b]\u001b[39m\u001b[37m Clp v0.6.1\u001b[39m\n",
      " \u001b[90m [c91e804a]\u001b[39m\u001b[37m Gadfly v1.0.1\u001b[39m\n",
      " \u001b[90m [2e9cd046]\u001b[39m\u001b[37m Gurobi v0.5.9\u001b[39m\n",
      " \u001b[90m [7073ff75]\u001b[39m\u001b[37m IJulia v1.17.0\u001b[39m\n",
      " \u001b[90m [b6b21f68]\u001b[39m\u001b[37m Ipopt v0.5.4\u001b[39m\n",
      " \u001b[90m [4076af6c]\u001b[39m\u001b[37m JuMP v0.19.0\u001b[39m\n",
      " \u001b[90m [b964fa9f]\u001b[39m\u001b[37m LaTeXStrings v1.0.3\u001b[39m\n",
      " \u001b[90m [76087f3c]\u001b[39m\u001b[37m NLopt v0.5.1\u001b[39m\n",
      " \u001b[90m [91a5bcdd]\u001b[39m\u001b[37m Plots v0.23.1\u001b[39m\n",
      " \u001b[90m [d330b81b]\u001b[39m\u001b[37m PyPlot v2.7.0\u001b[39m\n"
     ]
    }
   ],
   "source": [
    "using Pkg\n",
    "Pkg.add(\"Plots\")\n",
    "Pkg.status()"
   ]
  },
  {
   "cell_type": "code",
   "execution_count": 5,
   "metadata": {},
   "outputs": [
    {
     "name": "stdout",
     "output_type": "stream",
     "text": [
      "Academic license - for non-commercial use only\n",
      "Optimize a model with 1 rows, 5 columns and 5 nonzeros\n",
      "Coefficient statistics:\n",
      "  Matrix range     [1e+00, 1e+00]\n",
      "  Objective range  [5e+00, 3e+01]\n",
      "  Bounds range     [0e+00, 0e+00]\n",
      "  RHS range        [1e+00, 1e+00]\n",
      "Presolve removed 1 rows and 5 columns\n",
      "Presolve time: 0.00s\n",
      "Presolve: All rows and columns removed\n",
      "Iteration    Objective       Primal Inf.    Dual Inf.      Time\n",
      "       0    2.5355849e+01   0.000000e+00   0.000000e+00      0s\n",
      "\n",
      "Solved in 0 iterations and 0.00 seconds\n",
      "Optimal objective  2.535584920e+01\n",
      "Objective Value: 25.3558492\n",
      "AAPL: 0.0\n",
      "ADBE: 0.0\n",
      "AMZN: 1.0\n",
      "CSCO: 0.0\n",
      "MSFT: 0.0\n",
      "Variance: 21.6974723\n"
     ]
    }
   ],
   "source": [
    "#PROBLEM 1Aa)\n",
    "\n",
    "using JuMP, Gurobi, CSV\n",
    "model = Model(with_optimizer(Gurobi.Optimizer))\n",
    "\n",
    "data = CSV.read(\"yearSummary.csv\", header = false)\n",
    "expReturn = data[1:2:9, 4]\n",
    "companies = data[1:2:9, 1]\n",
    "variance = data[1:2:9, 5]\n",
    "\n",
    "@variable(model, x[1:5]>=0)\n",
    "@constraint(model, (sum(x[1:5]) <= 1))\n",
    "\n",
    "@objective(model, Max, sum(expReturn[i] * x[i] for i in 1:5))\n",
    "\n",
    "optimize!(model)\n",
    "\n",
    "println(\"Objective Value: \", objective_value(model))\n",
    "for i in 1:5\n",
    "    println(companies[i], \": \", value(x[i]))\n",
    "end\n",
    "println(\"Variance: \", sum(variance[i] * value(x[i])^2 for i in 1:5))"
   ]
  },
  {
   "cell_type": "code",
   "execution_count": 6,
   "metadata": {},
   "outputs": [
    {
     "name": "stdout",
     "output_type": "stream",
     "text": [
      "Academic license - for non-commercial use only\n",
      "Optimize a model with 1 rows, 5 columns and 5 nonzeros\n",
      "Coefficient statistics:\n",
      "  Matrix range     [1e+00, 1e+00]\n",
      "  Objective range  [7e+00, 2e+01]\n",
      "  Bounds range     [0e+00, 0e+00]\n",
      "  RHS range        [1e+00, 1e+00]\n",
      "Presolve removed 1 rows and 5 columns\n",
      "Presolve time: 0.00s\n",
      "Presolve: All rows and columns removed\n",
      "Iteration    Objective       Primal Inf.    Dual Inf.      Time\n",
      "       0    0.0000000e+00   0.000000e+00   0.000000e+00      0s\n",
      "\n",
      "Solved in 0 iterations and 0.00 seconds\n",
      "Optimal objective  0.000000000e+00\n",
      "Objective Value: 0.0\n",
      "AAPL: 0.0\n",
      "ADBE: 0.0\n",
      "AMZN: 0.0\n",
      "CSCO: 0.0\n",
      "MSFT: 0.0\n"
     ]
    },
    {
     "ename": "MethodError",
     "evalue": "MethodError: no method matching +(::StepRangeLen{Float64,Base.TwicePrecision{Float64},Base.TwicePrecision{Float64}}, ::Float64)\nClosest candidates are:\n  +(::Any, ::Any, !Matched::Any, !Matched::Any...) at operators.jl:502\n  +(!Matched::Bool, ::T<:AbstractFloat) where T<:AbstractFloat at bool.jl:112\n  +(!Matched::Float64, ::Float64) at float.jl:395\n  ...",
     "output_type": "error",
     "traceback": [
      "MethodError: no method matching +(::StepRangeLen{Float64,Base.TwicePrecision{Float64},Base.TwicePrecision{Float64}}, ::Float64)\nClosest candidates are:\n  +(::Any, ::Any, !Matched::Any, !Matched::Any...) at operators.jl:502\n  +(!Matched::Bool, ::T<:AbstractFloat) where T<:AbstractFloat at bool.jl:112\n  +(!Matched::Float64, ::Float64) at float.jl:395\n  ...",
      "",
      "Stacktrace:",
      " [1] add_sum(::StepRangeLen{Float64,Base.TwicePrecision{Float64},Base.TwicePrecision{Float64}}, ::Float64) at ./reduce.jl:21",
      " [2] mapfoldl_impl(::typeof(identity), ::typeof(Base.add_sum), ::NamedTuple{(:init,),Tuple{StepRangeLen{Float64,Base.TwicePrecision{Float64},Base.TwicePrecision{Float64}}}}, ::Base.Generator{UnitRange{Int64},getfield(Main, Symbol(\"##7#8\"))}, ::Int64) at ./reduce.jl:45",
      " [3] mapfoldl_impl(::Function, ::Function, ::NamedTuple{(),Tuple{}}, ::Base.Generator{UnitRange{Int64},getfield(Main, Symbol(\"##7#8\"))}) at ./reduce.jl:61",
      " [4] #mapfoldl#187 at ./reduce.jl:72 [inlined]",
      " [5] mapfoldl at ./reduce.jl:72 [inlined]",
      " [6] #mapreduce#191 at ./reduce.jl:205 [inlined]",
      " [7] mapreduce at ./reduce.jl:205 [inlined]",
      " [8] sum at ./reduce.jl:399 [inlined]",
      " [9] sum(::Base.Generator{UnitRange{Int64},getfield(Main, Symbol(\"##7#8\"))}) at ./reduce.jl:416",
      " [10] top-level scope at In[6]:24"
     ]
    }
   ],
   "source": [
    "#PROBLEM 1Ab)\n",
    "\n",
    "using JuMP, Gurobi, CSV\n",
    "\n",
    "model = Model(with_optimizer(Gurobi.Optimizer))\n",
    "\n",
    "data = CSV.read(\"yearSummary.csv\", header = false)\n",
    "var = data[1:2:9, 5]\n",
    "companies = data[1:2:9, 1]\n",
    "expReturn = [1:2:9, 4]\n",
    "\n",
    "@variable(model, x[1:5]>=0)\n",
    "\n",
    "totalExp = sum(expReturn[i] * value(x[i]) for i in 1:5)\n",
    "\n",
    "@constraint(model, sum(x[1:5]) <= 1)\n",
    "@constraint(model, totalExp >= 14.1125521)\n",
    "\n",
    "@objective(model, Min, sum(var[i] * x[i] for i in 1:5))\n",
    "\n",
    "\n",
    "optimize!(model)\n",
    "\n",
    "println(\"Objective Value: \", objective_value(model))\n",
    "for i in 1:5\n",
    "    println(companies[i], \": \", value(x[i]))\n",
    "end\n",
    "println(\"Expected Value: \", totalExp)\n"
   ]
  }
 ],
 "metadata": {
  "kernelspec": {
   "display_name": "Julia 1.1.0",
   "language": "julia",
   "name": "julia-1.1"
  },
  "language_info": {
   "file_extension": ".jl",
   "mimetype": "application/julia",
   "name": "julia",
   "version": "1.1.0"
  }
 },
 "nbformat": 4,
 "nbformat_minor": 2
}
