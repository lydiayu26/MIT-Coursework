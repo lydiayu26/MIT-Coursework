{
 "cells": [
  {
   "cell_type": "code",
   "execution_count": 1,
   "metadata": {},
   "outputs": [
    {
     "ename": "UndefVarError",
     "evalue": "UndefVarError: model not defined",
     "output_type": "error",
     "traceback": [
      "UndefVarError: model not defined",
      "",
      "Stacktrace:",
      " [1] top-level scope at In[1]:3"
     ]
    }
   ],
   "source": [
    "using JuMP, Gurobi, CSV\n",
    "pixels = CSV.read(\"output_ghana2.csv\", header = false)\n",
    "model = model(with_optimizer(Gurobi.Optimizer))\n",
    "print(size(pixels[1]))\n",
    "#=@variable(model, S[1:pixles[1]][j], Bin)\n",
    "@variable(model, L[i][j], Bin)=#\n"
   ]
  }
 ],
 "metadata": {
  "kernelspec": {
   "display_name": "Julia 1.1.0",
   "language": "julia",
   "name": "julia-1.1"
  },
  "language_info": {
   "file_extension": ".jl",
   "mimetype": "application/julia",
   "name": "julia",
   "version": "1.1.0"
  }
 },
 "nbformat": 4,
 "nbformat_minor": 2
}
