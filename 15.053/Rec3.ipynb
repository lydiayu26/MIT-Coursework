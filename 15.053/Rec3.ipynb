{
 "cells": [
  {
   "cell_type": "code",
   "execution_count": 4,
   "metadata": {},
   "outputs": [
    {
     "name": "stdout",
     "output_type": "stream",
     "text": [
      "\u001b[32m\u001b[1m Resolving\u001b[22m\u001b[39m package versions...\n",
      "\u001b[32m\u001b[1m  Updating\u001b[22m\u001b[39m `~/.julia/environments/v1.1/Project.toml`\n",
      "\u001b[90m [no changes]\u001b[39m\n",
      "\u001b[32m\u001b[1m  Updating\u001b[22m\u001b[39m `~/.julia/environments/v1.1/Manifest.toml`\n",
      "\u001b[90m [no changes]\u001b[39m\n",
      "\u001b[32m\u001b[1m    Status\u001b[22m\u001b[39m `~/.julia/environments/v1.1/Project.toml`\n",
      " \u001b[90m [336ed68f]\u001b[39m\u001b[37m CSV v0.4.3\u001b[39m\n",
      " \u001b[90m [9961bab8]\u001b[39m\u001b[37m Cbc v0.6.0\u001b[39m\n",
      " \u001b[90m [e2554f3b]\u001b[39m\u001b[37m Clp v0.6.1\u001b[39m\n",
      " \u001b[90m [c91e804a]\u001b[39m\u001b[37m Gadfly v1.0.1\u001b[39m\n",
      " \u001b[90m [2e9cd046]\u001b[39m\u001b[37m Gurobi v0.5.9\u001b[39m\n",
      " \u001b[90m [7073ff75]\u001b[39m\u001b[37m IJulia v1.17.0\u001b[39m\n",
      " \u001b[90m [b6b21f68]\u001b[39m\u001b[37m Ipopt v0.5.4\u001b[39m\n",
      " \u001b[90m [4076af6c]\u001b[39m\u001b[37m JuMP v0.19.0\u001b[39m\n",
      " \u001b[90m [b964fa9f]\u001b[39m\u001b[37m LaTeXStrings v1.0.3\u001b[39m\n",
      " \u001b[90m [76087f3c]\u001b[39m\u001b[37m NLopt v0.5.1\u001b[39m\n",
      " \u001b[90m [d330b81b]\u001b[39m\u001b[37m PyPlot v2.7.0\u001b[39m\n"
     ]
    }
   ],
   "source": [
    "using Pkg\n",
    "Pkg.add(\"NLopt\")\n",
    "Pkg.status()"
   ]
  },
  {
   "cell_type": "code",
   "execution_count": null,
   "metadata": {},
   "outputs": [],
   "source": [
    "using JuMP, NLopt\n",
    "\n",
    "model = Model(with_optimizer(NLopt.Optimizer))\n",
    "\n",
    "a1 = 2\n",
    "b1 = 0\n",
    "a2 = -1\n",
    "b2 = 1\n",
    "\n",
    "@variable()"
   ]
  }
 ],
 "metadata": {
  "kernelspec": {
   "display_name": "Julia 1.1.0",
   "language": "julia",
   "name": "julia-1.1"
  },
  "language_info": {
   "file_extension": ".jl",
   "mimetype": "application/julia",
   "name": "julia",
   "version": "1.1.0"
  }
 },
 "nbformat": 4,
 "nbformat_minor": 2
}
