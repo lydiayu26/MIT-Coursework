{
 "cells": [
  {
   "cell_type": "markdown",
   "metadata": {},
   "source": [
    "## Recitation 5 Julia Coding Tutorial\n",
    "Fall 2021 <br> 15.774/15.780 Recitation <br>\n",
    "Ted Papalexopulos <br>\n",
    "October 8, 2020"
   ]
  },
  {
   "cell_type": "markdown",
   "metadata": {},
   "source": [
    "# INTRODUCTION\n",
    "\n",
    "IPython notebooks are made up of cells. A cell can have formatted text, like this one, or code. Code cells will show the code, followed by their output. "
   ]
  },
  {
   "cell_type": "code",
   "execution_count": 1,
   "metadata": {},
   "outputs": [],
   "source": [
    "# Comments are done with \"#\" in Julia, just like in R"
   ]
  },
  {
   "cell_type": "markdown",
   "metadata": {},
   "source": [
    "To run a cell, click on it and use Shift + Enter. "
   ]
  },
  {
   "cell_type": "code",
   "execution_count": 2,
   "metadata": {},
   "outputs": [
    {
     "data": {
      "text/plain": [
       "16"
      ]
     },
     "execution_count": 2,
     "metadata": {},
     "output_type": "execute_result"
    }
   ],
   "source": [
    "# The output of the last line of code will show in Out[...] below:\n",
    "2^5\n",
    "a = 4*4"
   ]
  },
  {
   "cell_type": "code",
   "execution_count": 3,
   "metadata": {},
   "outputs": [],
   "source": [
    "# I can suppress the output by adding a `;` after the last line.\n",
    "a = 4*4;"
   ]
  },
  {
   "cell_type": "code",
   "execution_count": 4,
   "metadata": {},
   "outputs": [
    {
     "name": "stdout",
     "output_type": "stream",
     "text": [
      "x = 3 + 5 = 8\n"
     ]
    }
   ],
   "source": [
    "# The @show macro will show you <line of code> = <output>:\n",
    "@show x = 3 + 5\n",
    "a = 4*4;"
   ]
  },
  {
   "cell_type": "code",
   "execution_count": 5,
   "metadata": {},
   "outputs": [
    {
     "name": "stdout",
     "output_type": "stream",
     "text": [
      "2 ^ 5 = 32\n",
      "42 / 7 = 6.0\n",
      "2π = 6.283185307179586\n"
     ]
    }
   ],
   "source": [
    "# Math opertors work as usual:\n",
    "@show 2^5\n",
    "@show 42/7\n",
    "@show 2*π      # Type \\pi and tab to get π!\n",
    ";"
   ]
  },
  {
   "cell_type": "markdown",
   "metadata": {},
   "source": [
    "\n",
    "\n",
    "\n",
    "\n",
    "\n",
    "\n",
    "\n",
    "\n",
    "\n"
   ]
  },
  {
   "cell_type": "markdown",
   "metadata": {},
   "source": [
    "\n",
    "\n",
    "\n",
    "\n",
    "\n",
    "\n",
    "\n",
    "\n",
    "\n"
   ]
  },
  {
   "cell_type": "markdown",
   "metadata": {},
   "source": [
    "## Vectors and vectorization\n",
    "\n",
    "\n",
    "\n",
    "\n",
    "\n",
    "\n",
    "\n",
    "\n"
   ]
  },
  {
   "cell_type": "code",
   "execution_count": 6,
   "metadata": {},
   "outputs": [
    {
     "name": "stdout",
     "output_type": "stream",
     "text": [
      "x = [1, 1, 2, 3, 5, 8]\n"
     ]
    }
   ],
   "source": [
    "# In R, we used c(...) to create vectors. \n",
    "# Here we use square brackets and separate elements by commas:\n",
    "x = [1, 1, 2, 3, 5, 8]\n",
    "@show x;"
   ]
  },
  {
   "cell_type": "code",
   "execution_count": 7,
   "metadata": {},
   "outputs": [
    {
     "name": "stdout",
     "output_type": "stream",
     "text": [
      "x[6] = 8\n",
      "x[3:5] = [2, 3, 5]\n"
     ]
    }
   ],
   "source": [
    "# As before, use square brackets to index:\n",
    "@show x[6]\n",
    "@show x[3:5];"
   ]
  },
  {
   "cell_type": "markdown",
   "metadata": {},
   "source": [
    "In `R`, all operators and functions were automatically vectorized. \n",
    "In Julia, this is not the case. \n",
    "\n",
    "To vectorize an operator add, a `.` before it:"
   ]
  },
  {
   "cell_type": "code",
   "execution_count": 8,
   "metadata": {},
   "outputs": [
    {
     "name": "stdout",
     "output_type": "stream",
     "text": [
      "x .* x = [1, 1, 4, 9, 25, 64]\n"
     ]
    }
   ],
   "source": [
    "@show x .* x ;     # element-wise multiplication"
   ]
  },
  {
   "cell_type": "code",
   "execution_count": 9,
   "metadata": {},
   "outputs": [
    {
     "name": "stdout",
     "output_type": "stream",
     "text": [
      "[true, false] .& [true, true] = Bool[true, false]\n"
     ]
    }
   ],
   "source": [
    "@show [true, false] .& [true, true];"
   ]
  },
  {
   "cell_type": "markdown",
   "metadata": {},
   "source": [
    "For vectorized math functions, add the `.` *after* the function name:"
   ]
  },
  {
   "cell_type": "code",
   "execution_count": 10,
   "metadata": {},
   "outputs": [
    {
     "name": "stdout",
     "output_type": "stream",
     "text": [
      "z = cos.(x) = [-1.0, 1.0, -1.0, 1.0, -1.0]\n"
     ]
    }
   ],
   "source": [
    "# Or for functions, add . after the function name:\n",
    "x = [1π, 2π, 3π, 4π, 5π]  # Cool Julia trick: sometimes you can omit the *\n",
    "\n",
    "@show z = cos.(x);"
   ]
  },
  {
   "cell_type": "markdown",
   "metadata": {},
   "source": [
    "So you could do vectorized versions of:\n",
    "* `round.()`\n",
    "* `exp.()`\n",
    "* `log2.()`\n",
    "* `sin.()`\n",
    "\n",
    "And way more."
   ]
  },
  {
   "cell_type": "markdown",
   "metadata": {},
   "source": [
    "Unlike `R`, for loops are fast in Julia, so feel free to use them. \n",
    "Example syntax:\n"
   ]
  },
  {
   "cell_type": "code",
   "execution_count": 11,
   "metadata": {},
   "outputs": [
    {
     "ename": "UndefVarError",
     "evalue": "\u001b[91mUndefVarError: y not defined\u001b[39m",
     "output_type": "error",
     "traceback": [
      "\u001b[91mUndefVarError: y not defined\u001b[39m",
      "",
      "Stacktrace:",
      " [1] top-level scope at ./In[11]:2"
     ]
    }
   ],
   "source": [
    "s = 0\n",
    "for i = 1:length(y)\n",
    "    s = s + y[i]\n",
    "    @show s\n",
    "end \n",
    "@show sum(y);"
   ]
  },
  {
   "cell_type": "markdown",
   "metadata": {},
   "source": [
    "## DATA TYPES\n",
    "We can check the type of an object with `typeof(x)`, or if it is an array we can see the types of its elements with `eltype(x)`: "
   ]
  },
  {
   "cell_type": "code",
   "execution_count": 12,
   "metadata": {},
   "outputs": [
    {
     "name": "stdout",
     "output_type": "stream",
     "text": [
      "typeof(x) = Array{Float64,1}\n",
      "eltype(x) = Float64\n"
     ]
    }
   ],
   "source": [
    "@show typeof(x)     # 1-dimensional array (i.e. vector) of Float64 \n",
    "@show eltype(x);    # elements are Float64"
   ]
  },
  {
   "cell_type": "markdown",
   "metadata": {},
   "source": [
    "Unlike in `R`, integers (`Int64`) and floats (`Float64`) are different types:"
   ]
  },
  {
   "cell_type": "code",
   "execution_count": 13,
   "metadata": {},
   "outputs": [
    {
     "ename": "InexactError",
     "evalue": "\u001b[91mInexactError: Int64(Int64, 4.7)\u001b[39m",
     "output_type": "error",
     "traceback": [
      "\u001b[91mInexactError: Int64(Int64, 4.7)\u001b[39m",
      "",
      "Stacktrace:",
      " [1] Type at ./float.jl:703 [inlined]",
      " [2] convert at ./number.jl:7 [inlined]",
      " [3] setindex!(::Array{Int64,1}, ::Float64, ::Int64) at ./array.jl:769",
      " [4] top-level scope at In[13]:2"
     ]
    }
   ],
   "source": [
    "x = [1, 2, 3]\n",
    "x[1] = 4.7      # ERROR: 4.7 is not an integer"
   ]
  },
  {
   "cell_type": "code",
   "execution_count": 14,
   "metadata": {},
   "outputs": [
    {
     "name": "stdout",
     "output_type": "stream",
     "text": [
      "Float64(x[1]) = 1.0\n",
      "x = Float64.(x) = [1.0, 2.0, 3.0]\n"
     ]
    }
   ],
   "source": [
    "# Can convert from one to the other:\n",
    "@show Float64(x[1])\n",
    "\n",
    "# Or use the vectorized form to convert the entire thing at once:\n",
    "@show x = Float64.(x);"
   ]
  },
  {
   "cell_type": "code",
   "execution_count": 15,
   "metadata": {},
   "outputs": [
    {
     "name": "stdout",
     "output_type": "stream",
     "text": [
      "x = [4.7, 2.0, 3.0]\n"
     ]
    }
   ],
   "source": [
    "# Now this should work:\n",
    "x[1] = 4.7\n",
    "@show x;"
   ]
  },
  {
   "cell_type": "markdown",
   "metadata": {},
   "source": [
    "Use the `rand()` function to generate a uniform random number from 0 to 1:"
   ]
  },
  {
   "cell_type": "code",
   "execution_count": 16,
   "metadata": {},
   "outputs": [
    {
     "data": {
      "text/plain": [
       "0.9582189589145471"
      ]
     },
     "execution_count": 16,
     "metadata": {},
     "output_type": "execute_result"
    }
   ],
   "source": [
    "rand()"
   ]
  },
  {
   "cell_type": "markdown",
   "metadata": {},
   "source": [
    "Or add dimensions to specify how many random numbers:\n",
    "rand(7)"
   ]
  },
  {
   "cell_type": "code",
   "execution_count": 17,
   "metadata": {},
   "outputs": [
    {
     "data": {
      "text/plain": [
       "4-element Array{Float64,1}:\n",
       " 0.797357589809613 \n",
       " 0.7854597273097135\n",
       " 0.8541418146081194\n",
       " 0.6672802698169773"
      ]
     },
     "execution_count": 17,
     "metadata": {},
     "output_type": "execute_result"
    }
   ],
   "source": [
    "rand(4)"
   ]
  },
  {
   "cell_type": "markdown",
   "metadata": {},
   "source": [
    "Use `randn()` for random numbers from a normal (with $\\mu=0$ and $\\sigma=1$):"
   ]
  },
  {
   "cell_type": "code",
   "execution_count": 18,
   "metadata": {},
   "outputs": [
    {
     "data": {
      "text/plain": [
       "3×4 Array{Float64,2}:\n",
       " -0.288152  1.00507   0.663857  -0.308422\n",
       "  0.551218  0.996737  1.0627     1.1236  \n",
       " -0.163182  0.320605  0.11725    0.972344"
      ]
     },
     "execution_count": 18,
     "metadata": {},
     "output_type": "execute_result"
    }
   ],
   "source": [
    "randn(3, 4)"
   ]
  },
  {
   "cell_type": "markdown",
   "metadata": {},
   "source": [
    "## Adding and Using Packages\n",
    "Some packages come with Julia by default. Suppose we want to set the random seed (to ensure that random numbers generated are always the same). We can do that with the *Random* package. "
   ]
  },
  {
   "cell_type": "code",
   "execution_count": 19,
   "metadata": {},
   "outputs": [
    {
     "name": "stdout",
     "output_type": "stream",
     "text": [
      "rand(5) = [0.260988, 0.819086, 0.861699, 0.907804, 0.338982]\n",
      "rand(5) = [0.260988, 0.819086, 0.861699, 0.907804, 0.338982]\n"
     ]
    }
   ],
   "source": [
    "# Load the package with the \"using\" keyword\n",
    "using Random\n",
    "\n",
    "# Refer to functions in it by prepending them with the package name:\n",
    "Random.seed!(1993)\n",
    "@show rand(5)\n",
    "\n",
    "Random.seed!(1993)\n",
    "@show rand(5);\n"
   ]
  },
  {
   "cell_type": "markdown",
   "metadata": {},
   "source": [
    "Other times, we will need to download packages. The (very meta) *Pkg* package lets us do this:"
   ]
  },
  {
   "cell_type": "code",
   "execution_count": 20,
   "metadata": {},
   "outputs": [
    {
     "name": "stdout",
     "output_type": "stream",
     "text": [
      "\u001b[32m\u001b[1m  Updating\u001b[22m\u001b[39m registry at `~/.julia/registries/General`\n",
      "\u001b[32m\u001b[1m  Updating\u001b[22m\u001b[39m git-repo `https://github.com/JuliaRegistries/General.git`\n",
      "\u001b[2K\u001b[?25h[1mFetching:\u001b[22m\u001b[39m [========================================>]  100.0 %.0 %.7 %           ]  71.7 %\u001b[32m\u001b[1m Resolving\u001b[22m\u001b[39m package versions...\n",
      "\u001b[32m\u001b[1m  Updating\u001b[22m\u001b[39m `~/.julia/environments/v1.0/Project.toml`\n",
      "\u001b[90m [no changes]\u001b[39m\n",
      "\u001b[32m\u001b[1m  Updating\u001b[22m\u001b[39m `~/.julia/environments/v1.0/Manifest.toml`\n",
      "\u001b[90m [no changes]\u001b[39m\n",
      "\u001b[32m\u001b[1m Resolving\u001b[22m\u001b[39m package versions...\n",
      "\u001b[32m\u001b[1m  Updating\u001b[22m\u001b[39m `~/.julia/environments/v1.0/Project.toml`\n",
      "\u001b[90m [no changes]\u001b[39m\n",
      "\u001b[32m\u001b[1m  Updating\u001b[22m\u001b[39m `~/.julia/environments/v1.0/Manifest.toml`\n",
      "\u001b[90m [no changes]\u001b[39m\n"
     ]
    }
   ],
   "source": [
    "# This is like R's install.packages(). You only need to do it once.\n",
    "using Pkg\n",
    "Pkg.add(\"DataFrames\")\n",
    "Pkg.add(\"CSV\")\n"
   ]
  },
  {
   "cell_type": "code",
   "execution_count": 21,
   "metadata": {},
   "outputs": [],
   "source": [
    "# But whenever you want to use them, you have to load them with \"using\":\n",
    "using DataFrames, CSV"
   ]
  },
  {
   "cell_type": "markdown",
   "metadata": {},
   "source": [
    "As with R, to read a file you need to tell Julia where to look. You have to set your *working directory*. \n",
    "\n",
    "You can check what the current working directory is with `pwd()` (it should be where this notebook lives by default):"
   ]
  },
  {
   "cell_type": "code",
   "execution_count": 22,
   "metadata": {},
   "outputs": [
    {
     "data": {
      "text/plain": [
       "\"/Users/Ted/Dropbox (MIT)/15.774-15.780 Fall 2021/Recitations/Recitation 5\""
      ]
     },
     "execution_count": 22,
     "metadata": {},
     "output_type": "execute_result"
    }
   ],
   "source": [
    "pwd() "
   ]
  },
  {
   "cell_type": "markdown",
   "metadata": {},
   "source": [
    "Or you can change the directory with `cd()`:"
   ]
  },
  {
   "cell_type": "code",
   "execution_count": 23,
   "metadata": {},
   "outputs": [],
   "source": [
    "cd(\"/Users/Ted/Dropbox (MIT)/15.774-15.780 Fall 2021/Recitations/Recitation 5\")"
   ]
  },
  {
   "cell_type": "markdown",
   "metadata": {},
   "source": [
    "Let's read a data frame using the `read()` function from the `CSV` package:"
   ]
  },
  {
   "cell_type": "code",
   "execution_count": 24,
   "metadata": {},
   "outputs": [
    {
     "name": "stdout",
     "output_type": "stream",
     "text": [
      "typeof(df) = DataFrame\n"
     ]
    },
    {
     "data": {
      "text/html": [
       "<div class=\"data-frame\"><p>6 rows × 4 columns</p><table class=\"data-frame\"><thead><tr><th></th><th>Sales </th><th>Income</th><th>Population</th><th>Market</th></tr><tr><th></th><th title=\"Float64\">Float64</th><th title=\"Int64\">Int64</th><th title=\"Int64\">Int64</th><th title=\"String\">String</th></tr></thead><tbody><tr><th>1</th><td>544.3</td><td>89</td><td>503</td><td>Urban</td></tr><tr><th>2</th><td>481.2</td><td>78</td><td>463</td><td>Urban</td></tr><tr><th>3</th><td>527.5</td><td>71</td><td>597</td><td>Urban</td></tr><tr><th>4</th><td>550.5</td><td>64</td><td>452</td><td>Urban</td></tr><tr><th>5</th><td>561.1</td><td>69</td><td>684</td><td>Urban</td></tr><tr><th>6</th><td>491.1</td><td>59</td><td>610</td><td>Urban</td></tr></tbody></table></div>"
      ],
      "text/latex": [
       "\\begin{tabular}{r|cccc}\n",
       "\t& Sales  & Income & Population & Market\\\\\n",
       "\t\\hline\n",
       "\t& Float64 & Int64 & Int64 & String\\\\\n",
       "\t\\hline\n",
       "\t1 & 544.3 & 89 & 503 & Urban \\\\\n",
       "\t2 & 481.2 & 78 & 463 & Urban \\\\\n",
       "\t3 & 527.5 & 71 & 597 & Urban \\\\\n",
       "\t4 & 550.5 & 64 & 452 & Urban \\\\\n",
       "\t5 & 561.1 & 69 & 684 & Urban \\\\\n",
       "\t6 & 491.1 & 59 & 610 & Urban \\\\\n",
       "\\end{tabular}\n"
      ],
      "text/plain": [
       "\u001b[1m6×4 DataFrame\u001b[0m\n",
       "\u001b[1m Row \u001b[0m│\u001b[1m Sales   \u001b[0m\u001b[1m Income \u001b[0m\u001b[1m Population \u001b[0m\u001b[1m Market \u001b[0m\n",
       "\u001b[1m     \u001b[0m│\u001b[90m Float64 \u001b[0m\u001b[90m Int64  \u001b[0m\u001b[90m Int64      \u001b[0m\u001b[90m String \u001b[0m\n",
       "─────┼─────────────────────────────────────\n",
       "   1 │   544.3      89         503  Urban\n",
       "   2 │   481.2      78         463  Urban\n",
       "   3 │   527.5      71         597  Urban\n",
       "   4 │   550.5      64         452  Urban\n",
       "   5 │   561.1      69         684  Urban\n",
       "   6 │   491.1      59         610  Urban"
      ]
     },
     "execution_count": 24,
     "metadata": {},
     "output_type": "execute_result"
    }
   ],
   "source": [
    "# File \"retail_sales.csv\" should be read into a DataFrame object.\n",
    "df = CSV.read(\"retail_sales.csv\", DataFrame)\n",
    "@show typeof(df)\n",
    "first(df, 6)"
   ]
  },
  {
   "cell_type": "markdown",
   "metadata": {},
   "source": [
    "There's the usual functions to get `DataFrame` information:"
   ]
  },
  {
   "cell_type": "code",
   "execution_count": 25,
   "metadata": {},
   "outputs": [
    {
     "name": "stdout",
     "output_type": "stream",
     "text": [
      "names(df) = [\"Sales \", \"Income\", \"Population\", \"Market\"]\n",
      "nrow(df) = 87\n",
      "ncol(df) = 4\n",
      "size(df) = (87, 4)\n"
     ]
    }
   ],
   "source": [
    "@show names(df)\n",
    "@show nrow(df)\n",
    "@show ncol(df)\n",
    "@show size(df);"
   ]
  },
  {
   "cell_type": "markdown",
   "metadata": {},
   "source": [
    "`describe(df)` works kind of like `summary` in `R`:"
   ]
  },
  {
   "cell_type": "code",
   "execution_count": 26,
   "metadata": {},
   "outputs": [
    {
     "data": {
      "text/html": [
       "<div class=\"data-frame\"><p>4 rows × 7 columns</p><table class=\"data-frame\"><thead><tr><th></th><th>variable</th><th>mean</th><th>min</th><th>median</th><th>max</th><th>nmissing</th><th>eltype</th></tr><tr><th></th><th title=\"Symbol\">Symbol</th><th title=\"Union{Nothing, Float64}\">Union…</th><th title=\"Any\">Any</th><th title=\"Union{Nothing, Float64}\">Union…</th><th title=\"Any\">Any</th><th title=\"Int64\">Int64</th><th title=\"DataType\">DataType</th></tr></thead><tbody><tr><th>1</th><td>Sales </td><td>445.203</td><td>126.9</td><td>461.1</td><td>691.7</td><td>0</td><td>Float64</td></tr><tr><th>2</th><td>Income</td><td>71.0345</td><td>50</td><td>71.0</td><td>95</td><td>0</td><td>Int64</td></tr><tr><th>3</th><td>Population</td><td>663.241</td><td>222</td><td>656.0</td><td>1224</td><td>0</td><td>Int64</td></tr><tr><th>4</th><td>Market</td><td></td><td>Rural</td><td></td><td>Urban</td><td>0</td><td>String</td></tr></tbody></table></div>"
      ],
      "text/latex": [
       "\\begin{tabular}{r|ccccccc}\n",
       "\t& variable & mean & min & median & max & nmissing & eltype\\\\\n",
       "\t\\hline\n",
       "\t& Symbol & Union… & Any & Union… & Any & Int64 & DataType\\\\\n",
       "\t\\hline\n",
       "\t1 & Sales  & 445.203 & 126.9 & 461.1 & 691.7 & 0 & Float64 \\\\\n",
       "\t2 & Income & 71.0345 & 50 & 71.0 & 95 & 0 & Int64 \\\\\n",
       "\t3 & Population & 663.241 & 222 & 656.0 & 1224 & 0 & Int64 \\\\\n",
       "\t4 & Market &  & Rural &  & Urban & 0 & String \\\\\n",
       "\\end{tabular}\n"
      ],
      "text/plain": [
       "\u001b[1m4×7 DataFrame\u001b[0m\n",
       "\u001b[1m Row \u001b[0m│\u001b[1m variable   \u001b[0m\u001b[1m mean    \u001b[0m\u001b[1m min   \u001b[0m\u001b[1m median \u001b[0m\u001b[1m max   \u001b[0m\u001b[1m nmissing \u001b[0m\u001b[1m eltype   \u001b[0m\n",
       "\u001b[1m     \u001b[0m│\u001b[90m Symbol     \u001b[0m\u001b[90m Union…  \u001b[0m\u001b[90m Any   \u001b[0m\u001b[90m Union… \u001b[0m\u001b[90m Any   \u001b[0m\u001b[90m Int64    \u001b[0m\u001b[90m DataType \u001b[0m\n",
       "─────┼───────────────────────────────────────────────────────────────\n",
       "   1 │ Sales       445.203  126.9  461.1   691.7         0  Float64\n",
       "   2 │ Income      71.0345  50     71.0    95            0  Int64\n",
       "   3 │ Population  663.241  222    656.0   1224          0  Int64\n",
       "   4 │ Market     \u001b[90m         \u001b[0m Rural \u001b[90m        \u001b[0m Urban         0  String"
      ]
     },
     "execution_count": 26,
     "metadata": {},
     "output_type": "execute_result"
    }
   ],
   "source": [
    "describe(df)"
   ]
  },
  {
   "cell_type": "markdown",
   "metadata": {},
   "source": [
    "Instead of the `$`, we use `.` to access individual columns: "
   ]
  },
  {
   "cell_type": "code",
   "execution_count": 27,
   "metadata": {},
   "outputs": [
    {
     "name": "stdout",
     "output_type": "stream",
     "text": [
      "df.Income[5] = 69\n",
      "df.Population[1:4] = [503, 463, 597, 452]\n"
     ]
    }
   ],
   "source": [
    "@show df.Income[5]\n",
    "@show df.Population[1:4] ;"
   ]
  },
  {
   "cell_type": "markdown",
   "metadata": {},
   "source": [
    "In general, I find that Julia's dataframe functionality is nowhere near as good as R's (plus it's much buggier). \n",
    "\n",
    "You can figure out how to do most things with enough digging into StackOverflow, but I highly advise using `R` for your pre-processing/analysis in R, and stick to Julia for what it's best, namely...\n",
    "\n",
    "## Optimization\n",
    "\n",
    "JuMP is a general language (an API) for *formulating* optimization problems of any time. It provides very intuitive syntax for creating variables, constraints, and \n",
    "\n",
    "Gurobi provides the solver. Once you have the formulation, you need an algorithm to find the optimal solution. For linear optimization problems (possibly with integer variables), Gurobi is basically state of the art."
   ]
  },
  {
   "cell_type": "code",
   "execution_count": 28,
   "metadata": {},
   "outputs": [],
   "source": [
    "# Let's load the two packages:\n",
    "using JuMP, Gurobi"
   ]
  },
  {
   "cell_type": "markdown",
   "metadata": {},
   "source": [
    "Let's start building up a model. The first step is always to create an (empty) optimization model, which we will add variables/objective/constraints to in a second. \n",
    "\n",
    "We need to specify from the beginning what solver we will use (`Gurobi.Optimizer`):"
   ]
  },
  {
   "cell_type": "code",
   "execution_count": 29,
   "metadata": {},
   "outputs": [
    {
     "name": "stdout",
     "output_type": "stream",
     "text": [
      "Academic license - for non-commercial use only - expires 2022-09-02\n"
     ]
    }
   ],
   "source": [
    "m = Model(Gurobi.Optimizer);"
   ]
  },
  {
   "cell_type": "markdown",
   "metadata": {},
   "source": [
    "The `@variable` macro allows us to add decision variables to our model (and specify upper and lower bounds for them):"
   ]
  },
  {
   "cell_type": "code",
   "execution_count": 30,
   "metadata": {},
   "outputs": [
    {
     "data": {
      "text/latex": [
       "$$ x $$"
      ],
      "text/plain": [
       "x"
      ]
     },
     "execution_count": 30,
     "metadata": {},
     "output_type": "execute_result"
    }
   ],
   "source": [
    "@variable(m, 0 <= x <= 2.5)"
   ]
  },
  {
   "cell_type": "markdown",
   "metadata": {},
   "source": [
    "This has the effect of create an object called `x`, of a special JuMP variable type. We will use it later to create constraints and objectives."
   ]
  },
  {
   "cell_type": "code",
   "execution_count": 31,
   "metadata": {},
   "outputs": [
    {
     "data": {
      "text/plain": [
       "VariableRef"
      ]
     },
     "execution_count": 31,
     "metadata": {},
     "output_type": "execute_result"
    }
   ],
   "source": [
    "typeof(x)"
   ]
  },
  {
   "cell_type": "markdown",
   "metadata": {},
   "source": [
    "The default behaviour is for x to be a continuous decision variable. We can add another argument if we want it to be integer (`Int`) or binary (`Bin`)."
   ]
  },
  {
   "cell_type": "code",
   "execution_count": 32,
   "metadata": {},
   "outputs": [
    {
     "data": {
      "text/latex": [
       "$$ y $$"
      ],
      "text/plain": [
       "y"
      ]
     },
     "execution_count": 32,
     "metadata": {},
     "output_type": "execute_result"
    }
   ],
   "source": [
    "@variable(m, y, Bin)"
   ]
  },
  {
   "cell_type": "markdown",
   "metadata": {},
   "source": [
    "The `@constraint` macro lets us add constraints, referring to variables we've created. Here the second argument `constr1` will be something we can use to refer to the constraint later."
   ]
  },
  {
   "cell_type": "code",
   "execution_count": 33,
   "metadata": {},
   "outputs": [
    {
     "name": "stdout",
     "output_type": "stream",
     "text": [
      "constr1 = constr1 : x + y ≤ 3.2\n"
     ]
    },
    {
     "data": {
      "text/latex": [
       "constr1 : $ x + y \\leq 3.2 $"
      ],
      "text/plain": [
       "constr1 : x + y ≤ 3.2"
      ]
     },
     "execution_count": 33,
     "metadata": {},
     "output_type": "execute_result"
    }
   ],
   "source": [
    "@constraint(m, constr1, x + y <= 3.2)\n",
    "@show constr1"
   ]
  },
  {
   "cell_type": "markdown",
   "metadata": {},
   "source": [
    "And the `@objective` macro tells lets us add the objective. The second argument is whether we want to minimize (`Min`) or maximize (`Max`)."
   ]
  },
  {
   "cell_type": "code",
   "execution_count": 34,
   "metadata": {},
   "outputs": [
    {
     "data": {
      "text/latex": [
       "$$ x + 2 y $$"
      ],
      "text/plain": [
       "x + 2 y"
      ]
     },
     "execution_count": 34,
     "metadata": {},
     "output_type": "execute_result"
    }
   ],
   "source": [
    "@objective(m, Max, x + 2*y)"
   ]
  },
  {
   "cell_type": "markdown",
   "metadata": {},
   "source": [
    "Now be amazed by the awesomeness that is JuMP:"
   ]
  },
  {
   "cell_type": "code",
   "execution_count": 35,
   "metadata": {},
   "outputs": [
    {
     "data": {
      "text/latex": [
       "$$ \\begin{aligned}\n",
       "\\max\\quad & x + 2 y\\\\\n",
       "\\text{Subject to} \\quad & x + y \\leq 3.2\\\\\n",
       " & x \\geq 0.0\\\\\n",
       " & x \\leq 2.5\\\\\n",
       " & y \\in \\{0, 1\\}\\\\\n",
       "\\end{aligned} $$"
      ]
     },
     "metadata": {},
     "output_type": "display_data"
    }
   ],
   "source": [
    "print(m) # Print the model"
   ]
  },
  {
   "cell_type": "markdown",
   "metadata": {},
   "source": [
    "Variables don't need to be one-dimensional! Let's add an array of 4 `z` variables, all integer:"
   ]
  },
  {
   "cell_type": "code",
   "execution_count": 36,
   "metadata": {},
   "outputs": [
    {
     "data": {
      "text/plain": [
       "4-element Array{VariableRef,1}:\n",
       " z[1]\n",
       " z[2]\n",
       " z[3]\n",
       " z[4]"
      ]
     },
     "execution_count": 36,
     "metadata": {},
     "output_type": "execute_result"
    }
   ],
   "source": [
    "@variable(m, z[i=1:4], Int)"
   ]
  },
  {
   "cell_type": "markdown",
   "metadata": {},
   "source": [
    "We can create indexed constraints as well:"
   ]
  },
  {
   "cell_type": "code",
   "execution_count": 37,
   "metadata": {},
   "outputs": [
    {
     "data": {
      "text/latex": [
       "zcon[2] : $ z_{2} - z_{3} \\leq 0.0 $"
      ],
      "text/plain": [
       "zcon[2] : z[2] - z[3] ≤ 0.0"
      ]
     },
     "execution_count": 37,
     "metadata": {},
     "output_type": "execute_result"
    }
   ],
   "source": [
    "@constraint(m, zcon[i=1:3], z[i] <= z[i+1])\n",
    "zcon[2]"
   ]
  },
  {
   "cell_type": "markdown",
   "metadata": {},
   "source": [
    "Or use sums in the constraints:"
   ]
  },
  {
   "cell_type": "code",
   "execution_count": 38,
   "metadata": {},
   "outputs": [
    {
     "data": {
      "text/latex": [
       "constr2 : $ z_{1} + z_{2} + z_{3} + z_{4} = 3.0 $"
      ],
      "text/plain": [
       "constr2 : z[1] + z[2] + z[3] + z[4] = 3.0"
      ]
     },
     "execution_count": 38,
     "metadata": {},
     "output_type": "execute_result"
    }
   ],
   "source": [
    "@constraint(m, constr2, sum(z) == 3) "
   ]
  },
  {
   "cell_type": "markdown",
   "metadata": {},
   "source": [
    "Or use *list comprehensions* in the sum:"
   ]
  },
  {
   "cell_type": "code",
   "execution_count": 39,
   "metadata": {},
   "outputs": [
    {
     "data": {
      "text/latex": [
       "constr3 : $ z_{2} + z_{4} \\geq 2.0 $"
      ],
      "text/plain": [
       "constr3 : z[2] + z[4] ≥ 2.0"
      ]
     },
     "execution_count": 39,
     "metadata": {},
     "output_type": "execute_result"
    }
   ],
   "source": [
    "@constraint(m, constr3, sum(z[i] for i in 2:4 if i != 3) >= 2)"
   ]
  },
  {
   "cell_type": "code",
   "execution_count": 40,
   "metadata": {},
   "outputs": [
    {
     "data": {
      "text/latex": [
       "$$ \\begin{aligned}\n",
       "\\max\\quad & x + 2 y\\\\\n",
       "\\text{Subject to} \\quad & z_{1} + z_{2} + z_{3} + z_{4} = 3.0\\\\\n",
       " & z_{2} + z_{4} \\geq 2.0\\\\\n",
       " & x + y \\leq 3.2\\\\\n",
       " & z_{1} - z_{2} \\leq 0.0\\\\\n",
       " & z_{2} - z_{3} \\leq 0.0\\\\\n",
       " & z_{3} - z_{4} \\leq 0.0\\\\\n",
       " & x \\geq 0.0\\\\\n",
       " & x \\leq 2.5\\\\\n",
       " & z_{1} \\in \\mathbb{Z}\\\\\n",
       " & z_{2} \\in \\mathbb{Z}\\\\\n",
       " & z_{3} \\in \\mathbb{Z}\\\\\n",
       " & z_{4} \\in \\mathbb{Z}\\\\\n",
       " & y \\in \\{0, 1\\}\\\\\n",
       "\\end{aligned} $$"
      ]
     },
     "metadata": {},
     "output_type": "display_data"
    }
   ],
   "source": [
    "print(m)"
   ]
  },
  {
   "cell_type": "markdown",
   "metadata": {},
   "source": [
    "The possibilities are endless! We'll see some more complex formulations later on. \n",
    "\n",
    "## MCU Example\n",
    "\n",
    "Let's try to solve the very simple MCU example from the slides:"
   ]
  },
  {
   "cell_type": "code",
   "execution_count": 41,
   "metadata": {},
   "outputs": [
    {
     "name": "stdout",
     "output_type": "stream",
     "text": [
      "Academic license - for non-commercial use only - expires 2022-09-02\n",
      "Gurobi Optimizer version 9.1.2 build v9.1.2rc0 (mac64)\n",
      "Thread count: 8 physical cores, 16 logical processors, using up to 16 threads\n",
      "Optimize a model with 2 rows, 2 columns and 4 nonzeros\n",
      "Model fingerprint: 0x4fb5f5bf\n",
      "Coefficient statistics:\n",
      "  Matrix range     [1e+00, 3e+00]\n",
      "  Objective range  [1e+02, 1e+02]\n",
      "  Bounds range     [2e+02, 2e+02]\n",
      "  RHS range        [5e+02, 8e+02]\n",
      "Presolve time: 0.00s\n",
      "Presolved: 2 rows, 2 columns, 4 nonzeros\n",
      "\n",
      "Iteration    Objective       Primal Inf.    Dual Inf.      Time\n",
      "       0    6.5000000e+04   1.237500e+02   0.000000e+00      0s\n",
      "       2    4.0500000e+04   0.000000e+00   0.000000e+00      0s\n",
      "\n",
      "Solved in 2 iterations and 0.00 seconds\n",
      "Optimal objective  4.050000000e+04\n",
      "\n",
      "User-callback calls 27, time in user-callback 0.00 sec\n",
      "\n",
      "\n",
      "\n",
      "value(F) = 175.0\n",
      "value(C) = 150.0\n",
      "objective_value(m) = 40500.0\n"
     ]
    }
   ],
   "source": [
    "# Define model - select optimizer to be Gurobi\n",
    "m = Model(Gurobi.Optimizer)\n",
    "\n",
    "@variable(m, 0 <= F <= 220) # number of full size ovens\n",
    "@variable(m, 0 <= C <= 180) # number of compact ovens\n",
    "\n",
    "@constraint(m, manual,     2*F + 1*C <= 500)\n",
    "@constraint(m, electronic, 2*F + 3*C <= 800)    \n",
    "\n",
    "@objective(m, Max, 120*F + 130*C)\n",
    "\n",
    "# To solve the problem, we just run optimize!(model):\n",
    "optimize!(m)\n",
    "println(\"\\n\\n\") # print some whitespace\n",
    "\n",
    "\n",
    "# We can get the values of the optimal solution with the value() function:\n",
    "@show value(F)\n",
    "@show value(C)\n",
    "\n",
    "# The optimal objective value (i.e. the profit of the optimal solution):\n",
    "@show objective_value(m);\n"
   ]
  },
  {
   "cell_type": "code",
   "execution_count": 42,
   "metadata": {},
   "outputs": [
    {
     "data": {
      "text/plain": [
       "40500.0"
      ]
     },
     "execution_count": 42,
     "metadata": {},
     "output_type": "execute_result"
    }
   ],
   "source": [
    "# Check the objective value is correct:\n",
    "120 * value(F) + 130 * value(C)"
   ]
  },
  {
   "cell_type": "markdown",
   "metadata": {},
   "source": [
    "To get the shadow prices we use `JuMP`'s `dual` function, using the constraint references (i.e. constraint names) we used above:\n",
    "\n",
    "*Irrelevant Note: Shadow prices are also known as dual variables, because they correspond to variables in the optimization dual problem. Each variable in the orginal problem (called the primal) is associated with a constraint in the dual, and vice versa.*"
   ]
  },
  {
   "cell_type": "code",
   "execution_count": 43,
   "metadata": {},
   "outputs": [
    {
     "name": "stdout",
     "output_type": "stream",
     "text": [
      "dual(manual) = -24.999999999999993\n",
      "dual(electronic) = -35.00000000000001\n"
     ]
    }
   ],
   "source": [
    "@show dual(manual)\n",
    "@show dual(electronic);"
   ]
  },
  {
   "cell_type": "markdown",
   "metadata": {},
   "source": [
    "CAUTION: For consistency reasons that can be summarised as \"math is weird\", JuMP's definition of a shadow price might *sometimes* have the sign flipped. I won't go into too much detail, but this is the case here. \n",
    "\n",
    "Think about the intuition: one more unit of manual/electronic labor reduces the profit? Nuh-uh. So in this case it's relatively easy for us to spot that the sign is flipped. "
   ]
  },
  {
   "cell_type": "code",
   "execution_count": 50,
   "metadata": {},
   "outputs": [
    {
     "name": "stdout",
     "output_type": "stream",
     "text": [
      "sp_manual = 25.0\n",
      "sp_electr = 35.0\n"
     ]
    }
   ],
   "source": [
    "sp_manual = round(-dual(manual))\n",
    "sp_electr = round(-dual(electronic))\n",
    "\n",
    "@show sp_manual\n",
    "@show sp_electr;"
   ]
  },
  {
   "cell_type": "markdown",
   "metadata": {},
   "source": [
    "## Network Flow Example\n",
    "(probably won't be covered)\n",
    "\n",
    "Let's code up another optimization of the network formulation from pages 11-18 of the *Linear Optimization Example Formulations* slides. To understand the following problem and formulation, go read those slides.\n",
    "\n",
    "For easier indexing let's number the cities 1-8 from left to right:\n",
    "\n",
    "S = 1, D = 2, M = 3, C = 4, T = 5, N = 6, A = 7, B = 8\n",
    "\n",
    "Now let's do a little trick. We technically only need variables for each edge $(i,j)$ that exists in the graph. But that makes indexing a pain. So we'll make variables for *every* pair $(i,j)$, but make the cost of shipping on the missing edges very very large, so that the optimization has no incentive whatsoever to do so. \n"
   ]
  },
  {
   "cell_type": "code",
   "execution_count": 60,
   "metadata": {},
   "outputs": [
    {
     "data": {
      "text/plain": [
       "8×8 Array{Float64,2}:\n",
       " 10000.0      1.0      3.0  10000.0  10000.0  10000.0  10000.0  10000.0\n",
       " 10000.0  10000.0      1.5      2.5  10000.0  10000.0  10000.0  10000.0\n",
       " 10000.0  10000.0  10000.0      1.0  10000.0  10000.0  10000.0  10000.0\n",
       " 10000.0  10000.0  10000.0  10000.0      2.0      3.5      2.0  10000.0\n",
       " 10000.0  10000.0  10000.0  10000.0  10000.0      2.0  10000.0      5.0\n",
       " 10000.0  10000.0  10000.0  10000.0  10000.0  10000.0  10000.0      2.0\n",
       " 10000.0  10000.0  10000.0  10000.0  10000.0      1.0  10000.0      3.0\n",
       " 10000.0  10000.0  10000.0  10000.0  10000.0  10000.0  10000.0  10000.0"
      ]
     },
     "execution_count": 60,
     "metadata": {},
     "output_type": "execute_result"
    }
   ],
   "source": [
    "# Create the cost matrix where (i,j) is the cost of\n",
    "# shipping one pound on edge (i,j). \n",
    "INF = 10000   # very high cost\n",
    "costs = [INF 1.0 3.0 INF INF INF INF INF;\n",
    "         INF INF 1.5 2.5 INF INF INF INF;\n",
    "         INF INF INF 1.0 INF INF INF INF;\n",
    "         INF INF INF INF 2.0 3.5 2.0 INF;\n",
    "         INF INF INF INF INF 2.0 INF 5.0;\n",
    "         INF INF INF INF INF INF INF 2.0;\n",
    "         INF INF INF INF INF 1.0 INF 3.0;\n",
    "         INF INF INF INF INF INF INF INF]\n",
    "\n",
    "# Note the lack of commas. That's how we create a 2-dimensional \n",
    "# array, also known as a matrix. "
   ]
  },
  {
   "cell_type": "code",
   "execution_count": 53,
   "metadata": {},
   "outputs": [
    {
     "name": "stdout",
     "output_type": "stream",
     "text": [
      "Academic license - for non-commercial use only - expires 2022-09-02\n"
     ]
    }
   ],
   "source": [
    "N = 8 # Number of cities\n",
    "\n",
    "## Define model - select optimizer to be Gurobi\n",
    "m = Model(Gurobi.Optimizer)\n",
    "\n",
    "## Create Variables T/P for all (i,j)\n",
    "@variable(m, 0 <= T[i=1:N, j=1:N]) # T[1,4] is # tablets shipped from 1 -> 4\n",
    "@variable(m, 0 <= P[i=1:N, j=1:N]) \n",
    "\n",
    "# Constraint for volume on each edge:\n",
    "@constraint(m, capacity[i=1:N,j=1:N], 0.3*T[i,j] + 0.2*P[i,j] <= 400)\n",
    "\n",
    "\n",
    "@constraint(m, T[1,2] + T[1,3] == 1000)        # 1000 tablets to leave node S\n",
    "@constraint(m, P[1,2] + P[1,3] == 1500)        # 1500 phones to leave node S\n",
    "\n",
    "@constraint(m, T[1,2] == T[2,3] + T[2,4])      # in == out for tablets node D\n",
    "@constraint(m, P[1,2] == P[2,3] + P[2,4])      # in == out for phones node D\n",
    "\n",
    "@constraint(m, T[1,3] + T[2,3] == T[3,4])      # in == out for tablets node M\n",
    "@constraint(m, P[1,3] + P[2,3] == P[3,4])      # in == out for phones node M\n",
    "\n",
    "@constraint(m, T[3,4] + T[2,4] == T[4,5] + T[4,6] + T[4,7]) # in == out for tablets node C\n",
    "@constraint(m, P[3,4] + P[2,4] == P[4,5] + P[4,6] + P[4,7]) # in == out for phones node C\n",
    "\n",
    "@constraint(m, T[4,5] == T[5,8] + T[5,6])      # in == out for tablets node T\n",
    "@constraint(m, P[4,5] == P[5,8] + P[5,6])      # in == out for phones node T\n",
    "\n",
    "@constraint(m, T[4,6] + T[5,6] + T[7,6] == T[6,8] ) # in == out for tablets node N\n",
    "@constraint(m, P[4,6] + P[5,6] + P[7,6] == P[6,8] ) # in == out for phones node N\n",
    "\n",
    "@constraint(m, T[4,7] == T[7,6] + T[7,8]) # in == out for tablets node A\n",
    "@constraint(m, P[4,7] == P[7,6] + P[7,8]) # in == out for phones node A\n",
    "\n",
    "@constraint(m, T[7,8] + T[5,8] + T[6,8] == 1000) # 1000 tablets to arrive node B\n",
    "@constraint(m, P[7,8] + P[5,8] + P[6,8] == 1500) # 1500 phones to arrive node B\n",
    "\n",
    "## Objective: minimize cost\n",
    "# Sum over all edges, multiplying total weight by cost per pound:\n",
    "@objective(m, Min, sum(costs .* (2 .* T .+ P))) ;                           "
   ]
  },
  {
   "cell_type": "code",
   "execution_count": 55,
   "metadata": {},
   "outputs": [
    {
     "name": "stdout",
     "output_type": "stream",
     "text": [
      "objective_value(m) = 30750.0\n"
     ]
    },
    {
     "data": {
      "text/plain": [
       "30750.0"
      ]
     },
     "execution_count": 55,
     "metadata": {},
     "output_type": "execute_result"
    }
   ],
   "source": [
    "# Add this line to silence Gurobi's detailed logs. \n",
    "set_optimizer_attribute(m, \"OutputFlag\", false)\n",
    "optimize!(m)\n",
    "\n",
    "@show objective_value(m)"
   ]
  },
  {
   "cell_type": "markdown",
   "metadata": {},
   "source": [
    "To see the optimal solution, use the vectorized version of `value()` on the *matrix* of $P$ and $T$ variables:"
   ]
  },
  {
   "cell_type": "code",
   "execution_count": 56,
   "metadata": {},
   "outputs": [
    {
     "data": {
      "text/plain": [
       "8×8 Array{Float64,2}:\n",
       " 0.0  1000.0  0.0     0.0  0.0    0.0       0.0    0.0  \n",
       " 0.0     0.0  0.0  1000.0  0.0    0.0       0.0    0.0  \n",
       " 0.0     0.0  0.0     0.0  0.0    0.0       0.0    0.0  \n",
       " 0.0     0.0  0.0     0.0  0.0    0.0    1000.0    0.0  \n",
       " 0.0     0.0  0.0     0.0  0.0    0.0       0.0    0.0  \n",
       " 0.0     0.0  0.0     0.0  0.0    0.0       0.0  666.667\n",
       " 0.0     0.0  0.0     0.0  0.0  666.667     0.0  333.333\n",
       " 0.0     0.0  0.0     0.0  0.0    0.0       0.0    0.0  "
      ]
     },
     "execution_count": 56,
     "metadata": {},
     "output_type": "execute_result"
    }
   ],
   "source": [
    "value.(T)"
   ]
  },
  {
   "cell_type": "code",
   "execution_count": 57,
   "metadata": {},
   "outputs": [
    {
     "data": {
      "text/plain": [
       "8×8 Array{Float64,2}:\n",
       " 0.0  500.0  1000.0     0.0  0.0     0.0    0.0     0.0\n",
       " 0.0    0.0     0.0   500.0  0.0     0.0    0.0     0.0\n",
       " 0.0    0.0     0.0  1000.0  0.0     0.0    0.0     0.0\n",
       " 0.0    0.0     0.0     0.0  0.0  1000.0  500.0     0.0\n",
       " 0.0    0.0     0.0     0.0  0.0     0.0    0.0     0.0\n",
       " 0.0    0.0     0.0     0.0  0.0     0.0    0.0  1000.0\n",
       " 0.0    0.0     0.0     0.0  0.0     0.0    0.0   500.0\n",
       " 0.0    0.0     0.0     0.0  0.0     0.0    0.0     0.0"
      ]
     },
     "execution_count": 57,
     "metadata": {},
     "output_type": "execute_result"
    }
   ],
   "source": [
    "value.(P)"
   ]
  },
  {
   "cell_type": "markdown",
   "metadata": {},
   "source": [
    "And similarly for getting the capacity shadow prices for each edge:"
   ]
  },
  {
   "cell_type": "code",
   "execution_count": 58,
   "metadata": {},
   "outputs": [
    {
     "data": {
      "text/plain": [
       "8×8 Array{Float64,2}:\n",
       " 0.0  -2.5  0.0  0.0  0.0  0.0   0.0  0.0\n",
       " 0.0   0.0  0.0  0.0  0.0  0.0   0.0  0.0\n",
       " 0.0   0.0  0.0  0.0  0.0  0.0   0.0  0.0\n",
       " 0.0   0.0  0.0  0.0  0.0  0.0  -2.5  0.0\n",
       " 0.0   0.0  0.0  0.0  0.0  0.0   0.0  0.0\n",
       " 0.0   0.0  0.0  0.0  0.0  0.0   0.0  0.0\n",
       " 0.0   0.0  0.0  0.0  0.0  0.0   0.0  0.0\n",
       " 0.0   0.0  0.0  0.0  0.0  0.0   0.0  0.0"
      ]
     },
     "execution_count": 58,
     "metadata": {},
     "output_type": "execute_result"
    }
   ],
   "source": [
    "# And simil\n",
    "dual.(capacity)"
   ]
  },
  {
   "cell_type": "markdown",
   "metadata": {},
   "source": [
    "Note that the only non-zero shadow prices are for edges $(1,2)$ (S to D) and $(4,7)$ (C to A). If we increased the capacity of either of those by 1 unit, we could reduce the cost by \\$2.5. \n",
    "\n",
    "This makes sense! Edge (S,D) is by far the cheapest way to get stuff out of SF (\\\\$1 per pound), so if we added capacity we wouldn't need to send as much stuff through (S,M) (\\\\$3 per pound).\n",
    "\n",
    "See if you can get a similar intuition for (C,A)."
   ]
  },
  {
   "cell_type": "code",
   "execution_count": null,
   "metadata": {},
   "outputs": [],
   "source": []
  }
 ],
 "metadata": {
  "kernelspec": {
   "display_name": "Julia 1.0.5",
   "language": "julia",
   "name": "julia-1.0"
  },
  "language_info": {
   "file_extension": ".jl",
   "mimetype": "application/julia",
   "name": "julia",
   "version": "1.0.5"
  }
 },
 "nbformat": 4,
 "nbformat_minor": 2
}
