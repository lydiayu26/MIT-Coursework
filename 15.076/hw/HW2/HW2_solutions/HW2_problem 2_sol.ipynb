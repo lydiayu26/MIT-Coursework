{
 "cells": [
  {
   "cell_type": "code",
   "execution_count": 1,
   "metadata": {},
   "outputs": [],
   "source": [
    "using JuMP, Gurobi, LinearAlgebra, CSV, DataFrames, Plots"
   ]
  },
  {
   "cell_type": "code",
   "execution_count": 2,
   "metadata": {},
   "outputs": [],
   "source": [
    "BED = CSV.read(\"outcome_data.csv\", DataFrame, header=false);"
   ]
  },
  {
   "cell_type": "code",
   "execution_count": 3,
   "metadata": {},
   "outputs": [
    {
     "data": {
      "text/plain": [
       "bed_opt (generic function with 1 method)"
      ]
     },
     "execution_count": 3,
     "metadata": {},
     "output_type": "execute_result"
    }
   ],
   "source": [
    "function bed_opt(C)\n",
    "    m = Model(with_optimizer(Gurobi.Optimizer))\n",
    "    set_optimizer_attribute(m, \"OutputFlag\", 0)\n",
    "\n",
    "    # variables\n",
    "\n",
    "    @variable(m, x[i=1:17, j=1:16], Bin)\n",
    "\n",
    "    # constraints\n",
    "\n",
    "    @constraint(m, [i=1:17], sum(x[i, j] for j=1:16)==1)\n",
    "\n",
    "    @constraint(m, sum(sum((j-1) * x[i, j] for i=1:17) for j=1:16) <= C)\n",
    "\n",
    "    @objective(m, Max, sum(sum(BED[i, j] * x[i, j] for i=1:17) for j=1:16))\n",
    "    optimize!(m)\n",
    "    \n",
    "    return JuMP.objective_value(m), JuMP.value.(x)\n",
    "end"
   ]
  },
  {
   "cell_type": "code",
   "execution_count": 4,
   "metadata": {},
   "outputs": [
    {
     "name": "stdout",
     "output_type": "stream",
     "text": [
      "Academic license - for non-commercial use only - expires 2022-08-02\n",
      "1437.215\n",
      "Academic license - for non-commercial use only - expires 2022-08-02\n",
      "1580.373\n",
      "Academic license - for non-commercial use only - expires 2022-08-02\n",
      "1619.638\n"
     ]
    }
   ],
   "source": [
    "Cs = [20, 40, 50]\n",
    "\n",
    "for C in Cs\n",
    "    obj, x = bed_opt(C)\n",
    "    println(obj)\n",
    "end"
   ]
  },
  {
   "cell_type": "code",
   "execution_count": null,
   "metadata": {},
   "outputs": [],
   "source": []
  },
  {
   "cell_type": "code",
   "execution_count": null,
   "metadata": {},
   "outputs": [],
   "source": []
  }
 ],
 "metadata": {
  "kernelspec": {
   "display_name": "Julia 1.5.3",
   "language": "julia",
   "name": "julia-1.5"
  },
  "language_info": {
   "file_extension": ".jl",
   "mimetype": "application/julia",
   "name": "julia",
   "version": "1.5.3"
  }
 },
 "nbformat": 4,
 "nbformat_minor": 4
}
