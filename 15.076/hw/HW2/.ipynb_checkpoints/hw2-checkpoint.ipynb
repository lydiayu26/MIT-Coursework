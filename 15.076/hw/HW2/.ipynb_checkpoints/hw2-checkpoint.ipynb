{
 "cells": [
  {
   "cell_type": "code",
   "execution_count": 46,
   "metadata": {},
   "outputs": [],
   "source": [
    "using JuMP, Gurobi, DataFrames, CSV, Plots"
   ]
  },
  {
   "cell_type": "markdown",
   "metadata": {},
   "source": [
    "### Problem 1"
   ]
  },
  {
   "cell_type": "markdown",
   "metadata": {},
   "source": [
    "#### load in data"
   ]
  },
  {
   "cell_type": "code",
   "execution_count": 7,
   "metadata": {
    "collapsed": true
   },
   "outputs": [
    {
     "data": {
      "text/html": [
       "<div class=\"data-frame\"><p>10 rows × 3 columns</p><table class=\"data-frame\"><thead><tr><th></th><th>x</th><th>y</th><th>capacity</th></tr><tr><th></th><th title=\"Float64\">Float64</th><th title=\"Float64\">Float64</th><th title=\"Int64\">Int64</th></tr></thead><tbody><tr><th>1</th><td>2.95623</td><td>1.68326</td><td>9506</td></tr><tr><th>2</th><td>1.56519</td><td>1.67896</td><td>7867</td></tr><tr><th>3</th><td>0.108791</td><td>2.49241</td><td>14971</td></tr><tr><th>4</th><td>2.08511</td><td>9.28303</td><td>6599</td></tr><tr><th>5</th><td>4.52658</td><td>7.86786</td><td>13338</td></tr><tr><th>6</th><td>1.5845</td><td>7.02909</td><td>8664</td></tr><tr><th>7</th><td>0.616197</td><td>9.17892</td><td>11077</td></tr><tr><th>8</th><td>1.19476</td><td>3.84765</td><td>10682</td></tr><tr><th>9</th><td>4.33262</td><td>5.61118</td><td>11398</td></tr><tr><th>10</th><td>4.69616</td><td>3.43461</td><td>12670</td></tr></tbody></table></div>"
      ],
      "text/latex": [
       "\\begin{tabular}{r|ccc}\n",
       "\t& x & y & capacity\\\\\n",
       "\t\\hline\n",
       "\t& Float64 & Float64 & Int64\\\\\n",
       "\t\\hline\n",
       "\t1 & 2.95623 & 1.68326 & 9506 \\\\\n",
       "\t2 & 1.56519 & 1.67896 & 7867 \\\\\n",
       "\t3 & 0.108791 & 2.49241 & 14971 \\\\\n",
       "\t4 & 2.08511 & 9.28303 & 6599 \\\\\n",
       "\t5 & 4.52658 & 7.86786 & 13338 \\\\\n",
       "\t6 & 1.5845 & 7.02909 & 8664 \\\\\n",
       "\t7 & 0.616197 & 9.17892 & 11077 \\\\\n",
       "\t8 & 1.19476 & 3.84765 & 10682 \\\\\n",
       "\t9 & 4.33262 & 5.61118 & 11398 \\\\\n",
       "\t10 & 4.69616 & 3.43461 & 12670 \\\\\n",
       "\\end{tabular}\n"
      ],
      "text/plain": [
       "\u001b[1m10×3 DataFrame\u001b[0m\n",
       "\u001b[1m Row \u001b[0m│\u001b[1m x        \u001b[0m\u001b[1m y       \u001b[0m\u001b[1m capacity \u001b[0m\n",
       "\u001b[1m     \u001b[0m│\u001b[90m Float64  \u001b[0m\u001b[90m Float64 \u001b[0m\u001b[90m Int64    \u001b[0m\n",
       "─────┼─────────────────────────────\n",
       "   1 │ 2.95623   1.68326      9506\n",
       "   2 │ 1.56519   1.67896      7867\n",
       "   3 │ 0.108791  2.49241     14971\n",
       "   4 │ 2.08511   9.28303      6599\n",
       "   5 │ 4.52658   7.86786     13338\n",
       "   6 │ 1.5845    7.02909      8664\n",
       "   7 │ 0.616197  9.17892     11077\n",
       "   8 │ 1.19476   3.84765     10682\n",
       "   9 │ 4.33262   5.61118     11398\n",
       "  10 │ 4.69616   3.43461     12670"
      ]
     },
     "execution_count": 7,
     "metadata": {},
     "output_type": "execute_result"
    }
   ],
   "source": [
    "areas = CSV.read(\"P1_areas.csv\", DataFrame, header=[\"x\", \"y\", \"num_res\"], skipto=2)\n",
    "clinics = CSV.read(\"P1_clinics.csv\", DataFrame, header=[\"x\", \"y\", \"capacity\"], skipto=2)"
   ]
  },
  {
   "cell_type": "code",
   "execution_count": 31,
   "metadata": {},
   "outputs": [],
   "source": [
    "r = areas.num_res;\n",
    "C = clinics.capacity;\n",
    "x_res = areas.x;\n",
    "y_res = areas.y;\n",
    "x_clin = clinics.x;\n",
    "y_clin = clinics.y;"
   ]
  },
  {
   "cell_type": "code",
   "execution_count": 37,
   "metadata": {},
   "outputs": [],
   "source": [
    "# distance matrix: manhattan distance from res area i to clinic j\n",
    "d = [abs(x_res[i]-x_clin[j]) + abs(y_res[i]-y_clin[j]) for i=1:nrow(areas), j=1:nrow(clinics)];"
   ]
  },
  {
   "cell_type": "markdown",
   "metadata": {},
   "source": [
    "#### define the model"
   ]
  },
  {
   "cell_type": "code",
   "execution_count": 18,
   "metadata": {
    "collapsed": true
   },
   "outputs": [
    {
     "name": "stdout",
     "output_type": "stream",
     "text": [
      "Set parameter Username\n",
      "Academic license - for non-commercial use only - expires 2022-09-06\n"
     ]
    }
   ],
   "source": [
    "m1 = Model(Gurobi.Optimizer);"
   ]
  },
  {
   "cell_type": "code",
   "execution_count": 21,
   "metadata": {
    "collapsed": true
   },
   "outputs": [
    {
     "data": {
      "text/plain": [
       "50×10 Matrix{VariableRef}:\n",
       " v[1,1]   v[1,2]   v[1,3]   v[1,4]   …  v[1,7]   v[1,8]   v[1,9]   v[1,10]\n",
       " v[2,1]   v[2,2]   v[2,3]   v[2,4]      v[2,7]   v[2,8]   v[2,9]   v[2,10]\n",
       " v[3,1]   v[3,2]   v[3,3]   v[3,4]      v[3,7]   v[3,8]   v[3,9]   v[3,10]\n",
       " v[4,1]   v[4,2]   v[4,3]   v[4,4]      v[4,7]   v[4,8]   v[4,9]   v[4,10]\n",
       " v[5,1]   v[5,2]   v[5,3]   v[5,4]      v[5,7]   v[5,8]   v[5,9]   v[5,10]\n",
       " v[6,1]   v[6,2]   v[6,3]   v[6,4]   …  v[6,7]   v[6,8]   v[6,9]   v[6,10]\n",
       " v[7,1]   v[7,2]   v[7,3]   v[7,4]      v[7,7]   v[7,8]   v[7,9]   v[7,10]\n",
       " v[8,1]   v[8,2]   v[8,3]   v[8,4]      v[8,7]   v[8,8]   v[8,9]   v[8,10]\n",
       " v[9,1]   v[9,2]   v[9,3]   v[9,4]      v[9,7]   v[9,8]   v[9,9]   v[9,10]\n",
       " v[10,1]  v[10,2]  v[10,3]  v[10,4]     v[10,7]  v[10,8]  v[10,9]  v[10,10]\n",
       " v[11,1]  v[11,2]  v[11,3]  v[11,4]  …  v[11,7]  v[11,8]  v[11,9]  v[11,10]\n",
       " v[12,1]  v[12,2]  v[12,3]  v[12,4]     v[12,7]  v[12,8]  v[12,9]  v[12,10]\n",
       " v[13,1]  v[13,2]  v[13,3]  v[13,4]     v[13,7]  v[13,8]  v[13,9]  v[13,10]\n",
       " ⋮                                   ⋱                             \n",
       " v[39,1]  v[39,2]  v[39,3]  v[39,4]     v[39,7]  v[39,8]  v[39,9]  v[39,10]\n",
       " v[40,1]  v[40,2]  v[40,3]  v[40,4]     v[40,7]  v[40,8]  v[40,9]  v[40,10]\n",
       " v[41,1]  v[41,2]  v[41,3]  v[41,4]  …  v[41,7]  v[41,8]  v[41,9]  v[41,10]\n",
       " v[42,1]  v[42,2]  v[42,3]  v[42,4]     v[42,7]  v[42,8]  v[42,9]  v[42,10]\n",
       " v[43,1]  v[43,2]  v[43,3]  v[43,4]     v[43,7]  v[43,8]  v[43,9]  v[43,10]\n",
       " v[44,1]  v[44,2]  v[44,3]  v[44,4]     v[44,7]  v[44,8]  v[44,9]  v[44,10]\n",
       " v[45,1]  v[45,2]  v[45,3]  v[45,4]     v[45,7]  v[45,8]  v[45,9]  v[45,10]\n",
       " v[46,1]  v[46,2]  v[46,3]  v[46,4]  …  v[46,7]  v[46,8]  v[46,9]  v[46,10]\n",
       " v[47,1]  v[47,2]  v[47,3]  v[47,4]     v[47,7]  v[47,8]  v[47,9]  v[47,10]\n",
       " v[48,1]  v[48,2]  v[48,3]  v[48,4]     v[48,7]  v[48,8]  v[48,9]  v[48,10]\n",
       " v[49,1]  v[49,2]  v[49,3]  v[49,4]     v[49,7]  v[49,8]  v[49,9]  v[49,10]\n",
       " v[50,1]  v[50,2]  v[50,3]  v[50,4]     v[50,7]  v[50,8]  v[50,9]  v[50,10]"
      ]
     },
     "execution_count": 21,
     "metadata": {},
     "output_type": "execute_result"
    }
   ],
   "source": [
    "# variables\n",
    "@variable(m1, s[1:nrow(clinics)], Bin)  # nrow(clinics) = number of clinics\n",
    "@variable(m1, v[1:nrow(areas), 1:nrow(clinics)], Bin)  # nrow(areas) = number of residential areas"
   ]
  },
  {
   "cell_type": "code",
   "execution_count": 39,
   "metadata": {
    "collapsed": true
   },
   "outputs": [
    {
     "data": {
      "text/plain": [
       "50×10 Matrix{ConstraintRef{Model, MathOptInterface.ConstraintIndex{MathOptInterface.ScalarAffineFunction{Float64}, MathOptInterface.LessThan{Float64}}, ScalarShape}}:\n",
       " -s[1] + v[1,1] ≤ 0.0   -s[2] + v[1,2] ≤ 0.0   …  -s[10] + v[1,10] ≤ 0.0\n",
       " -s[1] + v[2,1] ≤ 0.0   -s[2] + v[2,2] ≤ 0.0      -s[10] + v[2,10] ≤ 0.0\n",
       " -s[1] + v[3,1] ≤ 0.0   -s[2] + v[3,2] ≤ 0.0      -s[10] + v[3,10] ≤ 0.0\n",
       " -s[1] + v[4,1] ≤ 0.0   -s[2] + v[4,2] ≤ 0.0      -s[10] + v[4,10] ≤ 0.0\n",
       " -s[1] + v[5,1] ≤ 0.0   -s[2] + v[5,2] ≤ 0.0      -s[10] + v[5,10] ≤ 0.0\n",
       " -s[1] + v[6,1] ≤ 0.0   -s[2] + v[6,2] ≤ 0.0   …  -s[10] + v[6,10] ≤ 0.0\n",
       " -s[1] + v[7,1] ≤ 0.0   -s[2] + v[7,2] ≤ 0.0      -s[10] + v[7,10] ≤ 0.0\n",
       " -s[1] + v[8,1] ≤ 0.0   -s[2] + v[8,2] ≤ 0.0      -s[10] + v[8,10] ≤ 0.0\n",
       " -s[1] + v[9,1] ≤ 0.0   -s[2] + v[9,2] ≤ 0.0      -s[10] + v[9,10] ≤ 0.0\n",
       " -s[1] + v[10,1] ≤ 0.0  -s[2] + v[10,2] ≤ 0.0     -s[10] + v[10,10] ≤ 0.0\n",
       " -s[1] + v[11,1] ≤ 0.0  -s[2] + v[11,2] ≤ 0.0  …  -s[10] + v[11,10] ≤ 0.0\n",
       " -s[1] + v[12,1] ≤ 0.0  -s[2] + v[12,2] ≤ 0.0     -s[10] + v[12,10] ≤ 0.0\n",
       " -s[1] + v[13,1] ≤ 0.0  -s[2] + v[13,2] ≤ 0.0     -s[10] + v[13,10] ≤ 0.0\n",
       " ⋮                                             ⋱  \n",
       " -s[1] + v[39,1] ≤ 0.0  -s[2] + v[39,2] ≤ 0.0     -s[10] + v[39,10] ≤ 0.0\n",
       " -s[1] + v[40,1] ≤ 0.0  -s[2] + v[40,2] ≤ 0.0     -s[10] + v[40,10] ≤ 0.0\n",
       " -s[1] + v[41,1] ≤ 0.0  -s[2] + v[41,2] ≤ 0.0  …  -s[10] + v[41,10] ≤ 0.0\n",
       " -s[1] + v[42,1] ≤ 0.0  -s[2] + v[42,2] ≤ 0.0     -s[10] + v[42,10] ≤ 0.0\n",
       " -s[1] + v[43,1] ≤ 0.0  -s[2] + v[43,2] ≤ 0.0     -s[10] + v[43,10] ≤ 0.0\n",
       " -s[1] + v[44,1] ≤ 0.0  -s[2] + v[44,2] ≤ 0.0     -s[10] + v[44,10] ≤ 0.0\n",
       " -s[1] + v[45,1] ≤ 0.0  -s[2] + v[45,2] ≤ 0.0     -s[10] + v[45,10] ≤ 0.0\n",
       " -s[1] + v[46,1] ≤ 0.0  -s[2] + v[46,2] ≤ 0.0  …  -s[10] + v[46,10] ≤ 0.0\n",
       " -s[1] + v[47,1] ≤ 0.0  -s[2] + v[47,2] ≤ 0.0     -s[10] + v[47,10] ≤ 0.0\n",
       " -s[1] + v[48,1] ≤ 0.0  -s[2] + v[48,2] ≤ 0.0     -s[10] + v[48,10] ≤ 0.0\n",
       " -s[1] + v[49,1] ≤ 0.0  -s[2] + v[49,2] ≤ 0.0     -s[10] + v[49,10] ≤ 0.0\n",
       " -s[1] + v[50,1] ≤ 0.0  -s[2] + v[50,2] ≤ 0.0     -s[10] + v[50,10] ≤ 0.0"
      ]
     },
     "execution_count": 39,
     "metadata": {},
     "output_type": "execute_result"
    }
   ],
   "source": [
    "# constraints\n",
    "# build 4 sites max\n",
    "@constraint(m1, sum(s[j] for j=1:nrow(clinics)) <= 4)\n",
    "# each residential area assigned to exactly 1 site\n",
    "@constraint(m1, [i=1:nrow(areas)], sum(v[i,j] for j=1:nrow(clinics)) == 1)\n",
    "# total num residents served by site j must be within site j's capacity\n",
    "@constraint(m1, [j=1:nrow(clinics)], sum(r[i]*v[i,j] for i=1:nrow(areas)) <= C[j])\n",
    "# if residents from i are served by site j, then j must be built\n",
    "@constraint(m1, [i=1:nrow(areas), j=1:nrow(clinics)], v[i,j] <= s[j])"
   ]
  },
  {
   "cell_type": "code",
   "execution_count": 41,
   "metadata": {},
   "outputs": [],
   "source": [
    "# objective: min total distance residents travel to clinics\n",
    "@objective(m1, Min, sum(sum(d[i,j]*v[i,j] for j=1:nrow(clinics)) for i=1:nrow(areas)));"
   ]
  },
  {
   "cell_type": "markdown",
   "metadata": {},
   "source": [
    "#### optimize the model and evaluate solution"
   ]
  },
  {
   "cell_type": "code",
   "execution_count": 42,
   "metadata": {
    "collapsed": true
   },
   "outputs": [
    {
     "name": "stdout",
     "output_type": "stream",
     "text": [
      "Gurobi Optimizer version 9.5.0 build v9.5.0rc5 (mac64[x86])\n",
      "Thread count: 4 physical cores, 8 logical processors, using up to 8 threads\n",
      "Optimize a model with 561 rows, 510 columns and 2010 nonzeros\n",
      "Model fingerprint: 0x25c98ad3\n",
      "Variable types: 0 continuous, 510 integer (510 binary)\n",
      "Coefficient statistics:\n",
      "  Matrix range     [1e+00, 6e+02]\n",
      "  Objective range  [1e-01, 1e+01]\n",
      "  Bounds range     [0e+00, 0e+00]\n",
      "  RHS range        [1e+00, 1e+04]\n",
      "Presolve time: 0.01s\n",
      "Presolved: 561 rows, 510 columns, 2010 nonzeros\n",
      "Variable types: 0 continuous, 510 integer (510 binary)\n",
      "Found heuristic solution: objective 131.3064599\n",
      "\n",
      "Root relaxation: objective 9.055205e+01, 171 iterations, 0.00 seconds (0.00 work units)\n",
      "\n",
      "    Nodes    |    Current Node    |     Objective Bounds      |     Work\n",
      " Expl Unexpl |  Obj  Depth IntInf | Incumbent    BestBd   Gap | It/Node Time\n",
      "\n",
      "*    0     0               0      90.5520468   90.55205  0.00%     -    0s\n",
      "\n",
      "Explored 1 nodes (171 simplex iterations) in 0.03 seconds (0.01 work units)\n",
      "Thread count was 8 (of 8 available processors)\n",
      "\n",
      "Solution count 2: 90.552 131.306 \n",
      "\n",
      "Optimal solution found (tolerance 1.00e-04)\n",
      "Best objective 9.055204680700e+01, best bound 9.055204680700e+01, gap 0.0000%\n",
      "\n",
      "User-callback calls 135, time in user-callback 0.00 sec\n"
     ]
    }
   ],
   "source": [
    "optimize!(m1)"
   ]
  },
  {
   "cell_type": "code",
   "execution_count": 66,
   "metadata": {},
   "outputs": [
    {
     "name": "stdout",
     "output_type": "stream",
     "text": [
      "[value(s[j]) for j = 1:nrow(clinics)] = [-0.0, 1.0, -0.0, 1.0, -0.0, 1.0, -0.0, 0.0, -0.0, 1.0]\n",
      "objective_value(m1) = 90.55204680700002\n"
     ]
    },
    {
     "data": {
      "text/plain": [
       "90.55204680700002"
      ]
     },
     "execution_count": 66,
     "metadata": {},
     "output_type": "execute_result"
    }
   ],
   "source": [
    "# see which clinics got built and min total distance\n",
    "@show [value(s[j]) for j=1:nrow(clinics)]\n",
    "@show objective_value(m1)"
   ]
  },
  {
   "cell_type": "code",
   "execution_count": 70,
   "metadata": {
    "collapsed": true
   },
   "outputs": [
    {
     "data": {
      "text/plain": [
       "50-element Vector{CartesianIndex{2}}:\n",
       " CartesianIndex(2, 2)\n",
       " CartesianIndex(3, 2)\n",
       " CartesianIndex(4, 2)\n",
       " CartesianIndex(5, 2)\n",
       " CartesianIndex(6, 2)\n",
       " CartesianIndex(7, 2)\n",
       " CartesianIndex(10, 2)\n",
       " CartesianIndex(12, 2)\n",
       " CartesianIndex(15, 2)\n",
       " CartesianIndex(19, 2)\n",
       " CartesianIndex(33, 2)\n",
       " CartesianIndex(35, 2)\n",
       " CartesianIndex(44, 2)\n",
       " ⋮\n",
       " CartesianIndex(42, 6)\n",
       " CartesianIndex(45, 6)\n",
       " CartesianIndex(46, 6)\n",
       " CartesianIndex(47, 6)\n",
       " CartesianIndex(1, 10)\n",
       " CartesianIndex(13, 10)\n",
       " CartesianIndex(16, 10)\n",
       " CartesianIndex(37, 10)\n",
       " CartesianIndex(39, 10)\n",
       " CartesianIndex(40, 10)\n",
       " CartesianIndex(41, 10)\n",
       " CartesianIndex(50, 10)"
      ]
     },
     "execution_count": 70,
     "metadata": {},
     "output_type": "execute_result"
    }
   ],
   "source": [
    "v_opt = [value(v[i,j]) for i=1:nrow(areas), j=1:nrow(clinics)]\n",
    "\n",
    "# find which residents i go to which clinics j \n",
    "# (the indices for values >0 in v_opt)\n",
    "# this is a vector of 50 i,j pairs indicating res->clin assignments\n",
    "res_to_clin = findall(i->(i>0), v_opt)"
   ]
  },
  {
   "cell_type": "code",
   "execution_count": 79,
   "metadata": {},
   "outputs": [
    {
     "name": "stdout",
     "output_type": "stream",
     "text": [
      "max distance: 3.532726591\n",
      "avg distance: 1.81104093614"
     ]
    }
   ],
   "source": [
    "# index matrix d by res_to_clin to get a vector of distances that \n",
    "# each res area must travel to get to its assigned clinic\n",
    "distances = d[res_to_clin]\n",
    "\n",
    "# find max distance\n",
    "print(\"max distance: \", maximum(distances))\n",
    "# find average distance\n",
    "print(\"\\navg distance: \", sum(distances)/length(distances))"
   ]
  },
  {
   "cell_type": "markdown",
   "metadata": {},
   "source": [
    "#### plot locations of clinics and residents"
   ]
  },
  {
   "cell_type": "code",
   "execution_count": 62,
   "metadata": {},
   "outputs": [
    {
     "data": {
      "text/plain": [
       "4-element Vector{Int64}:\n",
       "  2\n",
       "  4\n",
       "  6\n",
       " 10"
      ]
     },
     "execution_count": 62,
     "metadata": {},
     "output_type": "execute_result"
    }
   ],
   "source": [
    "s_opt = [value(s[j]) for j=1:nrow(clinics)]\n",
    "# find which clinics were built (the indices for values >0 in s_opt)\n",
    "clinics_built_idx = findall(i->(i>0), s_opt)"
   ]
  },
  {
   "cell_type": "code",
   "execution_count": 63,
   "metadata": {},
   "outputs": [
    {
     "data": {
      "text/html": [
       "<div class=\"data-frame\"><p>4 rows × 3 columns</p><table class=\"data-frame\"><thead><tr><th></th><th>x</th><th>y</th><th>capacity</th></tr><tr><th></th><th title=\"Float64\">Float64</th><th title=\"Float64\">Float64</th><th title=\"Int64\">Int64</th></tr></thead><tbody><tr><th>1</th><td>1.56519</td><td>1.67896</td><td>7867</td></tr><tr><th>2</th><td>2.08511</td><td>9.28303</td><td>6599</td></tr><tr><th>3</th><td>1.5845</td><td>7.02909</td><td>8664</td></tr><tr><th>4</th><td>4.69616</td><td>3.43461</td><td>12670</td></tr></tbody></table></div>"
      ],
      "text/latex": [
       "\\begin{tabular}{r|ccc}\n",
       "\t& x & y & capacity\\\\\n",
       "\t\\hline\n",
       "\t& Float64 & Float64 & Int64\\\\\n",
       "\t\\hline\n",
       "\t1 & 1.56519 & 1.67896 & 7867 \\\\\n",
       "\t2 & 2.08511 & 9.28303 & 6599 \\\\\n",
       "\t3 & 1.5845 & 7.02909 & 8664 \\\\\n",
       "\t4 & 4.69616 & 3.43461 & 12670 \\\\\n",
       "\\end{tabular}\n"
      ],
      "text/plain": [
       "\u001b[1m4×3 DataFrame\u001b[0m\n",
       "\u001b[1m Row \u001b[0m│\u001b[1m x       \u001b[0m\u001b[1m y       \u001b[0m\u001b[1m capacity \u001b[0m\n",
       "\u001b[1m     \u001b[0m│\u001b[90m Float64 \u001b[0m\u001b[90m Float64 \u001b[0m\u001b[90m Int64    \u001b[0m\n",
       "─────┼────────────────────────────\n",
       "   1 │ 1.56519  1.67896      7867\n",
       "   2 │ 2.08511  9.28303      6599\n",
       "   3 │ 1.5845   7.02909      8664\n",
       "   4 │ 4.69616  3.43461     12670"
      ]
     },
     "execution_count": 63,
     "metadata": {},
     "output_type": "execute_result"
    }
   ],
   "source": [
    "# subset the clinics df to just data on the ones that were built\n",
    "clinics_built = clinics[clinics_built_idx, :]"
   ]
  },
  {
   "cell_type": "code",
   "execution_count": 64,
   "metadata": {},
   "outputs": [
    {
     "data": {
      "image/svg+xml": [
       "<?xml version=\"1.0\" encoding=\"utf-8\"?>\n",
       "<svg xmlns=\"http://www.w3.org/2000/svg\" xmlns:xlink=\"http://www.w3.org/1999/xlink\" width=\"600\" height=\"400\" viewBox=\"0 0 2400 1600\">\n",
       "<defs>\n",
       "  <clipPath id=\"clip330\">\n",
       "    <rect x=\"0\" y=\"0\" width=\"2400\" height=\"1600\"/>\n",
       "  </clipPath>\n",
       "</defs>\n",
       "<path clip-path=\"url(#clip330)\" d=\"\n",
       "M0 1600 L2400 1600 L2400 0 L0 0  Z\n",
       "  \" fill=\"#ffffff\" fill-rule=\"evenodd\" fill-opacity=\"1\"/>\n",
       "<defs>\n",
       "  <clipPath id=\"clip331\">\n",
       "    <rect x=\"480\" y=\"0\" width=\"1681\" height=\"1600\"/>\n",
       "  </clipPath>\n",
       "</defs>\n",
       "<path clip-path=\"url(#clip330)\" d=\"\n",
       "M184.191 1486.45 L2352.76 1486.45 L2352.76 47.2441 L184.191 47.2441  Z\n",
       "  \" fill=\"#ffffff\" fill-rule=\"evenodd\" fill-opacity=\"1\"/>\n",
       "<defs>\n",
       "  <clipPath id=\"clip332\">\n",
       "    <rect x=\"184\" y=\"47\" width=\"2170\" height=\"1440\"/>\n",
       "  </clipPath>\n",
       "</defs>\n",
       "<polyline clip-path=\"url(#clip332)\" style=\"stroke:#000000; stroke-linecap:butt; stroke-linejoin:round; stroke-width:2; stroke-opacity:0.1; fill:none\" points=\"\n",
       "  196.332,1486.45 196.332,47.2441 \n",
       "  \"/>\n",
       "<polyline clip-path=\"url(#clip332)\" style=\"stroke:#000000; stroke-linecap:butt; stroke-linejoin:round; stroke-width:2; stroke-opacity:0.1; fill:none\" points=\"\n",
       "  608.001,1486.45 608.001,47.2441 \n",
       "  \"/>\n",
       "<polyline clip-path=\"url(#clip332)\" style=\"stroke:#000000; stroke-linecap:butt; stroke-linejoin:round; stroke-width:2; stroke-opacity:0.1; fill:none\" points=\"\n",
       "  1019.67,1486.45 1019.67,47.2441 \n",
       "  \"/>\n",
       "<polyline clip-path=\"url(#clip332)\" style=\"stroke:#000000; stroke-linecap:butt; stroke-linejoin:round; stroke-width:2; stroke-opacity:0.1; fill:none\" points=\"\n",
       "  1431.34,1486.45 1431.34,47.2441 \n",
       "  \"/>\n",
       "<polyline clip-path=\"url(#clip332)\" style=\"stroke:#000000; stroke-linecap:butt; stroke-linejoin:round; stroke-width:2; stroke-opacity:0.1; fill:none\" points=\"\n",
       "  1843.01,1486.45 1843.01,47.2441 \n",
       "  \"/>\n",
       "<polyline clip-path=\"url(#clip332)\" style=\"stroke:#000000; stroke-linecap:butt; stroke-linejoin:round; stroke-width:2; stroke-opacity:0.1; fill:none\" points=\"\n",
       "  2254.68,1486.45 2254.68,47.2441 \n",
       "  \"/>\n",
       "<polyline clip-path=\"url(#clip330)\" style=\"stroke:#000000; stroke-linecap:butt; stroke-linejoin:round; stroke-width:4; stroke-opacity:1; fill:none\" points=\"\n",
       "  184.191,1486.45 2352.76,1486.45 \n",
       "  \"/>\n",
       "<polyline clip-path=\"url(#clip330)\" style=\"stroke:#000000; stroke-linecap:butt; stroke-linejoin:round; stroke-width:4; stroke-opacity:1; fill:none\" points=\"\n",
       "  196.332,1486.45 196.332,1467.55 \n",
       "  \"/>\n",
       "<polyline clip-path=\"url(#clip330)\" style=\"stroke:#000000; stroke-linecap:butt; stroke-linejoin:round; stroke-width:4; stroke-opacity:1; fill:none\" points=\"\n",
       "  608.001,1486.45 608.001,1467.55 \n",
       "  \"/>\n",
       "<polyline clip-path=\"url(#clip330)\" style=\"stroke:#000000; stroke-linecap:butt; stroke-linejoin:round; stroke-width:4; stroke-opacity:1; fill:none\" points=\"\n",
       "  1019.67,1486.45 1019.67,1467.55 \n",
       "  \"/>\n",
       "<polyline clip-path=\"url(#clip330)\" style=\"stroke:#000000; stroke-linecap:butt; stroke-linejoin:round; stroke-width:4; stroke-opacity:1; fill:none\" points=\"\n",
       "  1431.34,1486.45 1431.34,1467.55 \n",
       "  \"/>\n",
       "<polyline clip-path=\"url(#clip330)\" style=\"stroke:#000000; stroke-linecap:butt; stroke-linejoin:round; stroke-width:4; stroke-opacity:1; fill:none\" points=\"\n",
       "  1843.01,1486.45 1843.01,1467.55 \n",
       "  \"/>\n",
       "<polyline clip-path=\"url(#clip330)\" style=\"stroke:#000000; stroke-linecap:butt; stroke-linejoin:round; stroke-width:4; stroke-opacity:1; fill:none\" points=\"\n",
       "  2254.68,1486.45 2254.68,1467.55 \n",
       "  \"/>\n",
       "<path clip-path=\"url(#clip330)\" d=\"M196.332 1517.37 Q192.721 1517.37 190.892 1520.93 Q189.086 1524.47 189.086 1531.6 Q189.086 1538.71 190.892 1542.27 Q192.721 1545.82 196.332 1545.82 Q199.966 1545.82 201.772 1542.27 Q203.6 1538.71 203.6 1531.6 Q203.6 1524.47 201.772 1520.93 Q199.966 1517.37 196.332 1517.37 M196.332 1513.66 Q202.142 1513.66 205.197 1518.27 Q208.276 1522.85 208.276 1531.6 Q208.276 1540.33 205.197 1544.94 Q202.142 1549.52 196.332 1549.52 Q190.522 1549.52 187.443 1544.94 Q184.387 1540.33 184.387 1531.6 Q184.387 1522.85 187.443 1518.27 Q190.522 1513.66 196.332 1513.66 Z\" fill=\"#000000\" fill-rule=\"evenodd\" fill-opacity=\"1\" /><path clip-path=\"url(#clip330)\" d=\"M598.383 1544.91 L606.022 1544.91 L606.022 1518.55 L597.712 1520.21 L597.712 1515.95 L605.976 1514.29 L610.652 1514.29 L610.652 1544.91 L618.291 1544.91 L618.291 1548.85 L598.383 1548.85 L598.383 1544.91 Z\" fill=\"#000000\" fill-rule=\"evenodd\" fill-opacity=\"1\" /><path clip-path=\"url(#clip330)\" d=\"M1014.32 1544.91 L1030.64 1544.91 L1030.64 1548.85 L1008.7 1548.85 L1008.7 1544.91 Q1011.36 1542.16 1015.94 1537.53 Q1020.55 1532.88 1021.73 1531.53 Q1023.98 1529.01 1024.86 1527.27 Q1025.76 1525.51 1025.76 1523.82 Q1025.76 1521.07 1023.81 1519.33 Q1021.89 1517.6 1018.79 1517.6 Q1016.59 1517.6 1014.14 1518.36 Q1011.71 1519.13 1008.93 1520.68 L1008.93 1515.95 Q1011.75 1514.82 1014.21 1514.24 Q1016.66 1513.66 1018.7 1513.66 Q1024.07 1513.66 1027.26 1516.35 Q1030.46 1519.03 1030.46 1523.52 Q1030.46 1525.65 1029.65 1527.57 Q1028.86 1529.47 1026.75 1532.07 Q1026.18 1532.74 1023.07 1535.95 Q1019.97 1539.15 1014.32 1544.91 Z\" fill=\"#000000\" fill-rule=\"evenodd\" fill-opacity=\"1\" /><path clip-path=\"url(#clip330)\" d=\"M1435.59 1530.21 Q1438.94 1530.93 1440.82 1533.2 Q1442.72 1535.47 1442.72 1538.8 Q1442.72 1543.92 1439.2 1546.72 Q1435.68 1549.52 1429.2 1549.52 Q1427.02 1549.52 1424.71 1549.08 Q1422.42 1548.66 1419.96 1547.81 L1419.96 1543.29 Q1421.91 1544.43 1424.22 1545.01 Q1426.54 1545.58 1429.06 1545.58 Q1433.46 1545.58 1435.75 1543.85 Q1438.06 1542.11 1438.06 1538.8 Q1438.06 1535.75 1435.91 1534.03 Q1433.78 1532.3 1429.96 1532.3 L1425.94 1532.3 L1425.94 1528.45 L1430.15 1528.45 Q1433.6 1528.45 1435.43 1527.09 Q1437.25 1525.7 1437.25 1523.11 Q1437.25 1520.45 1435.36 1519.03 Q1433.48 1517.6 1429.96 1517.6 Q1428.04 1517.6 1425.84 1518.01 Q1423.64 1518.43 1421 1519.31 L1421 1515.14 Q1423.67 1514.4 1425.98 1514.03 Q1428.32 1513.66 1430.38 1513.66 Q1435.7 1513.66 1438.81 1516.09 Q1441.91 1518.5 1441.91 1522.62 Q1441.91 1525.49 1440.26 1527.48 Q1438.62 1529.45 1435.59 1530.21 Z\" fill=\"#000000\" fill-rule=\"evenodd\" fill-opacity=\"1\" /><path clip-path=\"url(#clip330)\" d=\"M1846.02 1518.36 L1834.21 1536.81 L1846.02 1536.81 L1846.02 1518.36 M1844.79 1514.29 L1850.67 1514.29 L1850.67 1536.81 L1855.6 1536.81 L1855.6 1540.7 L1850.67 1540.7 L1850.67 1548.85 L1846.02 1548.85 L1846.02 1540.7 L1830.42 1540.7 L1830.42 1536.19 L1844.79 1514.29 Z\" fill=\"#000000\" fill-rule=\"evenodd\" fill-opacity=\"1\" /><path clip-path=\"url(#clip330)\" d=\"M2244.96 1514.29 L2263.31 1514.29 L2263.31 1518.22 L2249.24 1518.22 L2249.24 1526.7 Q2250.26 1526.35 2251.28 1526.19 Q2252.3 1526 2253.31 1526 Q2259.1 1526 2262.48 1529.17 Q2265.86 1532.34 2265.86 1537.76 Q2265.86 1543.34 2262.39 1546.44 Q2258.92 1549.52 2252.6 1549.52 Q2250.42 1549.52 2248.15 1549.15 Q2245.91 1548.78 2243.5 1548.04 L2243.5 1543.34 Q2245.58 1544.47 2247.8 1545.03 Q2250.03 1545.58 2252.5 1545.58 Q2256.51 1545.58 2258.85 1543.48 Q2261.18 1541.37 2261.18 1537.76 Q2261.18 1534.15 2258.85 1532.04 Q2256.51 1529.94 2252.5 1529.94 Q2250.63 1529.94 2248.75 1530.35 Q2246.9 1530.77 2244.96 1531.65 L2244.96 1514.29 Z\" fill=\"#000000\" fill-rule=\"evenodd\" fill-opacity=\"1\" /><polyline clip-path=\"url(#clip332)\" style=\"stroke:#000000; stroke-linecap:butt; stroke-linejoin:round; stroke-width:2; stroke-opacity:0.1; fill:none\" points=\"\n",
       "  184.191,1473.29 2352.76,1473.29 \n",
       "  \"/>\n",
       "<polyline clip-path=\"url(#clip332)\" style=\"stroke:#000000; stroke-linecap:butt; stroke-linejoin:round; stroke-width:2; stroke-opacity:0.1; fill:none\" points=\"\n",
       "  184.191,1123.91 2352.76,1123.91 \n",
       "  \"/>\n",
       "<polyline clip-path=\"url(#clip332)\" style=\"stroke:#000000; stroke-linecap:butt; stroke-linejoin:round; stroke-width:2; stroke-opacity:0.1; fill:none\" points=\"\n",
       "  184.191,774.524 2352.76,774.524 \n",
       "  \"/>\n",
       "<polyline clip-path=\"url(#clip332)\" style=\"stroke:#000000; stroke-linecap:butt; stroke-linejoin:round; stroke-width:2; stroke-opacity:0.1; fill:none\" points=\"\n",
       "  184.191,425.141 2352.76,425.141 \n",
       "  \"/>\n",
       "<polyline clip-path=\"url(#clip332)\" style=\"stroke:#000000; stroke-linecap:butt; stroke-linejoin:round; stroke-width:2; stroke-opacity:0.1; fill:none\" points=\"\n",
       "  184.191,75.7579 2352.76,75.7579 \n",
       "  \"/>\n",
       "<polyline clip-path=\"url(#clip330)\" style=\"stroke:#000000; stroke-linecap:butt; stroke-linejoin:round; stroke-width:4; stroke-opacity:1; fill:none\" points=\"\n",
       "  184.191,1486.45 184.191,47.2441 \n",
       "  \"/>\n",
       "<polyline clip-path=\"url(#clip330)\" style=\"stroke:#000000; stroke-linecap:butt; stroke-linejoin:round; stroke-width:4; stroke-opacity:1; fill:none\" points=\"\n",
       "  184.191,1473.29 203.088,1473.29 \n",
       "  \"/>\n",
       "<polyline clip-path=\"url(#clip330)\" style=\"stroke:#000000; stroke-linecap:butt; stroke-linejoin:round; stroke-width:4; stroke-opacity:1; fill:none\" points=\"\n",
       "  184.191,1123.91 203.088,1123.91 \n",
       "  \"/>\n",
       "<polyline clip-path=\"url(#clip330)\" style=\"stroke:#000000; stroke-linecap:butt; stroke-linejoin:round; stroke-width:4; stroke-opacity:1; fill:none\" points=\"\n",
       "  184.191,774.524 203.088,774.524 \n",
       "  \"/>\n",
       "<polyline clip-path=\"url(#clip330)\" style=\"stroke:#000000; stroke-linecap:butt; stroke-linejoin:round; stroke-width:4; stroke-opacity:1; fill:none\" points=\"\n",
       "  184.191,425.141 203.088,425.141 \n",
       "  \"/>\n",
       "<polyline clip-path=\"url(#clip330)\" style=\"stroke:#000000; stroke-linecap:butt; stroke-linejoin:round; stroke-width:4; stroke-opacity:1; fill:none\" points=\"\n",
       "  184.191,75.7579 203.088,75.7579 \n",
       "  \"/>\n",
       "<path clip-path=\"url(#clip330)\" d=\"M91.0151 1459.09 Q87.404 1459.09 85.5753 1462.65 Q83.7697 1466.19 83.7697 1473.32 Q83.7697 1480.43 85.5753 1484 Q87.404 1487.54 91.0151 1487.54 Q94.6493 1487.54 96.4548 1484 Q98.2835 1480.43 98.2835 1473.32 Q98.2835 1466.19 96.4548 1462.65 Q94.6493 1459.09 91.0151 1459.09 M91.0151 1455.38 Q96.8252 1455.38 99.8808 1459.99 Q102.959 1464.57 102.959 1473.32 Q102.959 1482.05 99.8808 1486.66 Q96.8252 1491.24 91.0151 1491.24 Q85.2049 1491.24 82.1262 1486.66 Q79.0707 1482.05 79.0707 1473.32 Q79.0707 1464.57 82.1262 1459.99 Q85.2049 1455.38 91.0151 1455.38 Z\" fill=\"#000000\" fill-rule=\"evenodd\" fill-opacity=\"1\" /><path clip-path=\"url(#clip330)\" d=\"M111.177 1484.69 L116.061 1484.69 L116.061 1490.57 L111.177 1490.57 L111.177 1484.69 Z\" fill=\"#000000\" fill-rule=\"evenodd\" fill-opacity=\"1\" /><path clip-path=\"url(#clip330)\" d=\"M136.246 1459.09 Q132.635 1459.09 130.807 1462.65 Q129.001 1466.19 129.001 1473.32 Q129.001 1480.43 130.807 1484 Q132.635 1487.54 136.246 1487.54 Q139.881 1487.54 141.686 1484 Q143.515 1480.43 143.515 1473.32 Q143.515 1466.19 141.686 1462.65 Q139.881 1459.09 136.246 1459.09 M136.246 1455.38 Q142.056 1455.38 145.112 1459.99 Q148.191 1464.57 148.191 1473.32 Q148.191 1482.05 145.112 1486.66 Q142.056 1491.24 136.246 1491.24 Q130.436 1491.24 127.357 1486.66 Q124.302 1482.05 124.302 1473.32 Q124.302 1464.57 127.357 1459.99 Q130.436 1455.38 136.246 1455.38 Z\" fill=\"#000000\" fill-rule=\"evenodd\" fill-opacity=\"1\" /><path clip-path=\"url(#clip330)\" d=\"M86.0382 1137.25 L102.358 1137.25 L102.358 1141.19 L80.4133 1141.19 L80.4133 1137.25 Q83.0753 1134.5 87.6586 1129.87 Q92.2651 1125.21 93.4456 1123.87 Q95.691 1121.35 96.5706 1119.61 Q97.4734 1117.85 97.4734 1116.16 Q97.4734 1113.41 95.5289 1111.67 Q93.6076 1109.94 90.5058 1109.94 Q88.3067 1109.94 85.8531 1110.7 Q83.4225 1111.46 80.6447 1113.02 L80.6447 1108.29 Q83.4688 1107.16 85.9225 1106.58 Q88.3762 1106 90.4132 1106 Q95.7836 1106 98.978 1108.69 Q102.172 1111.37 102.172 1115.86 Q102.172 1117.99 101.362 1119.91 Q100.575 1121.81 98.4687 1124.4 Q97.89 1125.08 94.7882 1128.29 Q91.6864 1131.49 86.0382 1137.25 Z\" fill=\"#000000\" fill-rule=\"evenodd\" fill-opacity=\"1\" /><path clip-path=\"url(#clip330)\" d=\"M112.172 1135.31 L117.057 1135.31 L117.057 1141.19 L112.172 1141.19 L112.172 1135.31 Z\" fill=\"#000000\" fill-rule=\"evenodd\" fill-opacity=\"1\" /><path clip-path=\"url(#clip330)\" d=\"M127.288 1106.63 L145.644 1106.63 L145.644 1110.56 L131.57 1110.56 L131.57 1119.03 Q132.589 1118.69 133.607 1118.52 Q134.626 1118.34 135.644 1118.34 Q141.431 1118.34 144.811 1121.51 Q148.191 1124.68 148.191 1130.1 Q148.191 1135.68 144.718 1138.78 Q141.246 1141.86 134.927 1141.86 Q132.751 1141.86 130.482 1141.49 Q128.237 1141.12 125.83 1140.38 L125.83 1135.68 Q127.913 1136.81 130.135 1137.37 Q132.357 1137.92 134.834 1137.92 Q138.839 1137.92 141.177 1135.82 Q143.515 1133.71 143.515 1130.1 Q143.515 1126.49 141.177 1124.38 Q138.839 1122.27 134.834 1122.27 Q132.959 1122.27 131.084 1122.69 Q129.232 1123.11 127.288 1123.99 L127.288 1106.63 Z\" fill=\"#000000\" fill-rule=\"evenodd\" fill-opacity=\"1\" /><path clip-path=\"url(#clip330)\" d=\"M81.0614 757.244 L99.4178 757.244 L99.4178 761.179 L85.3438 761.179 L85.3438 769.651 Q86.3623 769.304 87.3808 769.142 Q88.3993 768.956 89.4178 768.956 Q95.2049 768.956 98.5845 772.128 Q101.964 775.299 101.964 780.716 Q101.964 786.294 98.4919 789.396 Q95.0197 792.475 88.7003 792.475 Q86.5243 792.475 84.2558 792.104 Q82.0105 791.734 79.6031 790.993 L79.6031 786.294 Q81.6864 787.429 83.9086 787.984 Q86.1308 788.54 88.6077 788.54 Q92.6123 788.54 94.9502 786.433 Q97.2882 784.327 97.2882 780.716 Q97.2882 777.105 94.9502 774.998 Q92.6123 772.892 88.6077 772.892 Q86.7327 772.892 84.8577 773.308 Q83.0058 773.725 81.0614 774.605 L81.0614 757.244 Z\" fill=\"#000000\" fill-rule=\"evenodd\" fill-opacity=\"1\" /><path clip-path=\"url(#clip330)\" d=\"M111.177 785.924 L116.061 785.924 L116.061 791.804 L111.177 791.804 L111.177 785.924 Z\" fill=\"#000000\" fill-rule=\"evenodd\" fill-opacity=\"1\" /><path clip-path=\"url(#clip330)\" d=\"M136.246 760.322 Q132.635 760.322 130.807 763.887 Q129.001 767.429 129.001 774.558 Q129.001 781.665 130.807 785.229 Q132.635 788.771 136.246 788.771 Q139.881 788.771 141.686 785.229 Q143.515 781.665 143.515 774.558 Q143.515 767.429 141.686 763.887 Q139.881 760.322 136.246 760.322 M136.246 756.619 Q142.056 756.619 145.112 761.225 Q148.191 765.808 148.191 774.558 Q148.191 783.285 145.112 787.892 Q142.056 792.475 136.246 792.475 Q130.436 792.475 127.357 787.892 Q124.302 783.285 124.302 774.558 Q124.302 765.808 127.357 761.225 Q130.436 756.619 136.246 756.619 Z\" fill=\"#000000\" fill-rule=\"evenodd\" fill-opacity=\"1\" /><path clip-path=\"url(#clip330)\" d=\"M80.8299 407.861 L103.052 407.861 L103.052 409.851 L90.5058 442.421 L85.6216 442.421 L97.4271 411.796 L80.8299 411.796 L80.8299 407.861 Z\" fill=\"#000000\" fill-rule=\"evenodd\" fill-opacity=\"1\" /><path clip-path=\"url(#clip330)\" d=\"M112.172 436.541 L117.057 436.541 L117.057 442.421 L112.172 442.421 L112.172 436.541 Z\" fill=\"#000000\" fill-rule=\"evenodd\" fill-opacity=\"1\" /><path clip-path=\"url(#clip330)\" d=\"M127.288 407.861 L145.644 407.861 L145.644 411.796 L131.57 411.796 L131.57 420.268 Q132.589 419.921 133.607 419.759 Q134.626 419.574 135.644 419.574 Q141.431 419.574 144.811 422.745 Q148.191 425.916 148.191 431.333 Q148.191 436.912 144.718 440.013 Q141.246 443.092 134.927 443.092 Q132.751 443.092 130.482 442.722 Q128.237 442.351 125.83 441.611 L125.83 436.912 Q127.913 438.046 130.135 438.601 Q132.357 439.157 134.834 439.157 Q138.839 439.157 141.177 437.05 Q143.515 434.944 143.515 431.333 Q143.515 427.722 141.177 425.615 Q138.839 423.509 134.834 423.509 Q132.959 423.509 131.084 423.925 Q129.232 424.342 127.288 425.222 L127.288 407.861 Z\" fill=\"#000000\" fill-rule=\"evenodd\" fill-opacity=\"1\" /><path clip-path=\"url(#clip330)\" d=\"M51.6634 89.1028 L59.3023 89.1028 L59.3023 62.7372 L50.9921 64.4038 L50.9921 60.1446 L59.256 58.4779 L63.9319 58.4779 L63.9319 89.1028 L71.5707 89.1028 L71.5707 93.0379 L51.6634 93.0379 L51.6634 89.1028 Z\" fill=\"#000000\" fill-rule=\"evenodd\" fill-opacity=\"1\" /><path clip-path=\"url(#clip330)\" d=\"M91.0151 61.5566 Q87.404 61.5566 85.5753 65.1214 Q83.7697 68.6631 83.7697 75.7927 Q83.7697 82.8991 85.5753 86.4639 Q87.404 90.0056 91.0151 90.0056 Q94.6493 90.0056 96.4548 86.4639 Q98.2835 82.8991 98.2835 75.7927 Q98.2835 68.6631 96.4548 65.1214 Q94.6493 61.5566 91.0151 61.5566 M91.0151 57.8529 Q96.8252 57.8529 99.8808 62.4594 Q102.959 67.0427 102.959 75.7927 Q102.959 84.5195 99.8808 89.1259 Q96.8252 93.7092 91.0151 93.7092 Q85.2049 93.7092 82.1262 89.1259 Q79.0707 84.5195 79.0707 75.7927 Q79.0707 67.0427 82.1262 62.4594 Q85.2049 57.8529 91.0151 57.8529 Z\" fill=\"#000000\" fill-rule=\"evenodd\" fill-opacity=\"1\" /><path clip-path=\"url(#clip330)\" d=\"M111.177 87.1583 L116.061 87.1583 L116.061 93.0379 L111.177 93.0379 L111.177 87.1583 Z\" fill=\"#000000\" fill-rule=\"evenodd\" fill-opacity=\"1\" /><path clip-path=\"url(#clip330)\" d=\"M136.246 61.5566 Q132.635 61.5566 130.807 65.1214 Q129.001 68.6631 129.001 75.7927 Q129.001 82.8991 130.807 86.4639 Q132.635 90.0056 136.246 90.0056 Q139.881 90.0056 141.686 86.4639 Q143.515 82.8991 143.515 75.7927 Q143.515 68.6631 141.686 65.1214 Q139.881 61.5566 136.246 61.5566 M136.246 57.8529 Q142.056 57.8529 145.112 62.4594 Q148.191 67.0427 148.191 75.7927 Q148.191 84.5195 145.112 89.1259 Q142.056 93.7092 136.246 93.7092 Q130.436 93.7092 127.357 89.1259 Q124.302 84.5195 124.302 75.7927 Q124.302 67.0427 127.357 62.4594 Q130.436 57.8529 136.246 57.8529 Z\" fill=\"#000000\" fill-rule=\"evenodd\" fill-opacity=\"1\" /><circle clip-path=\"url(#clip332)\" cx=\"2261.3\" cy=\"1168.67\" r=\"14\" fill=\"#009af9\" fill-rule=\"evenodd\" fill-opacity=\"1\" stroke=\"#000000\" stroke-opacity=\"1\" stroke-width=\"3.2\"/>\n",
       "<circle clip-path=\"url(#clip332)\" cx=\"730.836\" cy=\"1085.12\" r=\"14\" fill=\"#009af9\" fill-rule=\"evenodd\" fill-opacity=\"1\" stroke=\"#000000\" stroke-opacity=\"1\" stroke-width=\"3.2\"/>\n",
       "<circle clip-path=\"url(#clip332)\" cx=\"513.973\" cy=\"1292\" r=\"14\" fill=\"#009af9\" fill-rule=\"evenodd\" fill-opacity=\"1\" stroke=\"#000000\" stroke-opacity=\"1\" stroke-width=\"3.2\"/>\n",
       "<circle clip-path=\"url(#clip332)\" cx=\"1257.96\" cy=\"1445.72\" r=\"14\" fill=\"#009af9\" fill-rule=\"evenodd\" fill-opacity=\"1\" stroke=\"#000000\" stroke-opacity=\"1\" stroke-width=\"3.2\"/>\n",
       "<circle clip-path=\"url(#clip332)\" cx=\"442.345\" cy=\"903.065\" r=\"14\" fill=\"#009af9\" fill-rule=\"evenodd\" fill-opacity=\"1\" stroke=\"#000000\" stroke-opacity=\"1\" stroke-width=\"3.2\"/>\n",
       "<circle clip-path=\"url(#clip332)\" cx=\"639.807\" cy=\"1258.7\" r=\"14\" fill=\"#009af9\" fill-rule=\"evenodd\" fill-opacity=\"1\" stroke=\"#000000\" stroke-opacity=\"1\" stroke-width=\"3.2\"/>\n",
       "<circle clip-path=\"url(#clip332)\" cx=\"794.875\" cy=\"965.351\" r=\"14\" fill=\"#009af9\" fill-rule=\"evenodd\" fill-opacity=\"1\" stroke=\"#000000\" stroke-opacity=\"1\" stroke-width=\"3.2\"/>\n",
       "<circle clip-path=\"url(#clip332)\" cx=\"1807.28\" cy=\"221.653\" r=\"14\" fill=\"#009af9\" fill-rule=\"evenodd\" fill-opacity=\"1\" stroke=\"#000000\" stroke-opacity=\"1\" stroke-width=\"3.2\"/>\n",
       "<circle clip-path=\"url(#clip332)\" cx=\"1060\" cy=\"714.486\" r=\"14\" fill=\"#009af9\" fill-rule=\"evenodd\" fill-opacity=\"1\" stroke=\"#000000\" stroke-opacity=\"1\" stroke-width=\"3.2\"/>\n",
       "<circle clip-path=\"url(#clip332)\" cx=\"1078.63\" cy=\"1043.76\" r=\"14\" fill=\"#009af9\" fill-rule=\"evenodd\" fill-opacity=\"1\" stroke=\"#000000\" stroke-opacity=\"1\" stroke-width=\"3.2\"/>\n",
       "<circle clip-path=\"url(#clip332)\" cx=\"1093.02\" cy=\"503.195\" r=\"14\" fill=\"#009af9\" fill-rule=\"evenodd\" fill-opacity=\"1\" stroke=\"#000000\" stroke-opacity=\"1\" stroke-width=\"3.2\"/>\n",
       "<circle clip-path=\"url(#clip332)\" cx=\"762.855\" cy=\"906.253\" r=\"14\" fill=\"#009af9\" fill-rule=\"evenodd\" fill-opacity=\"1\" stroke=\"#000000\" stroke-opacity=\"1\" stroke-width=\"3.2\"/>\n",
       "<circle clip-path=\"url(#clip332)\" cx=\"1882.59\" cy=\"950.959\" r=\"14\" fill=\"#009af9\" fill-rule=\"evenodd\" fill-opacity=\"1\" stroke=\"#000000\" stroke-opacity=\"1\" stroke-width=\"3.2\"/>\n",
       "<circle clip-path=\"url(#clip332)\" cx=\"1018.45\" cy=\"567.211\" r=\"14\" fill=\"#009af9\" fill-rule=\"evenodd\" fill-opacity=\"1\" stroke=\"#000000\" stroke-opacity=\"1\" stroke-width=\"3.2\"/>\n",
       "<circle clip-path=\"url(#clip332)\" cx=\"1026.67\" cy=\"1148.97\" r=\"14\" fill=\"#009af9\" fill-rule=\"evenodd\" fill-opacity=\"1\" stroke=\"#000000\" stroke-opacity=\"1\" stroke-width=\"3.2\"/>\n",
       "<circle clip-path=\"url(#clip332)\" cx=\"2240.42\" cy=\"936.508\" r=\"14\" fill=\"#009af9\" fill-rule=\"evenodd\" fill-opacity=\"1\" stroke=\"#000000\" stroke-opacity=\"1\" stroke-width=\"3.2\"/>\n",
       "<circle clip-path=\"url(#clip332)\" cx=\"811.256\" cy=\"480.53\" r=\"14\" fill=\"#009af9\" fill-rule=\"evenodd\" fill-opacity=\"1\" stroke=\"#000000\" stroke-opacity=\"1\" stroke-width=\"3.2\"/>\n",
       "<circle clip-path=\"url(#clip332)\" cx=\"1102.15\" cy=\"825.156\" r=\"14\" fill=\"#009af9\" fill-rule=\"evenodd\" fill-opacity=\"1\" stroke=\"#000000\" stroke-opacity=\"1\" stroke-width=\"3.2\"/>\n",
       "<circle clip-path=\"url(#clip332)\" cx=\"468.817\" cy=\"1360\" r=\"14\" fill=\"#009af9\" fill-rule=\"evenodd\" fill-opacity=\"1\" stroke=\"#000000\" stroke-opacity=\"1\" stroke-width=\"3.2\"/>\n",
       "<circle clip-path=\"url(#clip332)\" cx=\"1013.42\" cy=\"92.7749\" r=\"14\" fill=\"#009af9\" fill-rule=\"evenodd\" fill-opacity=\"1\" stroke=\"#000000\" stroke-opacity=\"1\" stroke-width=\"3.2\"/>\n",
       "<circle clip-path=\"url(#clip332)\" cx=\"381.521\" cy=\"750.408\" r=\"14\" fill=\"#009af9\" fill-rule=\"evenodd\" fill-opacity=\"1\" stroke=\"#000000\" stroke-opacity=\"1\" stroke-width=\"3.2\"/>\n",
       "<circle clip-path=\"url(#clip332)\" cx=\"2291.38\" cy=\"111.497\" r=\"14\" fill=\"#009af9\" fill-rule=\"evenodd\" fill-opacity=\"1\" stroke=\"#000000\" stroke-opacity=\"1\" stroke-width=\"3.2\"/>\n",
       "<circle clip-path=\"url(#clip332)\" cx=\"1847.96\" cy=\"314.697\" r=\"14\" fill=\"#009af9\" fill-rule=\"evenodd\" fill-opacity=\"1\" stroke=\"#000000\" stroke-opacity=\"1\" stroke-width=\"3.2\"/>\n",
       "<circle clip-path=\"url(#clip332)\" cx=\"852.633\" cy=\"857.55\" r=\"14\" fill=\"#009af9\" fill-rule=\"evenodd\" fill-opacity=\"1\" stroke=\"#000000\" stroke-opacity=\"1\" stroke-width=\"3.2\"/>\n",
       "<circle clip-path=\"url(#clip332)\" cx=\"1127.84\" cy=\"447.329\" r=\"14\" fill=\"#009af9\" fill-rule=\"evenodd\" fill-opacity=\"1\" stroke=\"#000000\" stroke-opacity=\"1\" stroke-width=\"3.2\"/>\n",
       "<circle clip-path=\"url(#clip332)\" cx=\"1843.24\" cy=\"239.346\" r=\"14\" fill=\"#009af9\" fill-rule=\"evenodd\" fill-opacity=\"1\" stroke=\"#000000\" stroke-opacity=\"1\" stroke-width=\"3.2\"/>\n",
       "<circle clip-path=\"url(#clip332)\" cx=\"1599.81\" cy=\"377.655\" r=\"14\" fill=\"#009af9\" fill-rule=\"evenodd\" fill-opacity=\"1\" stroke=\"#000000\" stroke-opacity=\"1\" stroke-width=\"3.2\"/>\n",
       "<circle clip-path=\"url(#clip332)\" cx=\"1517.25\" cy=\"169.338\" r=\"14\" fill=\"#009af9\" fill-rule=\"evenodd\" fill-opacity=\"1\" stroke=\"#000000\" stroke-opacity=\"1\" stroke-width=\"3.2\"/>\n",
       "<circle clip-path=\"url(#clip332)\" cx=\"714.013\" cy=\"665.071\" r=\"14\" fill=\"#009af9\" fill-rule=\"evenodd\" fill-opacity=\"1\" stroke=\"#000000\" stroke-opacity=\"1\" stroke-width=\"3.2\"/>\n",
       "<circle clip-path=\"url(#clip332)\" cx=\"2177.13\" cy=\"288.629\" r=\"14\" fill=\"#009af9\" fill-rule=\"evenodd\" fill-opacity=\"1\" stroke=\"#000000\" stroke-opacity=\"1\" stroke-width=\"3.2\"/>\n",
       "<circle clip-path=\"url(#clip332)\" cx=\"1468.4\" cy=\"564.345\" r=\"14\" fill=\"#009af9\" fill-rule=\"evenodd\" fill-opacity=\"1\" stroke=\"#000000\" stroke-opacity=\"1\" stroke-width=\"3.2\"/>\n",
       "<circle clip-path=\"url(#clip332)\" cx=\"245.565\" cy=\"174.218\" r=\"14\" fill=\"#009af9\" fill-rule=\"evenodd\" fill-opacity=\"1\" stroke=\"#000000\" stroke-opacity=\"1\" stroke-width=\"3.2\"/>\n",
       "<circle clip-path=\"url(#clip332)\" cx=\"769.202\" cy=\"1274.87\" r=\"14\" fill=\"#009af9\" fill-rule=\"evenodd\" fill-opacity=\"1\" stroke=\"#000000\" stroke-opacity=\"1\" stroke-width=\"3.2\"/>\n",
       "<circle clip-path=\"url(#clip332)\" cx=\"499.544\" cy=\"87.9763\" r=\"14\" fill=\"#009af9\" fill-rule=\"evenodd\" fill-opacity=\"1\" stroke=\"#000000\" stroke-opacity=\"1\" stroke-width=\"3.2\"/>\n",
       "<circle clip-path=\"url(#clip332)\" cx=\"257.876\" cy=\"1113.4\" r=\"14\" fill=\"#009af9\" fill-rule=\"evenodd\" fill-opacity=\"1\" stroke=\"#000000\" stroke-opacity=\"1\" stroke-width=\"3.2\"/>\n",
       "<circle clip-path=\"url(#clip332)\" cx=\"912.061\" cy=\"277.211\" r=\"14\" fill=\"#009af9\" fill-rule=\"evenodd\" fill-opacity=\"1\" stroke=\"#000000\" stroke-opacity=\"1\" stroke-width=\"3.2\"/>\n",
       "<circle clip-path=\"url(#clip332)\" cx=\"2094.45\" cy=\"1149.51\" r=\"14\" fill=\"#009af9\" fill-rule=\"evenodd\" fill-opacity=\"1\" stroke=\"#000000\" stroke-opacity=\"1\" stroke-width=\"3.2\"/>\n",
       "<circle clip-path=\"url(#clip332)\" cx=\"1681.02\" cy=\"283.779\" r=\"14\" fill=\"#009af9\" fill-rule=\"evenodd\" fill-opacity=\"1\" stroke=\"#000000\" stroke-opacity=\"1\" stroke-width=\"3.2\"/>\n",
       "<circle clip-path=\"url(#clip332)\" cx=\"1286.78\" cy=\"977.61\" r=\"14\" fill=\"#009af9\" fill-rule=\"evenodd\" fill-opacity=\"1\" stroke=\"#000000\" stroke-opacity=\"1\" stroke-width=\"3.2\"/>\n",
       "<circle clip-path=\"url(#clip332)\" cx=\"1531.56\" cy=\"1128.23\" r=\"14\" fill=\"#009af9\" fill-rule=\"evenodd\" fill-opacity=\"1\" stroke=\"#000000\" stroke-opacity=\"1\" stroke-width=\"3.2\"/>\n",
       "<circle clip-path=\"url(#clip332)\" cx=\"2149.75\" cy=\"826.826\" r=\"14\" fill=\"#009af9\" fill-rule=\"evenodd\" fill-opacity=\"1\" stroke=\"#000000\" stroke-opacity=\"1\" stroke-width=\"3.2\"/>\n",
       "<circle clip-path=\"url(#clip332)\" cx=\"1198.99\" cy=\"573.451\" r=\"14\" fill=\"#009af9\" fill-rule=\"evenodd\" fill-opacity=\"1\" stroke=\"#000000\" stroke-opacity=\"1\" stroke-width=\"3.2\"/>\n",
       "<circle clip-path=\"url(#clip332)\" cx=\"1491.17\" cy=\"120.391\" r=\"14\" fill=\"#009af9\" fill-rule=\"evenodd\" fill-opacity=\"1\" stroke=\"#000000\" stroke-opacity=\"1\" stroke-width=\"3.2\"/>\n",
       "<circle clip-path=\"url(#clip332)\" cx=\"499.241\" cy=\"1424.12\" r=\"14\" fill=\"#009af9\" fill-rule=\"evenodd\" fill-opacity=\"1\" stroke=\"#000000\" stroke-opacity=\"1\" stroke-width=\"3.2\"/>\n",
       "<circle clip-path=\"url(#clip332)\" cx=\"533.561\" cy=\"418.924\" r=\"14\" fill=\"#009af9\" fill-rule=\"evenodd\" fill-opacity=\"1\" stroke=\"#000000\" stroke-opacity=\"1\" stroke-width=\"3.2\"/>\n",
       "<circle clip-path=\"url(#clip332)\" cx=\"369.433\" cy=\"312.773\" r=\"14\" fill=\"#009af9\" fill-rule=\"evenodd\" fill-opacity=\"1\" stroke=\"#000000\" stroke-opacity=\"1\" stroke-width=\"3.2\"/>\n",
       "<circle clip-path=\"url(#clip332)\" cx=\"1406.15\" cy=\"694.247\" r=\"14\" fill=\"#009af9\" fill-rule=\"evenodd\" fill-opacity=\"1\" stroke=\"#000000\" stroke-opacity=\"1\" stroke-width=\"3.2\"/>\n",
       "<circle clip-path=\"url(#clip332)\" cx=\"983.547\" cy=\"324.603\" r=\"14\" fill=\"#009af9\" fill-rule=\"evenodd\" fill-opacity=\"1\" stroke=\"#000000\" stroke-opacity=\"1\" stroke-width=\"3.2\"/>\n",
       "<circle clip-path=\"url(#clip332)\" cx=\"1129.78\" cy=\"314.047\" r=\"14\" fill=\"#009af9\" fill-rule=\"evenodd\" fill-opacity=\"1\" stroke=\"#000000\" stroke-opacity=\"1\" stroke-width=\"3.2\"/>\n",
       "<circle clip-path=\"url(#clip332)\" cx=\"1514.5\" cy=\"960.824\" r=\"14\" fill=\"#009af9\" fill-rule=\"evenodd\" fill-opacity=\"1\" stroke=\"#000000\" stroke-opacity=\"1\" stroke-width=\"3.2\"/>\n",
       "<circle clip-path=\"url(#clip332)\" cx=\"840.672\" cy=\"1238.65\" r=\"14\" fill=\"#e26f46\" fill-rule=\"evenodd\" fill-opacity=\"1\" stroke=\"#000000\" stroke-opacity=\"1\" stroke-width=\"3.2\"/>\n",
       "<circle clip-path=\"url(#clip332)\" cx=\"1054.71\" cy=\"175.957\" r=\"14\" fill=\"#e26f46\" fill-rule=\"evenodd\" fill-opacity=\"1\" stroke=\"#000000\" stroke-opacity=\"1\" stroke-width=\"3.2\"/>\n",
       "<circle clip-path=\"url(#clip332)\" cx=\"848.623\" cy=\"490.952\" r=\"14\" fill=\"#e26f46\" fill-rule=\"evenodd\" fill-opacity=\"1\" stroke=\"#000000\" stroke-opacity=\"1\" stroke-width=\"3.2\"/>\n",
       "<circle clip-path=\"url(#clip332)\" cx=\"2129.6\" cy=\"993.291\" r=\"14\" fill=\"#e26f46\" fill-rule=\"evenodd\" fill-opacity=\"1\" stroke=\"#000000\" stroke-opacity=\"1\" stroke-width=\"3.2\"/>\n",
       "<path clip-path=\"url(#clip330)\" d=\"\n",
       "M1652.83 250.738 L2280.47 250.738 L2280.47 95.2176 L1652.83 95.2176  Z\n",
       "  \" fill=\"#ffffff\" fill-rule=\"evenodd\" fill-opacity=\"1\"/>\n",
       "<polyline clip-path=\"url(#clip330)\" style=\"stroke:#000000; stroke-linecap:butt; stroke-linejoin:round; stroke-width:4; stroke-opacity:1; fill:none\" points=\"\n",
       "  1652.83,250.738 2280.47,250.738 2280.47,95.2176 1652.83,95.2176 1652.83,250.738 \n",
       "  \"/>\n",
       "<circle clip-path=\"url(#clip330)\" cx=\"1748.83\" cy=\"147.058\" r=\"23\" fill=\"#009af9\" fill-rule=\"evenodd\" fill-opacity=\"1\" stroke=\"#000000\" stroke-opacity=\"1\" stroke-width=\"5.12\"/>\n",
       "<path clip-path=\"url(#clip330)\" d=\"M1860.02 142.393 Q1859.3 141.977 1858.44 141.791 Q1857.61 141.583 1856.59 141.583 Q1852.98 141.583 1851.04 143.944 Q1849.12 146.282 1849.12 150.68 L1849.12 164.338 L1844.83 164.338 L1844.83 138.412 L1849.12 138.412 L1849.12 142.44 Q1850.46 140.078 1852.61 138.944 Q1854.76 137.787 1857.84 137.787 Q1858.28 137.787 1858.81 137.856 Q1859.35 137.903 1860 138.018 L1860.02 142.393 Z\" fill=\"#000000\" fill-rule=\"evenodd\" fill-opacity=\"1\" /><path clip-path=\"url(#clip330)\" d=\"M1885.62 150.31 L1885.62 152.393 L1866.04 152.393 Q1866.31 156.791 1868.68 159.106 Q1871.06 161.398 1875.3 161.398 Q1877.75 161.398 1880.04 160.796 Q1882.36 160.194 1884.63 158.99 L1884.63 163.018 Q1882.33 163.99 1879.93 164.5 Q1877.52 165.009 1875.04 165.009 Q1868.84 165.009 1865.2 161.398 Q1861.59 157.787 1861.59 151.629 Q1861.59 145.264 1865.02 141.537 Q1868.47 137.787 1874.3 137.787 Q1879.53 137.787 1882.56 141.166 Q1885.62 144.523 1885.62 150.31 M1881.36 149.06 Q1881.31 145.565 1879.39 143.481 Q1877.5 141.398 1874.35 141.398 Q1870.78 141.398 1868.63 143.412 Q1866.5 145.426 1866.18 149.083 L1881.36 149.06 Z\" fill=\"#000000\" fill-rule=\"evenodd\" fill-opacity=\"1\" /><path clip-path=\"url(#clip330)\" d=\"M1909.14 139.176 L1909.14 143.203 Q1907.33 142.277 1905.39 141.815 Q1903.44 141.352 1901.36 141.352 Q1898.19 141.352 1896.59 142.324 Q1895.02 143.296 1895.02 145.24 Q1895.02 146.722 1896.15 147.578 Q1897.29 148.412 1900.71 149.176 L1902.17 149.5 Q1906.71 150.472 1908.61 152.254 Q1910.53 154.014 1910.53 157.185 Q1910.53 160.796 1907.66 162.902 Q1904.81 165.009 1899.81 165.009 Q1897.73 165.009 1895.46 164.592 Q1893.21 164.199 1890.71 163.388 L1890.71 158.99 Q1893.07 160.217 1895.37 160.842 Q1897.66 161.444 1899.9 161.444 Q1902.91 161.444 1904.53 160.426 Q1906.15 159.384 1906.15 157.509 Q1906.15 155.773 1904.97 154.847 Q1903.81 153.921 1899.86 153.064 L1898.37 152.717 Q1894.42 151.884 1892.66 150.171 Q1890.9 148.435 1890.9 145.426 Q1890.9 141.768 1893.49 139.778 Q1896.08 137.787 1900.85 137.787 Q1903.21 137.787 1905.3 138.134 Q1907.38 138.481 1909.14 139.176 Z\" fill=\"#000000\" fill-rule=\"evenodd\" fill-opacity=\"1\" /><path clip-path=\"url(#clip330)\" d=\"M1917.31 138.412 L1921.57 138.412 L1921.57 164.338 L1917.31 164.338 L1917.31 138.412 M1917.31 128.319 L1921.57 128.319 L1921.57 133.713 L1917.31 133.713 L1917.31 128.319 Z\" fill=\"#000000\" fill-rule=\"evenodd\" fill-opacity=\"1\" /><path clip-path=\"url(#clip330)\" d=\"M1947.54 142.347 L1947.54 128.319 L1951.8 128.319 L1951.8 164.338 L1947.54 164.338 L1947.54 160.449 Q1946.2 162.763 1944.14 163.898 Q1942.1 165.009 1939.23 165.009 Q1934.53 165.009 1931.57 161.259 Q1928.63 157.509 1928.63 151.398 Q1928.63 145.287 1931.57 141.537 Q1934.53 137.787 1939.23 137.787 Q1942.1 137.787 1944.14 138.921 Q1946.2 140.032 1947.54 142.347 M1933.03 151.398 Q1933.03 156.097 1934.95 158.782 Q1936.89 161.444 1940.27 161.444 Q1943.65 161.444 1945.6 158.782 Q1947.54 156.097 1947.54 151.398 Q1947.54 146.699 1945.6 144.037 Q1943.65 141.352 1940.27 141.352 Q1936.89 141.352 1934.95 144.037 Q1933.03 146.699 1933.03 151.398 Z\" fill=\"#000000\" fill-rule=\"evenodd\" fill-opacity=\"1\" /><path clip-path=\"url(#clip330)\" d=\"M1982.75 150.31 L1982.75 152.393 L1963.17 152.393 Q1963.44 156.791 1965.81 159.106 Q1968.19 161.398 1972.43 161.398 Q1974.88 161.398 1977.17 160.796 Q1979.49 160.194 1981.75 158.99 L1981.75 163.018 Q1979.46 163.99 1977.06 164.5 Q1974.65 165.009 1972.17 165.009 Q1965.97 165.009 1962.33 161.398 Q1958.72 157.787 1958.72 151.629 Q1958.72 145.264 1962.15 141.537 Q1965.6 137.787 1971.43 137.787 Q1976.66 137.787 1979.69 141.166 Q1982.75 144.523 1982.75 150.31 M1978.49 149.06 Q1978.44 145.565 1976.52 143.481 Q1974.62 141.398 1971.48 141.398 Q1967.91 141.398 1965.76 143.412 Q1963.63 145.426 1963.31 149.083 L1978.49 149.06 Z\" fill=\"#000000\" fill-rule=\"evenodd\" fill-opacity=\"1\" /><path clip-path=\"url(#clip330)\" d=\"M2011.29 148.689 L2011.29 164.338 L2007.03 164.338 L2007.03 148.828 Q2007.03 145.148 2005.6 143.319 Q2004.16 141.49 2001.29 141.49 Q1997.84 141.49 1995.85 143.69 Q1993.86 145.889 1993.86 149.685 L1993.86 164.338 L1989.58 164.338 L1989.58 138.412 L1993.86 138.412 L1993.86 142.44 Q1995.39 140.102 1997.45 138.944 Q1999.53 137.787 2002.24 137.787 Q2006.71 137.787 2009 140.565 Q2011.29 143.319 2011.29 148.689 Z\" fill=\"#000000\" fill-rule=\"evenodd\" fill-opacity=\"1\" /><path clip-path=\"url(#clip330)\" d=\"M2024 131.051 L2024 138.412 L2032.77 138.412 L2032.77 141.722 L2024 141.722 L2024 155.796 Q2024 158.967 2024.86 159.87 Q2025.74 160.773 2028.4 160.773 L2032.77 160.773 L2032.77 164.338 L2028.4 164.338 Q2023.47 164.338 2021.59 162.509 Q2019.72 160.657 2019.72 155.796 L2019.72 141.722 L2016.59 141.722 L2016.59 138.412 L2019.72 138.412 L2019.72 131.051 L2024 131.051 Z\" fill=\"#000000\" fill-rule=\"evenodd\" fill-opacity=\"1\" /><path clip-path=\"url(#clip330)\" d=\"M2038.37 138.412 L2042.63 138.412 L2042.63 164.338 L2038.37 164.338 L2038.37 138.412 M2038.37 128.319 L2042.63 128.319 L2042.63 133.713 L2038.37 133.713 L2038.37 128.319 Z\" fill=\"#000000\" fill-rule=\"evenodd\" fill-opacity=\"1\" /><path clip-path=\"url(#clip330)\" d=\"M2063.33 151.305 Q2058.17 151.305 2056.18 152.486 Q2054.18 153.666 2054.18 156.514 Q2054.18 158.782 2055.67 160.125 Q2057.17 161.444 2059.74 161.444 Q2063.28 161.444 2065.41 158.944 Q2067.56 156.421 2067.56 152.254 L2067.56 151.305 L2063.33 151.305 M2071.82 149.546 L2071.82 164.338 L2067.56 164.338 L2067.56 160.402 Q2066.11 162.763 2063.93 163.898 Q2061.75 165.009 2058.61 165.009 Q2054.62 165.009 2052.26 162.787 Q2049.93 160.541 2049.93 156.791 Q2049.93 152.416 2052.84 150.194 Q2055.78 147.972 2061.59 147.972 L2067.56 147.972 L2067.56 147.555 Q2067.56 144.615 2065.62 143.018 Q2063.7 141.398 2060.2 141.398 Q2057.98 141.398 2055.87 141.93 Q2053.77 142.463 2051.82 143.527 L2051.82 139.592 Q2054.16 138.69 2056.36 138.25 Q2058.56 137.787 2060.64 137.787 Q2066.27 137.787 2069.05 140.703 Q2071.82 143.62 2071.82 149.546 Z\" fill=\"#000000\" fill-rule=\"evenodd\" fill-opacity=\"1\" /><path clip-path=\"url(#clip330)\" d=\"M2080.6 128.319 L2084.86 128.319 L2084.86 164.338 L2080.6 164.338 L2080.6 128.319 Z\" fill=\"#000000\" fill-rule=\"evenodd\" fill-opacity=\"1\" /><path clip-path=\"url(#clip330)\" d=\"M2120.62 151.305 Q2115.46 151.305 2113.47 152.486 Q2111.48 153.666 2111.48 156.514 Q2111.48 158.782 2112.96 160.125 Q2114.46 161.444 2117.03 161.444 Q2120.57 161.444 2122.7 158.944 Q2124.86 156.421 2124.86 152.254 L2124.86 151.305 L2120.62 151.305 M2129.11 149.546 L2129.11 164.338 L2124.86 164.338 L2124.86 160.402 Q2123.4 162.763 2121.22 163.898 Q2119.05 165.009 2115.9 165.009 Q2111.92 165.009 2109.55 162.787 Q2107.22 160.541 2107.22 156.791 Q2107.22 152.416 2110.13 150.194 Q2113.07 147.972 2118.88 147.972 L2124.86 147.972 L2124.86 147.555 Q2124.86 144.615 2122.91 143.018 Q2120.99 141.398 2117.49 141.398 Q2115.27 141.398 2113.17 141.93 Q2111.06 142.463 2109.11 143.527 L2109.11 139.592 Q2111.45 138.69 2113.65 138.25 Q2115.85 137.787 2117.93 137.787 Q2123.56 137.787 2126.34 140.703 Q2129.11 143.62 2129.11 149.546 Z\" fill=\"#000000\" fill-rule=\"evenodd\" fill-opacity=\"1\" /><path clip-path=\"url(#clip330)\" d=\"M2152.91 142.393 Q2152.19 141.977 2151.34 141.791 Q2150.5 141.583 2149.48 141.583 Q2145.87 141.583 2143.93 143.944 Q2142.01 146.282 2142.01 150.68 L2142.01 164.338 L2137.73 164.338 L2137.73 138.412 L2142.01 138.412 L2142.01 142.44 Q2143.35 140.078 2145.5 138.944 Q2147.66 137.787 2150.73 137.787 Q2151.17 137.787 2151.71 137.856 Q2152.24 137.903 2152.89 138.018 L2152.91 142.393 Z\" fill=\"#000000\" fill-rule=\"evenodd\" fill-opacity=\"1\" /><path clip-path=\"url(#clip330)\" d=\"M2178.51 150.31 L2178.51 152.393 L2158.93 152.393 Q2159.21 156.791 2161.57 159.106 Q2163.95 161.398 2168.19 161.398 Q2170.64 161.398 2172.93 160.796 Q2175.25 160.194 2177.52 158.99 L2177.52 163.018 Q2175.23 163.99 2172.82 164.5 Q2170.41 165.009 2167.93 165.009 Q2161.73 165.009 2158.1 161.398 Q2154.48 157.787 2154.48 151.629 Q2154.48 145.264 2157.91 141.537 Q2161.36 137.787 2167.19 137.787 Q2172.42 137.787 2175.46 141.166 Q2178.51 144.523 2178.51 150.31 M2174.25 149.06 Q2174.21 145.565 2172.29 143.481 Q2170.39 141.398 2167.24 141.398 Q2163.67 141.398 2161.52 143.412 Q2159.39 145.426 2159.07 149.083 L2174.25 149.06 Z\" fill=\"#000000\" fill-rule=\"evenodd\" fill-opacity=\"1\" /><path clip-path=\"url(#clip330)\" d=\"M2197.29 151.305 Q2192.12 151.305 2190.13 152.486 Q2188.14 153.666 2188.14 156.514 Q2188.14 158.782 2189.62 160.125 Q2191.13 161.444 2193.7 161.444 Q2197.24 161.444 2199.37 158.944 Q2201.52 156.421 2201.52 152.254 L2201.52 151.305 L2197.29 151.305 M2205.78 149.546 L2205.78 164.338 L2201.52 164.338 L2201.52 160.402 Q2200.06 162.763 2197.89 163.898 Q2195.71 165.009 2192.56 165.009 Q2188.58 165.009 2186.22 162.787 Q2183.88 160.541 2183.88 156.791 Q2183.88 152.416 2186.8 150.194 Q2189.74 147.972 2195.55 147.972 L2201.52 147.972 L2201.52 147.555 Q2201.52 144.615 2199.58 143.018 Q2197.66 141.398 2194.16 141.398 Q2191.94 141.398 2189.83 141.93 Q2187.73 142.463 2185.78 143.527 L2185.78 139.592 Q2188.12 138.69 2190.32 138.25 Q2192.52 137.787 2194.6 137.787 Q2200.23 137.787 2203 140.703 Q2205.78 143.62 2205.78 149.546 Z\" fill=\"#000000\" fill-rule=\"evenodd\" fill-opacity=\"1\" /><path clip-path=\"url(#clip330)\" d=\"M2231.08 139.176 L2231.08 143.203 Q2229.28 142.277 2227.33 141.815 Q2225.39 141.352 2223.3 141.352 Q2220.13 141.352 2218.54 142.324 Q2216.96 143.296 2216.96 145.24 Q2216.96 146.722 2218.1 147.578 Q2219.23 148.412 2222.66 149.176 L2224.11 149.5 Q2228.65 150.472 2230.55 152.254 Q2232.47 154.014 2232.47 157.185 Q2232.47 160.796 2229.6 162.902 Q2226.75 165.009 2221.75 165.009 Q2219.67 165.009 2217.4 164.592 Q2215.16 164.199 2212.66 163.388 L2212.66 158.99 Q2215.02 160.217 2217.31 160.842 Q2219.6 161.444 2221.85 161.444 Q2224.85 161.444 2226.48 160.426 Q2228.1 159.384 2228.1 157.509 Q2228.1 155.773 2226.91 154.847 Q2225.76 153.921 2221.8 153.064 L2220.32 152.717 Q2216.36 151.884 2214.6 150.171 Q2212.84 148.435 2212.84 145.426 Q2212.84 141.768 2215.43 139.778 Q2218.03 137.787 2222.79 137.787 Q2225.16 137.787 2227.24 138.134 Q2229.32 138.481 2231.08 139.176 Z\" fill=\"#000000\" fill-rule=\"evenodd\" fill-opacity=\"1\" /><circle clip-path=\"url(#clip330)\" cx=\"1748.83\" cy=\"198.898\" r=\"23\" fill=\"#e26f46\" fill-rule=\"evenodd\" fill-opacity=\"1\" stroke=\"#000000\" stroke-opacity=\"1\" stroke-width=\"5.12\"/>\n",
       "<path clip-path=\"url(#clip330)\" d=\"M1865.34 191.247 L1865.34 195.229 Q1863.54 194.233 1861.71 193.747 Q1859.9 193.238 1858.05 193.238 Q1853.91 193.238 1851.62 195.877 Q1849.32 198.492 1849.32 203.238 Q1849.32 207.983 1851.62 210.622 Q1853.91 213.238 1858.05 213.238 Q1859.9 213.238 1861.71 212.752 Q1863.54 212.242 1865.34 211.247 L1865.34 215.182 Q1863.56 216.016 1861.64 216.432 Q1859.74 216.849 1857.59 216.849 Q1851.73 216.849 1848.28 213.168 Q1844.83 209.488 1844.83 203.238 Q1844.83 196.895 1848.31 193.261 Q1851.8 189.627 1857.87 189.627 Q1859.83 189.627 1861.71 190.043 Q1863.58 190.437 1865.34 191.247 Z\" fill=\"#000000\" fill-rule=\"evenodd\" fill-opacity=\"1\" /><path clip-path=\"url(#clip330)\" d=\"M1872.75 180.159 L1877.01 180.159 L1877.01 216.178 L1872.75 216.178 L1872.75 180.159 Z\" fill=\"#000000\" fill-rule=\"evenodd\" fill-opacity=\"1\" /><path clip-path=\"url(#clip330)\" d=\"M1885.92 190.252 L1890.18 190.252 L1890.18 216.178 L1885.92 216.178 L1885.92 190.252 M1885.92 180.159 L1890.18 180.159 L1890.18 185.553 L1885.92 185.553 L1885.92 180.159 Z\" fill=\"#000000\" fill-rule=\"evenodd\" fill-opacity=\"1\" /><path clip-path=\"url(#clip330)\" d=\"M1920.64 200.529 L1920.64 216.178 L1916.38 216.178 L1916.38 200.668 Q1916.38 196.988 1914.95 195.159 Q1913.51 193.33 1910.64 193.33 Q1907.19 193.33 1905.2 195.53 Q1903.21 197.729 1903.21 201.525 L1903.21 216.178 L1898.93 216.178 L1898.93 190.252 L1903.21 190.252 L1903.21 194.28 Q1904.74 191.942 1906.8 190.784 Q1908.88 189.627 1911.59 189.627 Q1916.06 189.627 1918.35 192.405 Q1920.64 195.159 1920.64 200.529 Z\" fill=\"#000000\" fill-rule=\"evenodd\" fill-opacity=\"1\" /><path clip-path=\"url(#clip330)\" d=\"M1929.14 190.252 L1933.4 190.252 L1933.4 216.178 L1929.14 216.178 L1929.14 190.252 M1929.14 180.159 L1933.4 180.159 L1933.4 185.553 L1929.14 185.553 L1929.14 180.159 Z\" fill=\"#000000\" fill-rule=\"evenodd\" fill-opacity=\"1\" /><path clip-path=\"url(#clip330)\" d=\"M1960.97 191.247 L1960.97 195.229 Q1959.16 194.233 1957.33 193.747 Q1955.53 193.238 1953.68 193.238 Q1949.53 193.238 1947.24 195.877 Q1944.95 198.492 1944.95 203.238 Q1944.95 207.983 1947.24 210.622 Q1949.53 213.238 1953.68 213.238 Q1955.53 213.238 1957.33 212.752 Q1959.16 212.242 1960.97 211.247 L1960.97 215.182 Q1959.18 216.016 1957.26 216.432 Q1955.37 216.849 1953.21 216.849 Q1947.36 216.849 1943.91 213.168 Q1940.46 209.488 1940.46 203.238 Q1940.46 196.895 1943.93 193.261 Q1947.43 189.627 1953.49 189.627 Q1955.46 189.627 1957.33 190.043 Q1959.21 190.437 1960.97 191.247 Z\" fill=\"#000000\" fill-rule=\"evenodd\" fill-opacity=\"1\" /><path clip-path=\"url(#clip330)\" d=\"M1984.9 191.016 L1984.9 195.043 Q1983.1 194.117 1981.15 193.655 Q1979.21 193.192 1977.12 193.192 Q1973.95 193.192 1972.36 194.164 Q1970.78 195.136 1970.78 197.08 Q1970.78 198.562 1971.92 199.418 Q1973.05 200.252 1976.48 201.016 L1977.93 201.34 Q1982.47 202.312 1984.37 204.094 Q1986.29 205.854 1986.29 209.025 Q1986.29 212.636 1983.42 214.742 Q1980.57 216.849 1975.57 216.849 Q1973.49 216.849 1971.22 216.432 Q1968.98 216.039 1966.48 215.228 L1966.48 210.83 Q1968.84 212.057 1971.13 212.682 Q1973.42 213.284 1975.67 213.284 Q1978.68 213.284 1980.3 212.266 Q1981.92 211.224 1981.92 209.349 Q1981.92 207.613 1980.74 206.687 Q1979.58 205.761 1975.62 204.904 L1974.14 204.557 Q1970.18 203.724 1968.42 202.011 Q1966.66 200.275 1966.66 197.266 Q1966.66 193.608 1969.25 191.618 Q1971.85 189.627 1976.62 189.627 Q1978.98 189.627 1981.06 189.974 Q1983.14 190.321 1984.9 191.016 Z\" fill=\"#000000\" fill-rule=\"evenodd\" fill-opacity=\"1\" /></svg>\n"
      ]
     },
     "execution_count": 64,
     "metadata": {},
     "output_type": "execute_result"
    }
   ],
   "source": [
    "scatter(areas.x, areas.y, label=\"residential areas\")\n",
    "scatter!(clinics_built.x, clinics_built.y, label=\"clinics\")"
   ]
  },
  {
   "cell_type": "code",
   "execution_count": null,
   "metadata": {},
   "outputs": [],
   "source": []
  }
 ],
 "metadata": {
  "kernelspec": {
   "display_name": "Julia 1.7.1",
   "language": "julia",
   "name": "julia-1.7"
  },
  "language_info": {
   "file_extension": ".jl",
   "mimetype": "application/julia",
   "name": "julia",
   "version": "1.7.1"
  }
 },
 "nbformat": 4,
 "nbformat_minor": 2
}
