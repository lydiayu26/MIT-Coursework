{
 "cells": [
  {
   "cell_type": "code",
   "execution_count": 13,
   "metadata": {},
   "outputs": [],
   "source": [
    "using CSV , DataFrames , JuMP , Gurobi , LinearAlgebra , Plots , Random , Printf"
   ]
  },
  {
   "cell_type": "markdown",
   "metadata": {},
   "source": [
    "### Problem 2"
   ]
  },
  {
   "cell_type": "markdown",
   "metadata": {},
   "source": [
    "$f_1(x, y) = 4x+y$"
   ]
  },
  {
   "cell_type": "code",
   "execution_count": 14,
   "metadata": {
    "collapsed": true
   },
   "outputs": [
    {
     "name": "stdout",
     "output_type": "stream",
     "text": [
      "Set parameter Username\n",
      "Academic license - for non-commercial use only - expires 2022-09-06\n"
     ]
    }
   ],
   "source": [
    "m1 = Model(Gurobi.Optimizer);"
   ]
  },
  {
   "cell_type": "code",
   "execution_count": 15,
   "metadata": {},
   "outputs": [],
   "source": [
    "@variable(m1, x);\n",
    "@variable(m1, y);"
   ]
  },
  {
   "cell_type": "code",
   "execution_count": 16,
   "metadata": {},
   "outputs": [],
   "source": [
    "@constraint(m1, x + y >= 1);\n",
    "@constraint(m1, -x + 2*y <= 4);\n",
    "@constraint(m1, x + 2*y <= 8);\n",
    "@constraint(m1, -2*x + y >= -6);\n",
    "@constraint(m1, 0 <= x <= 3);"
   ]
  },
  {
   "cell_type": "code",
   "execution_count": 17,
   "metadata": {},
   "outputs": [],
   "source": [
    "@objective(m1, Max, 4*x + y);"
   ]
  },
  {
   "cell_type": "code",
   "execution_count": 18,
   "metadata": {},
   "outputs": [
    {
     "data": {
      "text/latex": [
       "$$ \\begin{aligned}\n",
       "\\max\\quad & 4 x + y\\\\\n",
       "\\text{Subject to} \\quad & x + y \\geq 1.0\\\\\n",
       " & -2 x + y \\geq -6.0\\\\\n",
       " & -x + 2 y \\leq 4.0\\\\\n",
       " & x + 2 y \\leq 8.0\\\\\n",
       " & x \\in \\[0.0, 3.0\\]\\\\\n",
       "\\end{aligned} $$"
      ]
     },
     "metadata": {},
     "output_type": "display_data"
    }
   ],
   "source": [
    "print(m1)"
   ]
  },
  {
   "cell_type": "code",
   "execution_count": 20,
   "metadata": {
    "collapsed": true
   },
   "outputs": [
    {
     "name": "stdout",
     "output_type": "stream",
     "text": [
      "Gurobi Optimizer version 9.5.0 build v9.5.0rc5 (mac64[x86])\n",
      "Thread count: 4 physical cores, 8 logical processors, using up to 8 threads\n",
      "Optimize a model with 5 rows, 3 columns and 10 nonzeros\n",
      "Model fingerprint: 0x8502b384\n",
      "Coefficient statistics:\n",
      "  Matrix range     [1e+00, 2e+00]\n",
      "  Objective range  [1e+00, 4e+00]\n",
      "  Bounds range     [3e+00, 3e+00]\n",
      "  RHS range        [1e+00, 8e+00]\n",
      "Presolve removed 2 rows and 1 columns\n",
      "Presolve time: 0.00s\n",
      "Presolved: 3 rows, 2 columns, 6 nonzeros\n",
      "\n",
      "Iteration    Objective       Primal Inf.    Dual Inf.      Time\n",
      "       0    1.4500000e+01   0.000000e+00   0.000000e+00      0s\n",
      "       0    1.4500000e+01   0.000000e+00   0.000000e+00      0s\n",
      "\n",
      "Solved in 0 iterations and 0.00 seconds (0.00 work units)\n",
      "Optimal objective  1.450000000e+01\n",
      "\n",
      "User-callback calls 54, time in user-callback 0.00 sec\n"
     ]
    }
   ],
   "source": [
    "optimize!(m1)"
   ]
  },
  {
   "cell_type": "code",
   "execution_count": 21,
   "metadata": {
    "scrolled": true
   },
   "outputs": [
    {
     "name": "stdout",
     "output_type": "stream",
     "text": [
      "value(x) = 3.0\n",
      "value(y) = 2.5\n",
      "objective_value(m1) = 14.5\n"
     ]
    },
    {
     "data": {
      "text/plain": [
       "14.5"
      ]
     },
     "execution_count": 21,
     "metadata": {},
     "output_type": "execute_result"
    }
   ],
   "source": [
    "@show value(x)\n",
    "@show value(y)\n",
    "@show objective_value(m1)"
   ]
  },
  {
   "cell_type": "markdown",
   "metadata": {},
   "source": [
    "$f_2(x, y) = -4x+y$"
   ]
  },
  {
   "cell_type": "code",
   "execution_count": 22,
   "metadata": {
    "collapsed": true
   },
   "outputs": [
    {
     "name": "stdout",
     "output_type": "stream",
     "text": [
      "Set parameter Username\n",
      "Academic license - for non-commercial use only - expires 2022-09-06\n"
     ]
    }
   ],
   "source": [
    "m2 = Model(Gurobi.Optimizer);"
   ]
  },
  {
   "cell_type": "code",
   "execution_count": 23,
   "metadata": {},
   "outputs": [],
   "source": [
    "@variable(m2, x);\n",
    "@variable(m2, y);"
   ]
  },
  {
   "cell_type": "code",
   "execution_count": 24,
   "metadata": {},
   "outputs": [],
   "source": [
    "@constraint(m2, x + y >= 1);\n",
    "@constraint(m2, -x + 2*y <= 4);\n",
    "@constraint(m2, x + 2*y <= 8);\n",
    "@constraint(m2, -2*x + y >= -6);\n",
    "@constraint(m2, 0 <= x <= 3);"
   ]
  },
  {
   "cell_type": "code",
   "execution_count": 25,
   "metadata": {},
   "outputs": [],
   "source": [
    "@objective(m2, Max, -4*x + y);"
   ]
  },
  {
   "cell_type": "code",
   "execution_count": 26,
   "metadata": {},
   "outputs": [
    {
     "data": {
      "text/latex": [
       "$$ \\begin{aligned}\n",
       "\\max\\quad & -4 x + y\\\\\n",
       "\\text{Subject to} \\quad & x + y \\geq 1.0\\\\\n",
       " & -2 x + y \\geq -6.0\\\\\n",
       " & -x + 2 y \\leq 4.0\\\\\n",
       " & x + 2 y \\leq 8.0\\\\\n",
       " & x \\in \\[0.0, 3.0\\]\\\\\n",
       "\\end{aligned} $$"
      ]
     },
     "metadata": {},
     "output_type": "display_data"
    }
   ],
   "source": [
    "print(m2)"
   ]
  },
  {
   "cell_type": "code",
   "execution_count": 27,
   "metadata": {
    "collapsed": true
   },
   "outputs": [
    {
     "name": "stdout",
     "output_type": "stream",
     "text": [
      "Gurobi Optimizer version 9.5.0 build v9.5.0rc5 (mac64[x86])\n",
      "Thread count: 4 physical cores, 8 logical processors, using up to 8 threads\n",
      "Optimize a model with 5 rows, 3 columns and 10 nonzeros\n",
      "Model fingerprint: 0x9b481c63\n",
      "Coefficient statistics:\n",
      "  Matrix range     [1e+00, 2e+00]\n",
      "  Objective range  [1e+00, 4e+00]\n",
      "  Bounds range     [3e+00, 3e+00]\n",
      "  RHS range        [1e+00, 8e+00]\n",
      "Presolve removed 5 rows and 3 columns\n",
      "Presolve time: 0.00s\n",
      "Presolve: All rows and columns removed\n",
      "Iteration    Objective       Primal Inf.    Dual Inf.      Time\n",
      "       0    2.0000000e+00   0.000000e+00   0.000000e+00      0s\n",
      "\n",
      "Solved in 0 iterations and 0.00 seconds (0.00 work units)\n",
      "Optimal objective  2.000000000e+00\n",
      "\n",
      "User-callback calls 50, time in user-callback 0.00 sec\n"
     ]
    }
   ],
   "source": [
    "optimize!(m2)"
   ]
  },
  {
   "cell_type": "code",
   "execution_count": 28,
   "metadata": {},
   "outputs": [
    {
     "name": "stdout",
     "output_type": "stream",
     "text": [
      "value(x) = 0.0\n",
      "value(y) = 2.0\n",
      "objective_value(m2) = 2.0\n"
     ]
    },
    {
     "data": {
      "text/plain": [
       "2.0"
      ]
     },
     "execution_count": 28,
     "metadata": {},
     "output_type": "execute_result"
    }
   ],
   "source": [
    "@show value(x)\n",
    "@show value(y)\n",
    "@show objective_value(m2)"
   ]
  },
  {
   "cell_type": "code",
   "execution_count": null,
   "metadata": {},
   "outputs": [],
   "source": []
  }
 ],
 "metadata": {
  "@webio": {
   "lastCommId": null,
   "lastKernelId": null
  },
  "kernelspec": {
   "display_name": "Julia 1.7.1",
   "language": "julia",
   "name": "julia-1.7"
  },
  "language_info": {
   "file_extension": ".jl",
   "mimetype": "application/julia",
   "name": "julia",
   "version": "1.7.1"
  }
 },
 "nbformat": 4,
 "nbformat_minor": 2
}
