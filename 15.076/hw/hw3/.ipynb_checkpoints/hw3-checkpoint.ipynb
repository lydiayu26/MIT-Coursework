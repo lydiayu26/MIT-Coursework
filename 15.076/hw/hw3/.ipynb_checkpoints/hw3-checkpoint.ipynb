{
 "cells": [
  {
   "cell_type": "code",
   "execution_count": 2,
   "metadata": {},
   "outputs": [],
   "source": [
    "using DataFrames, CSV, JLD2, JuMP, Gurobi"
   ]
  },
  {
   "cell_type": "code",
   "execution_count": 99,
   "metadata": {},
   "outputs": [],
   "source": [
    "using Dates"
   ]
  },
  {
   "cell_type": "markdown",
   "metadata": {},
   "source": [
    "### Problem 1"
   ]
  },
  {
   "cell_type": "code",
   "execution_count": 3,
   "metadata": {},
   "outputs": [],
   "source": [
    "# load map of amount of plastic in each square\n",
    "p = load(\"plastic_map.jld2\", \"plastic_map\");"
   ]
  },
  {
   "cell_type": "code",
   "execution_count": 29,
   "metadata": {},
   "outputs": [],
   "source": [
    "# matrix to keep track of most amount of plastic that can be collected\n",
    "# up to the current square\n",
    "most_p_up_to = fill(-1000.0, 1001, 1001);\n",
    "# matrix to keep track of which square you came from to get to current square\n",
    "prec_nodes = Array{Tuple{Int, Int}}(undef,1001,1001);"
   ]
  },
  {
   "cell_type": "code",
   "execution_count": 33,
   "metadata": {},
   "outputs": [],
   "source": [
    "# the first node can only the plastic that's already there\n",
    "most_p_up_to[1,1] = p[1,1]\n",
    "\n",
    "# loop through all nodes and fill in most_p_up_to and prec_node\n",
    "for r = 1:1001\n",
    "    for c = 1:1001\n",
    "        # we already have node (1,1) filled in\n",
    "        if (r==1) && (c==1)\n",
    "            continue\n",
    "        end\n",
    "        \n",
    "        # keep track of the indices and values from preceding nodes\n",
    "        prec_max_p = Vector{Float64}()\n",
    "        indices = Vector{Tuple{Int, Int}}()\n",
    "        \n",
    "        # check all potential preceding nodes within bounds?\n",
    "        # keep track of max plastic from prec node and its idx\n",
    "        # 1. node below\n",
    "        if ((r-1) > 0) && ((r-1) < 1002)\n",
    "            push!(prec_max_p, most_p_up_to[r-1, c])\n",
    "            push!(indices, (r-1, c))\n",
    "        end\n",
    "        \n",
    "        # 2. node from left\n",
    "        if ((c-1) > 0) && ((c-1) < 1002)\n",
    "            push!(prec_max_p, most_p_up_to[r, c-1])\n",
    "            push!(indices, (r, c-1))\n",
    "        end\n",
    "        \n",
    "        # 3. node left, down 1\n",
    "        if ((r-1) > 0) && ((c-1) > 0) && ((r-1) < 1002) && ((c-1) < 1002)\n",
    "            push!(prec_max_p, most_p_up_to[r-1, c-1])\n",
    "            push!(indices, (r-1, c-1))\n",
    "        end\n",
    "        \n",
    "        # 4. node left, down 2\n",
    "        if ((r-2) > 0) && ((c-1) > 0) && ((r-2) < 1002) && ((c-1) < 1002)\n",
    "            push!(prec_max_p, most_p_up_to[r-2, c-1])\n",
    "            push!(indices, (r-2, c-1))\n",
    "        end\n",
    "        \n",
    "        # 5. node left, up 1\n",
    "        if ((r+1) > 0) && ((c-1) > 0) && ((r+1) < 1002) && ((c-1) < 1002)\n",
    "            push!(prec_max_p, most_p_up_to[r+1, c-1])\n",
    "            push!(indices, (r+1, c-1))\n",
    "        end\n",
    "        \n",
    "        # 6. node left, up 2\n",
    "        if ((r+2) > 0) && ((c-1) > 0) && ((r+2) < 1002) && ((c-1) < 1002)\n",
    "            push!(prec_max_p, most_p_up_to[r+2, c-1])\n",
    "            push!(indices, (r+2, c-1))\n",
    "        end\n",
    "        \n",
    "        # find idx of max plastic from prec nodes\n",
    "        max_idx = argmax(prec_max_p)\n",
    "        \n",
    "        # update values for current node by adding max prec plastic to p[r,c]\n",
    "        most_p_up_to[r,c] = prec_max_p[max_idx] + p[r,c]\n",
    "        prec_nodes[r,c] = indices[max_idx]\n",
    "    end\n",
    "end"
   ]
  },
  {
   "cell_type": "code",
   "execution_count": 51,
   "metadata": {},
   "outputs": [
    {
     "data": {
      "text/plain": [
       "154936.0784313725"
      ]
     },
     "execution_count": 51,
     "metadata": {},
     "output_type": "execute_result"
    }
   ],
   "source": [
    "# get the max plastic collected\n",
    "most_p_up_to[1001, 1001]"
   ]
  },
  {
   "cell_type": "code",
   "execution_count": 49,
   "metadata": {},
   "outputs": [],
   "source": [
    "# find which nodes were visited\n",
    "course = Vector{Tuple{Float64, Float64}}()\n",
    "r = 1001\n",
    "c = 1001\n",
    "\n",
    "while (r,c) != (1,1)\n",
    "    # append this current node to nodes_visited\n",
    "    # (subtract 1 to account for 1-indexing and divide by 10 to convert to miles)\n",
    "    push!(course, ((r-1)/10,(c-1)/10))\n",
    "    # get a tuple with indices of previous node\n",
    "    node_before = prec_nodes[r,c]\n",
    "    # update r,c to go to previous node\n",
    "    r = node_before[1]\n",
    "    c = node_before[2]\n",
    "end\n",
    "push!(course, (0,0));"
   ]
  },
  {
   "cell_type": "code",
   "execution_count": 50,
   "metadata": {},
   "outputs": [
    {
     "data": {
      "text/plain": [
       "2001-element Vector{Tuple{Float64, Float64}}:\n",
       " (0.0, 0.0)\n",
       " (0.0, 0.1)\n",
       " (0.0, 0.2)\n",
       " (0.0, 0.3)\n",
       " (0.0, 0.4)\n",
       " (0.0, 0.5)\n",
       " (0.0, 0.6)\n",
       " (0.0, 0.7)\n",
       " (0.0, 0.8)\n",
       " (0.0, 0.9)\n",
       " (0.0, 1.0)\n",
       " (0.0, 1.1)\n",
       " (0.0, 1.2)\n",
       " ⋮\n",
       " (98.9, 100.0)\n",
       " (99.0, 100.0)\n",
       " (99.1, 100.0)\n",
       " (99.2, 100.0)\n",
       " (99.3, 100.0)\n",
       " (99.4, 100.0)\n",
       " (99.5, 100.0)\n",
       " (99.6, 100.0)\n",
       " (99.7, 100.0)\n",
       " (99.8, 100.0)\n",
       " (99.9, 100.0)\n",
       " (100.0, 100.0)"
      ]
     },
     "execution_count": 50,
     "metadata": {},
     "output_type": "execute_result"
    }
   ],
   "source": [
    "# reverse the order of course to start at (1,1)\n",
    "course = reverse(course)"
   ]
  },
  {
   "cell_type": "markdown",
   "metadata": {},
   "source": [
    "### Problem 2"
   ]
  },
  {
   "cell_type": "code",
   "execution_count": 117,
   "metadata": {},
   "outputs": [],
   "source": [
    "hospital = CSV.read(\"ziekenhuizen.csv\", DataFrame);"
   ]
  },
  {
   "cell_type": "code",
   "execution_count": 116,
   "metadata": {},
   "outputs": [],
   "source": [
    "drive = CSV.read(\"reistijden.csv\", DataFrame);\n",
    "# convert everything to strings \n",
    "# (some columns are Time types and I couldn't get strings to convert Time)\n",
    "drive[!, 2:ncol(drive)] = string.(drive[!, 2:ncol(drive)]);"
   ]
  },
  {
   "cell_type": "code",
   "execution_count": 122,
   "metadata": {},
   "outputs": [
    {
     "data": {
      "text/plain": [
       "objective (generic function with 1 method)"
      ]
     },
     "execution_count": 122,
     "metadata": {},
     "output_type": "execute_result"
    }
   ],
   "source": [
    "# function to get min of max drive times to centers in solution\n",
    "function objective(solution)\n",
    "    # for each center in solution, find the max drive time any hospital needs to get to it\n",
    "    max_drive_times = [maximum(drive[:, x]) for x in solution]\n",
    "    # the minimum of the max drive times to each center in the solution is the objective value\n",
    "    obj_val = minimum(max_drive_times)\n",
    "    return obj_val\n",
    "end"
   ]
  },
  {
   "cell_type": "code",
   "execution_count": 215,
   "metadata": {},
   "outputs": [
    {
     "data": {
      "text/plain": [
       "\"02:44:52\""
      ]
     },
     "execution_count": 215,
     "metadata": {},
     "output_type": "execute_result"
    }
   ],
   "source": [
    "# initialize greedy solution with first 10 hospitals\n",
    "solution = hospital[!,\"name\"][1:10];\n",
    "obj = objective(solution)"
   ]
  },
  {
   "cell_type": "code",
   "execution_count": 237,
   "metadata": {},
   "outputs": [
    {
     "ename": "LoadError",
     "evalue": "InterruptException:",
     "output_type": "error",
     "traceback": [
      "InterruptException:",
      "",
      "Stacktrace:",
      " [1] iterate(A::Vector{String}, i::Int64)",
      "   @ Base ./array.jl:835",
      " [2] top-level scope",
      "   @ ./In[237]:25",
      " [3] eval",
      "   @ ./boot.jl:373 [inlined]",
      " [4] include_string(mapexpr::typeof(REPL.softscope), mod::Module, code::String, filename::String)",
      "   @ Base ./loading.jl:1196"
     ]
    }
   ],
   "source": [
    "# algorithm converges when new solution produces same obj value as current solution\n",
    "no_improvement = false\n",
    "while !no_improvement\n",
    "    # loop through all current centers in solution and do local search\n",
    "    for center in solution\n",
    "        # loop through all other hospitals to potentially replace center with\n",
    "        for new in hospital[!,\"name\"]\n",
    "            # do not check if new is already a part of solution\n",
    "            if new ∉ solution\n",
    "                # generate new solution by replacing center with new\n",
    "                new_sol = deepcopy(solution)\n",
    "                # remove center from new_sol\n",
    "                deleteat!(new_sol, new_sol.==center)\n",
    "                # add new to new_sol\n",
    "                push!(new_sol, new)\n",
    "                \n",
    "                # compare new_sol to current solution\n",
    "                new_obj = objective(new_sol)\n",
    "                if new_obj < obj\n",
    "                    solution = new_sol\n",
    "                    break\n",
    "                end\n",
    "                # converge to solution if new is same as previous\n",
    "                if new_sol == solution\n",
    "                    no_improvement = true\n",
    "                    break\n",
    "                end\n",
    "                \n",
    "            end\n",
    "        end\n",
    "        if no_improvement \n",
    "            break\n",
    "        end\n",
    "    end\n",
    "end"
   ]
  },
  {
   "cell_type": "code",
   "execution_count": 232,
   "metadata": {},
   "outputs": [
    {
     "data": {
      "text/plain": [
       "false"
      ]
     },
     "execution_count": 232,
     "metadata": {},
     "output_type": "execute_result"
    }
   ],
   "source": [
    "no_improvement = false\n",
    "# loop through all current centers in solution and do local search\n",
    "for center in solution\n",
    "    # loop through all other hospitals to potentially replace center with\n",
    "    for new in hospital[!,\"name\"]\n",
    "        # do not check if new is already a part of solution\n",
    "        if new ∉ solution\n",
    "            # generate new solution by replacing center with new\n",
    "            new_sol = deepcopy(solution)\n",
    "            # remove center from new_sol\n",
    "            deleteat!(new_sol, new_sol.==center)\n",
    "            # add new to new_sol\n",
    "            push!(new_sol, new)\n",
    "\n",
    "            # compare new_sol to current solution\n",
    "            new_obj = objective(new_sol)\n",
    "            if new_obj < obj\n",
    "                solution = new_sol\n",
    "                # if this solution is better, move on to next center\n",
    "                break\n",
    "            end\n",
    "            if new_sol == solution\n",
    "                no_improvement = true\n",
    "                break\n",
    "            end\n",
    "        end\n",
    "    end\n",
    "end\n",
    "no_improvement"
   ]
  },
  {
   "cell_type": "code",
   "execution_count": 233,
   "metadata": {},
   "outputs": [
    {
     "data": {
      "text/plain": [
       "10-element Vector{String}:\n",
       " \"ACADEMISCH MEDISCH CENTRUM\"\n",
       " \"GROENE HART ZIEKENHUIS (BLEULAND)\"\n",
       " \"HAGA ZIEKENHUIS (LEYWEG)\"\n",
       " \"ADMIRAAL DE RUYTER ZIEKENHUIS\"\n",
       " \"ALBERT SCHWEITZER ZIEKENHUIS (DORDWIJK)\"\n",
       " \"ALBERT SCHWEITZER ZIEKENHUIS (ZWIJNDRECHT)\"\n",
       " \"AMPHIA ZIEKENHUIS (LANGENDIJK)\"\n",
       " \"AMPHIA ZIEKENHUIS (MOLENGRACHT)\"\n",
       " \"BEATRIX ZIEKENHUIS\"\n",
       " \"HAAGLANDEN MEDISCH CENTRUM (BRONOVO)\""
      ]
     },
     "execution_count": 233,
     "metadata": {},
     "output_type": "execute_result"
    }
   ],
   "source": [
    "solution"
   ]
  },
  {
   "cell_type": "code",
   "execution_count": 220,
   "metadata": {},
   "outputs": [
    {
     "data": {
      "text/plain": [
       "10-element Vector{String}:\n",
       " \"ANTONI VAN LEEUWENHOEK ZIEKENHUIS\"\n",
       " \"HAGA ZIEKENHUIS (LEYWEG)\"\n",
       " \"ADMIRAAL DE RUYTER ZIEKENHUIS\"\n",
       " \"ALBERT SCHWEITZER ZIEKENHUIS (DORDWIJK)\"\n",
       " \"ALBERT SCHWEITZER ZIEKENHUIS (ZWIJNDRECHT)\"\n",
       " \"AMPHIA ZIEKENHUIS (LANGENDIJK)\"\n",
       " \"AMPHIA ZIEKENHUIS (MOLENGRACHT)\"\n",
       " \"BEATRIX ZIEKENHUIS\"\n",
       " \"HAAGLANDEN MEDISCH CENTRUM (BRONOVO)\"\n",
       " \"BRAVIS ZIEKENHUIS (ROOSENDAAL)\""
      ]
     },
     "execution_count": 220,
     "metadata": {},
     "output_type": "execute_result"
    }
   ],
   "source": [
    "solution"
   ]
  },
  {
   "cell_type": "code",
   "execution_count": null,
   "metadata": {},
   "outputs": [],
   "source": []
  },
  {
   "cell_type": "code",
   "execution_count": null,
   "metadata": {},
   "outputs": [],
   "source": []
  }
 ],
 "metadata": {
  "@webio": {
   "lastCommId": null,
   "lastKernelId": null
  },
  "kernelspec": {
   "display_name": "Julia 1.7.1",
   "language": "julia",
   "name": "julia-1.7"
  },
  "language_info": {
   "file_extension": ".jl",
   "mimetype": "application/julia",
   "name": "julia",
   "version": "1.7.1"
  }
 },
 "nbformat": 4,
 "nbformat_minor": 2
}
