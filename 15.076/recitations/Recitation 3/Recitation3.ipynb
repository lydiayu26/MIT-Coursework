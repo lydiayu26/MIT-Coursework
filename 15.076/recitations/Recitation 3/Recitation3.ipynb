{
 "cells": [
  {
   "cell_type": "markdown",
   "id": "known-catalyst",
   "metadata": {},
   "source": [
    "# Recitation 3"
   ]
  },
  {
   "cell_type": "markdown",
   "id": "given-thompson",
   "metadata": {},
   "source": [
    "## Problem Description\n",
    "A set of radiating catheters are used to kill cancerous cells in a tumor while preserving healthy cells. We wish to select a set of catheter locations and active times so that cancer cells release a lethal dose and healthy cells receive a nonlethal dose. The problem is described in more detail in Lecture 6 and Recitation 3 slides. We will implement the case where the number of catheters are limited and no neighboring catheters can be used at the same time."
   ]
  },
  {
   "cell_type": "code",
   "execution_count": 1,
   "id": "crazy-tumor",
   "metadata": {},
   "outputs": [],
   "source": [
    "##### Getting Started\n",
    "\n",
    "# When starting to learn any programming language or tool, it's important to familiarize\n",
    "# yourself with existing resources to help you learn.\n",
    "# The official Julia documentation: https://docs.julialang.org/en/v1/ (or google \"Julia docs\")\n",
    "# It consists of \"The Manual\" and documentation for the two modules automatically loaded\n",
    "# whenever julia starts: Base and Standard Library.\n",
    "\n",
    "# Julia code is packaged into \"modules\". This command loads the JuMP and Gurobi modules. \n",
    "# More info on Modules in general: https://docs.julialang.org/en/v1/manual/modules/\n",
    "# Documentation for JuMP.jl: https://jump.dev/JuMP.jl/dev/ (or google JuMP.jl and click documentation in github ReadMe file)\n",
    "# Documentation for Gurobi.jl: https://github.com/jump-dev/Gurobi.jl\n",
    "using JuMP, Gurobi"
   ]
  },
  {
   "cell_type": "code",
   "execution_count": 2,
   "id": "composed-rwanda",
   "metadata": {},
   "outputs": [
    {
     "data": {
      "text/plain": [
       "Module"
      ]
     },
     "execution_count": 2,
     "metadata": {},
     "output_type": "execute_result"
    }
   ],
   "source": [
    "typeof(Gurobi) # A function in the Core module. Documented: https://docs.julialang.org/en/v1/base/base/#Core.typeof"
   ]
  },
  {
   "cell_type": "code",
   "execution_count": 3,
   "id": "parental-lying",
   "metadata": {},
   "outputs": [
    {
     "data": {
      "text/plain": [
       "919-element Vector{Symbol}:\n",
       " :GRBBSolve\n",
       " :GRBBinvColj\n",
       " :GRBBinvRowi\n",
       " :GRBBinvi\n",
       " :GRBBinvj\n",
       " :GRBFSolve\n",
       " :GRBXaddconstrs\n",
       " :GRBXaddrangeconstrs\n",
       " :GRBXaddvars\n",
       " :GRBXchgcoeffs\n",
       " :GRBXgetconstrs\n",
       " :GRBXgetvars\n",
       " :GRBXloadmodel\n",
       " ⋮\n",
       " :presolve_model\n",
       " :read_model\n",
       " :reset_model!\n",
       " :set_callback_func!\n",
       " :set_objcoeffs!\n",
       " :set_sense!\n",
       " :setparam!\n",
       " :setparams!\n",
       " :tune_model\n",
       " :update_model!\n",
       " :upperbounds\n",
       " :write_model"
      ]
     },
     "execution_count": 3,
     "metadata": {},
     "output_type": "execute_result"
    }
   ],
   "source": [
    "names(Gurobi) # A function in the Base module that prints all \"names\" exported by a module. Documented: https://docs.julialang.org/en/v1/base/base/#Base.names"
   ]
  },
  {
   "cell_type": "code",
   "execution_count": 4,
   "id": "raised-centre",
   "metadata": {},
   "outputs": [
    {
     "name": "stdout",
     "output_type": "stream",
     "text": [
      "Set parameter Username\n",
      "Academic license - for non-commercial use only - expires 2022-09-16\n"
     ]
    },
    {
     "data": {
      "text/plain": [
       "Gurobi.Env(Ptr{Nothing} @0x0000000068fb92b0, false, 0)"
      ]
     },
     "execution_count": 4,
     "metadata": {},
     "output_type": "execute_result"
    }
   ],
   "source": [
    "##### Getting the License\n",
    "\n",
    "# Env is a struct defined in the Gurobi module. Here we call one of its constructors.\n",
    "# structs are documented here: https://docs.julialang.org/en/v1/manual/types/#Composite-Types\n",
    "# constructors, here: https://docs.julialang.org/en/v1/manual/constructors/\n",
    "\n",
    "# In documentation Env() is here: https://github.com/jump-dev/Gurobi.jl#reusing-the-same-gurobi-environment-for-multiple-solves\n",
    "# In code here: https://github.com/jump-dev/Gurobi.jl/blob/master/src/MOI_wrapper/MOI_wrapper.jl#L92\n",
    "const GRB_ENV = Gurobi.Env()"
   ]
  },
  {
   "cell_type": "code",
   "execution_count": 5,
   "id": "renewable-wrapping",
   "metadata": {},
   "outputs": [
    {
     "data": {
      "text/plain": [
       "A JuMP Model\n",
       "Feasibility problem with:\n",
       "Variables: 0\n",
       "Model mode: AUTOMATIC\n",
       "CachingOptimizer state: EMPTY_OPTIMIZER\n",
       "Solver name: Gurobi"
      ]
     },
     "execution_count": 5,
     "metadata": {},
     "output_type": "execute_result"
    }
   ],
   "source": [
    "##### Creating the Model\n",
    "\n",
    "# Models in JuMP are documented here: https://jump.dev/JuMP.jl/stable/manual/models/\n",
    "# The Model() constructor, here: https://jump.dev/JuMP.jl/stable/manual/models/#Create-a-model\n",
    "# Or in code the struct is here: https://github.com/jump-dev/JuMP.jl/blob/master/src/JuMP.jl#L216\n",
    "# and the constructor used is here: https://github.com/jump-dev/JuMP.jl/blob/master/src/JuMP.jl#L294\n",
    "m = Model(() -> Gurobi.Optimizer(GRB_ENV))\n",
    "\n",
    "# Question: What is () -> Gurobi.Optimizer(env)?? It's an anonymous function that takes in no inputs and\n",
    "# returns an Optimizer struct. This function is passed from JuMP to MathOptInterface (which is a different\n",
    "# module that JuMP relies on to convert algebraic models into a form that solvers can use) where it is actually\n",
    "# called. Anonymous functions documented here: https://docs.julialang.org/en/v1/manual/functions/#man-anonymous-functions"
   ]
  },
  {
   "cell_type": "code",
   "execution_count": 6,
   "id": "decreased-kingston",
   "metadata": {
    "tags": []
   },
   "outputs": [],
   "source": [
    "##### DATAAAAAAA\n",
    "\n",
    "# how I did this isn't really relevant so I'm not going to add many comments here\n",
    "\n",
    "# generating the data\n",
    "cath_x = Array{Float64}(undef,6^2)\n",
    "cath_y = Array{Float64}(undef,6^2)\n",
    "i=0\n",
    "for x=1:6,y=1:6\n",
    "    i=i+1 \n",
    "    cath_x[i] = x\n",
    "    cath_y[i] = y\n",
    "end\n",
    "\n",
    "loc_x = Array{Float64}(undef,6*9*9)\n",
    "loc_y = Array{Float64}(undef,6*9*9)\n",
    "loc_z = Array{Float64}(undef,6*9*9)\n",
    "i = 0\n",
    "for x=1:.5:5,y=1:.5:5,z=0:1:5\n",
    "    i = i+1\n",
    "    loc_x[i]=x\n",
    "    loc_y[i]=y\n",
    "    loc_z[i]=z\n",
    "end\n",
    "\n",
    "ncatheters = length(cath_x)\n",
    "nlocs = length(loc_x)\n",
    "\n",
    "d = [min( .5/((loc_x[i]-cath_x[j])^2+(loc_y[i]-cath_y[j])^2) , .5) for i=1:nlocs,j=1:ncatheters] # dose rate at location i from catheter j\n",
    "\n",
    "# spherical tumor of radius 2 at x=y=z=3 that needs dose of at least 2 but not more than 5\n",
    "# healthy tissue should receive dose less than 1\n",
    "L = [sqrt( (loc_x[i]-3)^2+(loc_y[i]-3)^2+(loc_z[i]-3)^2 ) <= 2 ? 2 : 0 for i=1:nlocs]\n",
    "U = [sqrt( (loc_x[i]-3)^2+(loc_y[i]-3)^2+(loc_z[i]-3)^2 ) <= 2 ? 5 : 1 for i=1:nlocs]\n",
    "\n",
    "# especially sensitive cylindrical region centered at x=y=5 of radius 1\n",
    "α = [1 for i=1:nlocs] # falling below minimum is penalized equally everywhere, however minimum for healthy tissue is 0 so will never be below minimum for healthy cells\n",
    "β = [sqrt( (loc_x[i]-5)^2+(loc_y[i]-5)^2 ) <= 1 ? 5 : 1 for i=1:nlocs];  # exceeding max is worse in sensitive region and equally bad everywhere else"
   ]
  },
  {
   "cell_type": "code",
   "execution_count": 13,
   "id": "destroyed-appliance",
   "metadata": {
    "tags": []
   },
   "outputs": [],
   "source": [
    "# saving all the data\n",
    "using DataFrames, CSV, JLD2\n",
    "\n",
    "cath_df = DataFrame(cath_x=cath_x,cath_y=cath_y)\n",
    "loc_df = DataFrame(loc_x=loc_x,loc_y=loc_y,loc_z=loc_z)\n",
    "bounds_df = DataFrame(L=L,U=U)\n",
    "penalty_df = DataFrame(α=α,β=β)\n",
    "\n",
    "CSV.write(\"cath_data.csv\",cath_df)\n",
    "CSV.write(\"loc_data.csv\",loc_df)\n",
    "CSV.write(\"bounds_data.csv\",bounds_df)\n",
    "CSV.write(\"penalty_data.csv\",penalty_df)\n",
    "JLD2.jldsave(\"dose_rate_data.jld2\"; d)"
   ]
  },
  {
   "cell_type": "code",
   "execution_count": 8,
   "id": "packed-bronze",
   "metadata": {},
   "outputs": [],
   "source": [
    "# loading all the data\n",
    "using DataFrames, CSV, JLD2\n",
    "\n",
    "cath_df = CSV.read(\"cath_data.csv\", DataFrame)\n",
    "loc_df = CSV.read(\"loc_data.csv\", DataFrame)\n",
    "bounds_df = CSV.read(\"bounds_data.csv\", DataFrame)\n",
    "penalty_df = CSV.read(\"penalty_data.csv\", DataFrame)\n",
    "\n",
    "cath_x = cath_df[:,\"cath_x\"]\n",
    "cath_y = cath_df[:,\"cath_y\"]\n",
    "\n",
    "loc_x = loc_df[:,\"loc_x\"]\n",
    "loc_y = loc_df[:,\"loc_y\"]\n",
    "loc_z = loc_df[:,\"loc_z\"]\n",
    "\n",
    "L = bounds_df[:,\"L\"]\n",
    "U = bounds_df[:,\"U\"]\n",
    "\n",
    "α = penalty_df[:,\"α\"]\n",
    "β = penalty_df[:,\"β\"]\n",
    "\n",
    "ncatheters = length(cath_x)\n",
    "nlocs = length(loc_x)\n",
    "\n",
    "d = load(\"dose_rate_data.jld2\",\"d\");"
   ]
  },
  {
   "cell_type": "code",
   "execution_count": 9,
   "id": "burning-soldier",
   "metadata": {},
   "outputs": [
    {
     "data": {
      "text/plain": [
       "486-element Vector{VariableRef}:\n",
       " y[1]\n",
       " y[2]\n",
       " y[3]\n",
       " y[4]\n",
       " y[5]\n",
       " y[6]\n",
       " y[7]\n",
       " y[8]\n",
       " y[9]\n",
       " y[10]\n",
       " y[11]\n",
       " y[12]\n",
       " y[13]\n",
       " ⋮\n",
       " y[475]\n",
       " y[476]\n",
       " y[477]\n",
       " y[478]\n",
       " y[479]\n",
       " y[480]\n",
       " y[481]\n",
       " y[482]\n",
       " y[483]\n",
       " y[484]\n",
       " y[485]\n",
       " y[486]"
      ]
     },
     "execution_count": 9,
     "metadata": {},
     "output_type": "execute_result"
    }
   ],
   "source": [
    "##### Defining the Problem\n",
    "\n",
    "##### Defining variables: https://jump.dev/JuMP.jl/stable/manual/variables/\n",
    "\n",
    "# Understanding JuMP's \"containers\" is important: https://jump.dev/JuMP.jl/stable/manual/containers/#Containers\n",
    "# @variable is a \"Macro\" documented here: https://docs.julialang.org/en/v1/manual/metaprogramming/#man-macros\n",
    "@variable(m,y[1:nlocs] >= 0) # documented in the JuMP manual here: https://jump.dev/JuMP.jl/stable/manual/variables/#Containers-of-variables"
   ]
  },
  {
   "cell_type": "code",
   "execution_count": 10,
   "id": "cooked-holocaust",
   "metadata": {},
   "outputs": [
    {
     "data": {
      "text/plain": [
       "5-element Vector{Int64}:\n",
       " 1\n",
       " 2\n",
       " 3\n",
       " 4\n",
       " 5"
      ]
     },
     "execution_count": 10,
     "metadata": {},
     "output_type": "execute_result"
    }
   ],
   "source": [
    "Containers.@container([i=1:5],i)"
   ]
  },
  {
   "cell_type": "code",
   "execution_count": 11,
   "id": "rising-music",
   "metadata": {},
   "outputs": [
    {
     "data": {
      "text/plain": [
       "5×5 Matrix{Tuple{Int64, Int64}}:\n",
       " (1, 1)  (1, 2)  (1, 3)  (1, 4)  (1, 5)\n",
       " (2, 1)  (2, 2)  (2, 3)  (2, 4)  (2, 5)\n",
       " (3, 1)  (3, 2)  (3, 3)  (3, 4)  (3, 5)\n",
       " (4, 1)  (4, 2)  (4, 3)  (4, 4)  (4, 5)\n",
       " (5, 1)  (5, 2)  (5, 3)  (5, 4)  (5, 5)"
      ]
     },
     "execution_count": 11,
     "metadata": {},
     "output_type": "execute_result"
    }
   ],
   "source": [
    "Containers.@container([i=1:5,j=1:5],(i,j))"
   ]
  },
  {
   "cell_type": "code",
   "execution_count": 12,
   "id": "accepting-newcastle",
   "metadata": {},
   "outputs": [
    {
     "data": {
      "text/plain": [
       "JuMP.Containers.SparseAxisArray{String, 2, Tuple{String, String}} with 3 entries:\n",
       "  [im, john]  =  im magic john\n",
       "  [hi, im  ]  =  hi magic im\n",
       "  [hi, john]  =  hi magic john"
      ]
     },
     "execution_count": 12,
     "metadata": {},
     "output_type": "execute_result"
    }
   ],
   "source": [
    "Containers.@container([i=[\"hi\",\"im\"],j=[\"im\",\"john\"];i!=j], i * \" magic \" * j)"
   ]
  },
  {
   "cell_type": "code",
   "execution_count": 13,
   "id": "reflected-wesley",
   "metadata": {},
   "outputs": [],
   "source": [
    "@variable(m,t[1:ncatheters] >= 0);"
   ]
  },
  {
   "cell_type": "code",
   "execution_count": 14,
   "id": "sorted-series",
   "metadata": {},
   "outputs": [],
   "source": [
    "@variable(m,z[1:ncatheters],Bin); # documented in the JuMP manual here: https://jump.dev/JuMP.jl/stable/manual/variables/#Binary-variables"
   ]
  },
  {
   "cell_type": "code",
   "execution_count": 15,
   "id": "immune-wages",
   "metadata": {},
   "outputs": [],
   "source": [
    "##### Defining constraints: https://jump.dev/JuMP.jl/stable/manual/constraints/"
   ]
  },
  {
   "cell_type": "code",
   "execution_count": 16,
   "id": "worthy-quantum",
   "metadata": {},
   "outputs": [],
   "source": [
    "@constraint(m,[i=1:nlocs],y[i] >= α[i]*(L[i]-sum(d[i,j]*t[j] for j=1:ncatheters)) ); # I'm creating a container of anonymous constraints: https://jump.dev/JuMP.jl/stable/manual/constraints/#Anonymous-constraints\n",
    "                                                                                     # the \"sum\" is using julia's generator syntax: https://docs.julialang.org/en/v1/manual/arrays/#man-comprehensions\n",
    "                                                                                     # and also documented here: https://docs.julialang.org/en/v1/manual/arrays/#Generator-Expressions"
   ]
  },
  {
   "cell_type": "code",
   "execution_count": 17,
   "id": "lovely-helping",
   "metadata": {},
   "outputs": [],
   "source": [
    "@constraint(m,[i=1:nlocs],y[i] >= β[i]*(sum(d[i,j]*t[j] for j=1:ncatheters)-U[i]) );"
   ]
  },
  {
   "cell_type": "code",
   "execution_count": 18,
   "id": "conceptual-wealth",
   "metadata": {},
   "outputs": [
    {
     "data": {
      "text/plain": [
       "36-element Vector{ConstraintRef{Model, MathOptInterface.ConstraintIndex{MathOptInterface.ScalarAffineFunction{Float64}, MathOptInterface.LessThan{Float64}}, ScalarShape}}:\n",
       " t[1] - 200 z[1] <= 0.0\n",
       " t[2] - 200 z[2] <= 0.0\n",
       " t[3] - 200 z[3] <= 0.0\n",
       " t[4] - 200 z[4] <= 0.0\n",
       " t[5] - 200 z[5] <= 0.0\n",
       " t[6] - 200 z[6] <= 0.0\n",
       " t[7] - 200 z[7] <= 0.0\n",
       " t[8] - 200 z[8] <= 0.0\n",
       " t[9] - 200 z[9] <= 0.0\n",
       " t[10] - 200 z[10] <= 0.0\n",
       " t[11] - 200 z[11] <= 0.0\n",
       " t[12] - 200 z[12] <= 0.0\n",
       " t[13] - 200 z[13] <= 0.0\n",
       " ⋮\n",
       " t[25] - 200 z[25] <= 0.0\n",
       " t[26] - 200 z[26] <= 0.0\n",
       " t[27] - 200 z[27] <= 0.0\n",
       " t[28] - 200 z[28] <= 0.0\n",
       " t[29] - 200 z[29] <= 0.0\n",
       " t[30] - 200 z[30] <= 0.0\n",
       " t[31] - 200 z[31] <= 0.0\n",
       " t[32] - 200 z[32] <= 0.0\n",
       " t[33] - 200 z[33] <= 0.0\n",
       " t[34] - 200 z[34] <= 0.0\n",
       " t[35] - 200 z[35] <= 0.0\n",
       " t[36] - 200 z[36] <= 0.0"
      ]
     },
     "execution_count": 18,
     "metadata": {},
     "output_type": "execute_result"
    }
   ],
   "source": [
    "M = maximum(L)/minimum(d)       # Rule of thumb for faster solving: pick the smallest possible M you can.\n",
    "                                # the largest possible t_j would be one catheter delivering the largest minimal dose to the slowest to reach region\n",
    "@constraint(m,[j=1:ncatheters],t[j]<=M*z[j])"
   ]
  },
  {
   "cell_type": "code",
   "execution_count": 19,
   "id": "handmade-vehicle",
   "metadata": {},
   "outputs": [
    {
     "data": {
      "text/latex": [
       "$ z_{1} + z_{2} + z_{3} + z_{4} + z_{5} + z_{6} + z_{7} + z_{8} + z_{9} + z_{10} + z_{11} + z_{12} + z_{13} + z_{14} + z_{15} + z_{16} + z_{17} + z_{18} + z_{19} + z_{20} + z_{21} + z_{22} + z_{23} + z_{24} + z_{25} + z_{26} + z_{27} + z_{28} + z_{29} + z_{30} + z_{31} + z_{32} + z_{33} + z_{34} + z_{35} + z_{36} \\leq 10.0 $"
      ],
      "text/plain": [
       "z[1] + z[2] + z[3] + z[4] + z[5] + z[6] + z[7] + z[8] + z[9] + z[10] + z[11] + z[12] + z[13] + z[14] + z[15] + z[16] + z[17] + z[18] + z[19] + z[20] + z[21] + z[22] + z[23] + z[24] + z[25] + z[26] + z[27] + z[28] + z[29] + z[30] + z[31] + z[32] + z[33] + z[34] + z[35] + z[36] <= 10.0"
      ]
     },
     "execution_count": 19,
     "metadata": {},
     "output_type": "execute_result"
    }
   ],
   "source": [
    "N = 10\n",
    "@constraint(m,sum(z) <= N)"
   ]
  },
  {
   "cell_type": "code",
   "execution_count": 20,
   "id": "planned-safety",
   "metadata": {},
   "outputs": [
    {
     "data": {
      "text/plain": [
       "JuMP.Containers.SparseAxisArray{ConstraintRef{Model, MathOptInterface.ConstraintIndex{MathOptInterface.ScalarAffineFunction{Float64}, MathOptInterface.LessThan{Float64}}, ScalarShape}, 2, Tuple{Int64, Int64}} with 110 entries:\n",
       "  [11, 17]  =  z[11] + z[17] <= 1.0\n",
       "  [11, 18]  =  z[11] + z[18] <= 1.0\n",
       "  [22, 28]  =  z[22] + z[28] <= 1.0\n",
       "  [23, 24]  =  z[23] + z[24] <= 1.0\n",
       "  [8, 15 ]  =  z[8] + z[15] <= 1.0\n",
       "  [28, 34]  =  z[28] + z[34] <= 1.0\n",
       "  [25, 26]  =  z[25] + z[26] <= 1.0\n",
       "  [7, 8  ]  =  z[7] + z[8] <= 1.0\n",
       "  [30, 35]  =  z[30] + z[35] <= 1.0\n",
       "  [5, 11 ]  =  z[5] + z[11] <= 1.0\n",
       "            ⋮\n",
       "  [7, 14 ]  =  z[7] + z[14] <= 1.0\n",
       "  [21, 28]  =  z[21] + z[28] <= 1.0\n",
       "  [15, 21]  =  z[15] + z[21] <= 1.0\n",
       "  [2, 3  ]  =  z[2] + z[3] <= 1.0\n",
       "  [17, 23]  =  z[17] + z[23] <= 1.0\n",
       "  [24, 29]  =  z[24] + z[29] <= 1.0\n",
       "  [12, 17]  =  z[12] + z[17] <= 1.0\n",
       "  [12, 18]  =  z[12] + z[18] <= 1.0\n",
       "  [22, 23]  =  z[22] + z[23] <= 1.0\n",
       "  [22, 29]  =  z[22] + z[29] <= 1.0\n",
       "  [10, 16]  =  z[10] + z[16] <= 1.0"
      ]
     },
     "execution_count": 20,
     "metadata": {},
     "output_type": "execute_result"
    }
   ],
   "source": [
    "# the neighbor constraint is trickier\n",
    "\n",
    "# functions and methods are two different things in julia: https://docs.julialang.org/en/v1/manual/functions/ AND https://docs.julialang.org/en/v1/manual/methods/\n",
    "function isneighbor(j,k,cath_x,cath_y)\n",
    "    \n",
    "    # basic boolean opertors: https://docs.julialang.org/en/v1/manual/mathematical-operations/#Boolean-Operators\n",
    "    # numeric comparisons: https://docs.julialang.org/en/v1/manual/mathematical-operations/#Numeric-Comparisons\n",
    "    \n",
    "    sq_dist = (cath_x[j]-cath_x[k])^2 + (cath_y[j]-cath_y[k])^2\n",
    "    \n",
    "    if sq_dist >= 1 && sq_dist <= 2\n",
    "        return true\n",
    "    else\n",
    "        return false\n",
    "    end\n",
    "end\n",
    "\n",
    "@constraint(m,[j=1:ncatheters,k=1:ncatheters; j < k && isneighbor(j,k,cath_x,cath_y)], z[j]+z[k] <= 1) # note that the generator syntax and the JuMP container syntax is slightly different (; vs. if for the condition)"
   ]
  },
  {
   "cell_type": "code",
   "execution_count": 21,
   "id": "nutritional-collector",
   "metadata": {},
   "outputs": [],
   "source": [
    "##### Defining the objective\n",
    "@objective(m,Min,sum(y)); # objectives documented here: https://jump.dev/JuMP.jl/stable/manual/objective/"
   ]
  },
  {
   "cell_type": "code",
   "execution_count": 22,
   "id": "norwegian-latex",
   "metadata": {},
   "outputs": [
    {
     "name": "stdout",
     "output_type": "stream",
     "text": [
      "Gurobi Optimizer version 9.1.2 build v9.1.2rc0 (win64)\n",
      "Thread count: 4 physical cores, 8 logical processors, using up to 8 threads\n",
      "Optimize a model with 1119 rows, 558 columns and 36292 nonzeros\n",
      "Model fingerprint: 0xb1f6eb15\n",
      "Variable types: 522 continuous, 36 integer (36 binary)\n",
      "Coefficient statistics:\n",
      "  Matrix range     [1e-02, 2e+02]\n",
      "  Objective range  [1e+00, 1e+00]\n",
      "  Bounds range     [0e+00, 0e+00]\n",
      "  RHS range        [1e+00, 1e+01]\n",
      "Found heuristic solution: objective 250.0000000\n",
      "Presolve removed 882 rows and 359 columns\n",
      "Presolve time: 0.02s\n",
      "Presolved: 237 rows, 199 columns, 6775 nonzeros\n",
      "Variable types: 167 continuous, 32 integer (32 binary)\n",
      "\n",
      "Root relaxation: objective 1.210000e+02, 300 iterations, 0.01 seconds\n",
      "\n",
      "    Nodes    |    Current Node    |     Objective Bounds      |     Work\n",
      " Expl Unexpl |  Obj  Depth IntInf | Incumbent    BestBd   Gap | It/Node Time\n",
      "\n",
      "     0     0  121.00000    0   12  250.00000  121.00000  51.6%     -    0s\n",
      "H    0     0                     191.4124209  121.00000  36.8%     -    0s\n",
      "     0     0  121.00000    0   14  191.41242  121.00000  36.8%     -    0s\n",
      "H    0     0                     128.6076808  121.00000  5.92%     -    0s\n",
      "H    0     0                     121.4282012  121.00000  0.35%     -    0s\n",
      "     0     0  121.32716    0   13  121.42820  121.32716  0.08%     -    0s\n",
      "     0     0  121.42371    0   13  121.42820  121.42371  0.00%     -    0s\n",
      "\n",
      "Cutting planes:\n",
      "  Gomory: 2\n",
      "  MIR: 3\n",
      "  Flow cover: 30\n",
      "\n",
      "Explored 1 nodes (624 simplex iterations) in 0.10 seconds\n",
      "Thread count was 8 (of 8 available processors)\n",
      "\n",
      "Solution count 4: 121.428 128.608 191.412 250 \n",
      "\n",
      "Optimal solution found (tolerance 1.00e-04)\n",
      "Best objective 1.214282012070e+02, best bound 1.214237079421e+02, gap 0.0037%\n",
      "\n",
      "User-callback calls 122, time in user-callback 0.00 sec\n"
     ]
    }
   ],
   "source": [
    "optimize!(m) # documented here: https://jump.dev/JuMP.jl/stable/reference/solutions/#Basic-utilities"
   ]
  },
  {
   "cell_type": "code",
   "execution_count": 23,
   "id": "norman-mozambique",
   "metadata": {},
   "outputs": [],
   "source": [
    "t_opt = value.(t); # interacting with the solutions are documented here: https://jump.dev/JuMP.jl/stable/manual/solutions/"
   ]
  },
  {
   "cell_type": "code",
   "execution_count": 24,
   "id": "satisfactory-reconstruction",
   "metadata": {},
   "outputs": [
    {
     "data": {
      "text/plain": [
       "6×6 Matrix{Float64}:\n",
       " 0.8018  0.0  0.0     0.6086  0.0     0.2517\n",
       " 0.0     0.0  0.0     0.0     0.0     0.0\n",
       " 0.0     0.0  3.2587  0.0     0.0     0.7256\n",
       " 0.6086  0.0  0.0     0.0     0.0     0.0\n",
       " 0.0     0.0  0.0     0.0     0.5836  0.0\n",
       " 0.2517  0.0  0.7256  0.0     0.0     0.0"
      ]
     },
     "execution_count": 24,
     "metadata": {},
     "output_type": "execute_result"
    }
   ],
   "source": [
    "t_hm = reshape(round.(t_opt,digits=4),(6,6))"
   ]
  },
  {
   "cell_type": "code",
   "execution_count": 25,
   "id": "published-aurora",
   "metadata": {},
   "outputs": [
    {
     "data": {
      "text/plain": [
       "1.5033756118126462"
      ]
     },
     "execution_count": 25,
     "metadata": {},
     "output_type": "execute_result"
    }
   ],
   "source": [
    "tumor = findall( i -> sqrt( (loc_x[i]-3)^2+(loc_y[i]-3)^2+(loc_z[i]-3)^2 ) <= 2, collect(1:nlocs)) # in tumor\n",
    "# average radiation to tumor (2 to 5 target)\n",
    "sum([sum(t_opt[j]*d[i,j] for j=1:ncatheters) for i in tumor])/length(tumor)"
   ]
  },
  {
   "cell_type": "code",
   "execution_count": 26,
   "id": "alone-mirror",
   "metadata": {},
   "outputs": [
    {
     "data": {
      "text/plain": [
       "0.841297425131274"
      ]
     },
     "execution_count": 26,
     "metadata": {},
     "output_type": "execute_result"
    }
   ],
   "source": [
    "sensitive = findall( i-> sqrt( (loc_x[i]-5)^2+(loc_y[i]-5)^2 ) <= 1 , collect(1:nlocs))\n",
    "# average radiation to sensitive region (0 to 1 target)\n",
    "sum([sum(t_opt[j]*d[i,j] for j=1:ncatheters) for i in sensitive])/length(sensitive)"
   ]
  },
  {
   "cell_type": "code",
   "execution_count": 27,
   "id": "freelance-liabilities",
   "metadata": {},
   "outputs": [
    {
     "data": {
      "text/plain": [
       "1.0746194108012872"
      ]
     },
     "execution_count": 27,
     "metadata": {},
     "output_type": "execute_result"
    }
   ],
   "source": [
    "not_tumor = findall( i -> sqrt( (loc_x[i]-3)^2+(loc_y[i]-3)^2+(loc_z[i]-3)^2 ) > 2, collect(1:nlocs)) # not in\n",
    "# average radiation not to tumor\n",
    "sum([sum(t_opt[j]*d[i,j] for j=1:ncatheters) for i in not_tumor])/length(not_tumor)"
   ]
  },
  {
   "cell_type": "code",
   "execution_count": null,
   "id": "designed-manitoba",
   "metadata": {},
   "outputs": [],
   "source": []
  }
 ],
 "metadata": {
  "@webio": {
   "lastCommId": "7e8c695d-96e9-4fff-ba3d-e3d90c2f068a",
   "lastKernelId": "d3092b61-bc60-4205-abf2-6a96035dc609"
  },
  "kernelspec": {
   "display_name": "Julia 1.7.1",
   "language": "julia",
   "name": "julia-1.7"
  },
  "language_info": {
   "file_extension": ".jl",
   "mimetype": "application/julia",
   "name": "julia",
   "version": "1.7.1"
  }
 },
 "nbformat": 4,
 "nbformat_minor": 5
}
