{
 "cells": [
  {
   "cell_type": "code",
   "execution_count": 1,
   "id": "imported-instrumentation",
   "metadata": {},
   "outputs": [],
   "source": [
    "from sklearn.linear_model import LogisticRegression"
   ]
  },
  {
   "cell_type": "code",
   "execution_count": 2,
   "id": "buried-desert",
   "metadata": {},
   "outputs": [],
   "source": [
    "# same data as in Desmos\n",
    "X_train = [[2], [-1], [-2], [1]]\n",
    "y_train = [1,1,0,0]"
   ]
  },
  {
   "cell_type": "code",
   "execution_count": 3,
   "id": "removed-setting",
   "metadata": {},
   "outputs": [
    {
     "data": {
      "text/plain": [
       "LogisticRegression(fit_intercept=False, penalty='none')"
      ]
     },
     "execution_count": 3,
     "metadata": {},
     "output_type": "execute_result"
    }
   ],
   "source": [
    "# sklearn automatically adds an additional \"penalty\" term that is not part of standard logistic regression\n",
    "# I also remove any intercept so that it aligns with the desmos example, although you typically wouldn't do this in practice\n",
    "logreg = LogisticRegression(penalty=\"none\",fit_intercept=False)\n",
    "logreg.fit(X_train,y_train)"
   ]
  },
  {
   "cell_type": "code",
   "execution_count": 4,
   "id": "pretty-blame",
   "metadata": {},
   "outputs": [
    {
     "data": {
      "text/plain": [
       "array([[0.41961761]])"
      ]
     },
     "execution_count": 4,
     "metadata": {},
     "output_type": "execute_result"
    }
   ],
   "source": [
    "logreg.coef_ # notice this matches what we found in Desmos"
   ]
  },
  {
   "cell_type": "code",
   "execution_count": 5,
   "id": "offshore-hundred",
   "metadata": {},
   "outputs": [
    {
     "data": {
      "text/plain": [
       "array([1])"
      ]
     },
     "execution_count": 5,
     "metadata": {},
     "output_type": "execute_result"
    }
   ],
   "source": [
    "logreg.predict([[3]])"
   ]
  },
  {
   "cell_type": "code",
   "execution_count": null,
   "id": "214dc4a3-17ae-4437-b8aa-6118db1646d4",
   "metadata": {},
   "outputs": [],
   "source": []
  }
 ],
 "metadata": {
  "kernelspec": {
   "display_name": "Python 3",
   "language": "python",
   "name": "python3"
  },
  "language_info": {
   "codemirror_mode": {
    "name": "ipython",
    "version": 3
   },
   "file_extension": ".py",
   "mimetype": "text/x-python",
   "name": "python",
   "nbconvert_exporter": "python",
   "pygments_lexer": "ipython3",
   "version": "3.10.2"
  }
 },
 "nbformat": 4,
 "nbformat_minor": 5
}
