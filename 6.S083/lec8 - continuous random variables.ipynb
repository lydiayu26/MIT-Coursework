{
 "cells": [
  {
   "cell_type": "markdown",
   "metadata": {},
   "source": [
    "# Continuous Time"
   ]
  },
  {
   "cell_type": "markdown",
   "metadata": {},
   "source": [
    "## cumulative distribution of sum of continuous random variables\n",
    "\n",
    "probability that we have recovered at or before time $N$"
   ]
  },
  {
   "cell_type": "code",
   "execution_count": 28,
   "metadata": {},
   "outputs": [
    {
     "data": {
      "text/plain": [
       "plot_cumulative! (generic function with 2 methods)"
      ]
     },
     "execution_count": 28,
     "metadata": {},
     "output_type": "execute_result"
    }
   ],
   "source": [
    "\"\"\"\n",
    "    plot_cumulative!(p, N, delta = 1)\n",
    "\n",
    "- `p` is prob to decay at each time step\n",
    "- `N` is total number of time steps\n",
    "- `delta` is time between steps\n",
    "\n",
    "prob mass function is ``f_X(n) = p(1-p)^{n-1}``\n",
    "\"\"\"\n",
    "\n",
    "function plot_cumulative!(p, N, delta=1; label=\"\")\n",
    "    ps = [p*(1-p)^(n-1) for n in 1:N]\n",
    "    cumulative = cumsum(ps)\n",
    "    \n",
    "    ys = [0; reduce(vcat, [[cumulative[n], cumulative[n]] for n in 1:N])]\n",
    "    \n",
    "    pop!(ys)\n",
    "    pushfirst!(ys, 0)\n",
    "    \n",
    "    xs = [0; reduce(vcat, [[n*delta, n*delta] for n in 1:N])];\n",
    "    \n",
    "    plot!(xs, ys, label = \"\")\n",
    "    scatter!([n*delta for n in 1:N], cumulative, label=label)\n",
    "        \n",
    "end"
   ]
  },
  {
   "cell_type": "code",
   "execution_count": 7,
   "metadata": {},
   "outputs": [],
   "source": [
    "using Plots"
   ]
  },
  {
   "cell_type": "code",
   "execution_count": 31,
   "metadata": {},
   "outputs": [
    {
     "data": {
      "image/svg+xml": [
       "<?xml version=\"1.0\" encoding=\"utf-8\"?>\n",
       "<svg xmlns=\"http://www.w3.org/2000/svg\" xmlns:xlink=\"http://www.w3.org/1999/xlink\" width=\"600\" height=\"400\" viewBox=\"0 0 2400 1600\">\n",
       "<defs>\n",
       "  <clipPath id=\"clip9500\">\n",
       "    <rect x=\"0\" y=\"0\" width=\"2400\" height=\"1600\"/>\n",
       "  </clipPath>\n",
       "</defs>\n",
       "<path clip-path=\"url(#clip9500)\" d=\"\n",
       "M0 1600 L2400 1600 L2400 0 L0 0  Z\n",
       "  \" fill=\"#ffffff\" fill-rule=\"evenodd\" fill-opacity=\"1\"/>\n",
       "<defs>\n",
       "  <clipPath id=\"clip9501\">\n",
       "    <rect x=\"480\" y=\"0\" width=\"1681\" height=\"1600\"/>\n",
       "  </clipPath>\n",
       "</defs>\n",
       "<path clip-path=\"url(#clip9500)\" d=\"\n",
       "M215.754 1425.62 L2352.76 1425.62 L2352.76 47.2441 L215.754 47.2441  Z\n",
       "  \" fill=\"#ffffff\" fill-rule=\"evenodd\" fill-opacity=\"1\"/>\n",
       "<defs>\n",
       "  <clipPath id=\"clip9502\">\n",
       "    <rect x=\"215\" y=\"47\" width=\"2138\" height=\"1379\"/>\n",
       "  </clipPath>\n",
       "</defs>\n",
       "<polyline clip-path=\"url(#clip9502)\" style=\"stroke:#000000; stroke-width:2; stroke-opacity:0.1; fill:none\" points=\"\n",
       "  276.235,1425.62 276.235,47.2441 \n",
       "  \"/>\n",
       "<polyline clip-path=\"url(#clip9502)\" style=\"stroke:#000000; stroke-width:2; stroke-opacity:0.1; fill:none\" points=\"\n",
       "  780.245,1425.62 780.245,47.2441 \n",
       "  \"/>\n",
       "<polyline clip-path=\"url(#clip9502)\" style=\"stroke:#000000; stroke-width:2; stroke-opacity:0.1; fill:none\" points=\"\n",
       "  1284.25,1425.62 1284.25,47.2441 \n",
       "  \"/>\n",
       "<polyline clip-path=\"url(#clip9502)\" style=\"stroke:#000000; stroke-width:2; stroke-opacity:0.1; fill:none\" points=\"\n",
       "  1788.26,1425.62 1788.26,47.2441 \n",
       "  \"/>\n",
       "<polyline clip-path=\"url(#clip9502)\" style=\"stroke:#000000; stroke-width:2; stroke-opacity:0.1; fill:none\" points=\"\n",
       "  2292.27,1425.62 2292.27,47.2441 \n",
       "  \"/>\n",
       "<polyline clip-path=\"url(#clip9502)\" style=\"stroke:#000000; stroke-width:2; stroke-opacity:0.1; fill:none\" points=\"\n",
       "  215.754,1386.61 2352.76,1386.61 \n",
       "  \"/>\n",
       "<polyline clip-path=\"url(#clip9502)\" style=\"stroke:#000000; stroke-width:2; stroke-opacity:0.1; fill:none\" points=\"\n",
       "  215.754,1090.54 2352.76,1090.54 \n",
       "  \"/>\n",
       "<polyline clip-path=\"url(#clip9502)\" style=\"stroke:#000000; stroke-width:2; stroke-opacity:0.1; fill:none\" points=\"\n",
       "  215.754,794.477 2352.76,794.477 \n",
       "  \"/>\n",
       "<polyline clip-path=\"url(#clip9502)\" style=\"stroke:#000000; stroke-width:2; stroke-opacity:0.1; fill:none\" points=\"\n",
       "  215.754,498.412 2352.76,498.412 \n",
       "  \"/>\n",
       "<polyline clip-path=\"url(#clip9502)\" style=\"stroke:#000000; stroke-width:2; stroke-opacity:0.1; fill:none\" points=\"\n",
       "  215.754,202.347 2352.76,202.347 \n",
       "  \"/>\n",
       "<polyline clip-path=\"url(#clip9500)\" style=\"stroke:#000000; stroke-width:4; stroke-opacity:1; fill:none\" points=\"\n",
       "  215.754,1425.62 2352.76,1425.62 \n",
       "  \"/>\n",
       "<polyline clip-path=\"url(#clip9500)\" style=\"stroke:#000000; stroke-width:4; stroke-opacity:1; fill:none\" points=\"\n",
       "  215.754,1425.62 215.754,47.2441 \n",
       "  \"/>\n",
       "<polyline clip-path=\"url(#clip9500)\" style=\"stroke:#000000; stroke-width:4; stroke-opacity:1; fill:none\" points=\"\n",
       "  276.235,1425.62 276.235,1409.08 \n",
       "  \"/>\n",
       "<polyline clip-path=\"url(#clip9500)\" style=\"stroke:#000000; stroke-width:4; stroke-opacity:1; fill:none\" points=\"\n",
       "  780.245,1425.62 780.245,1409.08 \n",
       "  \"/>\n",
       "<polyline clip-path=\"url(#clip9500)\" style=\"stroke:#000000; stroke-width:4; stroke-opacity:1; fill:none\" points=\"\n",
       "  1284.25,1425.62 1284.25,1409.08 \n",
       "  \"/>\n",
       "<polyline clip-path=\"url(#clip9500)\" style=\"stroke:#000000; stroke-width:4; stroke-opacity:1; fill:none\" points=\"\n",
       "  1788.26,1425.62 1788.26,1409.08 \n",
       "  \"/>\n",
       "<polyline clip-path=\"url(#clip9500)\" style=\"stroke:#000000; stroke-width:4; stroke-opacity:1; fill:none\" points=\"\n",
       "  2292.27,1425.62 2292.27,1409.08 \n",
       "  \"/>\n",
       "<polyline clip-path=\"url(#clip9500)\" style=\"stroke:#000000; stroke-width:4; stroke-opacity:1; fill:none\" points=\"\n",
       "  215.754,1386.61 241.398,1386.61 \n",
       "  \"/>\n",
       "<polyline clip-path=\"url(#clip9500)\" style=\"stroke:#000000; stroke-width:4; stroke-opacity:1; fill:none\" points=\"\n",
       "  215.754,1090.54 241.398,1090.54 \n",
       "  \"/>\n",
       "<polyline clip-path=\"url(#clip9500)\" style=\"stroke:#000000; stroke-width:4; stroke-opacity:1; fill:none\" points=\"\n",
       "  215.754,794.477 241.398,794.477 \n",
       "  \"/>\n",
       "<polyline clip-path=\"url(#clip9500)\" style=\"stroke:#000000; stroke-width:4; stroke-opacity:1; fill:none\" points=\"\n",
       "  215.754,498.412 241.398,498.412 \n",
       "  \"/>\n",
       "<polyline clip-path=\"url(#clip9500)\" style=\"stroke:#000000; stroke-width:4; stroke-opacity:1; fill:none\" points=\"\n",
       "  215.754,202.347 241.398,202.347 \n",
       "  \"/>\n",
       "<g clip-path=\"url(#clip9500)\">\n",
       "<text style=\"fill:#000000; fill-opacity:1; font-family:Arial,Helvetica Neue,Helvetica,sans-serif; font-size:48px; text-anchor:middle;\" transform=\"rotate(0, 276.235, 1479.62)\" x=\"276.235\" y=\"1479.62\">0</text>\n",
       "</g>\n",
       "<g clip-path=\"url(#clip9500)\">\n",
       "<text style=\"fill:#000000; fill-opacity:1; font-family:Arial,Helvetica Neue,Helvetica,sans-serif; font-size:48px; text-anchor:middle;\" transform=\"rotate(0, 780.245, 1479.62)\" x=\"780.245\" y=\"1479.62\">5</text>\n",
       "</g>\n",
       "<g clip-path=\"url(#clip9500)\">\n",
       "<text style=\"fill:#000000; fill-opacity:1; font-family:Arial,Helvetica Neue,Helvetica,sans-serif; font-size:48px; text-anchor:middle;\" transform=\"rotate(0, 1284.25, 1479.62)\" x=\"1284.25\" y=\"1479.62\">10</text>\n",
       "</g>\n",
       "<g clip-path=\"url(#clip9500)\">\n",
       "<text style=\"fill:#000000; fill-opacity:1; font-family:Arial,Helvetica Neue,Helvetica,sans-serif; font-size:48px; text-anchor:middle;\" transform=\"rotate(0, 1788.26, 1479.62)\" x=\"1788.26\" y=\"1479.62\">15</text>\n",
       "</g>\n",
       "<g clip-path=\"url(#clip9500)\">\n",
       "<text style=\"fill:#000000; fill-opacity:1; font-family:Arial,Helvetica Neue,Helvetica,sans-serif; font-size:48px; text-anchor:middle;\" transform=\"rotate(0, 2292.27, 1479.62)\" x=\"2292.27\" y=\"1479.62\">20</text>\n",
       "</g>\n",
       "<g clip-path=\"url(#clip9500)\">\n",
       "<text style=\"fill:#000000; fill-opacity:1; font-family:Arial,Helvetica Neue,Helvetica,sans-serif; font-size:48px; text-anchor:end;\" transform=\"rotate(0, 191.754, 1404.11)\" x=\"191.754\" y=\"1404.11\">0.0</text>\n",
       "</g>\n",
       "<g clip-path=\"url(#clip9500)\">\n",
       "<text style=\"fill:#000000; fill-opacity:1; font-family:Arial,Helvetica Neue,Helvetica,sans-serif; font-size:48px; text-anchor:end;\" transform=\"rotate(0, 191.754, 1108.04)\" x=\"191.754\" y=\"1108.04\">0.2</text>\n",
       "</g>\n",
       "<g clip-path=\"url(#clip9500)\">\n",
       "<text style=\"fill:#000000; fill-opacity:1; font-family:Arial,Helvetica Neue,Helvetica,sans-serif; font-size:48px; text-anchor:end;\" transform=\"rotate(0, 191.754, 811.977)\" x=\"191.754\" y=\"811.977\">0.4</text>\n",
       "</g>\n",
       "<g clip-path=\"url(#clip9500)\">\n",
       "<text style=\"fill:#000000; fill-opacity:1; font-family:Arial,Helvetica Neue,Helvetica,sans-serif; font-size:48px; text-anchor:end;\" transform=\"rotate(0, 191.754, 515.912)\" x=\"191.754\" y=\"515.912\">0.6</text>\n",
       "</g>\n",
       "<g clip-path=\"url(#clip9500)\">\n",
       "<text style=\"fill:#000000; fill-opacity:1; font-family:Arial,Helvetica Neue,Helvetica,sans-serif; font-size:48px; text-anchor:end;\" transform=\"rotate(0, 191.754, 219.847)\" x=\"191.754\" y=\"219.847\">0.8</text>\n",
       "</g>\n",
       "<g clip-path=\"url(#clip9500)\">\n",
       "<text style=\"fill:#000000; fill-opacity:1; font-family:Arial,Helvetica Neue,Helvetica,sans-serif; font-size:66px; text-anchor:middle;\" transform=\"rotate(0, 1284.25, 1559.48)\" x=\"1284.25\" y=\"1559.48\">n</text>\n",
       "</g>\n",
       "<g clip-path=\"url(#clip9500)\">\n",
       "<text style=\"fill:#000000; fill-opacity:1; font-family:Arial,Helvetica Neue,Helvetica,sans-serif; font-size:66px; text-anchor:middle;\" transform=\"rotate(-90, 89.2861, 736.431)\" x=\"89.2861\" y=\"736.431\">cumulative probability &lt;= n</text>\n",
       "</g>\n",
       "<polyline clip-path=\"url(#clip9502)\" style=\"stroke:#009af9; stroke-width:4; stroke-opacity:1; fill:none\" points=\"\n",
       "  276.235,1386.61 377.037,1386.61 377.037,1238.58 477.839,1238.58 477.839,1105.35 578.641,1105.35 578.641,985.44 679.443,985.44 679.443,877.524 780.245,877.524 \n",
       "  780.245,780.4 881.047,780.4 881.047,692.988 981.849,692.988 981.849,614.317 1082.65,614.317 1082.65,543.514 1183.45,543.514 1183.45,479.79 1284.25,479.79 \n",
       "  1284.25,422.439 1385.06,422.439 1385.06,370.824 1485.86,370.824 1485.86,324.369 1586.66,324.369 1586.66,282.561 1687.46,282.561 1687.46,244.933 1788.26,244.933 \n",
       "  1788.26,211.068 1889.07,211.068 1889.07,180.589 1989.87,180.589 1989.87,153.158 2090.67,153.158 2090.67,128.471 2191.47,128.471 2191.47,106.252 2292.27,106.252 \n",
       "  2292.27,86.2547 \n",
       "  \"/>\n",
       "<circle clip-path=\"url(#clip9502)\" cx=\"377.037\" cy=\"1238.58\" r=\"14\" fill=\"#e26f46\" fill-rule=\"evenodd\" fill-opacity=\"1\" stroke=\"#000000\" stroke-opacity=\"1\" stroke-width=\"3.2\"/>\n",
       "<circle clip-path=\"url(#clip9502)\" cx=\"477.839\" cy=\"1105.35\" r=\"14\" fill=\"#e26f46\" fill-rule=\"evenodd\" fill-opacity=\"1\" stroke=\"#000000\" stroke-opacity=\"1\" stroke-width=\"3.2\"/>\n",
       "<circle clip-path=\"url(#clip9502)\" cx=\"578.641\" cy=\"985.44\" r=\"14\" fill=\"#e26f46\" fill-rule=\"evenodd\" fill-opacity=\"1\" stroke=\"#000000\" stroke-opacity=\"1\" stroke-width=\"3.2\"/>\n",
       "<circle clip-path=\"url(#clip9502)\" cx=\"679.443\" cy=\"877.524\" r=\"14\" fill=\"#e26f46\" fill-rule=\"evenodd\" fill-opacity=\"1\" stroke=\"#000000\" stroke-opacity=\"1\" stroke-width=\"3.2\"/>\n",
       "<circle clip-path=\"url(#clip9502)\" cx=\"780.245\" cy=\"780.4\" r=\"14\" fill=\"#e26f46\" fill-rule=\"evenodd\" fill-opacity=\"1\" stroke=\"#000000\" stroke-opacity=\"1\" stroke-width=\"3.2\"/>\n",
       "<circle clip-path=\"url(#clip9502)\" cx=\"881.047\" cy=\"692.988\" r=\"14\" fill=\"#e26f46\" fill-rule=\"evenodd\" fill-opacity=\"1\" stroke=\"#000000\" stroke-opacity=\"1\" stroke-width=\"3.2\"/>\n",
       "<circle clip-path=\"url(#clip9502)\" cx=\"981.849\" cy=\"614.317\" r=\"14\" fill=\"#e26f46\" fill-rule=\"evenodd\" fill-opacity=\"1\" stroke=\"#000000\" stroke-opacity=\"1\" stroke-width=\"3.2\"/>\n",
       "<circle clip-path=\"url(#clip9502)\" cx=\"1082.65\" cy=\"543.514\" r=\"14\" fill=\"#e26f46\" fill-rule=\"evenodd\" fill-opacity=\"1\" stroke=\"#000000\" stroke-opacity=\"1\" stroke-width=\"3.2\"/>\n",
       "<circle clip-path=\"url(#clip9502)\" cx=\"1183.45\" cy=\"479.79\" r=\"14\" fill=\"#e26f46\" fill-rule=\"evenodd\" fill-opacity=\"1\" stroke=\"#000000\" stroke-opacity=\"1\" stroke-width=\"3.2\"/>\n",
       "<circle clip-path=\"url(#clip9502)\" cx=\"1284.25\" cy=\"422.439\" r=\"14\" fill=\"#e26f46\" fill-rule=\"evenodd\" fill-opacity=\"1\" stroke=\"#000000\" stroke-opacity=\"1\" stroke-width=\"3.2\"/>\n",
       "<circle clip-path=\"url(#clip9502)\" cx=\"1385.06\" cy=\"370.824\" r=\"14\" fill=\"#e26f46\" fill-rule=\"evenodd\" fill-opacity=\"1\" stroke=\"#000000\" stroke-opacity=\"1\" stroke-width=\"3.2\"/>\n",
       "<circle clip-path=\"url(#clip9502)\" cx=\"1485.86\" cy=\"324.369\" r=\"14\" fill=\"#e26f46\" fill-rule=\"evenodd\" fill-opacity=\"1\" stroke=\"#000000\" stroke-opacity=\"1\" stroke-width=\"3.2\"/>\n",
       "<circle clip-path=\"url(#clip9502)\" cx=\"1586.66\" cy=\"282.561\" r=\"14\" fill=\"#e26f46\" fill-rule=\"evenodd\" fill-opacity=\"1\" stroke=\"#000000\" stroke-opacity=\"1\" stroke-width=\"3.2\"/>\n",
       "<circle clip-path=\"url(#clip9502)\" cx=\"1687.46\" cy=\"244.933\" r=\"14\" fill=\"#e26f46\" fill-rule=\"evenodd\" fill-opacity=\"1\" stroke=\"#000000\" stroke-opacity=\"1\" stroke-width=\"3.2\"/>\n",
       "<circle clip-path=\"url(#clip9502)\" cx=\"1788.26\" cy=\"211.068\" r=\"14\" fill=\"#e26f46\" fill-rule=\"evenodd\" fill-opacity=\"1\" stroke=\"#000000\" stroke-opacity=\"1\" stroke-width=\"3.2\"/>\n",
       "<circle clip-path=\"url(#clip9502)\" cx=\"1889.07\" cy=\"180.589\" r=\"14\" fill=\"#e26f46\" fill-rule=\"evenodd\" fill-opacity=\"1\" stroke=\"#000000\" stroke-opacity=\"1\" stroke-width=\"3.2\"/>\n",
       "<circle clip-path=\"url(#clip9502)\" cx=\"1989.87\" cy=\"153.158\" r=\"14\" fill=\"#e26f46\" fill-rule=\"evenodd\" fill-opacity=\"1\" stroke=\"#000000\" stroke-opacity=\"1\" stroke-width=\"3.2\"/>\n",
       "<circle clip-path=\"url(#clip9502)\" cx=\"2090.67\" cy=\"128.471\" r=\"14\" fill=\"#e26f46\" fill-rule=\"evenodd\" fill-opacity=\"1\" stroke=\"#000000\" stroke-opacity=\"1\" stroke-width=\"3.2\"/>\n",
       "<circle clip-path=\"url(#clip9502)\" cx=\"2191.47\" cy=\"106.252\" r=\"14\" fill=\"#e26f46\" fill-rule=\"evenodd\" fill-opacity=\"1\" stroke=\"#000000\" stroke-opacity=\"1\" stroke-width=\"3.2\"/>\n",
       "<circle clip-path=\"url(#clip9502)\" cx=\"2292.27\" cy=\"86.2547\" r=\"14\" fill=\"#e26f46\" fill-rule=\"evenodd\" fill-opacity=\"1\" stroke=\"#000000\" stroke-opacity=\"1\" stroke-width=\"3.2\"/>\n",
       "</svg>\n"
      ]
     },
     "execution_count": 31,
     "metadata": {},
     "output_type": "execute_result"
    }
   ],
   "source": [
    "plot()\n",
    "plot_cumulative!(0.1, 20)\n",
    "\n",
    "xlabel!(\"n\")\n",
    "ylabel!(\"cumulative probability <= n\")"
   ]
  },
  {
   "cell_type": "code",
   "execution_count": 34,
   "metadata": {},
   "outputs": [
    {
     "data": {
      "image/svg+xml": [
       "<?xml version=\"1.0\" encoding=\"utf-8\"?>\n",
       "<svg xmlns=\"http://www.w3.org/2000/svg\" xmlns:xlink=\"http://www.w3.org/1999/xlink\" width=\"600\" height=\"400\" viewBox=\"0 0 2400 1600\">\n",
       "<defs>\n",
       "  <clipPath id=\"clip0700\">\n",
       "    <rect x=\"0\" y=\"0\" width=\"2400\" height=\"1600\"/>\n",
       "  </clipPath>\n",
       "</defs>\n",
       "<path clip-path=\"url(#clip0700)\" d=\"\n",
       "M0 1600 L2400 1600 L2400 0 L0 0  Z\n",
       "  \" fill=\"#ffffff\" fill-rule=\"evenodd\" fill-opacity=\"1\"/>\n",
       "<defs>\n",
       "  <clipPath id=\"clip0701\">\n",
       "    <rect x=\"480\" y=\"0\" width=\"1681\" height=\"1600\"/>\n",
       "  </clipPath>\n",
       "</defs>\n",
       "<path clip-path=\"url(#clip0700)\" d=\"\n",
       "M180.66 1487.47 L2352.76 1487.47 L2352.76 47.2441 L180.66 47.2441  Z\n",
       "  \" fill=\"#ffffff\" fill-rule=\"evenodd\" fill-opacity=\"1\"/>\n",
       "<defs>\n",
       "  <clipPath id=\"clip0702\">\n",
       "    <rect x=\"180\" y=\"47\" width=\"2173\" height=\"1441\"/>\n",
       "  </clipPath>\n",
       "</defs>\n",
       "<polyline clip-path=\"url(#clip0702)\" style=\"stroke:#000000; stroke-width:2; stroke-opacity:0.1; fill:none\" points=\"\n",
       "  242.135,1487.47 242.135,47.2441 \n",
       "  \"/>\n",
       "<polyline clip-path=\"url(#clip0702)\" style=\"stroke:#000000; stroke-width:2; stroke-opacity:0.1; fill:none\" points=\"\n",
       "  651.964,1487.47 651.964,47.2441 \n",
       "  \"/>\n",
       "<polyline clip-path=\"url(#clip0702)\" style=\"stroke:#000000; stroke-width:2; stroke-opacity:0.1; fill:none\" points=\"\n",
       "  1061.79,1487.47 1061.79,47.2441 \n",
       "  \"/>\n",
       "<polyline clip-path=\"url(#clip0702)\" style=\"stroke:#000000; stroke-width:2; stroke-opacity:0.1; fill:none\" points=\"\n",
       "  1471.62,1487.47 1471.62,47.2441 \n",
       "  \"/>\n",
       "<polyline clip-path=\"url(#clip0702)\" style=\"stroke:#000000; stroke-width:2; stroke-opacity:0.1; fill:none\" points=\"\n",
       "  1881.45,1487.47 1881.45,47.2441 \n",
       "  \"/>\n",
       "<polyline clip-path=\"url(#clip0702)\" style=\"stroke:#000000; stroke-width:2; stroke-opacity:0.1; fill:none\" points=\"\n",
       "  2291.28,1487.47 2291.28,47.2441 \n",
       "  \"/>\n",
       "<polyline clip-path=\"url(#clip0702)\" style=\"stroke:#000000; stroke-width:2; stroke-opacity:0.1; fill:none\" points=\"\n",
       "  180.66,1446.71 2352.76,1446.71 \n",
       "  \"/>\n",
       "<polyline clip-path=\"url(#clip0702)\" style=\"stroke:#000000; stroke-width:2; stroke-opacity:0.1; fill:none\" points=\"\n",
       "  180.66,1105.28 2352.76,1105.28 \n",
       "  \"/>\n",
       "<polyline clip-path=\"url(#clip0702)\" style=\"stroke:#000000; stroke-width:2; stroke-opacity:0.1; fill:none\" points=\"\n",
       "  180.66,763.84 2352.76,763.84 \n",
       "  \"/>\n",
       "<polyline clip-path=\"url(#clip0702)\" style=\"stroke:#000000; stroke-width:2; stroke-opacity:0.1; fill:none\" points=\"\n",
       "  180.66,422.403 2352.76,422.403 \n",
       "  \"/>\n",
       "<polyline clip-path=\"url(#clip0702)\" style=\"stroke:#000000; stroke-width:2; stroke-opacity:0.1; fill:none\" points=\"\n",
       "  180.66,80.9666 2352.76,80.9666 \n",
       "  \"/>\n",
       "<polyline clip-path=\"url(#clip0700)\" style=\"stroke:#000000; stroke-width:4; stroke-opacity:1; fill:none\" points=\"\n",
       "  180.66,1487.47 2352.76,1487.47 \n",
       "  \"/>\n",
       "<polyline clip-path=\"url(#clip0700)\" style=\"stroke:#000000; stroke-width:4; stroke-opacity:1; fill:none\" points=\"\n",
       "  180.66,1487.47 180.66,47.2441 \n",
       "  \"/>\n",
       "<polyline clip-path=\"url(#clip0700)\" style=\"stroke:#000000; stroke-width:4; stroke-opacity:1; fill:none\" points=\"\n",
       "  242.135,1487.47 242.135,1470.19 \n",
       "  \"/>\n",
       "<polyline clip-path=\"url(#clip0700)\" style=\"stroke:#000000; stroke-width:4; stroke-opacity:1; fill:none\" points=\"\n",
       "  651.964,1487.47 651.964,1470.19 \n",
       "  \"/>\n",
       "<polyline clip-path=\"url(#clip0700)\" style=\"stroke:#000000; stroke-width:4; stroke-opacity:1; fill:none\" points=\"\n",
       "  1061.79,1487.47 1061.79,1470.19 \n",
       "  \"/>\n",
       "<polyline clip-path=\"url(#clip0700)\" style=\"stroke:#000000; stroke-width:4; stroke-opacity:1; fill:none\" points=\"\n",
       "  1471.62,1487.47 1471.62,1470.19 \n",
       "  \"/>\n",
       "<polyline clip-path=\"url(#clip0700)\" style=\"stroke:#000000; stroke-width:4; stroke-opacity:1; fill:none\" points=\"\n",
       "  1881.45,1487.47 1881.45,1470.19 \n",
       "  \"/>\n",
       "<polyline clip-path=\"url(#clip0700)\" style=\"stroke:#000000; stroke-width:4; stroke-opacity:1; fill:none\" points=\"\n",
       "  2291.28,1487.47 2291.28,1470.19 \n",
       "  \"/>\n",
       "<polyline clip-path=\"url(#clip0700)\" style=\"stroke:#000000; stroke-width:4; stroke-opacity:1; fill:none\" points=\"\n",
       "  180.66,1446.71 206.725,1446.71 \n",
       "  \"/>\n",
       "<polyline clip-path=\"url(#clip0700)\" style=\"stroke:#000000; stroke-width:4; stroke-opacity:1; fill:none\" points=\"\n",
       "  180.66,1105.28 206.725,1105.28 \n",
       "  \"/>\n",
       "<polyline clip-path=\"url(#clip0700)\" style=\"stroke:#000000; stroke-width:4; stroke-opacity:1; fill:none\" points=\"\n",
       "  180.66,763.84 206.725,763.84 \n",
       "  \"/>\n",
       "<polyline clip-path=\"url(#clip0700)\" style=\"stroke:#000000; stroke-width:4; stroke-opacity:1; fill:none\" points=\"\n",
       "  180.66,422.403 206.725,422.403 \n",
       "  \"/>\n",
       "<polyline clip-path=\"url(#clip0700)\" style=\"stroke:#000000; stroke-width:4; stroke-opacity:1; fill:none\" points=\"\n",
       "  180.66,80.9666 206.725,80.9666 \n",
       "  \"/>\n",
       "<g clip-path=\"url(#clip0700)\">\n",
       "<text style=\"fill:#000000; fill-opacity:1; font-family:Arial,Helvetica Neue,Helvetica,sans-serif; font-size:48px; text-anchor:middle;\" transform=\"rotate(0, 242.135, 1541.47)\" x=\"242.135\" y=\"1541.47\">0</text>\n",
       "</g>\n",
       "<g clip-path=\"url(#clip0700)\">\n",
       "<text style=\"fill:#000000; fill-opacity:1; font-family:Arial,Helvetica Neue,Helvetica,sans-serif; font-size:48px; text-anchor:middle;\" transform=\"rotate(0, 651.964, 1541.47)\" x=\"651.964\" y=\"1541.47\">10</text>\n",
       "</g>\n",
       "<g clip-path=\"url(#clip0700)\">\n",
       "<text style=\"fill:#000000; fill-opacity:1; font-family:Arial,Helvetica Neue,Helvetica,sans-serif; font-size:48px; text-anchor:middle;\" transform=\"rotate(0, 1061.79, 1541.47)\" x=\"1061.79\" y=\"1541.47\">20</text>\n",
       "</g>\n",
       "<g clip-path=\"url(#clip0700)\">\n",
       "<text style=\"fill:#000000; fill-opacity:1; font-family:Arial,Helvetica Neue,Helvetica,sans-serif; font-size:48px; text-anchor:middle;\" transform=\"rotate(0, 1471.62, 1541.47)\" x=\"1471.62\" y=\"1541.47\">30</text>\n",
       "</g>\n",
       "<g clip-path=\"url(#clip0700)\">\n",
       "<text style=\"fill:#000000; fill-opacity:1; font-family:Arial,Helvetica Neue,Helvetica,sans-serif; font-size:48px; text-anchor:middle;\" transform=\"rotate(0, 1881.45, 1541.47)\" x=\"1881.45\" y=\"1541.47\">40</text>\n",
       "</g>\n",
       "<g clip-path=\"url(#clip0700)\">\n",
       "<text style=\"fill:#000000; fill-opacity:1; font-family:Arial,Helvetica Neue,Helvetica,sans-serif; font-size:48px; text-anchor:middle;\" transform=\"rotate(0, 2291.28, 1541.47)\" x=\"2291.28\" y=\"1541.47\">50</text>\n",
       "</g>\n",
       "<g clip-path=\"url(#clip0700)\">\n",
       "<text style=\"fill:#000000; fill-opacity:1; font-family:Arial,Helvetica Neue,Helvetica,sans-serif; font-size:48px; text-anchor:end;\" transform=\"rotate(0, 156.66, 1464.21)\" x=\"156.66\" y=\"1464.21\">0.00</text>\n",
       "</g>\n",
       "<g clip-path=\"url(#clip0700)\">\n",
       "<text style=\"fill:#000000; fill-opacity:1; font-family:Arial,Helvetica Neue,Helvetica,sans-serif; font-size:48px; text-anchor:end;\" transform=\"rotate(0, 156.66, 1122.78)\" x=\"156.66\" y=\"1122.78\">0.25</text>\n",
       "</g>\n",
       "<g clip-path=\"url(#clip0700)\">\n",
       "<text style=\"fill:#000000; fill-opacity:1; font-family:Arial,Helvetica Neue,Helvetica,sans-serif; font-size:48px; text-anchor:end;\" transform=\"rotate(0, 156.66, 781.34)\" x=\"156.66\" y=\"781.34\">0.50</text>\n",
       "</g>\n",
       "<g clip-path=\"url(#clip0700)\">\n",
       "<text style=\"fill:#000000; fill-opacity:1; font-family:Arial,Helvetica Neue,Helvetica,sans-serif; font-size:48px; text-anchor:end;\" transform=\"rotate(0, 156.66, 439.903)\" x=\"156.66\" y=\"439.903\">0.75</text>\n",
       "</g>\n",
       "<g clip-path=\"url(#clip0700)\">\n",
       "<text style=\"fill:#000000; fill-opacity:1; font-family:Arial,Helvetica Neue,Helvetica,sans-serif; font-size:48px; text-anchor:end;\" transform=\"rotate(0, 156.66, 98.4666)\" x=\"156.66\" y=\"98.4666\">1.00</text>\n",
       "</g>\n",
       "<polyline clip-path=\"url(#clip0702)\" style=\"stroke:#009af9; stroke-width:4; stroke-opacity:1; fill:none\" points=\"\n",
       "  242.135,1446.71 283.118,1446.71 283.118,1310.14 324.101,1310.14 324.101,1187.22 365.084,1187.22 365.084,1076.6 406.066,1076.6 406.066,977.033 447.049,977.033 \n",
       "  447.049,887.426 488.032,887.426 488.032,806.78 529.015,806.78 529.015,734.199 569.998,734.199 569.998,668.876 610.981,668.876 610.981,610.085 651.964,610.085 \n",
       "  651.964,557.173 692.947,557.173 692.947,509.552 733.93,509.552 733.93,466.694 774.913,466.694 774.913,428.121 815.896,428.121 815.896,393.406 856.879,393.406 \n",
       "  856.879,362.162 897.862,362.162 897.862,334.042 938.845,334.042 938.845,308.735 979.828,308.735 979.828,285.958 1020.81,285.958 1020.81,265.459 1061.79,265.459 \n",
       "  1061.79,247.01 1102.78,247.01 1102.78,230.405 1143.76,230.405 1143.76,215.461 1184.74,215.461 1184.74,202.012 1225.73,202.012 1225.73,189.907 1266.71,189.907 \n",
       "  1266.71,179.013 1307.69,179.013 1307.69,169.209 1348.67,169.209 1348.67,160.384 1389.66,160.384 1389.66,152.443 1430.64,152.443 1430.64,145.295 1471.62,145.295 \n",
       "  1471.62,138.862 1512.61,138.862 1512.61,133.073 1553.59,133.073 1553.59,127.862 1594.57,127.862 1594.57,123.172 1635.55,123.172 1635.55,118.952 1676.54,118.952 \n",
       "  1676.54,115.153 1717.52,115.153 1717.52,111.735 1758.5,111.735 1758.5,108.658 1799.49,108.658 1799.49,105.889 1840.47,105.889 1840.47,103.397 1881.45,103.397 \n",
       "  1881.45,101.154 1922.44,101.154 1922.44,99.1348 1963.42,99.1348 1963.42,97.318 2004.4,97.318 2004.4,95.6829 2045.38,95.6829 2045.38,94.2112 2086.37,94.2112 \n",
       "  2086.37,92.8868 2127.35,92.8868 2127.35,91.6948 2168.33,91.6948 2168.33,90.6219 2209.32,90.6219 2209.32,89.6564 2250.3,89.6564 2250.3,88.7874 2291.28,88.7874 \n",
       "  2291.28,88.0053 \n",
       "  \"/>\n",
       "<circle clip-path=\"url(#clip0702)\" cx=\"283.118\" cy=\"1310.14\" r=\"14\" fill=\"#e26f46\" fill-rule=\"evenodd\" fill-opacity=\"1\" stroke=\"#000000\" stroke-opacity=\"1\" stroke-width=\"3.2\"/>\n",
       "<circle clip-path=\"url(#clip0702)\" cx=\"324.101\" cy=\"1187.22\" r=\"14\" fill=\"#e26f46\" fill-rule=\"evenodd\" fill-opacity=\"1\" stroke=\"#000000\" stroke-opacity=\"1\" stroke-width=\"3.2\"/>\n",
       "<circle clip-path=\"url(#clip0702)\" cx=\"365.084\" cy=\"1076.6\" r=\"14\" fill=\"#e26f46\" fill-rule=\"evenodd\" fill-opacity=\"1\" stroke=\"#000000\" stroke-opacity=\"1\" stroke-width=\"3.2\"/>\n",
       "<circle clip-path=\"url(#clip0702)\" cx=\"406.066\" cy=\"977.033\" r=\"14\" fill=\"#e26f46\" fill-rule=\"evenodd\" fill-opacity=\"1\" stroke=\"#000000\" stroke-opacity=\"1\" stroke-width=\"3.2\"/>\n",
       "<circle clip-path=\"url(#clip0702)\" cx=\"447.049\" cy=\"887.426\" r=\"14\" fill=\"#e26f46\" fill-rule=\"evenodd\" fill-opacity=\"1\" stroke=\"#000000\" stroke-opacity=\"1\" stroke-width=\"3.2\"/>\n",
       "<circle clip-path=\"url(#clip0702)\" cx=\"488.032\" cy=\"806.78\" r=\"14\" fill=\"#e26f46\" fill-rule=\"evenodd\" fill-opacity=\"1\" stroke=\"#000000\" stroke-opacity=\"1\" stroke-width=\"3.2\"/>\n",
       "<circle clip-path=\"url(#clip0702)\" cx=\"529.015\" cy=\"734.199\" r=\"14\" fill=\"#e26f46\" fill-rule=\"evenodd\" fill-opacity=\"1\" stroke=\"#000000\" stroke-opacity=\"1\" stroke-width=\"3.2\"/>\n",
       "<circle clip-path=\"url(#clip0702)\" cx=\"569.998\" cy=\"668.876\" r=\"14\" fill=\"#e26f46\" fill-rule=\"evenodd\" fill-opacity=\"1\" stroke=\"#000000\" stroke-opacity=\"1\" stroke-width=\"3.2\"/>\n",
       "<circle clip-path=\"url(#clip0702)\" cx=\"610.981\" cy=\"610.085\" r=\"14\" fill=\"#e26f46\" fill-rule=\"evenodd\" fill-opacity=\"1\" stroke=\"#000000\" stroke-opacity=\"1\" stroke-width=\"3.2\"/>\n",
       "<circle clip-path=\"url(#clip0702)\" cx=\"651.964\" cy=\"557.173\" r=\"14\" fill=\"#e26f46\" fill-rule=\"evenodd\" fill-opacity=\"1\" stroke=\"#000000\" stroke-opacity=\"1\" stroke-width=\"3.2\"/>\n",
       "<circle clip-path=\"url(#clip0702)\" cx=\"692.947\" cy=\"509.552\" r=\"14\" fill=\"#e26f46\" fill-rule=\"evenodd\" fill-opacity=\"1\" stroke=\"#000000\" stroke-opacity=\"1\" stroke-width=\"3.2\"/>\n",
       "<circle clip-path=\"url(#clip0702)\" cx=\"733.93\" cy=\"466.694\" r=\"14\" fill=\"#e26f46\" fill-rule=\"evenodd\" fill-opacity=\"1\" stroke=\"#000000\" stroke-opacity=\"1\" stroke-width=\"3.2\"/>\n",
       "<circle clip-path=\"url(#clip0702)\" cx=\"774.913\" cy=\"428.121\" r=\"14\" fill=\"#e26f46\" fill-rule=\"evenodd\" fill-opacity=\"1\" stroke=\"#000000\" stroke-opacity=\"1\" stroke-width=\"3.2\"/>\n",
       "<circle clip-path=\"url(#clip0702)\" cx=\"815.896\" cy=\"393.406\" r=\"14\" fill=\"#e26f46\" fill-rule=\"evenodd\" fill-opacity=\"1\" stroke=\"#000000\" stroke-opacity=\"1\" stroke-width=\"3.2\"/>\n",
       "<circle clip-path=\"url(#clip0702)\" cx=\"856.879\" cy=\"362.162\" r=\"14\" fill=\"#e26f46\" fill-rule=\"evenodd\" fill-opacity=\"1\" stroke=\"#000000\" stroke-opacity=\"1\" stroke-width=\"3.2\"/>\n",
       "<circle clip-path=\"url(#clip0702)\" cx=\"897.862\" cy=\"334.042\" r=\"14\" fill=\"#e26f46\" fill-rule=\"evenodd\" fill-opacity=\"1\" stroke=\"#000000\" stroke-opacity=\"1\" stroke-width=\"3.2\"/>\n",
       "<circle clip-path=\"url(#clip0702)\" cx=\"938.845\" cy=\"308.735\" r=\"14\" fill=\"#e26f46\" fill-rule=\"evenodd\" fill-opacity=\"1\" stroke=\"#000000\" stroke-opacity=\"1\" stroke-width=\"3.2\"/>\n",
       "<circle clip-path=\"url(#clip0702)\" cx=\"979.828\" cy=\"285.958\" r=\"14\" fill=\"#e26f46\" fill-rule=\"evenodd\" fill-opacity=\"1\" stroke=\"#000000\" stroke-opacity=\"1\" stroke-width=\"3.2\"/>\n",
       "<circle clip-path=\"url(#clip0702)\" cx=\"1020.81\" cy=\"265.459\" r=\"14\" fill=\"#e26f46\" fill-rule=\"evenodd\" fill-opacity=\"1\" stroke=\"#000000\" stroke-opacity=\"1\" stroke-width=\"3.2\"/>\n",
       "<circle clip-path=\"url(#clip0702)\" cx=\"1061.79\" cy=\"247.01\" r=\"14\" fill=\"#e26f46\" fill-rule=\"evenodd\" fill-opacity=\"1\" stroke=\"#000000\" stroke-opacity=\"1\" stroke-width=\"3.2\"/>\n",
       "<circle clip-path=\"url(#clip0702)\" cx=\"1102.78\" cy=\"230.405\" r=\"14\" fill=\"#e26f46\" fill-rule=\"evenodd\" fill-opacity=\"1\" stroke=\"#000000\" stroke-opacity=\"1\" stroke-width=\"3.2\"/>\n",
       "<circle clip-path=\"url(#clip0702)\" cx=\"1143.76\" cy=\"215.461\" r=\"14\" fill=\"#e26f46\" fill-rule=\"evenodd\" fill-opacity=\"1\" stroke=\"#000000\" stroke-opacity=\"1\" stroke-width=\"3.2\"/>\n",
       "<circle clip-path=\"url(#clip0702)\" cx=\"1184.74\" cy=\"202.012\" r=\"14\" fill=\"#e26f46\" fill-rule=\"evenodd\" fill-opacity=\"1\" stroke=\"#000000\" stroke-opacity=\"1\" stroke-width=\"3.2\"/>\n",
       "<circle clip-path=\"url(#clip0702)\" cx=\"1225.73\" cy=\"189.907\" r=\"14\" fill=\"#e26f46\" fill-rule=\"evenodd\" fill-opacity=\"1\" stroke=\"#000000\" stroke-opacity=\"1\" stroke-width=\"3.2\"/>\n",
       "<circle clip-path=\"url(#clip0702)\" cx=\"1266.71\" cy=\"179.013\" r=\"14\" fill=\"#e26f46\" fill-rule=\"evenodd\" fill-opacity=\"1\" stroke=\"#000000\" stroke-opacity=\"1\" stroke-width=\"3.2\"/>\n",
       "<circle clip-path=\"url(#clip0702)\" cx=\"1307.69\" cy=\"169.209\" r=\"14\" fill=\"#e26f46\" fill-rule=\"evenodd\" fill-opacity=\"1\" stroke=\"#000000\" stroke-opacity=\"1\" stroke-width=\"3.2\"/>\n",
       "<circle clip-path=\"url(#clip0702)\" cx=\"1348.67\" cy=\"160.384\" r=\"14\" fill=\"#e26f46\" fill-rule=\"evenodd\" fill-opacity=\"1\" stroke=\"#000000\" stroke-opacity=\"1\" stroke-width=\"3.2\"/>\n",
       "<circle clip-path=\"url(#clip0702)\" cx=\"1389.66\" cy=\"152.443\" r=\"14\" fill=\"#e26f46\" fill-rule=\"evenodd\" fill-opacity=\"1\" stroke=\"#000000\" stroke-opacity=\"1\" stroke-width=\"3.2\"/>\n",
       "<circle clip-path=\"url(#clip0702)\" cx=\"1430.64\" cy=\"145.295\" r=\"14\" fill=\"#e26f46\" fill-rule=\"evenodd\" fill-opacity=\"1\" stroke=\"#000000\" stroke-opacity=\"1\" stroke-width=\"3.2\"/>\n",
       "<circle clip-path=\"url(#clip0702)\" cx=\"1471.62\" cy=\"138.862\" r=\"14\" fill=\"#e26f46\" fill-rule=\"evenodd\" fill-opacity=\"1\" stroke=\"#000000\" stroke-opacity=\"1\" stroke-width=\"3.2\"/>\n",
       "<circle clip-path=\"url(#clip0702)\" cx=\"1512.61\" cy=\"133.073\" r=\"14\" fill=\"#e26f46\" fill-rule=\"evenodd\" fill-opacity=\"1\" stroke=\"#000000\" stroke-opacity=\"1\" stroke-width=\"3.2\"/>\n",
       "<circle clip-path=\"url(#clip0702)\" cx=\"1553.59\" cy=\"127.862\" r=\"14\" fill=\"#e26f46\" fill-rule=\"evenodd\" fill-opacity=\"1\" stroke=\"#000000\" stroke-opacity=\"1\" stroke-width=\"3.2\"/>\n",
       "<circle clip-path=\"url(#clip0702)\" cx=\"1594.57\" cy=\"123.172\" r=\"14\" fill=\"#e26f46\" fill-rule=\"evenodd\" fill-opacity=\"1\" stroke=\"#000000\" stroke-opacity=\"1\" stroke-width=\"3.2\"/>\n",
       "<circle clip-path=\"url(#clip0702)\" cx=\"1635.55\" cy=\"118.952\" r=\"14\" fill=\"#e26f46\" fill-rule=\"evenodd\" fill-opacity=\"1\" stroke=\"#000000\" stroke-opacity=\"1\" stroke-width=\"3.2\"/>\n",
       "<circle clip-path=\"url(#clip0702)\" cx=\"1676.54\" cy=\"115.153\" r=\"14\" fill=\"#e26f46\" fill-rule=\"evenodd\" fill-opacity=\"1\" stroke=\"#000000\" stroke-opacity=\"1\" stroke-width=\"3.2\"/>\n",
       "<circle clip-path=\"url(#clip0702)\" cx=\"1717.52\" cy=\"111.735\" r=\"14\" fill=\"#e26f46\" fill-rule=\"evenodd\" fill-opacity=\"1\" stroke=\"#000000\" stroke-opacity=\"1\" stroke-width=\"3.2\"/>\n",
       "<circle clip-path=\"url(#clip0702)\" cx=\"1758.5\" cy=\"108.658\" r=\"14\" fill=\"#e26f46\" fill-rule=\"evenodd\" fill-opacity=\"1\" stroke=\"#000000\" stroke-opacity=\"1\" stroke-width=\"3.2\"/>\n",
       "<circle clip-path=\"url(#clip0702)\" cx=\"1799.49\" cy=\"105.889\" r=\"14\" fill=\"#e26f46\" fill-rule=\"evenodd\" fill-opacity=\"1\" stroke=\"#000000\" stroke-opacity=\"1\" stroke-width=\"3.2\"/>\n",
       "<circle clip-path=\"url(#clip0702)\" cx=\"1840.47\" cy=\"103.397\" r=\"14\" fill=\"#e26f46\" fill-rule=\"evenodd\" fill-opacity=\"1\" stroke=\"#000000\" stroke-opacity=\"1\" stroke-width=\"3.2\"/>\n",
       "<circle clip-path=\"url(#clip0702)\" cx=\"1881.45\" cy=\"101.154\" r=\"14\" fill=\"#e26f46\" fill-rule=\"evenodd\" fill-opacity=\"1\" stroke=\"#000000\" stroke-opacity=\"1\" stroke-width=\"3.2\"/>\n",
       "<circle clip-path=\"url(#clip0702)\" cx=\"1922.44\" cy=\"99.1348\" r=\"14\" fill=\"#e26f46\" fill-rule=\"evenodd\" fill-opacity=\"1\" stroke=\"#000000\" stroke-opacity=\"1\" stroke-width=\"3.2\"/>\n",
       "<circle clip-path=\"url(#clip0702)\" cx=\"1963.42\" cy=\"97.318\" r=\"14\" fill=\"#e26f46\" fill-rule=\"evenodd\" fill-opacity=\"1\" stroke=\"#000000\" stroke-opacity=\"1\" stroke-width=\"3.2\"/>\n",
       "<circle clip-path=\"url(#clip0702)\" cx=\"2004.4\" cy=\"95.6829\" r=\"14\" fill=\"#e26f46\" fill-rule=\"evenodd\" fill-opacity=\"1\" stroke=\"#000000\" stroke-opacity=\"1\" stroke-width=\"3.2\"/>\n",
       "<circle clip-path=\"url(#clip0702)\" cx=\"2045.38\" cy=\"94.2112\" r=\"14\" fill=\"#e26f46\" fill-rule=\"evenodd\" fill-opacity=\"1\" stroke=\"#000000\" stroke-opacity=\"1\" stroke-width=\"3.2\"/>\n",
       "<circle clip-path=\"url(#clip0702)\" cx=\"2086.37\" cy=\"92.8868\" r=\"14\" fill=\"#e26f46\" fill-rule=\"evenodd\" fill-opacity=\"1\" stroke=\"#000000\" stroke-opacity=\"1\" stroke-width=\"3.2\"/>\n",
       "<circle clip-path=\"url(#clip0702)\" cx=\"2127.35\" cy=\"91.6948\" r=\"14\" fill=\"#e26f46\" fill-rule=\"evenodd\" fill-opacity=\"1\" stroke=\"#000000\" stroke-opacity=\"1\" stroke-width=\"3.2\"/>\n",
       "<circle clip-path=\"url(#clip0702)\" cx=\"2168.33\" cy=\"90.6219\" r=\"14\" fill=\"#e26f46\" fill-rule=\"evenodd\" fill-opacity=\"1\" stroke=\"#000000\" stroke-opacity=\"1\" stroke-width=\"3.2\"/>\n",
       "<circle clip-path=\"url(#clip0702)\" cx=\"2209.32\" cy=\"89.6564\" r=\"14\" fill=\"#e26f46\" fill-rule=\"evenodd\" fill-opacity=\"1\" stroke=\"#000000\" stroke-opacity=\"1\" stroke-width=\"3.2\"/>\n",
       "<circle clip-path=\"url(#clip0702)\" cx=\"2250.3\" cy=\"88.7874\" r=\"14\" fill=\"#e26f46\" fill-rule=\"evenodd\" fill-opacity=\"1\" stroke=\"#000000\" stroke-opacity=\"1\" stroke-width=\"3.2\"/>\n",
       "<circle clip-path=\"url(#clip0702)\" cx=\"2291.28\" cy=\"88.0053\" r=\"14\" fill=\"#e26f46\" fill-rule=\"evenodd\" fill-opacity=\"1\" stroke=\"#000000\" stroke-opacity=\"1\" stroke-width=\"3.2\"/>\n",
       "<polyline clip-path=\"url(#clip0702)\" style=\"stroke:#3da44d; stroke-width:4; stroke-opacity:1; fill:none\" points=\"\n",
       "  242.135,1446.71 258.528,1446.71 258.528,1310.14 274.921,1310.14 274.921,1187.22 291.314,1187.22 291.314,1076.6 307.707,1076.6 307.707,977.033 324.101,977.033 \n",
       "  324.101,887.426 340.494,887.426 340.494,806.78 356.887,806.78 356.887,734.199 373.28,734.199 373.28,668.876 389.673,668.876 389.673,610.085 406.066,610.085 \n",
       "  406.066,557.173 422.46,557.173 422.46,509.552 438.853,509.552 438.853,466.694 455.246,466.694 455.246,428.121 471.639,428.121 471.639,393.406 488.032,393.406 \n",
       "  488.032,362.162 504.426,362.162 504.426,334.042 520.819,334.042 520.819,308.735 537.212,308.735 537.212,285.958 553.605,285.958 553.605,265.459 569.998,265.459 \n",
       "  569.998,247.01 586.391,247.01 586.391,230.405 602.785,230.405 602.785,215.461 619.178,215.461 619.178,202.012 635.571,202.012 635.571,189.907 651.964,189.907 \n",
       "  651.964,179.013 668.357,179.013 668.357,169.209 684.75,169.209 684.75,160.384 701.144,160.384 701.144,152.443 717.537,152.443 717.537,145.295 733.93,145.295 \n",
       "  733.93,138.862 750.323,138.862 750.323,133.073 766.716,133.073 766.716,127.862 783.109,127.862 783.109,123.172 799.503,123.172 799.503,118.952 815.896,118.952 \n",
       "  815.896,115.153 832.289,115.153 832.289,111.735 848.682,111.735 848.682,108.658 865.075,108.658 865.075,105.889 881.469,105.889 881.469,103.397 897.862,103.397 \n",
       "  897.862,101.154 914.255,101.154 914.255,99.1348 930.648,99.1348 930.648,97.318 947.041,97.318 947.041,95.6829 963.434,95.6829 963.434,94.2112 979.828,94.2112 \n",
       "  979.828,92.8868 996.221,92.8868 996.221,91.6948 1012.61,91.6948 1012.61,90.6219 1029.01,90.6219 1029.01,89.6564 1045.4,89.6564 1045.4,88.7874 1061.79,88.7874 \n",
       "  1061.79,88.0053 \n",
       "  \"/>\n",
       "<circle clip-path=\"url(#clip0702)\" cx=\"258.528\" cy=\"1310.14\" r=\"14\" fill=\"#c271d2\" fill-rule=\"evenodd\" fill-opacity=\"1\" stroke=\"#000000\" stroke-opacity=\"1\" stroke-width=\"3.2\"/>\n",
       "<circle clip-path=\"url(#clip0702)\" cx=\"274.921\" cy=\"1187.22\" r=\"14\" fill=\"#c271d2\" fill-rule=\"evenodd\" fill-opacity=\"1\" stroke=\"#000000\" stroke-opacity=\"1\" stroke-width=\"3.2\"/>\n",
       "<circle clip-path=\"url(#clip0702)\" cx=\"291.314\" cy=\"1076.6\" r=\"14\" fill=\"#c271d2\" fill-rule=\"evenodd\" fill-opacity=\"1\" stroke=\"#000000\" stroke-opacity=\"1\" stroke-width=\"3.2\"/>\n",
       "<circle clip-path=\"url(#clip0702)\" cx=\"307.707\" cy=\"977.033\" r=\"14\" fill=\"#c271d2\" fill-rule=\"evenodd\" fill-opacity=\"1\" stroke=\"#000000\" stroke-opacity=\"1\" stroke-width=\"3.2\"/>\n",
       "<circle clip-path=\"url(#clip0702)\" cx=\"324.101\" cy=\"887.426\" r=\"14\" fill=\"#c271d2\" fill-rule=\"evenodd\" fill-opacity=\"1\" stroke=\"#000000\" stroke-opacity=\"1\" stroke-width=\"3.2\"/>\n",
       "<circle clip-path=\"url(#clip0702)\" cx=\"340.494\" cy=\"806.78\" r=\"14\" fill=\"#c271d2\" fill-rule=\"evenodd\" fill-opacity=\"1\" stroke=\"#000000\" stroke-opacity=\"1\" stroke-width=\"3.2\"/>\n",
       "<circle clip-path=\"url(#clip0702)\" cx=\"356.887\" cy=\"734.199\" r=\"14\" fill=\"#c271d2\" fill-rule=\"evenodd\" fill-opacity=\"1\" stroke=\"#000000\" stroke-opacity=\"1\" stroke-width=\"3.2\"/>\n",
       "<circle clip-path=\"url(#clip0702)\" cx=\"373.28\" cy=\"668.876\" r=\"14\" fill=\"#c271d2\" fill-rule=\"evenodd\" fill-opacity=\"1\" stroke=\"#000000\" stroke-opacity=\"1\" stroke-width=\"3.2\"/>\n",
       "<circle clip-path=\"url(#clip0702)\" cx=\"389.673\" cy=\"610.085\" r=\"14\" fill=\"#c271d2\" fill-rule=\"evenodd\" fill-opacity=\"1\" stroke=\"#000000\" stroke-opacity=\"1\" stroke-width=\"3.2\"/>\n",
       "<circle clip-path=\"url(#clip0702)\" cx=\"406.066\" cy=\"557.173\" r=\"14\" fill=\"#c271d2\" fill-rule=\"evenodd\" fill-opacity=\"1\" stroke=\"#000000\" stroke-opacity=\"1\" stroke-width=\"3.2\"/>\n",
       "<circle clip-path=\"url(#clip0702)\" cx=\"422.46\" cy=\"509.552\" r=\"14\" fill=\"#c271d2\" fill-rule=\"evenodd\" fill-opacity=\"1\" stroke=\"#000000\" stroke-opacity=\"1\" stroke-width=\"3.2\"/>\n",
       "<circle clip-path=\"url(#clip0702)\" cx=\"438.853\" cy=\"466.694\" r=\"14\" fill=\"#c271d2\" fill-rule=\"evenodd\" fill-opacity=\"1\" stroke=\"#000000\" stroke-opacity=\"1\" stroke-width=\"3.2\"/>\n",
       "<circle clip-path=\"url(#clip0702)\" cx=\"455.246\" cy=\"428.121\" r=\"14\" fill=\"#c271d2\" fill-rule=\"evenodd\" fill-opacity=\"1\" stroke=\"#000000\" stroke-opacity=\"1\" stroke-width=\"3.2\"/>\n",
       "<circle clip-path=\"url(#clip0702)\" cx=\"471.639\" cy=\"393.406\" r=\"14\" fill=\"#c271d2\" fill-rule=\"evenodd\" fill-opacity=\"1\" stroke=\"#000000\" stroke-opacity=\"1\" stroke-width=\"3.2\"/>\n",
       "<circle clip-path=\"url(#clip0702)\" cx=\"488.032\" cy=\"362.162\" r=\"14\" fill=\"#c271d2\" fill-rule=\"evenodd\" fill-opacity=\"1\" stroke=\"#000000\" stroke-opacity=\"1\" stroke-width=\"3.2\"/>\n",
       "<circle clip-path=\"url(#clip0702)\" cx=\"504.426\" cy=\"334.042\" r=\"14\" fill=\"#c271d2\" fill-rule=\"evenodd\" fill-opacity=\"1\" stroke=\"#000000\" stroke-opacity=\"1\" stroke-width=\"3.2\"/>\n",
       "<circle clip-path=\"url(#clip0702)\" cx=\"520.819\" cy=\"308.735\" r=\"14\" fill=\"#c271d2\" fill-rule=\"evenodd\" fill-opacity=\"1\" stroke=\"#000000\" stroke-opacity=\"1\" stroke-width=\"3.2\"/>\n",
       "<circle clip-path=\"url(#clip0702)\" cx=\"537.212\" cy=\"285.958\" r=\"14\" fill=\"#c271d2\" fill-rule=\"evenodd\" fill-opacity=\"1\" stroke=\"#000000\" stroke-opacity=\"1\" stroke-width=\"3.2\"/>\n",
       "<circle clip-path=\"url(#clip0702)\" cx=\"553.605\" cy=\"265.459\" r=\"14\" fill=\"#c271d2\" fill-rule=\"evenodd\" fill-opacity=\"1\" stroke=\"#000000\" stroke-opacity=\"1\" stroke-width=\"3.2\"/>\n",
       "<circle clip-path=\"url(#clip0702)\" cx=\"569.998\" cy=\"247.01\" r=\"14\" fill=\"#c271d2\" fill-rule=\"evenodd\" fill-opacity=\"1\" stroke=\"#000000\" stroke-opacity=\"1\" stroke-width=\"3.2\"/>\n",
       "<circle clip-path=\"url(#clip0702)\" cx=\"586.391\" cy=\"230.405\" r=\"14\" fill=\"#c271d2\" fill-rule=\"evenodd\" fill-opacity=\"1\" stroke=\"#000000\" stroke-opacity=\"1\" stroke-width=\"3.2\"/>\n",
       "<circle clip-path=\"url(#clip0702)\" cx=\"602.785\" cy=\"215.461\" r=\"14\" fill=\"#c271d2\" fill-rule=\"evenodd\" fill-opacity=\"1\" stroke=\"#000000\" stroke-opacity=\"1\" stroke-width=\"3.2\"/>\n",
       "<circle clip-path=\"url(#clip0702)\" cx=\"619.178\" cy=\"202.012\" r=\"14\" fill=\"#c271d2\" fill-rule=\"evenodd\" fill-opacity=\"1\" stroke=\"#000000\" stroke-opacity=\"1\" stroke-width=\"3.2\"/>\n",
       "<circle clip-path=\"url(#clip0702)\" cx=\"635.571\" cy=\"189.907\" r=\"14\" fill=\"#c271d2\" fill-rule=\"evenodd\" fill-opacity=\"1\" stroke=\"#000000\" stroke-opacity=\"1\" stroke-width=\"3.2\"/>\n",
       "<circle clip-path=\"url(#clip0702)\" cx=\"651.964\" cy=\"179.013\" r=\"14\" fill=\"#c271d2\" fill-rule=\"evenodd\" fill-opacity=\"1\" stroke=\"#000000\" stroke-opacity=\"1\" stroke-width=\"3.2\"/>\n",
       "<circle clip-path=\"url(#clip0702)\" cx=\"668.357\" cy=\"169.209\" r=\"14\" fill=\"#c271d2\" fill-rule=\"evenodd\" fill-opacity=\"1\" stroke=\"#000000\" stroke-opacity=\"1\" stroke-width=\"3.2\"/>\n",
       "<circle clip-path=\"url(#clip0702)\" cx=\"684.75\" cy=\"160.384\" r=\"14\" fill=\"#c271d2\" fill-rule=\"evenodd\" fill-opacity=\"1\" stroke=\"#000000\" stroke-opacity=\"1\" stroke-width=\"3.2\"/>\n",
       "<circle clip-path=\"url(#clip0702)\" cx=\"701.144\" cy=\"152.443\" r=\"14\" fill=\"#c271d2\" fill-rule=\"evenodd\" fill-opacity=\"1\" stroke=\"#000000\" stroke-opacity=\"1\" stroke-width=\"3.2\"/>\n",
       "<circle clip-path=\"url(#clip0702)\" cx=\"717.537\" cy=\"145.295\" r=\"14\" fill=\"#c271d2\" fill-rule=\"evenodd\" fill-opacity=\"1\" stroke=\"#000000\" stroke-opacity=\"1\" stroke-width=\"3.2\"/>\n",
       "<circle clip-path=\"url(#clip0702)\" cx=\"733.93\" cy=\"138.862\" r=\"14\" fill=\"#c271d2\" fill-rule=\"evenodd\" fill-opacity=\"1\" stroke=\"#000000\" stroke-opacity=\"1\" stroke-width=\"3.2\"/>\n",
       "<circle clip-path=\"url(#clip0702)\" cx=\"750.323\" cy=\"133.073\" r=\"14\" fill=\"#c271d2\" fill-rule=\"evenodd\" fill-opacity=\"1\" stroke=\"#000000\" stroke-opacity=\"1\" stroke-width=\"3.2\"/>\n",
       "<circle clip-path=\"url(#clip0702)\" cx=\"766.716\" cy=\"127.862\" r=\"14\" fill=\"#c271d2\" fill-rule=\"evenodd\" fill-opacity=\"1\" stroke=\"#000000\" stroke-opacity=\"1\" stroke-width=\"3.2\"/>\n",
       "<circle clip-path=\"url(#clip0702)\" cx=\"783.109\" cy=\"123.172\" r=\"14\" fill=\"#c271d2\" fill-rule=\"evenodd\" fill-opacity=\"1\" stroke=\"#000000\" stroke-opacity=\"1\" stroke-width=\"3.2\"/>\n",
       "<circle clip-path=\"url(#clip0702)\" cx=\"799.503\" cy=\"118.952\" r=\"14\" fill=\"#c271d2\" fill-rule=\"evenodd\" fill-opacity=\"1\" stroke=\"#000000\" stroke-opacity=\"1\" stroke-width=\"3.2\"/>\n",
       "<circle clip-path=\"url(#clip0702)\" cx=\"815.896\" cy=\"115.153\" r=\"14\" fill=\"#c271d2\" fill-rule=\"evenodd\" fill-opacity=\"1\" stroke=\"#000000\" stroke-opacity=\"1\" stroke-width=\"3.2\"/>\n",
       "<circle clip-path=\"url(#clip0702)\" cx=\"832.289\" cy=\"111.735\" r=\"14\" fill=\"#c271d2\" fill-rule=\"evenodd\" fill-opacity=\"1\" stroke=\"#000000\" stroke-opacity=\"1\" stroke-width=\"3.2\"/>\n",
       "<circle clip-path=\"url(#clip0702)\" cx=\"848.682\" cy=\"108.658\" r=\"14\" fill=\"#c271d2\" fill-rule=\"evenodd\" fill-opacity=\"1\" stroke=\"#000000\" stroke-opacity=\"1\" stroke-width=\"3.2\"/>\n",
       "<circle clip-path=\"url(#clip0702)\" cx=\"865.075\" cy=\"105.889\" r=\"14\" fill=\"#c271d2\" fill-rule=\"evenodd\" fill-opacity=\"1\" stroke=\"#000000\" stroke-opacity=\"1\" stroke-width=\"3.2\"/>\n",
       "<circle clip-path=\"url(#clip0702)\" cx=\"881.469\" cy=\"103.397\" r=\"14\" fill=\"#c271d2\" fill-rule=\"evenodd\" fill-opacity=\"1\" stroke=\"#000000\" stroke-opacity=\"1\" stroke-width=\"3.2\"/>\n",
       "<circle clip-path=\"url(#clip0702)\" cx=\"897.862\" cy=\"101.154\" r=\"14\" fill=\"#c271d2\" fill-rule=\"evenodd\" fill-opacity=\"1\" stroke=\"#000000\" stroke-opacity=\"1\" stroke-width=\"3.2\"/>\n",
       "<circle clip-path=\"url(#clip0702)\" cx=\"914.255\" cy=\"99.1348\" r=\"14\" fill=\"#c271d2\" fill-rule=\"evenodd\" fill-opacity=\"1\" stroke=\"#000000\" stroke-opacity=\"1\" stroke-width=\"3.2\"/>\n",
       "<circle clip-path=\"url(#clip0702)\" cx=\"930.648\" cy=\"97.318\" r=\"14\" fill=\"#c271d2\" fill-rule=\"evenodd\" fill-opacity=\"1\" stroke=\"#000000\" stroke-opacity=\"1\" stroke-width=\"3.2\"/>\n",
       "<circle clip-path=\"url(#clip0702)\" cx=\"947.041\" cy=\"95.6829\" r=\"14\" fill=\"#c271d2\" fill-rule=\"evenodd\" fill-opacity=\"1\" stroke=\"#000000\" stroke-opacity=\"1\" stroke-width=\"3.2\"/>\n",
       "<circle clip-path=\"url(#clip0702)\" cx=\"963.434\" cy=\"94.2112\" r=\"14\" fill=\"#c271d2\" fill-rule=\"evenodd\" fill-opacity=\"1\" stroke=\"#000000\" stroke-opacity=\"1\" stroke-width=\"3.2\"/>\n",
       "<circle clip-path=\"url(#clip0702)\" cx=\"979.828\" cy=\"92.8868\" r=\"14\" fill=\"#c271d2\" fill-rule=\"evenodd\" fill-opacity=\"1\" stroke=\"#000000\" stroke-opacity=\"1\" stroke-width=\"3.2\"/>\n",
       "<circle clip-path=\"url(#clip0702)\" cx=\"996.221\" cy=\"91.6948\" r=\"14\" fill=\"#c271d2\" fill-rule=\"evenodd\" fill-opacity=\"1\" stroke=\"#000000\" stroke-opacity=\"1\" stroke-width=\"3.2\"/>\n",
       "<circle clip-path=\"url(#clip0702)\" cx=\"1012.61\" cy=\"90.6219\" r=\"14\" fill=\"#c271d2\" fill-rule=\"evenodd\" fill-opacity=\"1\" stroke=\"#000000\" stroke-opacity=\"1\" stroke-width=\"3.2\"/>\n",
       "<circle clip-path=\"url(#clip0702)\" cx=\"1029.01\" cy=\"89.6564\" r=\"14\" fill=\"#c271d2\" fill-rule=\"evenodd\" fill-opacity=\"1\" stroke=\"#000000\" stroke-opacity=\"1\" stroke-width=\"3.2\"/>\n",
       "<circle clip-path=\"url(#clip0702)\" cx=\"1045.4\" cy=\"88.7874\" r=\"14\" fill=\"#c271d2\" fill-rule=\"evenodd\" fill-opacity=\"1\" stroke=\"#000000\" stroke-opacity=\"1\" stroke-width=\"3.2\"/>\n",
       "<circle clip-path=\"url(#clip0702)\" cx=\"1061.79\" cy=\"88.0053\" r=\"14\" fill=\"#c271d2\" fill-rule=\"evenodd\" fill-opacity=\"1\" stroke=\"#000000\" stroke-opacity=\"1\" stroke-width=\"3.2\"/>\n",
       "<path clip-path=\"url(#clip0700)\" d=\"\n",
       "M1814.62 312.204 L2280.76 312.204 L2280.76 130.764 L1814.62 130.764  Z\n",
       "  \" fill=\"#ffffff\" fill-rule=\"evenodd\" fill-opacity=\"1\"/>\n",
       "<polyline clip-path=\"url(#clip0700)\" style=\"stroke:#000000; stroke-width:4; stroke-opacity:1; fill:none\" points=\"\n",
       "  1814.62,312.204 2280.76,312.204 2280.76,130.764 1814.62,130.764 1814.62,312.204 \n",
       "  \"/>\n",
       "<circle clip-path=\"url(#clip0700)\" cx=\"1922.62\" cy=\"191.244\" r=\"21\" fill=\"#e26f46\" fill-rule=\"evenodd\" fill-opacity=\"1\" stroke=\"#000000\" stroke-opacity=\"1\" stroke-width=\"3.2\"/>\n",
       "<g clip-path=\"url(#clip0700)\">\n",
       "<text style=\"fill:#000000; fill-opacity:1; font-family:Arial,Helvetica Neue,Helvetica,sans-serif; font-size:48px; text-anchor:start;\" transform=\"rotate(0, 2006.62, 208.744)\" x=\"2006.62\" y=\"208.744\">delta = 1</text>\n",
       "</g>\n",
       "<circle clip-path=\"url(#clip0700)\" cx=\"1922.62\" cy=\"251.724\" r=\"21\" fill=\"#c271d2\" fill-rule=\"evenodd\" fill-opacity=\"1\" stroke=\"#000000\" stroke-opacity=\"1\" stroke-width=\"3.2\"/>\n",
       "<g clip-path=\"url(#clip0700)\">\n",
       "<text style=\"fill:#000000; fill-opacity:1; font-family:Arial,Helvetica Neue,Helvetica,sans-serif; font-size:48px; text-anchor:start;\" transform=\"rotate(0, 2006.62, 269.224)\" x=\"2006.62\" y=\"269.224\">delta = 0.4</text>\n",
       "</g>\n",
       "</svg>\n"
      ]
     },
     "execution_count": 34,
     "metadata": {},
     "output_type": "execute_result"
    }
   ],
   "source": [
    "p = 0.1\n",
    "N = 50\n",
    "delta = 0.4\n",
    "\n",
    "pl = plot()\n",
    "\n",
    "plot_cumulative!(p, N, 1.0, label = \"delta = 1\")\n",
    "plot_cumulative!(p, N, delta, label = \"delta = $delta\") # $a inserts the value of the variable a into the string"
   ]
  },
  {
   "cell_type": "code",
   "execution_count": 35,
   "metadata": {},
   "outputs": [
    {
     "data": {
      "text/html": [
       "<script>\n",
       "// Immediately-invoked-function-expression to avoid global variables.\n",
       "(function() {\n",
       "    var warning_div = document.getElementById(\"webio-warning-2937908769165836604\");\n",
       "    var hide = function () {\n",
       "        var script = document.getElementById(\"webio-setup-15732243569300137573\");\n",
       "        var parent = script && script.parentElement;\n",
       "        var grandparent = parent && parent.parentElement;\n",
       "        if (grandparent) {\n",
       "            grandparent.style.display = \"none\";\n",
       "        }\n",
       "        warning_div.style.display = \"none\";\n",
       "    };\n",
       "    if (typeof Jupyter !== \"undefined\") {\n",
       "        console.log(\"WebIO detected Jupyter notebook environment.\");\n",
       "        // Jupyter notebook.\n",
       "        var extensions = (\n",
       "            Jupyter\n",
       "            && Jupyter.notebook.config.data\n",
       "            && Jupyter.notebook.config.data.load_extensions\n",
       "        );\n",
       "        if (extensions && extensions[\"webio-jupyter-notebook\"]) {\n",
       "            // Extension already loaded.\n",
       "            console.log(\"Jupyter WebIO nbextension detected; not loading ad-hoc.\");\n",
       "            hide();\n",
       "            return;\n",
       "        }\n",
       "    } else if (window.location.pathname.includes(\"/lab\")) {\n",
       "        // Guessing JupyterLa\n",
       "        console.log(\"Jupyter Lab detected; make sure the @webio/jupyter-lab-provider labextension is installed.\");\n",
       "        hide();\n",
       "        return;\n",
       "    }\n",
       "})();\n",
       "\n",
       "</script>\n",
       "<p\n",
       "    id=\"webio-warning-2937908769165836604\"\n",
       "    class=\"output_text output_stderr\"\n",
       "    style=\"padding: 1em; font-weight: bold;\"\n",
       ">\n",
       "    Unable to load WebIO. Please make sure WebIO works for your Jupyter client.\n",
       "    For troubleshooting, please see <a href=\"https://juliagizmos.github.io/WebIO.jl/latest/providers/ijulia/\">\n",
       "    the WebIO/IJulia documentation</a>.\n",
       "    <!-- TODO: link to installation docs. -->\n",
       "</p>\n"
      ],
      "text/plain": [
       "HTML{String}(\"<script>\\n// Immediately-invoked-function-expression to avoid global variables.\\n(function() {\\n    var warning_div = document.getElementById(\\\"webio-warning-2937908769165836604\\\");\\n    var hide = function () {\\n        var script = document.getElementById(\\\"webio-setup-15732243569300137573\\\");\\n        var parent = script && script.parentElement;\\n        var grandparent = parent && parent.parentElement;\\n        if (grandparent) {\\n            grandparent.style.display = \\\"none\\\";\\n        }\\n        warning_div.style.display = \\\"none\\\";\\n    };\\n    if (typeof Jupyter !== \\\"undefined\\\") {\\n        console.log(\\\"WebIO detected Jupyter notebook environment.\\\");\\n        // Jupyter notebook.\\n        var extensions = (\\n            Jupyter\\n            && Jupyter.notebook.config.data\\n            && Jupyter.notebook.config.data.load_extensions\\n        );\\n        if (extensions && extensions[\\\"webio-jupyter-notebook\\\"]) {\\n            // Extension already loaded.\\n            console.log(\\\"Jupyter WebIO nbextension detected; not loading ad-hoc.\\\");\\n            hide();\\n            return;\\n        }\\n    } else if (window.location.pathname.includes(\\\"/lab\\\")) {\\n        // Guessing JupyterLa\\n        console.log(\\\"Jupyter Lab detected; make sure the @webio/jupyter-lab-provider labextension is installed.\\\");\\n        hide();\\n        return;\\n    }\\n})();\\n\\n</script>\\n<p\\n    id=\\\"webio-warning-2937908769165836604\\\"\\n    class=\\\"output_text output_stderr\\\"\\n    style=\\\"padding: 1em; font-weight: bold;\\\"\\n>\\n    Unable to load WebIO. Please make sure WebIO works for your Jupyter client.\\n    For troubleshooting, please see <a href=\\\"https://juliagizmos.github.io/WebIO.jl/latest/providers/ijulia/\\\">\\n    the WebIO/IJulia documentation</a>.\\n    <!-- TODO: link to installation docs. -->\\n</p>\\n\")"
      ]
     },
     "metadata": {},
     "output_type": "display_data"
    }
   ],
   "source": [
    "using Interact"
   ]
  },
  {
   "cell_type": "code",
   "execution_count": 42,
   "metadata": {},
   "outputs": [
    {
     "data": {
      "application/vnd.webio.node+json": {
       "children": [
        {
         "children": [
          {
           "children": [
            {
             "children": [
              {
               "children": [
                {
                 "children": [
                  "p2"
                 ],
                 "instanceArgs": {
                  "namespace": "html",
                  "tag": "label"
                 },
                 "nodeType": "DOM",
                 "props": {
                  "className": "interact ",
                  "style": {
                   "padding": "5px 10px 0px 10px"
                  }
                 },
                 "type": "node"
                }
               ],
               "instanceArgs": {
                "namespace": "html",
                "tag": "div"
               },
               "nodeType": "DOM",
               "props": {
                "className": "interact-flex-row-left"
               },
               "type": "node"
              },
              {
               "children": [
                {
                 "children": [],
                 "instanceArgs": {
                  "namespace": "html",
                  "tag": "input"
                 },
                 "nodeType": "DOM",
                 "props": {
                  "attributes": {
                   "data-bind": "numericValue: index, valueUpdate: 'input', event: {change: function (){this.changes(this.changes()+1)}}",
                   "orient": "horizontal",
                   "type": "range"
                  },
                  "className": "slider slider is-fullwidth",
                  "max": 100,
                  "min": 1,
                  "step": 1,
                  "style": {}
                 },
                 "type": "node"
                }
               ],
               "instanceArgs": {
                "namespace": "html",
                "tag": "div"
               },
               "nodeType": "DOM",
               "props": {
                "className": "interact-flex-row-center"
               },
               "type": "node"
              },
              {
               "children": [
                {
                 "children": [],
                 "instanceArgs": {
                  "namespace": "html",
                  "tag": "p"
                 },
                 "nodeType": "DOM",
                 "props": {
                  "attributes": {
                   "data-bind": "text: formatted_val"
                  }
                 },
                 "type": "node"
                }
               ],
               "instanceArgs": {
                "namespace": "html",
                "tag": "div"
               },
               "nodeType": "DOM",
               "props": {
                "className": "interact-flex-row-right"
               },
               "type": "node"
              }
             ],
             "instanceArgs": {
              "namespace": "html",
              "tag": "div"
             },
             "nodeType": "DOM",
             "props": {
              "className": "interact-flex-row interact-widget"
             },
             "type": "node"
            }
           ],
           "instanceArgs": {
            "handlers": {
             "changes": [
              "(function (val){return (val!=this.model[\"changes\"]()) ? (this.valueFromJulia[\"changes\"]=true, this.model[\"changes\"](val)) : undefined})"
             ],
             "index": [
              "(function (val){return (val!=this.model[\"index\"]()) ? (this.valueFromJulia[\"index\"]=true, this.model[\"index\"](val)) : undefined})"
             ]
            },
            "id": "2490864437654367256",
            "imports": {
             "data": [
              {
               "name": "knockout",
               "type": "js",
               "url": "/assetserver/d265cb5815a0f20b51253662ec06b9fbacdc8d54-knockout.js"
              },
              {
               "name": "knockout_punches",
               "type": "js",
               "url": "/assetserver/a114dcb2e9be47839dc264ddb5460c14d0aab279-knockout_punches.js"
              },
              {
               "name": null,
               "type": "js",
               "url": "/assetserver/708042f325338e1c438390aa752d02df14f21b70-all.js"
              },
              {
               "name": null,
               "type": "css",
               "url": "/assetserver/33f349fbeaa894451059710b0544a2e1ff1ca189-style.css"
              },
              {
               "name": null,
               "type": "css",
               "url": "/assetserver/2bb2a2e587972b19dfbb45945fb2f2dbf16ab513-bulma_confined.min.css"
              }
             ],
             "type": "async_block"
            },
            "mount_callbacks": [
             "function () {\n    var handler = (function (ko, koPunches) {\n    ko.punches.enableAll();\n    ko.bindingHandlers.numericValue = {\n        init: function(element, valueAccessor, allBindings, data, context) {\n            var stringified = ko.observable(ko.unwrap(valueAccessor()));\n            stringified.subscribe(function(value) {\n                var val = parseFloat(value);\n                if (!isNaN(val)) {\n                    valueAccessor()(val);\n                }\n            });\n            valueAccessor().subscribe(function(value) {\n                var str = JSON.stringify(value);\n                if ((str == \"0\") && ([\"-0\", \"-0.\"].indexOf(stringified()) >= 0))\n                     return;\n                 if ([\"null\", \"\"].indexOf(str) >= 0)\n                     return;\n                stringified(str);\n            });\n            ko.applyBindingsToNode(\n                element,\n                {\n                    value: stringified,\n                    valueUpdate: allBindings.get('valueUpdate'),\n                },\n                context,\n            );\n        }\n    };\n    var json_data = {\"formatted_vals\":[\"0.01\",\"0.02\",\"0.03\",\"0.04\",\"0.05\",\"0.06\",\"0.07\",\"0.08\",\"0.09\",\"0.1\",\"0.11\",\"0.12\",\"0.13\",\"0.14\",\"0.15\",\"0.16\",\"0.17\",\"0.18\",\"0.19\",\"0.2\",\"0.21\",\"0.22\",\"0.23\",\"0.24\",\"0.25\",\"0.26\",\"0.27\",\"0.28\",\"0.29\",\"0.3\",\"0.31\",\"0.32\",\"0.33\",\"0.34\",\"0.35\",\"0.36\",\"0.37\",\"0.38\",\"0.39\",\"0.4\",\"0.41\",\"0.42\",\"0.43\",\"0.44\",\"0.45\",\"0.46\",\"0.47\",\"0.48\",\"0.49\",\"0.5\",\"0.51\",\"0.52\",\"0.53\",\"0.54\",\"0.55\",\"0.56\",\"0.57\",\"0.58\",\"0.59\",\"0.6\",\"0.61\",\"0.62\",\"0.63\",\"0.64\",\"0.65\",\"0.66\",\"0.67\",\"0.68\",\"0.69\",\"0.7\",\"0.71\",\"0.72\",\"0.73\",\"0.74\",\"0.75\",\"0.76\",\"0.77\",\"0.78\",\"0.79\",\"0.8\",\"0.81\",\"0.82\",\"0.83\",\"0.84\",\"0.85\",\"0.86\",\"0.87\",\"0.88\",\"0.89\",\"0.9\",\"0.91\",\"0.92\",\"0.93\",\"0.94\",\"0.95\",\"0.96\",\"0.97\",\"0.98\",\"0.99\",\"1.0\"],\"changes\":WebIO.getval({\"name\":\"changes\",\"scope\":\"2490864437654367256\",\"id\":\"12553460936237320705\",\"type\":\"observable\"}),\"index\":WebIO.getval({\"name\":\"index\",\"scope\":\"2490864437654367256\",\"id\":\"17653722450002356038\",\"type\":\"observable\"})};\n    var self = this;\n    function AppViewModel() {\n        for (var key in json_data) {\n            var el = json_data[key];\n            this[key] = Array.isArray(el) ? ko.observableArray(el) : ko.observable(el);\n        }\n        \n        [this[\"formatted_val\"]=ko.computed(    function(){\n        return this.formatted_vals()[parseInt(this.index())-(1)];\n    }\n,this)]\n        [this[\"changes\"].subscribe((function (val){!(this.valueFromJulia[\"changes\"]) ? (WebIO.setval({\"name\":\"changes\",\"scope\":\"2490864437654367256\",\"id\":\"12553460936237320705\",\"type\":\"observable\"},val)) : undefined; return this.valueFromJulia[\"changes\"]=false}),self),this[\"index\"].subscribe((function (val){!(this.valueFromJulia[\"index\"]) ? (WebIO.setval({\"name\":\"index\",\"scope\":\"2490864437654367256\",\"id\":\"17653722450002356038\",\"type\":\"observable\"},val)) : undefined; return this.valueFromJulia[\"index\"]=false}),self)]\n        \n    }\n    self.model = new AppViewModel();\n    self.valueFromJulia = {};\n    for (var key in json_data) {\n        self.valueFromJulia[key] = false;\n    }\n    ko.applyBindings(self.model, self.dom);\n}\n);\n    (WebIO.importBlock({\"data\":[{\"name\":\"knockout\",\"type\":\"js\",\"url\":\"/assetserver/d265cb5815a0f20b51253662ec06b9fbacdc8d54-knockout.js\"},{\"name\":\"knockout_punches\",\"type\":\"js\",\"url\":\"/assetserver/a114dcb2e9be47839dc264ddb5460c14d0aab279-knockout_punches.js\"}],\"type\":\"async_block\"})).then((imports) => handler.apply(this, imports));\n}\n"
            ],
            "observables": {
             "changes": {
              "id": "12553460936237320705",
              "sync": false,
              "value": 0
             },
             "index": {
              "id": "17653722450002356038",
              "sync": true,
              "value": 50
             }
            },
            "systemjs_options": null
           },
           "nodeType": "Scope",
           "props": {},
           "type": "node"
          }
         ],
         "instanceArgs": {
          "namespace": "html",
          "tag": "div"
         },
         "nodeType": "DOM",
         "props": {
          "className": "field interact-widget"
         },
         "type": "node"
        },
        {
         "children": [
          {
           "children": [],
           "instanceArgs": {
            "id": "8717602726582501758",
            "name": "obs-node"
           },
           "nodeType": "ObservableNode",
           "props": {},
           "type": "node"
          }
         ],
         "instanceArgs": {
          "handlers": {},
          "id": "13746511665122726939",
          "imports": {
           "data": [],
           "type": "async_block"
          },
          "mount_callbacks": [],
          "observables": {
           "obs-node": {
            "id": "8717602726582501758",
            "sync": false,
            "value": {
             "children": [
              {
               "children": [],
               "instanceArgs": {
                "namespace": "html",
                "tag": "div"
               },
               "nodeType": "DOM",
               "props": {
                "setInnerHtml": "<?xml version=\"1.0\" encoding=\"utf-8\"?>\n<svg xmlns=\"http://www.w3.org/2000/svg\" xmlns:xlink=\"http://www.w3.org/1999/xlink\" width=\"600\" height=\"400\" viewBox=\"0 0 2400 1600\">\n<defs>\n  <clipPath id=\"clip1100\">\n    <rect x=\"0\" y=\"0\" width=\"2400\" height=\"1600\"/>\n  </clipPath>\n</defs>\n<path clip-path=\"url(#clip1100)\" d=\"\nM0 1600 L2400 1600 L2400 0 L0 0  Z\n  \" fill=\"#ffffff\" fill-rule=\"evenodd\" fill-opacity=\"1\"/>\n<defs>\n  <clipPath id=\"clip1101\">\n    <rect x=\"480\" y=\"0\" width=\"1681\" height=\"1600\"/>\n  </clipPath>\n</defs>\n<path clip-path=\"url(#clip1100)\" d=\"\nM153.898 1487.47 L2352.76 1487.47 L2352.76 47.2441 L153.898 47.2441  Z\n  \" fill=\"#ffffff\" fill-rule=\"evenodd\" fill-opacity=\"1\"/>\n<defs>\n  <clipPath id=\"clip1102\">\n    <rect x=\"153\" y=\"47\" width=\"2200\" height=\"1441\"/>\n  </clipPath>\n</defs>\n<polyline clip-path=\"url(#clip1102)\" style=\"stroke:#000000; stroke-width:2; stroke-opacity:0.1; fill:none\" points=\"\n  153.898,1487.47 153.898,47.2441 \n  \"/>\n<polyline clip-path=\"url(#clip1102)\" style=\"stroke:#000000; stroke-width:2; stroke-opacity:0.1; fill:none\" points=\"\n  703.612,1487.47 703.612,47.2441 \n  \"/>\n<polyline clip-path=\"url(#clip1102)\" style=\"stroke:#000000; stroke-width:2; stroke-opacity:0.1; fill:none\" points=\"\n  1253.33,1487.47 1253.33,47.2441 \n  \"/>\n<polyline clip-path=\"url(#clip1102)\" style=\"stroke:#000000; stroke-width:2; stroke-opacity:0.1; fill:none\" points=\"\n  1803.04,1487.47 1803.04,47.2441 \n  \"/>\n<polyline clip-path=\"url(#clip1102)\" style=\"stroke:#000000; stroke-width:2; stroke-opacity:0.1; fill:none\" points=\"\n  2352.76,1487.47 2352.76,47.2441 \n  \"/>\n<polyline clip-path=\"url(#clip1102)\" style=\"stroke:#000000; stroke-width:2; stroke-opacity:0.1; fill:none\" points=\"\n  153.898,1487.47 2352.76,1487.47 \n  \"/>\n<polyline clip-path=\"url(#clip1102)\" style=\"stroke:#000000; stroke-width:2; stroke-opacity:0.1; fill:none\" points=\"\n  153.898,1199.43 2352.76,1199.43 \n  \"/>\n<polyline clip-path=\"url(#clip1102)\" style=\"stroke:#000000; stroke-width:2; stroke-opacity:0.1; fill:none\" points=\"\n  153.898,911.382 2352.76,911.382 \n  \"/>\n<polyline clip-path=\"url(#clip1102)\" style=\"stroke:#000000; stroke-width:2; stroke-opacity:0.1; fill:none\" points=\"\n  153.898,623.336 2352.76,623.336 \n  \"/>\n<polyline clip-path=\"url(#clip1102)\" style=\"stroke:#000000; stroke-width:2; stroke-opacity:0.1; fill:none\" points=\"\n  153.898,335.29 2352.76,335.29 \n  \"/>\n<polyline clip-path=\"url(#clip1102)\" style=\"stroke:#000000; stroke-width:2; stroke-opacity:0.1; fill:none\" points=\"\n  153.898,47.2441 2352.76,47.2441 \n  \"/>\n<polyline clip-path=\"url(#clip1100)\" style=\"stroke:#000000; stroke-width:4; stroke-opacity:1; fill:none\" points=\"\n  153.898,1487.47 2352.76,1487.47 \n  \"/>\n<polyline clip-path=\"url(#clip1100)\" style=\"stroke:#000000; stroke-width:4; stroke-opacity:1; fill:none\" points=\"\n  153.898,1487.47 153.898,47.2441 \n  \"/>\n<polyline clip-path=\"url(#clip1100)\" style=\"stroke:#000000; stroke-width:4; stroke-opacity:1; fill:none\" points=\"\n  153.898,1487.47 153.898,1470.19 \n  \"/>\n<polyline clip-path=\"url(#clip1100)\" style=\"stroke:#000000; stroke-width:4; stroke-opacity:1; fill:none\" points=\"\n  703.612,1487.47 703.612,1470.19 \n  \"/>\n<polyline clip-path=\"url(#clip1100)\" style=\"stroke:#000000; stroke-width:4; stroke-opacity:1; fill:none\" points=\"\n  1253.33,1487.47 1253.33,1470.19 \n  \"/>\n<polyline clip-path=\"url(#clip1100)\" style=\"stroke:#000000; stroke-width:4; stroke-opacity:1; fill:none\" points=\"\n  1803.04,1487.47 1803.04,1470.19 \n  \"/>\n<polyline clip-path=\"url(#clip1100)\" style=\"stroke:#000000; stroke-width:4; stroke-opacity:1; fill:none\" points=\"\n  2352.76,1487.47 2352.76,1470.19 \n  \"/>\n<polyline clip-path=\"url(#clip1100)\" style=\"stroke:#000000; stroke-width:4; stroke-opacity:1; fill:none\" points=\"\n  153.898,1487.47 180.284,1487.47 \n  \"/>\n<polyline clip-path=\"url(#clip1100)\" style=\"stroke:#000000; stroke-width:4; stroke-opacity:1; fill:none\" points=\"\n  153.898,1199.43 180.284,1199.43 \n  \"/>\n<polyline clip-path=\"url(#clip1100)\" style=\"stroke:#000000; stroke-width:4; stroke-opacity:1; fill:none\" points=\"\n  153.898,911.382 180.284,911.382 \n  \"/>\n<polyline clip-path=\"url(#clip1100)\" style=\"stroke:#000000; stroke-width:4; stroke-opacity:1; fill:none\" points=\"\n  153.898,623.336 180.284,623.336 \n  \"/>\n<polyline clip-path=\"url(#clip1100)\" style=\"stroke:#000000; stroke-width:4; stroke-opacity:1; fill:none\" points=\"\n  153.898,335.29 180.284,335.29 \n  \"/>\n<polyline clip-path=\"url(#clip1100)\" style=\"stroke:#000000; stroke-width:4; stroke-opacity:1; fill:none\" points=\"\n  153.898,47.2441 180.284,47.2441 \n  \"/>\n<g clip-path=\"url(#clip1100)\">\n<text style=\"fill:#000000; fill-opacity:1; font-family:Arial,Helvetica Neue,Helvetica,sans-serif; font-size:48px; text-anchor:middle;\" transform=\"rotate(0, 153.898, 1541.47)\" x=\"153.898\" y=\"1541.47\">0</text>\n</g>\n<g clip-path=\"url(#clip1100)\">\n<text style=\"fill:#000000; fill-opacity:1; font-family:Arial,Helvetica Neue,Helvetica,sans-serif; font-size:48px; text-anchor:middle;\" transform=\"rotate(0, 703.612, 1541.47)\" x=\"703.612\" y=\"1541.47\">10</text>\n</g>\n<g clip-path=\"url(#clip1100)\">\n<text style=\"fill:#000000; fill-opacity:1; font-family:Arial,Helvetica Neue,Helvetica,sans-serif; font-size:48px; text-anchor:middle;\" transform=\"rotate(0, 1253.33, 1541.47)\" x=\"1253.33\" y=\"1541.47\">20</text>\n</g>\n<g clip-path=\"url(#clip1100)\">\n<text style=\"fill:#000000; fill-opacity:1; font-family:Arial,Helvetica Neue,Helvetica,sans-serif; font-size:48px; text-anchor:middle;\" transform=\"rotate(0, 1803.04, 1541.47)\" x=\"1803.04\" y=\"1541.47\">30</text>\n</g>\n<g clip-path=\"url(#clip1100)\">\n<text style=\"fill:#000000; fill-opacity:1; font-family:Arial,Helvetica Neue,Helvetica,sans-serif; font-size:48px; text-anchor:middle;\" transform=\"rotate(0, 2352.76, 1541.47)\" x=\"2352.76\" y=\"1541.47\">40</text>\n</g>\n<g clip-path=\"url(#clip1100)\">\n<text style=\"fill:#000000; fill-opacity:1; font-family:Arial,Helvetica Neue,Helvetica,sans-serif; font-size:48px; text-anchor:end;\" transform=\"rotate(0, 129.898, 1504.97)\" x=\"129.898\" y=\"1504.97\">0.0</text>\n</g>\n<g clip-path=\"url(#clip1100)\">\n<text style=\"fill:#000000; fill-opacity:1; font-family:Arial,Helvetica Neue,Helvetica,sans-serif; font-size:48px; text-anchor:end;\" transform=\"rotate(0, 129.898, 1216.93)\" x=\"129.898\" y=\"1216.93\">0.2</text>\n</g>\n<g clip-path=\"url(#clip1100)\">\n<text style=\"fill:#000000; fill-opacity:1; font-family:Arial,Helvetica Neue,Helvetica,sans-serif; font-size:48px; text-anchor:end;\" transform=\"rotate(0, 129.898, 928.882)\" x=\"129.898\" y=\"928.882\">0.4</text>\n</g>\n<g clip-path=\"url(#clip1100)\">\n<text style=\"fill:#000000; fill-opacity:1; font-family:Arial,Helvetica Neue,Helvetica,sans-serif; font-size:48px; text-anchor:end;\" transform=\"rotate(0, 129.898, 640.836)\" x=\"129.898\" y=\"640.836\">0.6</text>\n</g>\n<g clip-path=\"url(#clip1100)\">\n<text style=\"fill:#000000; fill-opacity:1; font-family:Arial,Helvetica Neue,Helvetica,sans-serif; font-size:48px; text-anchor:end;\" transform=\"rotate(0, 129.898, 352.79)\" x=\"129.898\" y=\"352.79\">0.8</text>\n</g>\n<g clip-path=\"url(#clip1100)\">\n<text style=\"fill:#000000; fill-opacity:1; font-family:Arial,Helvetica Neue,Helvetica,sans-serif; font-size:48px; text-anchor:end;\" transform=\"rotate(0, 129.898, 64.7441)\" x=\"129.898\" y=\"64.7441\">1.0</text>\n</g>\n<polyline clip-path=\"url(#clip1102)\" style=\"stroke:#009af9; stroke-width:4; stroke-opacity:1; fill:none\" points=\"\n  153.898,1487.47 208.869,1487.47 208.869,1343.45 263.841,1343.45 263.841,1213.83 318.812,1213.83 318.812,1097.17 373.784,1097.17 373.784,992.179 428.755,992.179 \n  428.755,897.686 483.727,897.686 483.727,812.642 538.698,812.642 538.698,736.102 593.67,736.102 593.67,667.216 648.641,667.216 648.641,605.219 703.612,605.219 \n  703.612,549.421 758.584,549.421 758.584,499.204 813.555,499.204 813.555,454.008 868.527,454.008 868.527,413.331 923.498,413.331 923.498,376.723 978.47,376.723 \n  978.47,343.775 1033.44,343.775 1033.44,314.122 1088.41,314.122 1088.41,287.434 1143.38,287.434 1143.38,263.415 1198.36,263.415 1198.36,241.798 1253.33,241.798 \n  1253.33,222.343 1308.3,222.343 1308.3,204.833 1363.27,204.833 1363.27,189.074 1418.24,189.074 1418.24,174.891 1473.21,174.891 1473.21,162.126 1528.18,162.126 \n  1528.18,150.638 1583.16,150.638 1583.16,140.299 1638.13,140.299 1638.13,130.993 1693.1,130.993 1693.1,122.618 1748.07,122.618 1748.07,115.081 1803.04,115.081 \n  1803.04,108.297 1858.01,108.297 1858.01,102.192 1912.98,102.192 1912.98,96.6971 1967.96,96.6971 1967.96,91.7518 2022.93,91.7518 2022.93,87.301 2077.9,87.301 \n  2077.9,83.2953 2132.87,83.2953 2132.87,79.6902 2187.84,79.6902 2187.84,76.4456 2242.81,76.4456 2242.81,73.5254 2297.78,73.5254 2297.78,70.8973 2352.76,70.8973 \n  2352.76,68.532 \n  \"/>\n<circle clip-path=\"url(#clip1102)\" cx=\"208.869\" cy=\"1343.45\" r=\"14\" fill=\"#e26f46\" fill-rule=\"evenodd\" fill-opacity=\"1\" stroke=\"#000000\" stroke-opacity=\"1\" stroke-width=\"3.2\"/>\n<circle clip-path=\"url(#clip1102)\" cx=\"263.841\" cy=\"1213.83\" r=\"14\" fill=\"#e26f46\" fill-rule=\"evenodd\" fill-opacity=\"1\" stroke=\"#000000\" stroke-opacity=\"1\" stroke-width=\"3.2\"/>\n<circle clip-path=\"url(#clip1102)\" cx=\"318.812\" cy=\"1097.17\" r=\"14\" fill=\"#e26f46\" fill-rule=\"evenodd\" fill-opacity=\"1\" stroke=\"#000000\" stroke-opacity=\"1\" stroke-width=\"3.2\"/>\n<circle clip-path=\"url(#clip1102)\" cx=\"373.784\" cy=\"992.179\" r=\"14\" fill=\"#e26f46\" fill-rule=\"evenodd\" fill-opacity=\"1\" stroke=\"#000000\" stroke-opacity=\"1\" stroke-width=\"3.2\"/>\n<circle clip-path=\"url(#clip1102)\" cx=\"428.755\" cy=\"897.686\" r=\"14\" fill=\"#e26f46\" fill-rule=\"evenodd\" fill-opacity=\"1\" stroke=\"#000000\" stroke-opacity=\"1\" stroke-width=\"3.2\"/>\n<circle clip-path=\"url(#clip1102)\" cx=\"483.727\" cy=\"812.642\" r=\"14\" fill=\"#e26f46\" fill-rule=\"evenodd\" fill-opacity=\"1\" stroke=\"#000000\" stroke-opacity=\"1\" stroke-width=\"3.2\"/>\n<circle clip-path=\"url(#clip1102)\" cx=\"538.698\" cy=\"736.102\" r=\"14\" fill=\"#e26f46\" fill-rule=\"evenodd\" fill-opacity=\"1\" stroke=\"#000000\" stroke-opacity=\"1\" stroke-width=\"3.2\"/>\n<circle clip-path=\"url(#clip1102)\" cx=\"593.67\" cy=\"667.216\" r=\"14\" fill=\"#e26f46\" fill-rule=\"evenodd\" fill-opacity=\"1\" stroke=\"#000000\" stroke-opacity=\"1\" stroke-width=\"3.2\"/>\n<circle clip-path=\"url(#clip1102)\" cx=\"648.641\" cy=\"605.219\" r=\"14\" fill=\"#e26f46\" fill-rule=\"evenodd\" fill-opacity=\"1\" stroke=\"#000000\" stroke-opacity=\"1\" stroke-width=\"3.2\"/>\n<circle clip-path=\"url(#clip1102)\" cx=\"703.612\" cy=\"549.421\" r=\"14\" fill=\"#e26f46\" fill-rule=\"evenodd\" fill-opacity=\"1\" stroke=\"#000000\" stroke-opacity=\"1\" stroke-width=\"3.2\"/>\n<circle clip-path=\"url(#clip1102)\" cx=\"758.584\" cy=\"499.204\" r=\"14\" fill=\"#e26f46\" fill-rule=\"evenodd\" fill-opacity=\"1\" stroke=\"#000000\" stroke-opacity=\"1\" stroke-width=\"3.2\"/>\n<circle clip-path=\"url(#clip1102)\" cx=\"813.555\" cy=\"454.008\" r=\"14\" fill=\"#e26f46\" fill-rule=\"evenodd\" fill-opacity=\"1\" stroke=\"#000000\" stroke-opacity=\"1\" stroke-width=\"3.2\"/>\n<circle clip-path=\"url(#clip1102)\" cx=\"868.527\" cy=\"413.331\" r=\"14\" fill=\"#e26f46\" fill-rule=\"evenodd\" fill-opacity=\"1\" stroke=\"#000000\" stroke-opacity=\"1\" stroke-width=\"3.2\"/>\n<circle clip-path=\"url(#clip1102)\" cx=\"923.498\" cy=\"376.723\" r=\"14\" fill=\"#e26f46\" fill-rule=\"evenodd\" fill-opacity=\"1\" stroke=\"#000000\" stroke-opacity=\"1\" stroke-width=\"3.2\"/>\n<circle clip-path=\"url(#clip1102)\" cx=\"978.47\" cy=\"343.775\" r=\"14\" fill=\"#e26f46\" fill-rule=\"evenodd\" fill-opacity=\"1\" stroke=\"#000000\" stroke-opacity=\"1\" stroke-width=\"3.2\"/>\n<circle clip-path=\"url(#clip1102)\" cx=\"1033.44\" cy=\"314.122\" r=\"14\" fill=\"#e26f46\" fill-rule=\"evenodd\" fill-opacity=\"1\" stroke=\"#000000\" stroke-opacity=\"1\" stroke-width=\"3.2\"/>\n<circle clip-path=\"url(#clip1102)\" cx=\"1088.41\" cy=\"287.434\" r=\"14\" fill=\"#e26f46\" fill-rule=\"evenodd\" fill-opacity=\"1\" stroke=\"#000000\" stroke-opacity=\"1\" stroke-width=\"3.2\"/>\n<circle clip-path=\"url(#clip1102)\" cx=\"1143.38\" cy=\"263.415\" r=\"14\" fill=\"#e26f46\" fill-rule=\"evenodd\" fill-opacity=\"1\" stroke=\"#000000\" stroke-opacity=\"1\" stroke-width=\"3.2\"/>\n<circle clip-path=\"url(#clip1102)\" cx=\"1198.36\" cy=\"241.798\" r=\"14\" fill=\"#e26f46\" fill-rule=\"evenodd\" fill-opacity=\"1\" stroke=\"#000000\" stroke-opacity=\"1\" stroke-width=\"3.2\"/>\n<circle clip-path=\"url(#clip1102)\" cx=\"1253.33\" cy=\"222.343\" r=\"14\" fill=\"#e26f46\" fill-rule=\"evenodd\" fill-opacity=\"1\" stroke=\"#000000\" stroke-opacity=\"1\" stroke-width=\"3.2\"/>\n<circle clip-path=\"url(#clip1102)\" cx=\"1308.3\" cy=\"204.833\" r=\"14\" fill=\"#e26f46\" fill-rule=\"evenodd\" fill-opacity=\"1\" stroke=\"#000000\" stroke-opacity=\"1\" stroke-width=\"3.2\"/>\n<circle clip-path=\"url(#clip1102)\" cx=\"1363.27\" cy=\"189.074\" r=\"14\" fill=\"#e26f46\" fill-rule=\"evenodd\" fill-opacity=\"1\" stroke=\"#000000\" stroke-opacity=\"1\" stroke-width=\"3.2\"/>\n<circle clip-path=\"url(#clip1102)\" cx=\"1418.24\" cy=\"174.891\" r=\"14\" fill=\"#e26f46\" fill-rule=\"evenodd\" fill-opacity=\"1\" stroke=\"#000000\" stroke-opacity=\"1\" stroke-width=\"3.2\"/>\n<circle clip-path=\"url(#clip1102)\" cx=\"1473.21\" cy=\"162.126\" r=\"14\" fill=\"#e26f46\" fill-rule=\"evenodd\" fill-opacity=\"1\" stroke=\"#000000\" stroke-opacity=\"1\" stroke-width=\"3.2\"/>\n<circle clip-path=\"url(#clip1102)\" cx=\"1528.18\" cy=\"150.638\" r=\"14\" fill=\"#e26f46\" fill-rule=\"evenodd\" fill-opacity=\"1\" stroke=\"#000000\" stroke-opacity=\"1\" stroke-width=\"3.2\"/>\n<circle clip-path=\"url(#clip1102)\" cx=\"1583.16\" cy=\"140.299\" r=\"14\" fill=\"#e26f46\" fill-rule=\"evenodd\" fill-opacity=\"1\" stroke=\"#000000\" stroke-opacity=\"1\" stroke-width=\"3.2\"/>\n<circle clip-path=\"url(#clip1102)\" cx=\"1638.13\" cy=\"130.993\" r=\"14\" fill=\"#e26f46\" fill-rule=\"evenodd\" fill-opacity=\"1\" stroke=\"#000000\" stroke-opacity=\"1\" stroke-width=\"3.2\"/>\n<circle clip-path=\"url(#clip1102)\" cx=\"1693.1\" cy=\"122.618\" r=\"14\" fill=\"#e26f46\" fill-rule=\"evenodd\" fill-opacity=\"1\" stroke=\"#000000\" stroke-opacity=\"1\" stroke-width=\"3.2\"/>\n<circle clip-path=\"url(#clip1102)\" cx=\"1748.07\" cy=\"115.081\" r=\"14\" fill=\"#e26f46\" fill-rule=\"evenodd\" fill-opacity=\"1\" stroke=\"#000000\" stroke-opacity=\"1\" stroke-width=\"3.2\"/>\n<circle clip-path=\"url(#clip1102)\" cx=\"1803.04\" cy=\"108.297\" r=\"14\" fill=\"#e26f46\" fill-rule=\"evenodd\" fill-opacity=\"1\" stroke=\"#000000\" stroke-opacity=\"1\" stroke-width=\"3.2\"/>\n<circle clip-path=\"url(#clip1102)\" cx=\"1858.01\" cy=\"102.192\" r=\"14\" fill=\"#e26f46\" fill-rule=\"evenodd\" fill-opacity=\"1\" stroke=\"#000000\" stroke-opacity=\"1\" stroke-width=\"3.2\"/>\n<circle clip-path=\"url(#clip1102)\" cx=\"1912.98\" cy=\"96.6971\" r=\"14\" fill=\"#e26f46\" fill-rule=\"evenodd\" fill-opacity=\"1\" stroke=\"#000000\" stroke-opacity=\"1\" stroke-width=\"3.2\"/>\n<circle clip-path=\"url(#clip1102)\" cx=\"1967.96\" cy=\"91.7518\" r=\"14\" fill=\"#e26f46\" fill-rule=\"evenodd\" fill-opacity=\"1\" stroke=\"#000000\" stroke-opacity=\"1\" stroke-width=\"3.2\"/>\n<circle clip-path=\"url(#clip1102)\" cx=\"2022.93\" cy=\"87.301\" r=\"14\" fill=\"#e26f46\" fill-rule=\"evenodd\" fill-opacity=\"1\" stroke=\"#000000\" stroke-opacity=\"1\" stroke-width=\"3.2\"/>\n<circle clip-path=\"url(#clip1102)\" cx=\"2077.9\" cy=\"83.2953\" r=\"14\" fill=\"#e26f46\" fill-rule=\"evenodd\" fill-opacity=\"1\" stroke=\"#000000\" stroke-opacity=\"1\" stroke-width=\"3.2\"/>\n<circle clip-path=\"url(#clip1102)\" cx=\"2132.87\" cy=\"79.6902\" r=\"14\" fill=\"#e26f46\" fill-rule=\"evenodd\" fill-opacity=\"1\" stroke=\"#000000\" stroke-opacity=\"1\" stroke-width=\"3.2\"/>\n<circle clip-path=\"url(#clip1102)\" cx=\"2187.84\" cy=\"76.4456\" r=\"14\" fill=\"#e26f46\" fill-rule=\"evenodd\" fill-opacity=\"1\" stroke=\"#000000\" stroke-opacity=\"1\" stroke-width=\"3.2\"/>\n<circle clip-path=\"url(#clip1102)\" cx=\"2242.81\" cy=\"73.5254\" r=\"14\" fill=\"#e26f46\" fill-rule=\"evenodd\" fill-opacity=\"1\" stroke=\"#000000\" stroke-opacity=\"1\" stroke-width=\"3.2\"/>\n<circle clip-path=\"url(#clip1102)\" cx=\"2297.78\" cy=\"70.8973\" r=\"14\" fill=\"#e26f46\" fill-rule=\"evenodd\" fill-opacity=\"1\" stroke=\"#000000\" stroke-opacity=\"1\" stroke-width=\"3.2\"/>\n<circle clip-path=\"url(#clip1102)\" cx=\"2352.76\" cy=\"68.532\" r=\"14\" fill=\"#e26f46\" fill-rule=\"evenodd\" fill-opacity=\"1\" stroke=\"#000000\" stroke-opacity=\"1\" stroke-width=\"3.2\"/>\n<polyline clip-path=\"url(#clip1102)\" style=\"stroke:#3da44d; stroke-width:4; stroke-opacity:1; fill:none\" points=\"\n  153.898,1487.47 181.384,1487.47 181.384,767.359 208.869,767.359 208.869,407.302 236.355,407.302 236.355,227.273 263.841,227.273 263.841,137.259 291.327,137.259 \n  291.327,92.2513 318.812,92.2513 318.812,69.7477 346.298,69.7477 346.298,58.4959 373.784,58.4959 373.784,52.87 401.269,52.87 401.269,50.057 428.755,50.057 \n  428.755,48.6506 456.241,48.6506 456.241,47.9473 483.727,47.9473 483.727,47.5957 511.212,47.5957 511.212,47.4199 538.698,47.4199 538.698,47.332 566.184,47.332 \n  566.184,47.288 593.67,47.288 593.67,47.2661 621.155,47.2661 621.155,47.2551 648.641,47.2551 648.641,47.2496 676.127,47.2496 676.127,47.2468 703.612,47.2468 \n  703.612,47.2455 731.098,47.2455 731.098,47.2448 758.584,47.2448 758.584,47.2444 786.07,47.2444 786.07,47.2443 813.555,47.2443 813.555,47.2442 841.041,47.2442 \n  841.041,47.2441 868.527,47.2441 868.527,47.2441 896.013,47.2441 896.013,47.2441 923.498,47.2441 923.498,47.2441 950.984,47.2441 950.984,47.2441 978.47,47.2441 \n  978.47,47.2441 1005.96,47.2441 1005.96,47.2441 1033.44,47.2441 1033.44,47.2441 1060.93,47.2441 1060.93,47.2441 1088.41,47.2441 1088.41,47.2441 1115.9,47.2441 \n  1115.9,47.2441 1143.38,47.2441 1143.38,47.2441 1170.87,47.2441 1170.87,47.2441 1198.36,47.2441 1198.36,47.2441 1225.84,47.2441 1225.84,47.2441 1253.33,47.2441 \n  1253.33,47.2441 1280.81,47.2441 1280.81,47.2441 1308.3,47.2441 1308.3,47.2441 1335.78,47.2441 1335.78,47.2441 1363.27,47.2441 1363.27,47.2441 1390.76,47.2441 \n  1390.76,47.2441 1418.24,47.2441 1418.24,47.2441 1445.73,47.2441 1445.73,47.2441 1473.21,47.2441 1473.21,47.2441 1500.7,47.2441 1500.7,47.2441 1528.18,47.2441 \n  1528.18,47.2441 1555.67,47.2441 1555.67,47.2441 1583.16,47.2441 1583.16,47.2441 1610.64,47.2441 1638.13,47.2441 1638.13,47.2441 1665.61,47.2441 \n  1693.1,47.2441 1720.58,47.2441 1748.07,47.2441 1775.56,47.2441 1803.04,47.2441 \n  1830.53,47.2441 1858.01,47.2441 1885.5,47.2441 1912.98,47.2441 1940.47,47.2441 \n  1967.96,47.2441 1995.44,47.2441 2022.93,47.2441 2050.41,47.2441 2077.9,47.2441 \n  2105.38,47.2441 2132.87,47.2441 2160.36,47.2441 2187.84,47.2441 2215.33,47.2441 \n  2242.81,47.2441 2270.3,47.2441 2297.78,47.2441 2325.27,47.2441 2352.76,47.2441 \n  2380.24,47.2441 2407.73,47.2441 2435.21,47.2441 2462.7,47.2441 2490.18,47.2441 \n  2517.67,47.2441 2545.16,47.2441 2572.64,47.2441 2600.13,47.2441 2627.61,47.2441 \n  2655.1,47.2441 2682.58,47.2441 2710.07,47.2441 2737.56,47.2441 2765.04,47.2441 \n  2792.53,47.2441 2820.01,47.2441 2847.5,47.2441 2874.98,47.2441 2902.47,47.2441 \n  \n  \"/>\n<circle clip-path=\"url(#clip1102)\" cx=\"181.384\" cy=\"767.359\" r=\"14\" fill=\"#c271d2\" fill-rule=\"evenodd\" fill-opacity=\"1\" stroke=\"#000000\" stroke-opacity=\"1\" stroke-width=\"3.2\"/>\n<circle clip-path=\"url(#clip1102)\" cx=\"208.869\" cy=\"407.302\" r=\"14\" fill=\"#c271d2\" fill-rule=\"evenodd\" fill-opacity=\"1\" stroke=\"#000000\" stroke-opacity=\"1\" stroke-width=\"3.2\"/>\n<circle clip-path=\"url(#clip1102)\" cx=\"236.355\" cy=\"227.273\" r=\"14\" fill=\"#c271d2\" fill-rule=\"evenodd\" fill-opacity=\"1\" stroke=\"#000000\" stroke-opacity=\"1\" stroke-width=\"3.2\"/>\n<circle clip-path=\"url(#clip1102)\" cx=\"263.841\" cy=\"137.259\" r=\"14\" fill=\"#c271d2\" fill-rule=\"evenodd\" fill-opacity=\"1\" stroke=\"#000000\" stroke-opacity=\"1\" stroke-width=\"3.2\"/>\n<circle clip-path=\"url(#clip1102)\" cx=\"291.327\" cy=\"92.2513\" r=\"14\" fill=\"#c271d2\" fill-rule=\"evenodd\" fill-opacity=\"1\" stroke=\"#000000\" stroke-opacity=\"1\" stroke-width=\"3.2\"/>\n<circle clip-path=\"url(#clip1102)\" cx=\"318.812\" cy=\"69.7477\" r=\"14\" fill=\"#c271d2\" fill-rule=\"evenodd\" fill-opacity=\"1\" stroke=\"#000000\" stroke-opacity=\"1\" stroke-width=\"3.2\"/>\n<circle clip-path=\"url(#clip1102)\" cx=\"346.298\" cy=\"58.4959\" r=\"14\" fill=\"#c271d2\" fill-rule=\"evenodd\" fill-opacity=\"1\" stroke=\"#000000\" stroke-opacity=\"1\" stroke-width=\"3.2\"/>\n<circle clip-path=\"url(#clip1102)\" cx=\"373.784\" cy=\"52.87\" r=\"14\" fill=\"#c271d2\" fill-rule=\"evenodd\" fill-opacity=\"1\" stroke=\"#000000\" stroke-opacity=\"1\" stroke-width=\"3.2\"/>\n<circle clip-path=\"url(#clip1102)\" cx=\"401.269\" cy=\"50.057\" r=\"14\" fill=\"#c271d2\" fill-rule=\"evenodd\" fill-opacity=\"1\" stroke=\"#000000\" stroke-opacity=\"1\" stroke-width=\"3.2\"/>\n<circle clip-path=\"url(#clip1102)\" cx=\"428.755\" cy=\"48.6506\" r=\"14\" fill=\"#c271d2\" fill-rule=\"evenodd\" fill-opacity=\"1\" stroke=\"#000000\" stroke-opacity=\"1\" stroke-width=\"3.2\"/>\n<circle clip-path=\"url(#clip1102)\" cx=\"456.241\" cy=\"47.9473\" r=\"14\" fill=\"#c271d2\" fill-rule=\"evenodd\" fill-opacity=\"1\" stroke=\"#000000\" stroke-opacity=\"1\" stroke-width=\"3.2\"/>\n<circle clip-path=\"url(#clip1102)\" cx=\"483.727\" cy=\"47.5957\" r=\"14\" fill=\"#c271d2\" fill-rule=\"evenodd\" fill-opacity=\"1\" stroke=\"#000000\" stroke-opacity=\"1\" stroke-width=\"3.2\"/>\n<circle clip-path=\"url(#clip1102)\" cx=\"511.212\" cy=\"47.4199\" r=\"14\" fill=\"#c271d2\" fill-rule=\"evenodd\" fill-opacity=\"1\" stroke=\"#000000\" stroke-opacity=\"1\" stroke-width=\"3.2\"/>\n<circle clip-path=\"url(#clip1102)\" cx=\"538.698\" cy=\"47.332\" r=\"14\" fill=\"#c271d2\" fill-rule=\"evenodd\" fill-opacity=\"1\" stroke=\"#000000\" stroke-opacity=\"1\" stroke-width=\"3.2\"/>\n<circle clip-path=\"url(#clip1102)\" cx=\"566.184\" cy=\"47.288\" r=\"14\" fill=\"#c271d2\" fill-rule=\"evenodd\" fill-opacity=\"1\" stroke=\"#000000\" stroke-opacity=\"1\" stroke-width=\"3.2\"/>\n<circle clip-path=\"url(#clip1102)\" cx=\"593.67\" cy=\"47.2661\" r=\"14\" fill=\"#c271d2\" fill-rule=\"evenodd\" fill-opacity=\"1\" stroke=\"#000000\" stroke-opacity=\"1\" stroke-width=\"3.2\"/>\n<circle clip-path=\"url(#clip1102)\" cx=\"621.155\" cy=\"47.2551\" r=\"14\" fill=\"#c271d2\" fill-rule=\"evenodd\" fill-opacity=\"1\" stroke=\"#000000\" stroke-opacity=\"1\" stroke-width=\"3.2\"/>\n<circle clip-path=\"url(#clip1102)\" cx=\"648.641\" cy=\"47.2496\" r=\"14\" fill=\"#c271d2\" fill-rule=\"evenodd\" fill-opacity=\"1\" stroke=\"#000000\" stroke-opacity=\"1\" stroke-width=\"3.2\"/>\n<circle clip-path=\"url(#clip1102)\" cx=\"676.127\" cy=\"47.2468\" r=\"14\" fill=\"#c271d2\" fill-rule=\"evenodd\" fill-opacity=\"1\" stroke=\"#000000\" stroke-opacity=\"1\" stroke-width=\"3.2\"/>\n<circle clip-path=\"url(#clip1102)\" cx=\"703.612\" cy=\"47.2455\" r=\"14\" fill=\"#c271d2\" fill-rule=\"evenodd\" fill-opacity=\"1\" stroke=\"#000000\" stroke-opacity=\"1\" stroke-width=\"3.2\"/>\n<circle clip-path=\"url(#clip1102)\" cx=\"731.098\" cy=\"47.2448\" r=\"14\" fill=\"#c271d2\" fill-rule=\"evenodd\" fill-opacity=\"1\" stroke=\"#000000\" stroke-opacity=\"1\" stroke-width=\"3.2\"/>\n<circle clip-path=\"url(#clip1102)\" cx=\"758.584\" cy=\"47.2444\" r=\"14\" fill=\"#c271d2\" fill-rule=\"evenodd\" fill-opacity=\"1\" stroke=\"#000000\" stroke-opacity=\"1\" stroke-width=\"3.2\"/>\n<circle clip-path=\"url(#clip1102)\" cx=\"786.07\" cy=\"47.2443\" r=\"14\" fill=\"#c271d2\" fill-rule=\"evenodd\" fill-opacity=\"1\" stroke=\"#000000\" stroke-opacity=\"1\" stroke-width=\"3.2\"/>\n<circle clip-path=\"url(#clip1102)\" cx=\"813.555\" cy=\"47.2442\" r=\"14\" fill=\"#c271d2\" fill-rule=\"evenodd\" fill-opacity=\"1\" stroke=\"#000000\" stroke-opacity=\"1\" stroke-width=\"3.2\"/>\n<circle clip-path=\"url(#clip1102)\" cx=\"841.041\" cy=\"47.2441\" r=\"14\" fill=\"#c271d2\" fill-rule=\"evenodd\" fill-opacity=\"1\" stroke=\"#000000\" stroke-opacity=\"1\" stroke-width=\"3.2\"/>\n<circle clip-path=\"url(#clip1102)\" cx=\"868.527\" cy=\"47.2441\" r=\"14\" fill=\"#c271d2\" fill-rule=\"evenodd\" fill-opacity=\"1\" stroke=\"#000000\" stroke-opacity=\"1\" stroke-width=\"3.2\"/>\n<circle clip-path=\"url(#clip1102)\" cx=\"896.013\" cy=\"47.2441\" r=\"14\" fill=\"#c271d2\" fill-rule=\"evenodd\" fill-opacity=\"1\" stroke=\"#000000\" stroke-opacity=\"1\" stroke-width=\"3.2\"/>\n<circle clip-path=\"url(#clip1102)\" cx=\"923.498\" cy=\"47.2441\" r=\"14\" fill=\"#c271d2\" fill-rule=\"evenodd\" fill-opacity=\"1\" stroke=\"#000000\" stroke-opacity=\"1\" stroke-width=\"3.2\"/>\n<circle clip-path=\"url(#clip1102)\" cx=\"950.984\" cy=\"47.2441\" r=\"14\" fill=\"#c271d2\" fill-rule=\"evenodd\" fill-opacity=\"1\" stroke=\"#000000\" stroke-opacity=\"1\" stroke-width=\"3.2\"/>\n<circle clip-path=\"url(#clip1102)\" cx=\"978.47\" cy=\"47.2441\" r=\"14\" fill=\"#c271d2\" fill-rule=\"evenodd\" fill-opacity=\"1\" stroke=\"#000000\" stroke-opacity=\"1\" stroke-width=\"3.2\"/>\n<circle clip-path=\"url(#clip1102)\" cx=\"1005.96\" cy=\"47.2441\" r=\"14\" fill=\"#c271d2\" fill-rule=\"evenodd\" fill-opacity=\"1\" stroke=\"#000000\" stroke-opacity=\"1\" stroke-width=\"3.2\"/>\n<circle clip-path=\"url(#clip1102)\" cx=\"1033.44\" cy=\"47.2441\" r=\"14\" fill=\"#c271d2\" fill-rule=\"evenodd\" fill-opacity=\"1\" stroke=\"#000000\" stroke-opacity=\"1\" stroke-width=\"3.2\"/>\n<circle clip-path=\"url(#clip1102)\" cx=\"1060.93\" cy=\"47.2441\" r=\"14\" fill=\"#c271d2\" fill-rule=\"evenodd\" fill-opacity=\"1\" stroke=\"#000000\" stroke-opacity=\"1\" stroke-width=\"3.2\"/>\n<circle clip-path=\"url(#clip1102)\" cx=\"1088.41\" cy=\"47.2441\" r=\"14\" fill=\"#c271d2\" fill-rule=\"evenodd\" fill-opacity=\"1\" stroke=\"#000000\" stroke-opacity=\"1\" stroke-width=\"3.2\"/>\n<circle clip-path=\"url(#clip1102)\" cx=\"1115.9\" cy=\"47.2441\" r=\"14\" fill=\"#c271d2\" fill-rule=\"evenodd\" fill-opacity=\"1\" stroke=\"#000000\" stroke-opacity=\"1\" stroke-width=\"3.2\"/>\n<circle clip-path=\"url(#clip1102)\" cx=\"1143.38\" cy=\"47.2441\" r=\"14\" fill=\"#c271d2\" fill-rule=\"evenodd\" fill-opacity=\"1\" stroke=\"#000000\" stroke-opacity=\"1\" stroke-width=\"3.2\"/>\n<circle clip-path=\"url(#clip1102)\" cx=\"1170.87\" cy=\"47.2441\" r=\"14\" fill=\"#c271d2\" fill-rule=\"evenodd\" fill-opacity=\"1\" stroke=\"#000000\" stroke-opacity=\"1\" stroke-width=\"3.2\"/>\n<circle clip-path=\"url(#clip1102)\" cx=\"1198.36\" cy=\"47.2441\" r=\"14\" fill=\"#c271d2\" fill-rule=\"evenodd\" fill-opacity=\"1\" stroke=\"#000000\" stroke-opacity=\"1\" stroke-width=\"3.2\"/>\n<circle clip-path=\"url(#clip1102)\" cx=\"1225.84\" cy=\"47.2441\" r=\"14\" fill=\"#c271d2\" fill-rule=\"evenodd\" fill-opacity=\"1\" stroke=\"#000000\" stroke-opacity=\"1\" stroke-width=\"3.2\"/>\n<circle clip-path=\"url(#clip1102)\" cx=\"1253.33\" cy=\"47.2441\" r=\"14\" fill=\"#c271d2\" fill-rule=\"evenodd\" fill-opacity=\"1\" stroke=\"#000000\" stroke-opacity=\"1\" stroke-width=\"3.2\"/>\n<circle clip-path=\"url(#clip1102)\" cx=\"1280.81\" cy=\"47.2441\" r=\"14\" fill=\"#c271d2\" fill-rule=\"evenodd\" fill-opacity=\"1\" stroke=\"#000000\" stroke-opacity=\"1\" stroke-width=\"3.2\"/>\n<circle clip-path=\"url(#clip1102)\" cx=\"1308.3\" cy=\"47.2441\" r=\"14\" fill=\"#c271d2\" fill-rule=\"evenodd\" fill-opacity=\"1\" stroke=\"#000000\" stroke-opacity=\"1\" stroke-width=\"3.2\"/>\n<circle clip-path=\"url(#clip1102)\" cx=\"1335.78\" cy=\"47.2441\" r=\"14\" fill=\"#c271d2\" fill-rule=\"evenodd\" fill-opacity=\"1\" stroke=\"#000000\" stroke-opacity=\"1\" stroke-width=\"3.2\"/>\n<circle clip-path=\"url(#clip1102)\" cx=\"1363.27\" cy=\"47.2441\" r=\"14\" fill=\"#c271d2\" fill-rule=\"evenodd\" fill-opacity=\"1\" stroke=\"#000000\" stroke-opacity=\"1\" stroke-width=\"3.2\"/>\n<circle clip-path=\"url(#clip1102)\" cx=\"1390.76\" cy=\"47.2441\" r=\"14\" fill=\"#c271d2\" fill-rule=\"evenodd\" fill-opacity=\"1\" stroke=\"#000000\" stroke-opacity=\"1\" stroke-width=\"3.2\"/>\n<circle clip-path=\"url(#clip1102)\" cx=\"1418.24\" cy=\"47.2441\" r=\"14\" fill=\"#c271d2\" fill-rule=\"evenodd\" fill-opacity=\"1\" stroke=\"#000000\" stroke-opacity=\"1\" stroke-width=\"3.2\"/>\n<circle clip-path=\"url(#clip1102)\" cx=\"1445.73\" cy=\"47.2441\" r=\"14\" fill=\"#c271d2\" fill-rule=\"evenodd\" fill-opacity=\"1\" stroke=\"#000000\" stroke-opacity=\"1\" stroke-width=\"3.2\"/>\n<circle clip-path=\"url(#clip1102)\" cx=\"1473.21\" cy=\"47.2441\" r=\"14\" fill=\"#c271d2\" fill-rule=\"evenodd\" fill-opacity=\"1\" stroke=\"#000000\" stroke-opacity=\"1\" stroke-width=\"3.2\"/>\n<circle clip-path=\"url(#clip1102)\" cx=\"1500.7\" cy=\"47.2441\" r=\"14\" fill=\"#c271d2\" fill-rule=\"evenodd\" fill-opacity=\"1\" stroke=\"#000000\" stroke-opacity=\"1\" stroke-width=\"3.2\"/>\n<circle clip-path=\"url(#clip1102)\" cx=\"1528.18\" cy=\"47.2441\" r=\"14\" fill=\"#c271d2\" fill-rule=\"evenodd\" fill-opacity=\"1\" stroke=\"#000000\" stroke-opacity=\"1\" stroke-width=\"3.2\"/>\n<circle clip-path=\"url(#clip1102)\" cx=\"1555.67\" cy=\"47.2441\" r=\"14\" fill=\"#c271d2\" fill-rule=\"evenodd\" fill-opacity=\"1\" stroke=\"#000000\" stroke-opacity=\"1\" stroke-width=\"3.2\"/>\n<circle clip-path=\"url(#clip1102)\" cx=\"1583.16\" cy=\"47.2441\" r=\"14\" fill=\"#c271d2\" fill-rule=\"evenodd\" fill-opacity=\"1\" stroke=\"#000000\" stroke-opacity=\"1\" stroke-width=\"3.2\"/>\n<circle clip-path=\"url(#clip1102)\" cx=\"1610.64\" cy=\"47.2441\" r=\"14\" fill=\"#c271d2\" fill-rule=\"evenodd\" fill-opacity=\"1\" stroke=\"#000000\" stroke-opacity=\"1\" stroke-width=\"3.2\"/>\n<circle clip-path=\"url(#clip1102)\" cx=\"1638.13\" cy=\"47.2441\" r=\"14\" fill=\"#c271d2\" fill-rule=\"evenodd\" fill-opacity=\"1\" stroke=\"#000000\" stroke-opacity=\"1\" stroke-width=\"3.2\"/>\n<circle clip-path=\"url(#clip1102)\" cx=\"1665.61\" cy=\"47.2441\" r=\"14\" fill=\"#c271d2\" fill-rule=\"evenodd\" fill-opacity=\"1\" stroke=\"#000000\" stroke-opacity=\"1\" stroke-width=\"3.2\"/>\n<circle clip-path=\"url(#clip1102)\" cx=\"1693.1\" cy=\"47.2441\" r=\"14\" fill=\"#c271d2\" fill-rule=\"evenodd\" fill-opacity=\"1\" stroke=\"#000000\" stroke-opacity=\"1\" stroke-width=\"3.2\"/>\n<circle clip-path=\"url(#clip1102)\" cx=\"1720.58\" cy=\"47.2441\" r=\"14\" fill=\"#c271d2\" fill-rule=\"evenodd\" fill-opacity=\"1\" stroke=\"#000000\" stroke-opacity=\"1\" stroke-width=\"3.2\"/>\n<circle clip-path=\"url(#clip1102)\" cx=\"1748.07\" cy=\"47.2441\" r=\"14\" fill=\"#c271d2\" fill-rule=\"evenodd\" fill-opacity=\"1\" stroke=\"#000000\" stroke-opacity=\"1\" stroke-width=\"3.2\"/>\n<circle clip-path=\"url(#clip1102)\" cx=\"1775.56\" cy=\"47.2441\" r=\"14\" fill=\"#c271d2\" fill-rule=\"evenodd\" fill-opacity=\"1\" stroke=\"#000000\" stroke-opacity=\"1\" stroke-width=\"3.2\"/>\n<circle clip-path=\"url(#clip1102)\" cx=\"1803.04\" cy=\"47.2441\" r=\"14\" fill=\"#c271d2\" fill-rule=\"evenodd\" fill-opacity=\"1\" stroke=\"#000000\" stroke-opacity=\"1\" stroke-width=\"3.2\"/>\n<circle clip-path=\"url(#clip1102)\" cx=\"1830.53\" cy=\"47.2441\" r=\"14\" fill=\"#c271d2\" fill-rule=\"evenodd\" fill-opacity=\"1\" stroke=\"#000000\" stroke-opacity=\"1\" stroke-width=\"3.2\"/>\n<circle clip-path=\"url(#clip1102)\" cx=\"1858.01\" cy=\"47.2441\" r=\"14\" fill=\"#c271d2\" fill-rule=\"evenodd\" fill-opacity=\"1\" stroke=\"#000000\" stroke-opacity=\"1\" stroke-width=\"3.2\"/>\n<circle clip-path=\"url(#clip1102)\" cx=\"1885.5\" cy=\"47.2441\" r=\"14\" fill=\"#c271d2\" fill-rule=\"evenodd\" fill-opacity=\"1\" stroke=\"#000000\" stroke-opacity=\"1\" stroke-width=\"3.2\"/>\n<circle clip-path=\"url(#clip1102)\" cx=\"1912.98\" cy=\"47.2441\" r=\"14\" fill=\"#c271d2\" fill-rule=\"evenodd\" fill-opacity=\"1\" stroke=\"#000000\" stroke-opacity=\"1\" stroke-width=\"3.2\"/>\n<circle clip-path=\"url(#clip1102)\" cx=\"1940.47\" cy=\"47.2441\" r=\"14\" fill=\"#c271d2\" fill-rule=\"evenodd\" fill-opacity=\"1\" stroke=\"#000000\" stroke-opacity=\"1\" stroke-width=\"3.2\"/>\n<circle clip-path=\"url(#clip1102)\" cx=\"1967.96\" cy=\"47.2441\" r=\"14\" fill=\"#c271d2\" fill-rule=\"evenodd\" fill-opacity=\"1\" stroke=\"#000000\" stroke-opacity=\"1\" stroke-width=\"3.2\"/>\n<circle clip-path=\"url(#clip1102)\" cx=\"1995.44\" cy=\"47.2441\" r=\"14\" fill=\"#c271d2\" fill-rule=\"evenodd\" fill-opacity=\"1\" stroke=\"#000000\" stroke-opacity=\"1\" stroke-width=\"3.2\"/>\n<circle clip-path=\"url(#clip1102)\" cx=\"2022.93\" cy=\"47.2441\" r=\"14\" fill=\"#c271d2\" fill-rule=\"evenodd\" fill-opacity=\"1\" stroke=\"#000000\" stroke-opacity=\"1\" stroke-width=\"3.2\"/>\n<circle clip-path=\"url(#clip1102)\" cx=\"2050.41\" cy=\"47.2441\" r=\"14\" fill=\"#c271d2\" fill-rule=\"evenodd\" fill-opacity=\"1\" stroke=\"#000000\" stroke-opacity=\"1\" stroke-width=\"3.2\"/>\n<circle clip-path=\"url(#clip1102)\" cx=\"2077.9\" cy=\"47.2441\" r=\"14\" fill=\"#c271d2\" fill-rule=\"evenodd\" fill-opacity=\"1\" stroke=\"#000000\" stroke-opacity=\"1\" stroke-width=\"3.2\"/>\n<circle clip-path=\"url(#clip1102)\" cx=\"2105.38\" cy=\"47.2441\" r=\"14\" fill=\"#c271d2\" fill-rule=\"evenodd\" fill-opacity=\"1\" stroke=\"#000000\" stroke-opacity=\"1\" stroke-width=\"3.2\"/>\n<circle clip-path=\"url(#clip1102)\" cx=\"2132.87\" cy=\"47.2441\" r=\"14\" fill=\"#c271d2\" fill-rule=\"evenodd\" fill-opacity=\"1\" stroke=\"#000000\" stroke-opacity=\"1\" stroke-width=\"3.2\"/>\n<circle clip-path=\"url(#clip1102)\" cx=\"2160.36\" cy=\"47.2441\" r=\"14\" fill=\"#c271d2\" fill-rule=\"evenodd\" fill-opacity=\"1\" stroke=\"#000000\" stroke-opacity=\"1\" stroke-width=\"3.2\"/>\n<circle clip-path=\"url(#clip1102)\" cx=\"2187.84\" cy=\"47.2441\" r=\"14\" fill=\"#c271d2\" fill-rule=\"evenodd\" fill-opacity=\"1\" stroke=\"#000000\" stroke-opacity=\"1\" stroke-width=\"3.2\"/>\n<circle clip-path=\"url(#clip1102)\" cx=\"2215.33\" cy=\"47.2441\" r=\"14\" fill=\"#c271d2\" fill-rule=\"evenodd\" fill-opacity=\"1\" stroke=\"#000000\" stroke-opacity=\"1\" stroke-width=\"3.2\"/>\n<circle clip-path=\"url(#clip1102)\" cx=\"2242.81\" cy=\"47.2441\" r=\"14\" fill=\"#c271d2\" fill-rule=\"evenodd\" fill-opacity=\"1\" stroke=\"#000000\" stroke-opacity=\"1\" stroke-width=\"3.2\"/>\n<circle clip-path=\"url(#clip1102)\" cx=\"2270.3\" cy=\"47.2441\" r=\"14\" fill=\"#c271d2\" fill-rule=\"evenodd\" fill-opacity=\"1\" stroke=\"#000000\" stroke-opacity=\"1\" stroke-width=\"3.2\"/>\n<circle clip-path=\"url(#clip1102)\" cx=\"2297.78\" cy=\"47.2441\" r=\"14\" fill=\"#c271d2\" fill-rule=\"evenodd\" fill-opacity=\"1\" stroke=\"#000000\" stroke-opacity=\"1\" stroke-width=\"3.2\"/>\n<circle clip-path=\"url(#clip1102)\" cx=\"2325.27\" cy=\"47.2441\" r=\"14\" fill=\"#c271d2\" fill-rule=\"evenodd\" fill-opacity=\"1\" stroke=\"#000000\" stroke-opacity=\"1\" stroke-width=\"3.2\"/>\n<circle clip-path=\"url(#clip1102)\" cx=\"2352.76\" cy=\"47.2441\" r=\"14\" fill=\"#c271d2\" fill-rule=\"evenodd\" fill-opacity=\"1\" stroke=\"#000000\" stroke-opacity=\"1\" stroke-width=\"3.2\"/>\n<path clip-path=\"url(#clip1100)\" d=\"\nM1814.62 312.204 L2280.76 312.204 L2280.76 130.764 L1814.62 130.764  Z\n  \" fill=\"#ffffff\" fill-rule=\"evenodd\" fill-opacity=\"1\"/>\n<polyline clip-path=\"url(#clip1100)\" style=\"stroke:#000000; stroke-width:4; stroke-opacity:1; fill:none\" points=\"\n  1814.62,312.204 2280.76,312.204 2280.76,130.764 1814.62,130.764 1814.62,312.204 \n  \"/>\n<circle clip-path=\"url(#clip1100)\" cx=\"1922.62\" cy=\"191.244\" r=\"21\" fill=\"#e26f46\" fill-rule=\"evenodd\" fill-opacity=\"1\" stroke=\"#000000\" stroke-opacity=\"1\" stroke-width=\"3.2\"/>\n<g clip-path=\"url(#clip1100)\">\n<text style=\"fill:#000000; fill-opacity:1; font-family:Arial,Helvetica Neue,Helvetica,sans-serif; font-size:48px; text-anchor:start;\" transform=\"rotate(0, 2006.62, 208.744)\" x=\"2006.62\" y=\"208.744\">delta = 1</text>\n</g>\n<circle clip-path=\"url(#clip1100)\" cx=\"1922.62\" cy=\"251.724\" r=\"21\" fill=\"#c271d2\" fill-rule=\"evenodd\" fill-opacity=\"1\" stroke=\"#000000\" stroke-opacity=\"1\" stroke-width=\"3.2\"/>\n<g clip-path=\"url(#clip1100)\">\n<text style=\"fill:#000000; fill-opacity:1; font-family:Arial,Helvetica Neue,Helvetica,sans-serif; font-size:48px; text-anchor:start;\" transform=\"rotate(0, 2006.62, 269.224)\" x=\"2006.62\" y=\"269.224\">delta = 0.5</text>\n</g>\n</svg>\n"
               },
               "type": "node"
              }
             ],
             "instanceArgs": {
              "namespace": "html",
              "tag": "div"
             },
             "nodeType": "DOM",
             "props": {
              "className": "interact-flex-row interact-widget"
             },
             "type": "node"
            }
           }
          },
          "systemjs_options": null
         },
         "nodeType": "Scope",
         "props": {},
         "type": "node"
        }
       ],
       "instanceArgs": {
        "namespace": "html",
        "tag": "div"
       },
       "nodeType": "DOM",
       "props": {},
       "type": "node"
      },
      "text/html": [
       "<div\n",
       "    class=\"webio-mountpoint\"\n",
       "    data-webio-mountpoint=\"8348573632565693473\"\n",
       ">\n",
       "    <script>\n",
       "    if (window.require && require.defined && require.defined(\"nbextensions/webio-jupyter-notebook\")) {\n",
       "        console.log(\"Jupyter WebIO extension detected, not mounting.\");\n",
       "    } else if (window.WebIO) {\n",
       "        WebIO.mount(\n",
       "            document.querySelector('[data-webio-mountpoint=\"8348573632565693473\"]'),\n",
       "            {\"props\":{},\"nodeType\":\"DOM\",\"type\":\"node\",\"instanceArgs\":{\"namespace\":\"html\",\"tag\":\"div\"},\"children\":[{\"props\":{\"className\":\"field interact-widget\"},\"nodeType\":\"DOM\",\"type\":\"node\",\"instanceArgs\":{\"namespace\":\"html\",\"tag\":\"div\"},\"children\":[{\"props\":{},\"nodeType\":\"Scope\",\"type\":\"node\",\"instanceArgs\":{\"imports\":{\"data\":[{\"name\":\"knockout\",\"type\":\"js\",\"url\":\"\\/assetserver\\/d265cb5815a0f20b51253662ec06b9fbacdc8d54-knockout.js\"},{\"name\":\"knockout_punches\",\"type\":\"js\",\"url\":\"\\/assetserver\\/a114dcb2e9be47839dc264ddb5460c14d0aab279-knockout_punches.js\"},{\"name\":null,\"type\":\"js\",\"url\":\"\\/assetserver\\/708042f325338e1c438390aa752d02df14f21b70-all.js\"},{\"name\":null,\"type\":\"css\",\"url\":\"\\/assetserver\\/33f349fbeaa894451059710b0544a2e1ff1ca189-style.css\"},{\"name\":null,\"type\":\"css\",\"url\":\"\\/assetserver\\/2bb2a2e587972b19dfbb45945fb2f2dbf16ab513-bulma_confined.min.css\"}],\"type\":\"async_block\"},\"id\":\"2490864437654367256\",\"handlers\":{\"changes\":[\"(function (val){return (val!=this.model[\\\"changes\\\"]()) ? (this.valueFromJulia[\\\"changes\\\"]=true, this.model[\\\"changes\\\"](val)) : undefined})\"],\"index\":[\"(function (val){return (val!=this.model[\\\"index\\\"]()) ? (this.valueFromJulia[\\\"index\\\"]=true, this.model[\\\"index\\\"](val)) : undefined})\"]},\"systemjs_options\":null,\"mount_callbacks\":[\"function () {\\n    var handler = (function (ko, koPunches) {\\n    ko.punches.enableAll();\\n    ko.bindingHandlers.numericValue = {\\n        init: function(element, valueAccessor, allBindings, data, context) {\\n            var stringified = ko.observable(ko.unwrap(valueAccessor()));\\n            stringified.subscribe(function(value) {\\n                var val = parseFloat(value);\\n                if (!isNaN(val)) {\\n                    valueAccessor()(val);\\n                }\\n            });\\n            valueAccessor().subscribe(function(value) {\\n                var str = JSON.stringify(value);\\n                if ((str == \\\"0\\\") && ([\\\"-0\\\", \\\"-0.\\\"].indexOf(stringified()) >= 0))\\n                     return;\\n                 if ([\\\"null\\\", \\\"\\\"].indexOf(str) >= 0)\\n                     return;\\n                stringified(str);\\n            });\\n            ko.applyBindingsToNode(\\n                element,\\n                {\\n                    value: stringified,\\n                    valueUpdate: allBindings.get('valueUpdate'),\\n                },\\n                context,\\n            );\\n        }\\n    };\\n    var json_data = {\\\"formatted_vals\\\":[\\\"0.01\\\",\\\"0.02\\\",\\\"0.03\\\",\\\"0.04\\\",\\\"0.05\\\",\\\"0.06\\\",\\\"0.07\\\",\\\"0.08\\\",\\\"0.09\\\",\\\"0.1\\\",\\\"0.11\\\",\\\"0.12\\\",\\\"0.13\\\",\\\"0.14\\\",\\\"0.15\\\",\\\"0.16\\\",\\\"0.17\\\",\\\"0.18\\\",\\\"0.19\\\",\\\"0.2\\\",\\\"0.21\\\",\\\"0.22\\\",\\\"0.23\\\",\\\"0.24\\\",\\\"0.25\\\",\\\"0.26\\\",\\\"0.27\\\",\\\"0.28\\\",\\\"0.29\\\",\\\"0.3\\\",\\\"0.31\\\",\\\"0.32\\\",\\\"0.33\\\",\\\"0.34\\\",\\\"0.35\\\",\\\"0.36\\\",\\\"0.37\\\",\\\"0.38\\\",\\\"0.39\\\",\\\"0.4\\\",\\\"0.41\\\",\\\"0.42\\\",\\\"0.43\\\",\\\"0.44\\\",\\\"0.45\\\",\\\"0.46\\\",\\\"0.47\\\",\\\"0.48\\\",\\\"0.49\\\",\\\"0.5\\\",\\\"0.51\\\",\\\"0.52\\\",\\\"0.53\\\",\\\"0.54\\\",\\\"0.55\\\",\\\"0.56\\\",\\\"0.57\\\",\\\"0.58\\\",\\\"0.59\\\",\\\"0.6\\\",\\\"0.61\\\",\\\"0.62\\\",\\\"0.63\\\",\\\"0.64\\\",\\\"0.65\\\",\\\"0.66\\\",\\\"0.67\\\",\\\"0.68\\\",\\\"0.69\\\",\\\"0.7\\\",\\\"0.71\\\",\\\"0.72\\\",\\\"0.73\\\",\\\"0.74\\\",\\\"0.75\\\",\\\"0.76\\\",\\\"0.77\\\",\\\"0.78\\\",\\\"0.79\\\",\\\"0.8\\\",\\\"0.81\\\",\\\"0.82\\\",\\\"0.83\\\",\\\"0.84\\\",\\\"0.85\\\",\\\"0.86\\\",\\\"0.87\\\",\\\"0.88\\\",\\\"0.89\\\",\\\"0.9\\\",\\\"0.91\\\",\\\"0.92\\\",\\\"0.93\\\",\\\"0.94\\\",\\\"0.95\\\",\\\"0.96\\\",\\\"0.97\\\",\\\"0.98\\\",\\\"0.99\\\",\\\"1.0\\\"],\\\"changes\\\":WebIO.getval({\\\"name\\\":\\\"changes\\\",\\\"scope\\\":\\\"2490864437654367256\\\",\\\"id\\\":\\\"12553460936237320705\\\",\\\"type\\\":\\\"observable\\\"}),\\\"index\\\":WebIO.getval({\\\"name\\\":\\\"index\\\",\\\"scope\\\":\\\"2490864437654367256\\\",\\\"id\\\":\\\"17653722450002356038\\\",\\\"type\\\":\\\"observable\\\"})};\\n    var self = this;\\n    function AppViewModel() {\\n        for (var key in json_data) {\\n            var el = json_data[key];\\n            this[key] = Array.isArray(el) ? ko.observableArray(el) : ko.observable(el);\\n        }\\n        \\n        [this[\\\"formatted_val\\\"]=ko.computed(    function(){\\n        return this.formatted_vals()[parseInt(this.index())-(1)];\\n    }\\n,this)]\\n        [this[\\\"changes\\\"].subscribe((function (val){!(this.valueFromJulia[\\\"changes\\\"]) ? (WebIO.setval({\\\"name\\\":\\\"changes\\\",\\\"scope\\\":\\\"2490864437654367256\\\",\\\"id\\\":\\\"12553460936237320705\\\",\\\"type\\\":\\\"observable\\\"},val)) : undefined; return this.valueFromJulia[\\\"changes\\\"]=false}),self),this[\\\"index\\\"].subscribe((function (val){!(this.valueFromJulia[\\\"index\\\"]) ? (WebIO.setval({\\\"name\\\":\\\"index\\\",\\\"scope\\\":\\\"2490864437654367256\\\",\\\"id\\\":\\\"17653722450002356038\\\",\\\"type\\\":\\\"observable\\\"},val)) : undefined; return this.valueFromJulia[\\\"index\\\"]=false}),self)]\\n        \\n    }\\n    self.model = new AppViewModel();\\n    self.valueFromJulia = {};\\n    for (var key in json_data) {\\n        self.valueFromJulia[key] = false;\\n    }\\n    ko.applyBindings(self.model, self.dom);\\n}\\n);\\n    (WebIO.importBlock({\\\"data\\\":[{\\\"name\\\":\\\"knockout\\\",\\\"type\\\":\\\"js\\\",\\\"url\\\":\\\"\\/assetserver\\/d265cb5815a0f20b51253662ec06b9fbacdc8d54-knockout.js\\\"},{\\\"name\\\":\\\"knockout_punches\\\",\\\"type\\\":\\\"js\\\",\\\"url\\\":\\\"\\/assetserver\\/a114dcb2e9be47839dc264ddb5460c14d0aab279-knockout_punches.js\\\"}],\\\"type\\\":\\\"async_block\\\"})).then((imports) => handler.apply(this, imports));\\n}\\n\"],\"observables\":{\"changes\":{\"sync\":false,\"id\":\"12553460936237320705\",\"value\":0},\"index\":{\"sync\":true,\"id\":\"17653722450002356038\",\"value\":50}}},\"children\":[{\"props\":{\"className\":\"interact-flex-row interact-widget\"},\"nodeType\":\"DOM\",\"type\":\"node\",\"instanceArgs\":{\"namespace\":\"html\",\"tag\":\"div\"},\"children\":[{\"props\":{\"className\":\"interact-flex-row-left\"},\"nodeType\":\"DOM\",\"type\":\"node\",\"instanceArgs\":{\"namespace\":\"html\",\"tag\":\"div\"},\"children\":[{\"props\":{\"className\":\"interact \",\"style\":{\"padding\":\"5px 10px 0px 10px\"}},\"nodeType\":\"DOM\",\"type\":\"node\",\"instanceArgs\":{\"namespace\":\"html\",\"tag\":\"label\"},\"children\":[\"p2\"]}]},{\"props\":{\"className\":\"interact-flex-row-center\"},\"nodeType\":\"DOM\",\"type\":\"node\",\"instanceArgs\":{\"namespace\":\"html\",\"tag\":\"div\"},\"children\":[{\"props\":{\"max\":100,\"min\":1,\"attributes\":{\"type\":\"range\",\"data-bind\":\"numericValue: index, valueUpdate: 'input', event: {change: function (){this.changes(this.changes()+1)}}\",\"orient\":\"horizontal\"},\"step\":1,\"className\":\"slider slider is-fullwidth\",\"style\":{}},\"nodeType\":\"DOM\",\"type\":\"node\",\"instanceArgs\":{\"namespace\":\"html\",\"tag\":\"input\"},\"children\":[]}]},{\"props\":{\"className\":\"interact-flex-row-right\"},\"nodeType\":\"DOM\",\"type\":\"node\",\"instanceArgs\":{\"namespace\":\"html\",\"tag\":\"div\"},\"children\":[{\"props\":{\"attributes\":{\"data-bind\":\"text: formatted_val\"}},\"nodeType\":\"DOM\",\"type\":\"node\",\"instanceArgs\":{\"namespace\":\"html\",\"tag\":\"p\"},\"children\":[]}]}]}]}]},{\"props\":{},\"nodeType\":\"Scope\",\"type\":\"node\",\"instanceArgs\":{\"imports\":{\"data\":[],\"type\":\"async_block\"},\"id\":\"16646453948143450771\",\"handlers\":{},\"systemjs_options\":null,\"mount_callbacks\":[],\"observables\":{\"obs-node\":{\"sync\":false,\"id\":\"3355697390631012258\",\"value\":{\"props\":{\"className\":\"interact-flex-row interact-widget\"},\"nodeType\":\"DOM\",\"type\":\"node\",\"instanceArgs\":{\"namespace\":\"html\",\"tag\":\"div\"},\"children\":[{\"props\":{\"setInnerHtml\":\"<?xml version=\\\"1.0\\\" encoding=\\\"utf-8\\\"?>\\n<svg xmlns=\\\"http:\\/\\/www.w3.org\\/2000\\/svg\\\" xmlns:xlink=\\\"http:\\/\\/www.w3.org\\/1999\\/xlink\\\" width=\\\"600\\\" height=\\\"400\\\" viewBox=\\\"0 0 2400 1600\\\">\\n<defs>\\n  <clipPath id=\\\"clip0700\\\">\\n    <rect x=\\\"0\\\" y=\\\"0\\\" width=\\\"2400\\\" height=\\\"1600\\\"\\/>\\n  <\\/clipPath>\\n<\\/defs>\\n<path clip-path=\\\"url(#clip0700)\\\" d=\\\"\\nM0 1600 L2400 1600 L2400 0 L0 0  Z\\n  \\\" fill=\\\"#ffffff\\\" fill-rule=\\\"evenodd\\\" fill-opacity=\\\"1\\\"\\/>\\n<defs>\\n  <clipPath id=\\\"clip0701\\\">\\n    <rect x=\\\"480\\\" y=\\\"0\\\" width=\\\"1681\\\" height=\\\"1600\\\"\\/>\\n  <\\/clipPath>\\n<\\/defs>\\n<path clip-path=\\\"url(#clip0700)\\\" d=\\\"\\nM153.898 1487.47 L2352.76 1487.47 L2352.76 47.2441 L153.898 47.2441  Z\\n  \\\" fill=\\\"#ffffff\\\" fill-rule=\\\"evenodd\\\" fill-opacity=\\\"1\\\"\\/>\\n<defs>\\n  <clipPath id=\\\"clip0702\\\">\\n    <rect x=\\\"153\\\" y=\\\"47\\\" width=\\\"2200\\\" height=\\\"1441\\\"\\/>\\n  <\\/clipPath>\\n<\\/defs>\\n<polyline clip-path=\\\"url(#clip0702)\\\" style=\\\"stroke:#000000; stroke-width:2; stroke-opacity:0.1; fill:none\\\" points=\\\"\\n  153.898,1487.47 153.898,47.2441 \\n  \\\"\\/>\\n<polyline clip-path=\\\"url(#clip0702)\\\" style=\\\"stroke:#000000; stroke-width:2; stroke-opacity:0.1; fill:none\\\" points=\\\"\\n  703.612,1487.47 703.612,47.2441 \\n  \\\"\\/>\\n<polyline clip-path=\\\"url(#clip0702)\\\" style=\\\"stroke:#000000; stroke-width:2; stroke-opacity:0.1; fill:none\\\" points=\\\"\\n  1253.33,1487.47 1253.33,47.2441 \\n  \\\"\\/>\\n<polyline clip-path=\\\"url(#clip0702)\\\" style=\\\"stroke:#000000; stroke-width:2; stroke-opacity:0.1; fill:none\\\" points=\\\"\\n  1803.04,1487.47 1803.04,47.2441 \\n  \\\"\\/>\\n<polyline clip-path=\\\"url(#clip0702)\\\" style=\\\"stroke:#000000; stroke-width:2; stroke-opacity:0.1; fill:none\\\" points=\\\"\\n  2352.76,1487.47 2352.76,47.2441 \\n  \\\"\\/>\\n<polyline clip-path=\\\"url(#clip0702)\\\" style=\\\"stroke:#000000; stroke-width:2; stroke-opacity:0.1; fill:none\\\" points=\\\"\\n  153.898,1487.47 2352.76,1487.47 \\n  \\\"\\/>\\n<polyline clip-path=\\\"url(#clip0702)\\\" style=\\\"stroke:#000000; stroke-width:2; stroke-opacity:0.1; fill:none\\\" points=\\\"\\n  153.898,1199.43 2352.76,1199.43 \\n  \\\"\\/>\\n<polyline clip-path=\\\"url(#clip0702)\\\" style=\\\"stroke:#000000; stroke-width:2; stroke-opacity:0.1; fill:none\\\" points=\\\"\\n  153.898,911.382 2352.76,911.382 \\n  \\\"\\/>\\n<polyline clip-path=\\\"url(#clip0702)\\\" style=\\\"stroke:#000000; stroke-width:2; stroke-opacity:0.1; fill:none\\\" points=\\\"\\n  153.898,623.336 2352.76,623.336 \\n  \\\"\\/>\\n<polyline clip-path=\\\"url(#clip0702)\\\" style=\\\"stroke:#000000; stroke-width:2; stroke-opacity:0.1; fill:none\\\" points=\\\"\\n  153.898,335.29 2352.76,335.29 \\n  \\\"\\/>\\n<polyline clip-path=\\\"url(#clip0702)\\\" style=\\\"stroke:#000000; stroke-width:2; stroke-opacity:0.1; fill:none\\\" points=\\\"\\n  153.898,47.2441 2352.76,47.2441 \\n  \\\"\\/>\\n<polyline clip-path=\\\"url(#clip0700)\\\" style=\\\"stroke:#000000; stroke-width:4; stroke-opacity:1; fill:none\\\" points=\\\"\\n  153.898,1487.47 2352.76,1487.47 \\n  \\\"\\/>\\n<polyline clip-path=\\\"url(#clip0700)\\\" style=\\\"stroke:#000000; stroke-width:4; stroke-opacity:1; fill:none\\\" points=\\\"\\n  153.898,1487.47 153.898,47.2441 \\n  \\\"\\/>\\n<polyline clip-path=\\\"url(#clip0700)\\\" style=\\\"stroke:#000000; stroke-width:4; stroke-opacity:1; fill:none\\\" points=\\\"\\n  153.898,1487.47 153.898,1470.19 \\n  \\\"\\/>\\n<polyline clip-path=\\\"url(#clip0700)\\\" style=\\\"stroke:#000000; stroke-width:4; stroke-opacity:1; fill:none\\\" points=\\\"\\n  703.612,1487.47 703.612,1470.19 \\n  \\\"\\/>\\n<polyline clip-path=\\\"url(#clip0700)\\\" style=\\\"stroke:#000000; stroke-width:4; stroke-opacity:1; fill:none\\\" points=\\\"\\n  1253.33,1487.47 1253.33,1470.19 \\n  \\\"\\/>\\n<polyline clip-path=\\\"url(#clip0700)\\\" style=\\\"stroke:#000000; stroke-width:4; stroke-opacity:1; fill:none\\\" points=\\\"\\n  1803.04,1487.47 1803.04,1470.19 \\n  \\\"\\/>\\n<polyline clip-path=\\\"url(#clip0700)\\\" style=\\\"stroke:#000000; stroke-width:4; stroke-opacity:1; fill:none\\\" points=\\\"\\n  2352.76,1487.47 2352.76,1470.19 \\n  \\\"\\/>\\n<polyline clip-path=\\\"url(#clip0700)\\\" style=\\\"stroke:#000000; stroke-width:4; stroke-opacity:1; fill:none\\\" points=\\\"\\n  153.898,1487.47 180.284,1487.47 \\n  \\\"\\/>\\n<polyline clip-path=\\\"url(#clip0700)\\\" style=\\\"stroke:#000000; stroke-width:4; stroke-opacity:1; fill:none\\\" points=\\\"\\n  153.898,1199.43 180.284,1199.43 \\n  \\\"\\/>\\n<polyline clip-path=\\\"url(#clip0700)\\\" style=\\\"stroke:#000000; stroke-width:4; stroke-opacity:1; fill:none\\\" points=\\\"\\n  153.898,911.382 180.284,911.382 \\n  \\\"\\/>\\n<polyline clip-path=\\\"url(#clip0700)\\\" style=\\\"stroke:#000000; stroke-width:4; stroke-opacity:1; fill:none\\\" points=\\\"\\n  153.898,623.336 180.284,623.336 \\n  \\\"\\/>\\n<polyline clip-path=\\\"url(#clip0700)\\\" style=\\\"stroke:#000000; stroke-width:4; stroke-opacity:1; fill:none\\\" points=\\\"\\n  153.898,335.29 180.284,335.29 \\n  \\\"\\/>\\n<polyline clip-path=\\\"url(#clip0700)\\\" style=\\\"stroke:#000000; stroke-width:4; stroke-opacity:1; fill:none\\\" points=\\\"\\n  153.898,47.2441 180.284,47.2441 \\n  \\\"\\/>\\n<g clip-path=\\\"url(#clip0700)\\\">\\n<text style=\\\"fill:#000000; fill-opacity:1; font-family:Arial,Helvetica Neue,Helvetica,sans-serif; font-size:48px; text-anchor:middle;\\\" transform=\\\"rotate(0, 153.898, 1541.47)\\\" x=\\\"153.898\\\" y=\\\"1541.47\\\">0<\\/text>\\n<\\/g>\\n<g clip-path=\\\"url(#clip0700)\\\">\\n<text style=\\\"fill:#000000; fill-opacity:1; font-family:Arial,Helvetica Neue,Helvetica,sans-serif; font-size:48px; text-anchor:middle;\\\" transform=\\\"rotate(0, 703.612, 1541.47)\\\" x=\\\"703.612\\\" y=\\\"1541.47\\\">10<\\/text>\\n<\\/g>\\n<g clip-path=\\\"url(#clip0700)\\\">\\n<text style=\\\"fill:#000000; fill-opacity:1; font-family:Arial,Helvetica Neue,Helvetica,sans-serif; font-size:48px; text-anchor:middle;\\\" transform=\\\"rotate(0, 1253.33, 1541.47)\\\" x=\\\"1253.33\\\" y=\\\"1541.47\\\">20<\\/text>\\n<\\/g>\\n<g clip-path=\\\"url(#clip0700)\\\">\\n<text style=\\\"fill:#000000; fill-opacity:1; font-family:Arial,Helvetica Neue,Helvetica,sans-serif; font-size:48px; text-anchor:middle;\\\" transform=\\\"rotate(0, 1803.04, 1541.47)\\\" x=\\\"1803.04\\\" y=\\\"1541.47\\\">30<\\/text>\\n<\\/g>\\n<g clip-path=\\\"url(#clip0700)\\\">\\n<text style=\\\"fill:#000000; fill-opacity:1; font-family:Arial,Helvetica Neue,Helvetica,sans-serif; font-size:48px; text-anchor:middle;\\\" transform=\\\"rotate(0, 2352.76, 1541.47)\\\" x=\\\"2352.76\\\" y=\\\"1541.47\\\">40<\\/text>\\n<\\/g>\\n<g clip-path=\\\"url(#clip0700)\\\">\\n<text style=\\\"fill:#000000; fill-opacity:1; font-family:Arial,Helvetica Neue,Helvetica,sans-serif; font-size:48px; text-anchor:end;\\\" transform=\\\"rotate(0, 129.898, 1504.97)\\\" x=\\\"129.898\\\" y=\\\"1504.97\\\">0.0<\\/text>\\n<\\/g>\\n<g clip-path=\\\"url(#clip0700)\\\">\\n<text style=\\\"fill:#000000; fill-opacity:1; font-family:Arial,Helvetica Neue,Helvetica,sans-serif; font-size:48px; text-anchor:end;\\\" transform=\\\"rotate(0, 129.898, 1216.93)\\\" x=\\\"129.898\\\" y=\\\"1216.93\\\">0.2<\\/text>\\n<\\/g>\\n<g clip-path=\\\"url(#clip0700)\\\">\\n<text style=\\\"fill:#000000; fill-opacity:1; font-family:Arial,Helvetica Neue,Helvetica,sans-serif; font-size:48px; text-anchor:end;\\\" transform=\\\"rotate(0, 129.898, 928.882)\\\" x=\\\"129.898\\\" y=\\\"928.882\\\">0.4<\\/text>\\n<\\/g>\\n<g clip-path=\\\"url(#clip0700)\\\">\\n<text style=\\\"fill:#000000; fill-opacity:1; font-family:Arial,Helvetica Neue,Helvetica,sans-serif; font-size:48px; text-anchor:end;\\\" transform=\\\"rotate(0, 129.898, 640.836)\\\" x=\\\"129.898\\\" y=\\\"640.836\\\">0.6<\\/text>\\n<\\/g>\\n<g clip-path=\\\"url(#clip0700)\\\">\\n<text style=\\\"fill:#000000; fill-opacity:1; font-family:Arial,Helvetica Neue,Helvetica,sans-serif; font-size:48px; text-anchor:end;\\\" transform=\\\"rotate(0, 129.898, 352.79)\\\" x=\\\"129.898\\\" y=\\\"352.79\\\">0.8<\\/text>\\n<\\/g>\\n<g clip-path=\\\"url(#clip0700)\\\">\\n<text style=\\\"fill:#000000; fill-opacity:1; font-family:Arial,Helvetica Neue,Helvetica,sans-serif; font-size:48px; text-anchor:end;\\\" transform=\\\"rotate(0, 129.898, 64.7441)\\\" x=\\\"129.898\\\" y=\\\"64.7441\\\">1.0<\\/text>\\n<\\/g>\\n<polyline clip-path=\\\"url(#clip0702)\\\" style=\\\"stroke:#009af9; stroke-width:4; stroke-opacity:1; fill:none\\\" points=\\\"\\n  153.898,1487.47 208.869,1487.47 208.869,1343.45 263.841,1343.45 263.841,1213.83 318.812,1213.83 318.812,1097.17 373.784,1097.17 373.784,992.179 428.755,992.179 \\n  428.755,897.686 483.727,897.686 483.727,812.642 538.698,812.642 538.698,736.102 593.67,736.102 593.67,667.216 648.641,667.216 648.641,605.219 703.612,605.219 \\n  703.612,549.421 758.584,549.421 758.584,499.204 813.555,499.204 813.555,454.008 868.527,454.008 868.527,413.331 923.498,413.331 923.498,376.723 978.47,376.723 \\n  978.47,343.775 1033.44,343.775 1033.44,314.122 1088.41,314.122 1088.41,287.434 1143.38,287.434 1143.38,263.415 1198.36,263.415 1198.36,241.798 1253.33,241.798 \\n  1253.33,222.343 1308.3,222.343 1308.3,204.833 1363.27,204.833 1363.27,189.074 1418.24,189.074 1418.24,174.891 1473.21,174.891 1473.21,162.126 1528.18,162.126 \\n  1528.18,150.638 1583.16,150.638 1583.16,140.299 1638.13,140.299 1638.13,130.993 1693.1,130.993 1693.1,122.618 1748.07,122.618 1748.07,115.081 1803.04,115.081 \\n  1803.04,108.297 1858.01,108.297 1858.01,102.192 1912.98,102.192 1912.98,96.6971 1967.96,96.6971 1967.96,91.7518 2022.93,91.7518 2022.93,87.301 2077.9,87.301 \\n  2077.9,83.2953 2132.87,83.2953 2132.87,79.6902 2187.84,79.6902 2187.84,76.4456 2242.81,76.4456 2242.81,73.5254 2297.78,73.5254 2297.78,70.8973 2352.76,70.8973 \\n  2352.76,68.532 \\n  \\\"\\/>\\n<circle clip-path=\\\"url(#clip0702)\\\" cx=\\\"208.869\\\" cy=\\\"1343.45\\\" r=\\\"14\\\" fill=\\\"#e26f46\\\" fill-rule=\\\"evenodd\\\" fill-opacity=\\\"1\\\" stroke=\\\"#000000\\\" stroke-opacity=\\\"1\\\" stroke-width=\\\"3.2\\\"\\/>\\n<circle clip-path=\\\"url(#clip0702)\\\" cx=\\\"263.841\\\" cy=\\\"1213.83\\\" r=\\\"14\\\" fill=\\\"#e26f46\\\" fill-rule=\\\"evenodd\\\" fill-opacity=\\\"1\\\" stroke=\\\"#000000\\\" stroke-opacity=\\\"1\\\" stroke-width=\\\"3.2\\\"\\/>\\n<circle clip-path=\\\"url(#clip0702)\\\" cx=\\\"318.812\\\" cy=\\\"1097.17\\\" r=\\\"14\\\" fill=\\\"#e26f46\\\" fill-rule=\\\"evenodd\\\" fill-opacity=\\\"1\\\" stroke=\\\"#000000\\\" stroke-opacity=\\\"1\\\" stroke-width=\\\"3.2\\\"\\/>\\n<circle clip-path=\\\"url(#clip0702)\\\" cx=\\\"373.784\\\" cy=\\\"992.179\\\" r=\\\"14\\\" fill=\\\"#e26f46\\\" fill-rule=\\\"evenodd\\\" fill-opacity=\\\"1\\\" stroke=\\\"#000000\\\" stroke-opacity=\\\"1\\\" stroke-width=\\\"3.2\\\"\\/>\\n<circle clip-path=\\\"url(#clip0702)\\\" cx=\\\"428.755\\\" cy=\\\"897.686\\\" r=\\\"14\\\" fill=\\\"#e26f46\\\" fill-rule=\\\"evenodd\\\" fill-opacity=\\\"1\\\" stroke=\\\"#000000\\\" stroke-opacity=\\\"1\\\" stroke-width=\\\"3.2\\\"\\/>\\n<circle clip-path=\\\"url(#clip0702)\\\" cx=\\\"483.727\\\" cy=\\\"812.642\\\" r=\\\"14\\\" fill=\\\"#e26f46\\\" fill-rule=\\\"evenodd\\\" fill-opacity=\\\"1\\\" stroke=\\\"#000000\\\" stroke-opacity=\\\"1\\\" stroke-width=\\\"3.2\\\"\\/>\\n<circle clip-path=\\\"url(#clip0702)\\\" cx=\\\"538.698\\\" cy=\\\"736.102\\\" r=\\\"14\\\" fill=\\\"#e26f46\\\" fill-rule=\\\"evenodd\\\" fill-opacity=\\\"1\\\" stroke=\\\"#000000\\\" stroke-opacity=\\\"1\\\" stroke-width=\\\"3.2\\\"\\/>\\n<circle clip-path=\\\"url(#clip0702)\\\" cx=\\\"593.67\\\" cy=\\\"667.216\\\" r=\\\"14\\\" fill=\\\"#e26f46\\\" fill-rule=\\\"evenodd\\\" fill-opacity=\\\"1\\\" stroke=\\\"#000000\\\" stroke-opacity=\\\"1\\\" stroke-width=\\\"3.2\\\"\\/>\\n<circle clip-path=\\\"url(#clip0702)\\\" cx=\\\"648.641\\\" cy=\\\"605.219\\\" r=\\\"14\\\" fill=\\\"#e26f46\\\" fill-rule=\\\"evenodd\\\" fill-opacity=\\\"1\\\" stroke=\\\"#000000\\\" stroke-opacity=\\\"1\\\" stroke-width=\\\"3.2\\\"\\/>\\n<circle clip-path=\\\"url(#clip0702)\\\" cx=\\\"703.612\\\" cy=\\\"549.421\\\" r=\\\"14\\\" fill=\\\"#e26f46\\\" fill-rule=\\\"evenodd\\\" fill-opacity=\\\"1\\\" stroke=\\\"#000000\\\" stroke-opacity=\\\"1\\\" stroke-width=\\\"3.2\\\"\\/>\\n<circle clip-path=\\\"url(#clip0702)\\\" cx=\\\"758.584\\\" cy=\\\"499.204\\\" r=\\\"14\\\" fill=\\\"#e26f46\\\" fill-rule=\\\"evenodd\\\" fill-opacity=\\\"1\\\" stroke=\\\"#000000\\\" stroke-opacity=\\\"1\\\" stroke-width=\\\"3.2\\\"\\/>\\n<circle clip-path=\\\"url(#clip0702)\\\" cx=\\\"813.555\\\" cy=\\\"454.008\\\" r=\\\"14\\\" fill=\\\"#e26f46\\\" fill-rule=\\\"evenodd\\\" fill-opacity=\\\"1\\\" stroke=\\\"#000000\\\" stroke-opacity=\\\"1\\\" stroke-width=\\\"3.2\\\"\\/>\\n<circle clip-path=\\\"url(#clip0702)\\\" cx=\\\"868.527\\\" cy=\\\"413.331\\\" r=\\\"14\\\" fill=\\\"#e26f46\\\" fill-rule=\\\"evenodd\\\" fill-opacity=\\\"1\\\" stroke=\\\"#000000\\\" stroke-opacity=\\\"1\\\" stroke-width=\\\"3.2\\\"\\/>\\n<circle clip-path=\\\"url(#clip0702)\\\" cx=\\\"923.498\\\" cy=\\\"376.723\\\" r=\\\"14\\\" fill=\\\"#e26f46\\\" fill-rule=\\\"evenodd\\\" fill-opacity=\\\"1\\\" stroke=\\\"#000000\\\" stroke-opacity=\\\"1\\\" stroke-width=\\\"3.2\\\"\\/>\\n<circle clip-path=\\\"url(#clip0702)\\\" cx=\\\"978.47\\\" cy=\\\"343.775\\\" r=\\\"14\\\" fill=\\\"#e26f46\\\" fill-rule=\\\"evenodd\\\" fill-opacity=\\\"1\\\" stroke=\\\"#000000\\\" stroke-opacity=\\\"1\\\" stroke-width=\\\"3.2\\\"\\/>\\n<circle clip-path=\\\"url(#clip0702)\\\" cx=\\\"1033.44\\\" cy=\\\"314.122\\\" r=\\\"14\\\" fill=\\\"#e26f46\\\" fill-rule=\\\"evenodd\\\" fill-opacity=\\\"1\\\" stroke=\\\"#000000\\\" stroke-opacity=\\\"1\\\" stroke-width=\\\"3.2\\\"\\/>\\n<circle clip-path=\\\"url(#clip0702)\\\" cx=\\\"1088.41\\\" cy=\\\"287.434\\\" r=\\\"14\\\" fill=\\\"#e26f46\\\" fill-rule=\\\"evenodd\\\" fill-opacity=\\\"1\\\" stroke=\\\"#000000\\\" stroke-opacity=\\\"1\\\" stroke-width=\\\"3.2\\\"\\/>\\n<circle clip-path=\\\"url(#clip0702)\\\" cx=\\\"1143.38\\\" cy=\\\"263.415\\\" r=\\\"14\\\" fill=\\\"#e26f46\\\" fill-rule=\\\"evenodd\\\" fill-opacity=\\\"1\\\" stroke=\\\"#000000\\\" stroke-opacity=\\\"1\\\" stroke-width=\\\"3.2\\\"\\/>\\n<circle clip-path=\\\"url(#clip0702)\\\" cx=\\\"1198.36\\\" cy=\\\"241.798\\\" r=\\\"14\\\" fill=\\\"#e26f46\\\" fill-rule=\\\"evenodd\\\" fill-opacity=\\\"1\\\" stroke=\\\"#000000\\\" stroke-opacity=\\\"1\\\" stroke-width=\\\"3.2\\\"\\/>\\n<circle clip-path=\\\"url(#clip0702)\\\" cx=\\\"1253.33\\\" cy=\\\"222.343\\\" r=\\\"14\\\" fill=\\\"#e26f46\\\" fill-rule=\\\"evenodd\\\" fill-opacity=\\\"1\\\" stroke=\\\"#000000\\\" stroke-opacity=\\\"1\\\" stroke-width=\\\"3.2\\\"\\/>\\n<circle clip-path=\\\"url(#clip0702)\\\" cx=\\\"1308.3\\\" cy=\\\"204.833\\\" r=\\\"14\\\" fill=\\\"#e26f46\\\" fill-rule=\\\"evenodd\\\" fill-opacity=\\\"1\\\" stroke=\\\"#000000\\\" stroke-opacity=\\\"1\\\" stroke-width=\\\"3.2\\\"\\/>\\n<circle clip-path=\\\"url(#clip0702)\\\" cx=\\\"1363.27\\\" cy=\\\"189.074\\\" r=\\\"14\\\" fill=\\\"#e26f46\\\" fill-rule=\\\"evenodd\\\" fill-opacity=\\\"1\\\" stroke=\\\"#000000\\\" stroke-opacity=\\\"1\\\" stroke-width=\\\"3.2\\\"\\/>\\n<circle clip-path=\\\"url(#clip0702)\\\" cx=\\\"1418.24\\\" cy=\\\"174.891\\\" r=\\\"14\\\" fill=\\\"#e26f46\\\" fill-rule=\\\"evenodd\\\" fill-opacity=\\\"1\\\" stroke=\\\"#000000\\\" stroke-opacity=\\\"1\\\" stroke-width=\\\"3.2\\\"\\/>\\n<circle clip-path=\\\"url(#clip0702)\\\" cx=\\\"1473.21\\\" cy=\\\"162.126\\\" r=\\\"14\\\" fill=\\\"#e26f46\\\" fill-rule=\\\"evenodd\\\" fill-opacity=\\\"1\\\" stroke=\\\"#000000\\\" stroke-opacity=\\\"1\\\" stroke-width=\\\"3.2\\\"\\/>\\n<circle clip-path=\\\"url(#clip0702)\\\" cx=\\\"1528.18\\\" cy=\\\"150.638\\\" r=\\\"14\\\" fill=\\\"#e26f46\\\" fill-rule=\\\"evenodd\\\" fill-opacity=\\\"1\\\" stroke=\\\"#000000\\\" stroke-opacity=\\\"1\\\" stroke-width=\\\"3.2\\\"\\/>\\n<circle clip-path=\\\"url(#clip0702)\\\" cx=\\\"1583.16\\\" cy=\\\"140.299\\\" r=\\\"14\\\" fill=\\\"#e26f46\\\" fill-rule=\\\"evenodd\\\" fill-opacity=\\\"1\\\" stroke=\\\"#000000\\\" stroke-opacity=\\\"1\\\" stroke-width=\\\"3.2\\\"\\/>\\n<circle clip-path=\\\"url(#clip0702)\\\" cx=\\\"1638.13\\\" cy=\\\"130.993\\\" r=\\\"14\\\" fill=\\\"#e26f46\\\" fill-rule=\\\"evenodd\\\" fill-opacity=\\\"1\\\" stroke=\\\"#000000\\\" stroke-opacity=\\\"1\\\" stroke-width=\\\"3.2\\\"\\/>\\n<circle clip-path=\\\"url(#clip0702)\\\" cx=\\\"1693.1\\\" cy=\\\"122.618\\\" r=\\\"14\\\" fill=\\\"#e26f46\\\" fill-rule=\\\"evenodd\\\" fill-opacity=\\\"1\\\" stroke=\\\"#000000\\\" stroke-opacity=\\\"1\\\" stroke-width=\\\"3.2\\\"\\/>\\n<circle clip-path=\\\"url(#clip0702)\\\" cx=\\\"1748.07\\\" cy=\\\"115.081\\\" r=\\\"14\\\" fill=\\\"#e26f46\\\" fill-rule=\\\"evenodd\\\" fill-opacity=\\\"1\\\" stroke=\\\"#000000\\\" stroke-opacity=\\\"1\\\" stroke-width=\\\"3.2\\\"\\/>\\n<circle clip-path=\\\"url(#clip0702)\\\" cx=\\\"1803.04\\\" cy=\\\"108.297\\\" r=\\\"14\\\" fill=\\\"#e26f46\\\" fill-rule=\\\"evenodd\\\" fill-opacity=\\\"1\\\" stroke=\\\"#000000\\\" stroke-opacity=\\\"1\\\" stroke-width=\\\"3.2\\\"\\/>\\n<circle clip-path=\\\"url(#clip0702)\\\" cx=\\\"1858.01\\\" cy=\\\"102.192\\\" r=\\\"14\\\" fill=\\\"#e26f46\\\" fill-rule=\\\"evenodd\\\" fill-opacity=\\\"1\\\" stroke=\\\"#000000\\\" stroke-opacity=\\\"1\\\" stroke-width=\\\"3.2\\\"\\/>\\n<circle clip-path=\\\"url(#clip0702)\\\" cx=\\\"1912.98\\\" cy=\\\"96.6971\\\" r=\\\"14\\\" fill=\\\"#e26f46\\\" fill-rule=\\\"evenodd\\\" fill-opacity=\\\"1\\\" stroke=\\\"#000000\\\" stroke-opacity=\\\"1\\\" stroke-width=\\\"3.2\\\"\\/>\\n<circle clip-path=\\\"url(#clip0702)\\\" cx=\\\"1967.96\\\" cy=\\\"91.7518\\\" r=\\\"14\\\" fill=\\\"#e26f46\\\" fill-rule=\\\"evenodd\\\" fill-opacity=\\\"1\\\" stroke=\\\"#000000\\\" stroke-opacity=\\\"1\\\" stroke-width=\\\"3.2\\\"\\/>\\n<circle clip-path=\\\"url(#clip0702)\\\" cx=\\\"2022.93\\\" cy=\\\"87.301\\\" r=\\\"14\\\" fill=\\\"#e26f46\\\" fill-rule=\\\"evenodd\\\" fill-opacity=\\\"1\\\" stroke=\\\"#000000\\\" stroke-opacity=\\\"1\\\" stroke-width=\\\"3.2\\\"\\/>\\n<circle clip-path=\\\"url(#clip0702)\\\" cx=\\\"2077.9\\\" cy=\\\"83.2953\\\" r=\\\"14\\\" fill=\\\"#e26f46\\\" fill-rule=\\\"evenodd\\\" fill-opacity=\\\"1\\\" stroke=\\\"#000000\\\" stroke-opacity=\\\"1\\\" stroke-width=\\\"3.2\\\"\\/>\\n<circle clip-path=\\\"url(#clip0702)\\\" cx=\\\"2132.87\\\" cy=\\\"79.6902\\\" r=\\\"14\\\" fill=\\\"#e26f46\\\" fill-rule=\\\"evenodd\\\" fill-opacity=\\\"1\\\" stroke=\\\"#000000\\\" stroke-opacity=\\\"1\\\" stroke-width=\\\"3.2\\\"\\/>\\n<circle clip-path=\\\"url(#clip0702)\\\" cx=\\\"2187.84\\\" cy=\\\"76.4456\\\" r=\\\"14\\\" fill=\\\"#e26f46\\\" fill-rule=\\\"evenodd\\\" fill-opacity=\\\"1\\\" stroke=\\\"#000000\\\" stroke-opacity=\\\"1\\\" stroke-width=\\\"3.2\\\"\\/>\\n<circle clip-path=\\\"url(#clip0702)\\\" cx=\\\"2242.81\\\" cy=\\\"73.5254\\\" r=\\\"14\\\" fill=\\\"#e26f46\\\" fill-rule=\\\"evenodd\\\" fill-opacity=\\\"1\\\" stroke=\\\"#000000\\\" stroke-opacity=\\\"1\\\" stroke-width=\\\"3.2\\\"\\/>\\n<circle clip-path=\\\"url(#clip0702)\\\" cx=\\\"2297.78\\\" cy=\\\"70.8973\\\" r=\\\"14\\\" fill=\\\"#e26f46\\\" fill-rule=\\\"evenodd\\\" fill-opacity=\\\"1\\\" stroke=\\\"#000000\\\" stroke-opacity=\\\"1\\\" stroke-width=\\\"3.2\\\"\\/>\\n<circle clip-path=\\\"url(#clip0702)\\\" cx=\\\"2352.76\\\" cy=\\\"68.532\\\" r=\\\"14\\\" fill=\\\"#e26f46\\\" fill-rule=\\\"evenodd\\\" fill-opacity=\\\"1\\\" stroke=\\\"#000000\\\" stroke-opacity=\\\"1\\\" stroke-width=\\\"3.2\\\"\\/>\\n<polyline clip-path=\\\"url(#clip0702)\\\" style=\\\"stroke:#3da44d; stroke-width:4; stroke-opacity:1; fill:none\\\" points=\\\"\\n  153.898,1487.47 181.384,1487.47 181.384,767.359 208.869,767.359 208.869,407.302 236.355,407.302 236.355,227.273 263.841,227.273 263.841,137.259 291.327,137.259 \\n  291.327,92.2513 318.812,92.2513 318.812,69.7477 346.298,69.7477 346.298,58.4959 373.784,58.4959 373.784,52.87 401.269,52.87 401.269,50.057 428.755,50.057 \\n  428.755,48.6506 456.241,48.6506 456.241,47.9473 483.727,47.9473 483.727,47.5957 511.212,47.5957 511.212,47.4199 538.698,47.4199 538.698,47.332 566.184,47.332 \\n  566.184,47.288 593.67,47.288 593.67,47.2661 621.155,47.2661 621.155,47.2551 648.641,47.2551 648.641,47.2496 676.127,47.2496 676.127,47.2468 703.612,47.2468 \\n  703.612,47.2455 731.098,47.2455 731.098,47.2448 758.584,47.2448 758.584,47.2444 786.07,47.2444 786.07,47.2443 813.555,47.2443 813.555,47.2442 841.041,47.2442 \\n  841.041,47.2441 868.527,47.2441 868.527,47.2441 896.013,47.2441 896.013,47.2441 923.498,47.2441 923.498,47.2441 950.984,47.2441 950.984,47.2441 978.47,47.2441 \\n  978.47,47.2441 1005.96,47.2441 1005.96,47.2441 1033.44,47.2441 1033.44,47.2441 1060.93,47.2441 1060.93,47.2441 1088.41,47.2441 1088.41,47.2441 1115.9,47.2441 \\n  1115.9,47.2441 1143.38,47.2441 1143.38,47.2441 1170.87,47.2441 1170.87,47.2441 1198.36,47.2441 1198.36,47.2441 1225.84,47.2441 1225.84,47.2441 1253.33,47.2441 \\n  1253.33,47.2441 1280.81,47.2441 1280.81,47.2441 1308.3,47.2441 1308.3,47.2441 1335.78,47.2441 1335.78,47.2441 1363.27,47.2441 1363.27,47.2441 1390.76,47.2441 \\n  1390.76,47.2441 1418.24,47.2441 1418.24,47.2441 1445.73,47.2441 1445.73,47.2441 1473.21,47.2441 1473.21,47.2441 1500.7,47.2441 1500.7,47.2441 1528.18,47.2441 \\n  1528.18,47.2441 1555.67,47.2441 1555.67,47.2441 1583.16,47.2441 1583.16,47.2441 1610.64,47.2441 1638.13,47.2441 1638.13,47.2441 1665.61,47.2441 \\n  1693.1,47.2441 1720.58,47.2441 1748.07,47.2441 1775.56,47.2441 1803.04,47.2441 \\n  1830.53,47.2441 1858.01,47.2441 1885.5,47.2441 1912.98,47.2441 1940.47,47.2441 \\n  1967.96,47.2441 1995.44,47.2441 2022.93,47.2441 2050.41,47.2441 2077.9,47.2441 \\n  2105.38,47.2441 2132.87,47.2441 2160.36,47.2441 2187.84,47.2441 2215.33,47.2441 \\n  2242.81,47.2441 2270.3,47.2441 2297.78,47.2441 2325.27,47.2441 2352.76,47.2441 \\n  2380.24,47.2441 2407.73,47.2441 2435.21,47.2441 2462.7,47.2441 2490.18,47.2441 \\n  2517.67,47.2441 2545.16,47.2441 2572.64,47.2441 2600.13,47.2441 2627.61,47.2441 \\n  2655.1,47.2441 2682.58,47.2441 2710.07,47.2441 2737.56,47.2441 2765.04,47.2441 \\n  2792.53,47.2441 2820.01,47.2441 2847.5,47.2441 2874.98,47.2441 2902.47,47.2441 \\n  \\n  \\\"\\/>\\n<circle clip-path=\\\"url(#clip0702)\\\" cx=\\\"181.384\\\" cy=\\\"767.359\\\" r=\\\"14\\\" fill=\\\"#c271d2\\\" fill-rule=\\\"evenodd\\\" fill-opacity=\\\"1\\\" stroke=\\\"#000000\\\" stroke-opacity=\\\"1\\\" stroke-width=\\\"3.2\\\"\\/>\\n<circle clip-path=\\\"url(#clip0702)\\\" cx=\\\"208.869\\\" cy=\\\"407.302\\\" r=\\\"14\\\" fill=\\\"#c271d2\\\" fill-rule=\\\"evenodd\\\" fill-opacity=\\\"1\\\" stroke=\\\"#000000\\\" stroke-opacity=\\\"1\\\" stroke-width=\\\"3.2\\\"\\/>\\n<circle clip-path=\\\"url(#clip0702)\\\" cx=\\\"236.355\\\" cy=\\\"227.273\\\" r=\\\"14\\\" fill=\\\"#c271d2\\\" fill-rule=\\\"evenodd\\\" fill-opacity=\\\"1\\\" stroke=\\\"#000000\\\" stroke-opacity=\\\"1\\\" stroke-width=\\\"3.2\\\"\\/>\\n<circle clip-path=\\\"url(#clip0702)\\\" cx=\\\"263.841\\\" cy=\\\"137.259\\\" r=\\\"14\\\" fill=\\\"#c271d2\\\" fill-rule=\\\"evenodd\\\" fill-opacity=\\\"1\\\" stroke=\\\"#000000\\\" stroke-opacity=\\\"1\\\" stroke-width=\\\"3.2\\\"\\/>\\n<circle clip-path=\\\"url(#clip0702)\\\" cx=\\\"291.327\\\" cy=\\\"92.2513\\\" r=\\\"14\\\" fill=\\\"#c271d2\\\" fill-rule=\\\"evenodd\\\" fill-opacity=\\\"1\\\" stroke=\\\"#000000\\\" stroke-opacity=\\\"1\\\" stroke-width=\\\"3.2\\\"\\/>\\n<circle clip-path=\\\"url(#clip0702)\\\" cx=\\\"318.812\\\" cy=\\\"69.7477\\\" r=\\\"14\\\" fill=\\\"#c271d2\\\" fill-rule=\\\"evenodd\\\" fill-opacity=\\\"1\\\" stroke=\\\"#000000\\\" stroke-opacity=\\\"1\\\" stroke-width=\\\"3.2\\\"\\/>\\n<circle clip-path=\\\"url(#clip0702)\\\" cx=\\\"346.298\\\" cy=\\\"58.4959\\\" r=\\\"14\\\" fill=\\\"#c271d2\\\" fill-rule=\\\"evenodd\\\" fill-opacity=\\\"1\\\" stroke=\\\"#000000\\\" stroke-opacity=\\\"1\\\" stroke-width=\\\"3.2\\\"\\/>\\n<circle clip-path=\\\"url(#clip0702)\\\" cx=\\\"373.784\\\" cy=\\\"52.87\\\" r=\\\"14\\\" fill=\\\"#c271d2\\\" fill-rule=\\\"evenodd\\\" fill-opacity=\\\"1\\\" stroke=\\\"#000000\\\" stroke-opacity=\\\"1\\\" stroke-width=\\\"3.2\\\"\\/>\\n<circle clip-path=\\\"url(#clip0702)\\\" cx=\\\"401.269\\\" cy=\\\"50.057\\\" r=\\\"14\\\" fill=\\\"#c271d2\\\" fill-rule=\\\"evenodd\\\" fill-opacity=\\\"1\\\" stroke=\\\"#000000\\\" stroke-opacity=\\\"1\\\" stroke-width=\\\"3.2\\\"\\/>\\n<circle clip-path=\\\"url(#clip0702)\\\" cx=\\\"428.755\\\" cy=\\\"48.6506\\\" r=\\\"14\\\" fill=\\\"#c271d2\\\" fill-rule=\\\"evenodd\\\" fill-opacity=\\\"1\\\" stroke=\\\"#000000\\\" stroke-opacity=\\\"1\\\" stroke-width=\\\"3.2\\\"\\/>\\n<circle clip-path=\\\"url(#clip0702)\\\" cx=\\\"456.241\\\" cy=\\\"47.9473\\\" r=\\\"14\\\" fill=\\\"#c271d2\\\" fill-rule=\\\"evenodd\\\" fill-opacity=\\\"1\\\" stroke=\\\"#000000\\\" stroke-opacity=\\\"1\\\" stroke-width=\\\"3.2\\\"\\/>\\n<circle clip-path=\\\"url(#clip0702)\\\" cx=\\\"483.727\\\" cy=\\\"47.5957\\\" r=\\\"14\\\" fill=\\\"#c271d2\\\" fill-rule=\\\"evenodd\\\" fill-opacity=\\\"1\\\" stroke=\\\"#000000\\\" stroke-opacity=\\\"1\\\" stroke-width=\\\"3.2\\\"\\/>\\n<circle clip-path=\\\"url(#clip0702)\\\" cx=\\\"511.212\\\" cy=\\\"47.4199\\\" r=\\\"14\\\" fill=\\\"#c271d2\\\" fill-rule=\\\"evenodd\\\" fill-opacity=\\\"1\\\" stroke=\\\"#000000\\\" stroke-opacity=\\\"1\\\" stroke-width=\\\"3.2\\\"\\/>\\n<circle clip-path=\\\"url(#clip0702)\\\" cx=\\\"538.698\\\" cy=\\\"47.332\\\" r=\\\"14\\\" fill=\\\"#c271d2\\\" fill-rule=\\\"evenodd\\\" fill-opacity=\\\"1\\\" stroke=\\\"#000000\\\" stroke-opacity=\\\"1\\\" stroke-width=\\\"3.2\\\"\\/>\\n<circle clip-path=\\\"url(#clip0702)\\\" cx=\\\"566.184\\\" cy=\\\"47.288\\\" r=\\\"14\\\" fill=\\\"#c271d2\\\" fill-rule=\\\"evenodd\\\" fill-opacity=\\\"1\\\" stroke=\\\"#000000\\\" stroke-opacity=\\\"1\\\" stroke-width=\\\"3.2\\\"\\/>\\n<circle clip-path=\\\"url(#clip0702)\\\" cx=\\\"593.67\\\" cy=\\\"47.2661\\\" r=\\\"14\\\" fill=\\\"#c271d2\\\" fill-rule=\\\"evenodd\\\" fill-opacity=\\\"1\\\" stroke=\\\"#000000\\\" stroke-opacity=\\\"1\\\" stroke-width=\\\"3.2\\\"\\/>\\n<circle clip-path=\\\"url(#clip0702)\\\" cx=\\\"621.155\\\" cy=\\\"47.2551\\\" r=\\\"14\\\" fill=\\\"#c271d2\\\" fill-rule=\\\"evenodd\\\" fill-opacity=\\\"1\\\" stroke=\\\"#000000\\\" stroke-opacity=\\\"1\\\" stroke-width=\\\"3.2\\\"\\/>\\n<circle clip-path=\\\"url(#clip0702)\\\" cx=\\\"648.641\\\" cy=\\\"47.2496\\\" r=\\\"14\\\" fill=\\\"#c271d2\\\" fill-rule=\\\"evenodd\\\" fill-opacity=\\\"1\\\" stroke=\\\"#000000\\\" stroke-opacity=\\\"1\\\" stroke-width=\\\"3.2\\\"\\/>\\n<circle clip-path=\\\"url(#clip0702)\\\" cx=\\\"676.127\\\" cy=\\\"47.2468\\\" r=\\\"14\\\" fill=\\\"#c271d2\\\" fill-rule=\\\"evenodd\\\" fill-opacity=\\\"1\\\" stroke=\\\"#000000\\\" stroke-opacity=\\\"1\\\" stroke-width=\\\"3.2\\\"\\/>\\n<circle clip-path=\\\"url(#clip0702)\\\" cx=\\\"703.612\\\" cy=\\\"47.2455\\\" r=\\\"14\\\" fill=\\\"#c271d2\\\" fill-rule=\\\"evenodd\\\" fill-opacity=\\\"1\\\" stroke=\\\"#000000\\\" stroke-opacity=\\\"1\\\" stroke-width=\\\"3.2\\\"\\/>\\n<circle clip-path=\\\"url(#clip0702)\\\" cx=\\\"731.098\\\" cy=\\\"47.2448\\\" r=\\\"14\\\" fill=\\\"#c271d2\\\" fill-rule=\\\"evenodd\\\" fill-opacity=\\\"1\\\" stroke=\\\"#000000\\\" stroke-opacity=\\\"1\\\" stroke-width=\\\"3.2\\\"\\/>\\n<circle clip-path=\\\"url(#clip0702)\\\" cx=\\\"758.584\\\" cy=\\\"47.2444\\\" r=\\\"14\\\" fill=\\\"#c271d2\\\" fill-rule=\\\"evenodd\\\" fill-opacity=\\\"1\\\" stroke=\\\"#000000\\\" stroke-opacity=\\\"1\\\" stroke-width=\\\"3.2\\\"\\/>\\n<circle clip-path=\\\"url(#clip0702)\\\" cx=\\\"786.07\\\" cy=\\\"47.2443\\\" r=\\\"14\\\" fill=\\\"#c271d2\\\" fill-rule=\\\"evenodd\\\" fill-opacity=\\\"1\\\" stroke=\\\"#000000\\\" stroke-opacity=\\\"1\\\" stroke-width=\\\"3.2\\\"\\/>\\n<circle clip-path=\\\"url(#clip0702)\\\" cx=\\\"813.555\\\" cy=\\\"47.2442\\\" r=\\\"14\\\" fill=\\\"#c271d2\\\" fill-rule=\\\"evenodd\\\" fill-opacity=\\\"1\\\" stroke=\\\"#000000\\\" stroke-opacity=\\\"1\\\" stroke-width=\\\"3.2\\\"\\/>\\n<circle clip-path=\\\"url(#clip0702)\\\" cx=\\\"841.041\\\" cy=\\\"47.2441\\\" r=\\\"14\\\" fill=\\\"#c271d2\\\" fill-rule=\\\"evenodd\\\" fill-opacity=\\\"1\\\" stroke=\\\"#000000\\\" stroke-opacity=\\\"1\\\" stroke-width=\\\"3.2\\\"\\/>\\n<circle clip-path=\\\"url(#clip0702)\\\" cx=\\\"868.527\\\" cy=\\\"47.2441\\\" r=\\\"14\\\" fill=\\\"#c271d2\\\" fill-rule=\\\"evenodd\\\" fill-opacity=\\\"1\\\" stroke=\\\"#000000\\\" stroke-opacity=\\\"1\\\" stroke-width=\\\"3.2\\\"\\/>\\n<circle clip-path=\\\"url(#clip0702)\\\" cx=\\\"896.013\\\" cy=\\\"47.2441\\\" r=\\\"14\\\" fill=\\\"#c271d2\\\" fill-rule=\\\"evenodd\\\" fill-opacity=\\\"1\\\" stroke=\\\"#000000\\\" stroke-opacity=\\\"1\\\" stroke-width=\\\"3.2\\\"\\/>\\n<circle clip-path=\\\"url(#clip0702)\\\" cx=\\\"923.498\\\" cy=\\\"47.2441\\\" r=\\\"14\\\" fill=\\\"#c271d2\\\" fill-rule=\\\"evenodd\\\" fill-opacity=\\\"1\\\" stroke=\\\"#000000\\\" stroke-opacity=\\\"1\\\" stroke-width=\\\"3.2\\\"\\/>\\n<circle clip-path=\\\"url(#clip0702)\\\" cx=\\\"950.984\\\" cy=\\\"47.2441\\\" r=\\\"14\\\" fill=\\\"#c271d2\\\" fill-rule=\\\"evenodd\\\" fill-opacity=\\\"1\\\" stroke=\\\"#000000\\\" stroke-opacity=\\\"1\\\" stroke-width=\\\"3.2\\\"\\/>\\n<circle clip-path=\\\"url(#clip0702)\\\" cx=\\\"978.47\\\" cy=\\\"47.2441\\\" r=\\\"14\\\" fill=\\\"#c271d2\\\" fill-rule=\\\"evenodd\\\" fill-opacity=\\\"1\\\" stroke=\\\"#000000\\\" stroke-opacity=\\\"1\\\" stroke-width=\\\"3.2\\\"\\/>\\n<circle clip-path=\\\"url(#clip0702)\\\" cx=\\\"1005.96\\\" cy=\\\"47.2441\\\" r=\\\"14\\\" fill=\\\"#c271d2\\\" fill-rule=\\\"evenodd\\\" fill-opacity=\\\"1\\\" stroke=\\\"#000000\\\" stroke-opacity=\\\"1\\\" stroke-width=\\\"3.2\\\"\\/>\\n<circle clip-path=\\\"url(#clip0702)\\\" cx=\\\"1033.44\\\" cy=\\\"47.2441\\\" r=\\\"14\\\" fill=\\\"#c271d2\\\" fill-rule=\\\"evenodd\\\" fill-opacity=\\\"1\\\" stroke=\\\"#000000\\\" stroke-opacity=\\\"1\\\" stroke-width=\\\"3.2\\\"\\/>\\n<circle clip-path=\\\"url(#clip0702)\\\" cx=\\\"1060.93\\\" cy=\\\"47.2441\\\" r=\\\"14\\\" fill=\\\"#c271d2\\\" fill-rule=\\\"evenodd\\\" fill-opacity=\\\"1\\\" stroke=\\\"#000000\\\" stroke-opacity=\\\"1\\\" stroke-width=\\\"3.2\\\"\\/>\\n<circle clip-path=\\\"url(#clip0702)\\\" cx=\\\"1088.41\\\" cy=\\\"47.2441\\\" r=\\\"14\\\" fill=\\\"#c271d2\\\" fill-rule=\\\"evenodd\\\" fill-opacity=\\\"1\\\" stroke=\\\"#000000\\\" stroke-opacity=\\\"1\\\" stroke-width=\\\"3.2\\\"\\/>\\n<circle clip-path=\\\"url(#clip0702)\\\" cx=\\\"1115.9\\\" cy=\\\"47.2441\\\" r=\\\"14\\\" fill=\\\"#c271d2\\\" fill-rule=\\\"evenodd\\\" fill-opacity=\\\"1\\\" stroke=\\\"#000000\\\" stroke-opacity=\\\"1\\\" stroke-width=\\\"3.2\\\"\\/>\\n<circle clip-path=\\\"url(#clip0702)\\\" cx=\\\"1143.38\\\" cy=\\\"47.2441\\\" r=\\\"14\\\" fill=\\\"#c271d2\\\" fill-rule=\\\"evenodd\\\" fill-opacity=\\\"1\\\" stroke=\\\"#000000\\\" stroke-opacity=\\\"1\\\" stroke-width=\\\"3.2\\\"\\/>\\n<circle clip-path=\\\"url(#clip0702)\\\" cx=\\\"1170.87\\\" cy=\\\"47.2441\\\" r=\\\"14\\\" fill=\\\"#c271d2\\\" fill-rule=\\\"evenodd\\\" fill-opacity=\\\"1\\\" stroke=\\\"#000000\\\" stroke-opacity=\\\"1\\\" stroke-width=\\\"3.2\\\"\\/>\\n<circle clip-path=\\\"url(#clip0702)\\\" cx=\\\"1198.36\\\" cy=\\\"47.2441\\\" r=\\\"14\\\" fill=\\\"#c271d2\\\" fill-rule=\\\"evenodd\\\" fill-opacity=\\\"1\\\" stroke=\\\"#000000\\\" stroke-opacity=\\\"1\\\" stroke-width=\\\"3.2\\\"\\/>\\n<circle clip-path=\\\"url(#clip0702)\\\" cx=\\\"1225.84\\\" cy=\\\"47.2441\\\" r=\\\"14\\\" fill=\\\"#c271d2\\\" fill-rule=\\\"evenodd\\\" fill-opacity=\\\"1\\\" stroke=\\\"#000000\\\" stroke-opacity=\\\"1\\\" stroke-width=\\\"3.2\\\"\\/>\\n<circle clip-path=\\\"url(#clip0702)\\\" cx=\\\"1253.33\\\" cy=\\\"47.2441\\\" r=\\\"14\\\" fill=\\\"#c271d2\\\" fill-rule=\\\"evenodd\\\" fill-opacity=\\\"1\\\" stroke=\\\"#000000\\\" stroke-opacity=\\\"1\\\" stroke-width=\\\"3.2\\\"\\/>\\n<circle clip-path=\\\"url(#clip0702)\\\" cx=\\\"1280.81\\\" cy=\\\"47.2441\\\" r=\\\"14\\\" fill=\\\"#c271d2\\\" fill-rule=\\\"evenodd\\\" fill-opacity=\\\"1\\\" stroke=\\\"#000000\\\" stroke-opacity=\\\"1\\\" stroke-width=\\\"3.2\\\"\\/>\\n<circle clip-path=\\\"url(#clip0702)\\\" cx=\\\"1308.3\\\" cy=\\\"47.2441\\\" r=\\\"14\\\" fill=\\\"#c271d2\\\" fill-rule=\\\"evenodd\\\" fill-opacity=\\\"1\\\" stroke=\\\"#000000\\\" stroke-opacity=\\\"1\\\" stroke-width=\\\"3.2\\\"\\/>\\n<circle clip-path=\\\"url(#clip0702)\\\" cx=\\\"1335.78\\\" cy=\\\"47.2441\\\" r=\\\"14\\\" fill=\\\"#c271d2\\\" fill-rule=\\\"evenodd\\\" fill-opacity=\\\"1\\\" stroke=\\\"#000000\\\" stroke-opacity=\\\"1\\\" stroke-width=\\\"3.2\\\"\\/>\\n<circle clip-path=\\\"url(#clip0702)\\\" cx=\\\"1363.27\\\" cy=\\\"47.2441\\\" r=\\\"14\\\" fill=\\\"#c271d2\\\" fill-rule=\\\"evenodd\\\" fill-opacity=\\\"1\\\" stroke=\\\"#000000\\\" stroke-opacity=\\\"1\\\" stroke-width=\\\"3.2\\\"\\/>\\n<circle clip-path=\\\"url(#clip0702)\\\" cx=\\\"1390.76\\\" cy=\\\"47.2441\\\" r=\\\"14\\\" fill=\\\"#c271d2\\\" fill-rule=\\\"evenodd\\\" fill-opacity=\\\"1\\\" stroke=\\\"#000000\\\" stroke-opacity=\\\"1\\\" stroke-width=\\\"3.2\\\"\\/>\\n<circle clip-path=\\\"url(#clip0702)\\\" cx=\\\"1418.24\\\" cy=\\\"47.2441\\\" r=\\\"14\\\" fill=\\\"#c271d2\\\" fill-rule=\\\"evenodd\\\" fill-opacity=\\\"1\\\" stroke=\\\"#000000\\\" stroke-opacity=\\\"1\\\" stroke-width=\\\"3.2\\\"\\/>\\n<circle clip-path=\\\"url(#clip0702)\\\" cx=\\\"1445.73\\\" cy=\\\"47.2441\\\" r=\\\"14\\\" fill=\\\"#c271d2\\\" fill-rule=\\\"evenodd\\\" fill-opacity=\\\"1\\\" stroke=\\\"#000000\\\" stroke-opacity=\\\"1\\\" stroke-width=\\\"3.2\\\"\\/>\\n<circle clip-path=\\\"url(#clip0702)\\\" cx=\\\"1473.21\\\" cy=\\\"47.2441\\\" r=\\\"14\\\" fill=\\\"#c271d2\\\" fill-rule=\\\"evenodd\\\" fill-opacity=\\\"1\\\" stroke=\\\"#000000\\\" stroke-opacity=\\\"1\\\" stroke-width=\\\"3.2\\\"\\/>\\n<circle clip-path=\\\"url(#clip0702)\\\" cx=\\\"1500.7\\\" cy=\\\"47.2441\\\" r=\\\"14\\\" fill=\\\"#c271d2\\\" fill-rule=\\\"evenodd\\\" fill-opacity=\\\"1\\\" stroke=\\\"#000000\\\" stroke-opacity=\\\"1\\\" stroke-width=\\\"3.2\\\"\\/>\\n<circle clip-path=\\\"url(#clip0702)\\\" cx=\\\"1528.18\\\" cy=\\\"47.2441\\\" r=\\\"14\\\" fill=\\\"#c271d2\\\" fill-rule=\\\"evenodd\\\" fill-opacity=\\\"1\\\" stroke=\\\"#000000\\\" stroke-opacity=\\\"1\\\" stroke-width=\\\"3.2\\\"\\/>\\n<circle clip-path=\\\"url(#clip0702)\\\" cx=\\\"1555.67\\\" cy=\\\"47.2441\\\" r=\\\"14\\\" fill=\\\"#c271d2\\\" fill-rule=\\\"evenodd\\\" fill-opacity=\\\"1\\\" stroke=\\\"#000000\\\" stroke-opacity=\\\"1\\\" stroke-width=\\\"3.2\\\"\\/>\\n<circle clip-path=\\\"url(#clip0702)\\\" cx=\\\"1583.16\\\" cy=\\\"47.2441\\\" r=\\\"14\\\" fill=\\\"#c271d2\\\" fill-rule=\\\"evenodd\\\" fill-opacity=\\\"1\\\" stroke=\\\"#000000\\\" stroke-opacity=\\\"1\\\" stroke-width=\\\"3.2\\\"\\/>\\n<circle clip-path=\\\"url(#clip0702)\\\" cx=\\\"1610.64\\\" cy=\\\"47.2441\\\" r=\\\"14\\\" fill=\\\"#c271d2\\\" fill-rule=\\\"evenodd\\\" fill-opacity=\\\"1\\\" stroke=\\\"#000000\\\" stroke-opacity=\\\"1\\\" stroke-width=\\\"3.2\\\"\\/>\\n<circle clip-path=\\\"url(#clip0702)\\\" cx=\\\"1638.13\\\" cy=\\\"47.2441\\\" r=\\\"14\\\" fill=\\\"#c271d2\\\" fill-rule=\\\"evenodd\\\" fill-opacity=\\\"1\\\" stroke=\\\"#000000\\\" stroke-opacity=\\\"1\\\" stroke-width=\\\"3.2\\\"\\/>\\n<circle clip-path=\\\"url(#clip0702)\\\" cx=\\\"1665.61\\\" cy=\\\"47.2441\\\" r=\\\"14\\\" fill=\\\"#c271d2\\\" fill-rule=\\\"evenodd\\\" fill-opacity=\\\"1\\\" stroke=\\\"#000000\\\" stroke-opacity=\\\"1\\\" stroke-width=\\\"3.2\\\"\\/>\\n<circle clip-path=\\\"url(#clip0702)\\\" cx=\\\"1693.1\\\" cy=\\\"47.2441\\\" r=\\\"14\\\" fill=\\\"#c271d2\\\" fill-rule=\\\"evenodd\\\" fill-opacity=\\\"1\\\" stroke=\\\"#000000\\\" stroke-opacity=\\\"1\\\" stroke-width=\\\"3.2\\\"\\/>\\n<circle clip-path=\\\"url(#clip0702)\\\" cx=\\\"1720.58\\\" cy=\\\"47.2441\\\" r=\\\"14\\\" fill=\\\"#c271d2\\\" fill-rule=\\\"evenodd\\\" fill-opacity=\\\"1\\\" stroke=\\\"#000000\\\" stroke-opacity=\\\"1\\\" stroke-width=\\\"3.2\\\"\\/>\\n<circle clip-path=\\\"url(#clip0702)\\\" cx=\\\"1748.07\\\" cy=\\\"47.2441\\\" r=\\\"14\\\" fill=\\\"#c271d2\\\" fill-rule=\\\"evenodd\\\" fill-opacity=\\\"1\\\" stroke=\\\"#000000\\\" stroke-opacity=\\\"1\\\" stroke-width=\\\"3.2\\\"\\/>\\n<circle clip-path=\\\"url(#clip0702)\\\" cx=\\\"1775.56\\\" cy=\\\"47.2441\\\" r=\\\"14\\\" fill=\\\"#c271d2\\\" fill-rule=\\\"evenodd\\\" fill-opacity=\\\"1\\\" stroke=\\\"#000000\\\" stroke-opacity=\\\"1\\\" stroke-width=\\\"3.2\\\"\\/>\\n<circle clip-path=\\\"url(#clip0702)\\\" cx=\\\"1803.04\\\" cy=\\\"47.2441\\\" r=\\\"14\\\" fill=\\\"#c271d2\\\" fill-rule=\\\"evenodd\\\" fill-opacity=\\\"1\\\" stroke=\\\"#000000\\\" stroke-opacity=\\\"1\\\" stroke-width=\\\"3.2\\\"\\/>\\n<circle clip-path=\\\"url(#clip0702)\\\" cx=\\\"1830.53\\\" cy=\\\"47.2441\\\" r=\\\"14\\\" fill=\\\"#c271d2\\\" fill-rule=\\\"evenodd\\\" fill-opacity=\\\"1\\\" stroke=\\\"#000000\\\" stroke-opacity=\\\"1\\\" stroke-width=\\\"3.2\\\"\\/>\\n<circle clip-path=\\\"url(#clip0702)\\\" cx=\\\"1858.01\\\" cy=\\\"47.2441\\\" r=\\\"14\\\" fill=\\\"#c271d2\\\" fill-rule=\\\"evenodd\\\" fill-opacity=\\\"1\\\" stroke=\\\"#000000\\\" stroke-opacity=\\\"1\\\" stroke-width=\\\"3.2\\\"\\/>\\n<circle clip-path=\\\"url(#clip0702)\\\" cx=\\\"1885.5\\\" cy=\\\"47.2441\\\" r=\\\"14\\\" fill=\\\"#c271d2\\\" fill-rule=\\\"evenodd\\\" fill-opacity=\\\"1\\\" stroke=\\\"#000000\\\" stroke-opacity=\\\"1\\\" stroke-width=\\\"3.2\\\"\\/>\\n<circle clip-path=\\\"url(#clip0702)\\\" cx=\\\"1912.98\\\" cy=\\\"47.2441\\\" r=\\\"14\\\" fill=\\\"#c271d2\\\" fill-rule=\\\"evenodd\\\" fill-opacity=\\\"1\\\" stroke=\\\"#000000\\\" stroke-opacity=\\\"1\\\" stroke-width=\\\"3.2\\\"\\/>\\n<circle clip-path=\\\"url(#clip0702)\\\" cx=\\\"1940.47\\\" cy=\\\"47.2441\\\" r=\\\"14\\\" fill=\\\"#c271d2\\\" fill-rule=\\\"evenodd\\\" fill-opacity=\\\"1\\\" stroke=\\\"#000000\\\" stroke-opacity=\\\"1\\\" stroke-width=\\\"3.2\\\"\\/>\\n<circle clip-path=\\\"url(#clip0702)\\\" cx=\\\"1967.96\\\" cy=\\\"47.2441\\\" r=\\\"14\\\" fill=\\\"#c271d2\\\" fill-rule=\\\"evenodd\\\" fill-opacity=\\\"1\\\" stroke=\\\"#000000\\\" stroke-opacity=\\\"1\\\" stroke-width=\\\"3.2\\\"\\/>\\n<circle clip-path=\\\"url(#clip0702)\\\" cx=\\\"1995.44\\\" cy=\\\"47.2441\\\" r=\\\"14\\\" fill=\\\"#c271d2\\\" fill-rule=\\\"evenodd\\\" fill-opacity=\\\"1\\\" stroke=\\\"#000000\\\" stroke-opacity=\\\"1\\\" stroke-width=\\\"3.2\\\"\\/>\\n<circle clip-path=\\\"url(#clip0702)\\\" cx=\\\"2022.93\\\" cy=\\\"47.2441\\\" r=\\\"14\\\" fill=\\\"#c271d2\\\" fill-rule=\\\"evenodd\\\" fill-opacity=\\\"1\\\" stroke=\\\"#000000\\\" stroke-opacity=\\\"1\\\" stroke-width=\\\"3.2\\\"\\/>\\n<circle clip-path=\\\"url(#clip0702)\\\" cx=\\\"2050.41\\\" cy=\\\"47.2441\\\" r=\\\"14\\\" fill=\\\"#c271d2\\\" fill-rule=\\\"evenodd\\\" fill-opacity=\\\"1\\\" stroke=\\\"#000000\\\" stroke-opacity=\\\"1\\\" stroke-width=\\\"3.2\\\"\\/>\\n<circle clip-path=\\\"url(#clip0702)\\\" cx=\\\"2077.9\\\" cy=\\\"47.2441\\\" r=\\\"14\\\" fill=\\\"#c271d2\\\" fill-rule=\\\"evenodd\\\" fill-opacity=\\\"1\\\" stroke=\\\"#000000\\\" stroke-opacity=\\\"1\\\" stroke-width=\\\"3.2\\\"\\/>\\n<circle clip-path=\\\"url(#clip0702)\\\" cx=\\\"2105.38\\\" cy=\\\"47.2441\\\" r=\\\"14\\\" fill=\\\"#c271d2\\\" fill-rule=\\\"evenodd\\\" fill-opacity=\\\"1\\\" stroke=\\\"#000000\\\" stroke-opacity=\\\"1\\\" stroke-width=\\\"3.2\\\"\\/>\\n<circle clip-path=\\\"url(#clip0702)\\\" cx=\\\"2132.87\\\" cy=\\\"47.2441\\\" r=\\\"14\\\" fill=\\\"#c271d2\\\" fill-rule=\\\"evenodd\\\" fill-opacity=\\\"1\\\" stroke=\\\"#000000\\\" stroke-opacity=\\\"1\\\" stroke-width=\\\"3.2\\\"\\/>\\n<circle clip-path=\\\"url(#clip0702)\\\" cx=\\\"2160.36\\\" cy=\\\"47.2441\\\" r=\\\"14\\\" fill=\\\"#c271d2\\\" fill-rule=\\\"evenodd\\\" fill-opacity=\\\"1\\\" stroke=\\\"#000000\\\" stroke-opacity=\\\"1\\\" stroke-width=\\\"3.2\\\"\\/>\\n<circle clip-path=\\\"url(#clip0702)\\\" cx=\\\"2187.84\\\" cy=\\\"47.2441\\\" r=\\\"14\\\" fill=\\\"#c271d2\\\" fill-rule=\\\"evenodd\\\" fill-opacity=\\\"1\\\" stroke=\\\"#000000\\\" stroke-opacity=\\\"1\\\" stroke-width=\\\"3.2\\\"\\/>\\n<circle clip-path=\\\"url(#clip0702)\\\" cx=\\\"2215.33\\\" cy=\\\"47.2441\\\" r=\\\"14\\\" fill=\\\"#c271d2\\\" fill-rule=\\\"evenodd\\\" fill-opacity=\\\"1\\\" stroke=\\\"#000000\\\" stroke-opacity=\\\"1\\\" stroke-width=\\\"3.2\\\"\\/>\\n<circle clip-path=\\\"url(#clip0702)\\\" cx=\\\"2242.81\\\" cy=\\\"47.2441\\\" r=\\\"14\\\" fill=\\\"#c271d2\\\" fill-rule=\\\"evenodd\\\" fill-opacity=\\\"1\\\" stroke=\\\"#000000\\\" stroke-opacity=\\\"1\\\" stroke-width=\\\"3.2\\\"\\/>\\n<circle clip-path=\\\"url(#clip0702)\\\" cx=\\\"2270.3\\\" cy=\\\"47.2441\\\" r=\\\"14\\\" fill=\\\"#c271d2\\\" fill-rule=\\\"evenodd\\\" fill-opacity=\\\"1\\\" stroke=\\\"#000000\\\" stroke-opacity=\\\"1\\\" stroke-width=\\\"3.2\\\"\\/>\\n<circle clip-path=\\\"url(#clip0702)\\\" cx=\\\"2297.78\\\" cy=\\\"47.2441\\\" r=\\\"14\\\" fill=\\\"#c271d2\\\" fill-rule=\\\"evenodd\\\" fill-opacity=\\\"1\\\" stroke=\\\"#000000\\\" stroke-opacity=\\\"1\\\" stroke-width=\\\"3.2\\\"\\/>\\n<circle clip-path=\\\"url(#clip0702)\\\" cx=\\\"2325.27\\\" cy=\\\"47.2441\\\" r=\\\"14\\\" fill=\\\"#c271d2\\\" fill-rule=\\\"evenodd\\\" fill-opacity=\\\"1\\\" stroke=\\\"#000000\\\" stroke-opacity=\\\"1\\\" stroke-width=\\\"3.2\\\"\\/>\\n<circle clip-path=\\\"url(#clip0702)\\\" cx=\\\"2352.76\\\" cy=\\\"47.2441\\\" r=\\\"14\\\" fill=\\\"#c271d2\\\" fill-rule=\\\"evenodd\\\" fill-opacity=\\\"1\\\" stroke=\\\"#000000\\\" stroke-opacity=\\\"1\\\" stroke-width=\\\"3.2\\\"\\/>\\n<path clip-path=\\\"url(#clip0700)\\\" d=\\\"\\nM1814.62 312.204 L2280.76 312.204 L2280.76 130.764 L1814.62 130.764  Z\\n  \\\" fill=\\\"#ffffff\\\" fill-rule=\\\"evenodd\\\" fill-opacity=\\\"1\\\"\\/>\\n<polyline clip-path=\\\"url(#clip0700)\\\" style=\\\"stroke:#000000; stroke-width:4; stroke-opacity:1; fill:none\\\" points=\\\"\\n  1814.62,312.204 2280.76,312.204 2280.76,130.764 1814.62,130.764 1814.62,312.204 \\n  \\\"\\/>\\n<circle clip-path=\\\"url(#clip0700)\\\" cx=\\\"1922.62\\\" cy=\\\"191.244\\\" r=\\\"21\\\" fill=\\\"#e26f46\\\" fill-rule=\\\"evenodd\\\" fill-opacity=\\\"1\\\" stroke=\\\"#000000\\\" stroke-opacity=\\\"1\\\" stroke-width=\\\"3.2\\\"\\/>\\n<g clip-path=\\\"url(#clip0700)\\\">\\n<text style=\\\"fill:#000000; fill-opacity:1; font-family:Arial,Helvetica Neue,Helvetica,sans-serif; font-size:48px; text-anchor:start;\\\" transform=\\\"rotate(0, 2006.62, 208.744)\\\" x=\\\"2006.62\\\" y=\\\"208.744\\\">delta = 1<\\/text>\\n<\\/g>\\n<circle clip-path=\\\"url(#clip0700)\\\" cx=\\\"1922.62\\\" cy=\\\"251.724\\\" r=\\\"21\\\" fill=\\\"#c271d2\\\" fill-rule=\\\"evenodd\\\" fill-opacity=\\\"1\\\" stroke=\\\"#000000\\\" stroke-opacity=\\\"1\\\" stroke-width=\\\"3.2\\\"\\/>\\n<g clip-path=\\\"url(#clip0700)\\\">\\n<text style=\\\"fill:#000000; fill-opacity:1; font-family:Arial,Helvetica Neue,Helvetica,sans-serif; font-size:48px; text-anchor:start;\\\" transform=\\\"rotate(0, 2006.62, 269.224)\\\" x=\\\"2006.62\\\" y=\\\"269.224\\\">delta = 0.5<\\/text>\\n<\\/g>\\n<\\/svg>\\n\"},\"nodeType\":\"DOM\",\"type\":\"node\",\"instanceArgs\":{\"namespace\":\"html\",\"tag\":\"div\"},\"children\":[]}]}}}},\"children\":[{\"props\":{},\"nodeType\":\"ObservableNode\",\"type\":\"node\",\"instanceArgs\":{\"id\":\"3355697390631012258\",\"name\":\"obs-node\"},\"children\":[]}]}]},\n",
       "            window,\n",
       "        );\n",
       "    } else {\n",
       "        document\n",
       "            .querySelector('[data-webio-mountpoint=\"8348573632565693473\"]')\n",
       "            .innerHTML = (\n",
       "                '<strong>WebIO not detected. Please read ' +\n",
       "                '<a href=\"https://juliagizmos.github.io/WebIO.jl/latest/troubleshooting/not-detected/\">the troubleshooting guide</a> ' +\n",
       "                'for more information on how to resolve this issue.' +\n",
       "                '</strong>'\n",
       "            );\n",
       "    }\n",
       "    </script>\n",
       "</div>\n"
      ],
      "text/plain": [
       "Node{WebIO.DOM}(WebIO.DOM(:html, :div), Any[Node{WebIO.DOM}(WebIO.DOM(:html, :div), Any[Scope(Node{WebIO.DOM}(WebIO.DOM(:html, :div), Any[Node{WebIO.DOM}(WebIO.DOM(:html, :div), Any[Node{WebIO.DOM}(WebIO.DOM(:html, :label), Any[\"p2\"], Dict{Symbol,Any}(:className => \"interact \",:style => Dict{Any,Any}(:padding => \"5px 10px 0px 10px\")))], Dict{Symbol,Any}(:className => \"interact-flex-row-left\")), Node{WebIO.DOM}(WebIO.DOM(:html, :div), Any[Node{WebIO.DOM}(WebIO.DOM(:html, :input), Any[], Dict{Symbol,Any}(:max => 100,:min => 1,:attributes => Dict{Any,Any}(:type => \"range\",Symbol(\"data-bind\") => \"numericValue: index, valueUpdate: 'input', event: {change: function (){this.changes(this.changes()+1)}}\",\"orient\" => \"horizontal\"),:step => 1,:className => \"slider slider is-fullwidth\",:style => Dict{Any,Any}()))], Dict{Symbol,Any}(:className => \"interact-flex-row-center\")), Node{WebIO.DOM}(WebIO.DOM(:html, :div), Any[Node{WebIO.DOM}(WebIO.DOM(:html, :p), Any[], Dict{Symbol,Any}(:attributes => Dict(\"data-bind\" => \"text: formatted_val\")))], Dict{Symbol,Any}(:className => \"interact-flex-row-right\"))], Dict{Symbol,Any}(:className => \"interact-flex-row interact-widget\")), Dict{String,Tuple{Observables.AbstractObservable,Union{Nothing, Bool}}}(\"changes\" => (Observable{Int64} with 1 listeners. Value:\n",
       "0, nothing),\"index\" => (Observable{Any} with 2 listeners. Value:\n",
       "50, nothing)), Set(String[]), nothing, Asset[Asset(\"js\", \"knockout\", \"/Users/lydiayu/.julia/packages/Knockout/IP1uR/src/../assets/knockout.js\"), Asset(\"js\", \"knockout_punches\", \"/Users/lydiayu/.julia/packages/Knockout/IP1uR/src/../assets/knockout_punches.js\"), Asset(\"js\", nothing, \"/Users/lydiayu/.julia/packages/InteractBase/NMcus/src/../assets/all.js\"), Asset(\"css\", nothing, \"/Users/lydiayu/.julia/packages/InteractBase/NMcus/src/../assets/style.css\"), Asset(\"css\", nothing, \"/Users/lydiayu/.julia/packages/Interact/SbgIk/src/../assets/bulma_confined.min.css\")], Dict{Any,Any}(\"changes\" => Any[WebIO.JSString(\"(function (val){return (val!=this.model[\\\"changes\\\"]()) ? (this.valueFromJulia[\\\"changes\\\"]=true, this.model[\\\"changes\\\"](val)) : undefined})\")],\"index\" => Any[WebIO.JSString(\"(function (val){return (val!=this.model[\\\"index\\\"]()) ? (this.valueFromJulia[\\\"index\\\"]=true, this.model[\\\"index\\\"](val)) : undefined})\")]), WebIO.ConnectionPool(Channel{Any}(sz_max:32,sz_curr:0), Set(AbstractConnection[]), Base.GenericCondition{Base.AlwaysLockedST}(Base.InvasiveLinkedList{Task}(Task (runnable) @0x000000011a25ed10, Task (runnable) @0x000000011a25ed10), Base.AlwaysLockedST(1))), WebIO.JSString[WebIO.JSString(\"function () {\\n    var handler = (function (ko, koPunches) {\\n    ko.punches.enableAll();\\n    ko.bindingHandlers.numericValue = {\\n        init: function(element, valueAccessor, allBindings, data, context) {\\n            var stringified = ko.observable(ko.unwrap(valueAccessor()));\\n            stringified.subscribe(function(value) {\\n                var val = parseFloat(value);\\n                if (!isNaN(val)) {\\n                    valueAccessor()(val);\\n                }\\n            });\\n            valueAccessor().subscribe(function(value) {\\n                var str = JSON.stringify(value);\\n                if ((str == \\\"0\\\") && ([\\\"-0\\\", \\\"-0.\\\"].indexOf(stringified()) >= 0))\\n                     return;\\n                 if ([\\\"null\\\", \\\"\\\"].indexOf(str) >= 0)\\n                     return;\\n                stringified(str);\\n            });\\n            ko.applyBindingsToNode(\\n                element,\\n                {\\n                    value: stringified,\\n                    valueUpdate: allBindings.get('valueUpdate'),\\n                },\\n                context,\\n            );\\n        }\\n    };\\n    var json_data = {\\\"formatted_vals\\\":[\\\"0.01\\\",\\\"0.02\\\",\\\"0.03\\\",\\\"0.04\\\",\\\"0.05\\\",\\\"0.06\\\",\\\"0.07\\\",\\\"0.08\\\",\\\"0.09\\\",\\\"0.1\\\",\\\"0.11\\\",\\\"0.12\\\",\\\"0.13\\\",\\\"0.14\\\",\\\"0.15\\\",\\\"0.16\\\",\\\"0.17\\\",\\\"0.18\\\",\\\"0.19\\\",\\\"0.2\\\",\\\"0.21\\\",\\\"0.22\\\",\\\"0.23\\\",\\\"0.24\\\",\\\"0.25\\\",\\\"0.26\\\",\\\"0.27\\\",\\\"0.28\\\",\\\"0.29\\\",\\\"0.3\\\",\\\"0.31\\\",\\\"0.32\\\",\\\"0.33\\\",\\\"0.34\\\",\\\"0.35\\\",\\\"0.36\\\",\\\"0.37\\\",\\\"0.38\\\",\\\"0.39\\\",\\\"0.4\\\",\\\"0.41\\\",\\\"0.42\\\",\\\"0.43\\\",\\\"0.44\\\",\\\"0.45\\\",\\\"0.46\\\",\\\"0.47\\\",\\\"0.48\\\",\\\"0.49\\\",\\\"0.5\\\",\\\"0.51\\\",\\\"0.52\\\",\\\"0.53\\\",\\\"0.54\\\",\\\"0.55\\\",\\\"0.56\\\",\\\"0.57\\\",\\\"0.58\\\",\\\"0.59\\\",\\\"0.6\\\",\\\"0.61\\\",\\\"0.62\\\",\\\"0.63\\\",\\\"0.64\\\",\\\"0.65\\\",\\\"0.66\\\",\\\"0.67\\\",\\\"0.68\\\",\\\"0.69\\\",\\\"0.7\\\",\\\"0.71\\\",\\\"0.72\\\",\\\"0.73\\\",\\\"0.74\\\",\\\"0.75\\\",\\\"0.76\\\",\\\"0.77\\\",\\\"0.78\\\",\\\"0.79\\\",\\\"0.8\\\",\\\"0.81\\\",\\\"0.82\\\",\\\"0.83\\\",\\\"0.84\\\",\\\"0.85\\\",\\\"0.86\\\",\\\"0.87\\\",\\\"0.88\\\",\\\"0.89\\\",\\\"0.9\\\",\\\"0.91\\\",\\\"0.92\\\",\\\"0.93\\\",\\\"0.94\\\",\\\"0.95\\\",\\\"0.96\\\",\\\"0.97\\\",\\\"0.98\\\",\\\"0.99\\\",\\\"1.0\\\"],\\\"changes\\\":WebIO.getval({\\\"name\\\":\\\"changes\\\",\\\"scope\\\":\\\"2490864437654367256\\\",\\\"id\\\":\\\"12553460936237320705\\\",\\\"type\\\":\\\"observable\\\"}),\\\"index\\\":WebIO.getval({\\\"name\\\":\\\"index\\\",\\\"scope\\\":\\\"2490864437654367256\\\",\\\"id\\\":\\\"17653722450002356038\\\",\\\"type\\\":\\\"observable\\\"})};\\n    var self = this;\\n    function AppViewModel() {\\n        for (var key in json_data) {\\n            var el = json_data[key];\\n            this[key] = Array.isArray(el) ? ko.observableArray(el) : ko.observable(el);\\n        }\\n        \\n        [this[\\\"formatted_val\\\"]=ko.computed(    function(){\\n        return this.formatted_vals()[parseInt(this.index())-(1)];\\n    }\\n,this)]\\n        [this[\\\"changes\\\"].subscribe((function (val){!(this.valueFromJulia[\\\"changes\\\"]) ? (WebIO.setval({\\\"name\\\":\\\"changes\\\",\\\"scope\\\":\\\"2490864437654367256\\\",\\\"id\\\":\\\"12553460936237320705\\\",\\\"type\\\":\\\"observable\\\"},val)) : undefined; return this.valueFromJulia[\\\"changes\\\"]=false}),self),this[\\\"index\\\"].subscribe((function (val){!(this.valueFromJulia[\\\"index\\\"]) ? (WebIO.setval({\\\"name\\\":\\\"index\\\",\\\"scope\\\":\\\"2490864437654367256\\\",\\\"id\\\":\\\"17653722450002356038\\\",\\\"type\\\":\\\"observable\\\"},val)) : undefined; return this.valueFromJulia[\\\"index\\\"]=false}),self)]\\n        \\n    }\\n    self.model = new AppViewModel();\\n    self.valueFromJulia = {};\\n    for (var key in json_data) {\\n        self.valueFromJulia[key] = false;\\n    }\\n    ko.applyBindings(self.model, self.dom);\\n}\\n);\\n    (WebIO.importBlock({\\\"data\\\":[{\\\"name\\\":\\\"knockout\\\",\\\"type\\\":\\\"js\\\",\\\"url\\\":\\\"/assetserver/d265cb5815a0f20b51253662ec06b9fbacdc8d54-knockout.js\\\"},{\\\"name\\\":\\\"knockout_punches\\\",\\\"type\\\":\\\"js\\\",\\\"url\\\":\\\"/assetserver/a114dcb2e9be47839dc264ddb5460c14d0aab279-knockout_punches.js\\\"}],\\\"type\\\":\\\"async_block\\\"})).then((imports) => handler.apply(this, imports));\\n}\\n\")])], Dict{Symbol,Any}(:className => \"field interact-widget\")), Observable{Any} with 0 listeners. Value:\n",
       "Node{WebIO.DOM}(WebIO.DOM(:html, :div), Any[Plot{Plots.GRBackend() n=4}], Dict{Symbol,Any}(:className => \"interact-flex-row interact-widget\"))], Dict{Symbol,Any}())"
      ]
     },
     "execution_count": 42,
     "metadata": {
      "application/vnd.webio.node+json": {
       "kernelId": "b2778965-125b-4b84-991a-b641ea4872bf"
      }
     },
     "output_type": "execute_result"
    }
   ],
   "source": [
    "p = 0.1\n",
    "N = 100\n",
    "delta = 0.5\n",
    "\n",
    "@manipulate for p2 in 0.01:0.01:1.0\n",
    "    plot()\n",
    "\n",
    "    plot_cumulative!(p, 40, 1.0, label = \"delta = 1\")\n",
    "    plot_cumulative!(p2, N, delta, label = \"delta = $delta\") # $a inserts the value of the variable a into the string\n",
    "    \n",
    "    xlims!(0, 40)\n",
    "    ylims!(0, 1)\n",
    "end"
   ]
  },
  {
   "cell_type": "markdown",
   "metadata": {},
   "source": [
    "line up when $p_2$ is half of $p$\n",
    "\n",
    "Cumulative distribution function for a geometric random variable $X \\sim Geom(p)$\n",
    "\n",
    "$$F_X(n) = 1 - (1-p)^n$$\n",
    "\n",
    "$$F_{Y_\\delta}(n) = 1 - (1-p(\\delta))^n$$\n",
    "\n",
    "Fix time $t=n$. Find $p(\\delta)$ such that probabilities are the same at time $t$\n",
    "\n",
    "$t = n\\delta$\n",
    "\n",
    "So $n = t/\\delta$\n",
    "\n",
    "$$1 - [1 - p(\\delta)]^{t/\\delta} = 1- (1-p)^t$$"
   ]
  },
  {
   "cell_type": "markdown",
   "metadata": {},
   "source": [
    "## Conintuous limit\n",
    "\n",
    "Limit $\\delta \\rightarrow 0$\n",
    "\n",
    "Need $p(\\delta) \\rightarrow 0$\n",
    "\n",
    "If $x$ is small, $1-x \\simeq \\exp(-x)$\n",
    "\n",
    "$\\exp(x) = 1 + x + \\frac{1}{2} x^2 + \\frac{1}{3}x^3 + \\cdots + \\frac{1}{n!}x^n + \\cdots$\n",
    "\n",
    "$\\exp(x) = \\sum_{n=0}^\\infty \\frac{1}{n!}x^n$\n",
    "\n",
    "Define $\\exp$ as the function which is equal to its derivative and suppose that I can write as a power series in $x$"
   ]
  },
  {
   "cell_type": "code",
   "execution_count": 43,
   "metadata": {},
   "outputs": [
    {
     "data": {
      "text/plain": [
       "0.01"
      ]
     },
     "execution_count": 43,
     "metadata": {},
     "output_type": "execute_result"
    }
   ],
   "source": [
    "x = 0.01"
   ]
  },
  {
   "cell_type": "code",
   "execution_count": 44,
   "metadata": {},
   "outputs": [
    {
     "data": {
      "text/plain": [
       "0.99"
      ]
     },
     "execution_count": 44,
     "metadata": {},
     "output_type": "execute_result"
    }
   ],
   "source": [
    "1-x"
   ]
  },
  {
   "cell_type": "code",
   "execution_count": 45,
   "metadata": {},
   "outputs": [
    {
     "data": {
      "text/plain": [
       "0.9900498337491681"
      ]
     },
     "execution_count": 45,
     "metadata": {},
     "output_type": "execute_result"
    }
   ],
   "source": [
    "exp(-x)"
   ]
  },
  {
   "cell_type": "code",
   "execution_count": 46,
   "metadata": {},
   "outputs": [
    {
     "data": {
      "text/plain": [
       "5.0e-5"
      ]
     },
     "execution_count": 46,
     "metadata": {},
     "output_type": "execute_result"
    }
   ],
   "source": [
    "x^2/2"
   ]
  },
  {
   "cell_type": "markdown",
   "metadata": {},
   "source": [
    "$$1−[1−𝑝(𝛿)]^{𝑡/𝛿} \\simeq 1− (\\exp[−𝑝(\\delta)])^{𝑡/δ}$$"
   ]
  },
  {
   "cell_type": "markdown",
   "metadata": {},
   "source": [
    "$$1- \\exp[-p(\\delta) \\frac{t}{\\delta}]$$\n",
    "\n",
    "Need $p(\\delta)/\\delta \\rightarrow \\lambda$ when $\\delta \\rightarrow 0$\n",
    "\n",
    "End result: $F(t) = 1-\\exp[-\\lambda t]$\n",
    "\n",
    "$\\lambda$ is **rate** -- probability per unit time\n",
    "\n",
    "$1 - (1-p)^t$\n",
    "\n",
    "Choose $\\lambda$ such that $1-p = \\exp(-\\lambda)$"
   ]
  },
  {
   "cell_type": "code",
   "execution_count": 49,
   "metadata": {},
   "outputs": [
    {
     "data": {
      "image/svg+xml": [
       "<?xml version=\"1.0\" encoding=\"utf-8\"?>\n",
       "<svg xmlns=\"http://www.w3.org/2000/svg\" xmlns:xlink=\"http://www.w3.org/1999/xlink\" width=\"600\" height=\"400\" viewBox=\"0 0 2400 1600\">\n",
       "<defs>\n",
       "  <clipPath id=\"clip1500\">\n",
       "    <rect x=\"0\" y=\"0\" width=\"2400\" height=\"1600\"/>\n",
       "  </clipPath>\n",
       "</defs>\n",
       "<path clip-path=\"url(#clip1500)\" d=\"\n",
       "M0 1600 L2400 1600 L2400 0 L0 0  Z\n",
       "  \" fill=\"#ffffff\" fill-rule=\"evenodd\" fill-opacity=\"1\"/>\n",
       "<defs>\n",
       "  <clipPath id=\"clip1501\">\n",
       "    <rect x=\"480\" y=\"0\" width=\"1681\" height=\"1600\"/>\n",
       "  </clipPath>\n",
       "</defs>\n",
       "<path clip-path=\"url(#clip1500)\" d=\"\n",
       "M180.66 1487.47 L2352.76 1487.47 L2352.76 47.2441 L180.66 47.2441  Z\n",
       "  \" fill=\"#ffffff\" fill-rule=\"evenodd\" fill-opacity=\"1\"/>\n",
       "<defs>\n",
       "  <clipPath id=\"clip1502\">\n",
       "    <rect x=\"180\" y=\"47\" width=\"2173\" height=\"1441\"/>\n",
       "  </clipPath>\n",
       "</defs>\n",
       "<polyline clip-path=\"url(#clip1502)\" style=\"stroke:#000000; stroke-width:2; stroke-opacity:0.1; fill:none\" points=\"\n",
       "  242.135,1487.47 242.135,47.2441 \n",
       "  \"/>\n",
       "<polyline clip-path=\"url(#clip1502)\" style=\"stroke:#000000; stroke-width:2; stroke-opacity:0.1; fill:none\" points=\"\n",
       "  651.964,1487.47 651.964,47.2441 \n",
       "  \"/>\n",
       "<polyline clip-path=\"url(#clip1502)\" style=\"stroke:#000000; stroke-width:2; stroke-opacity:0.1; fill:none\" points=\"\n",
       "  1061.79,1487.47 1061.79,47.2441 \n",
       "  \"/>\n",
       "<polyline clip-path=\"url(#clip1502)\" style=\"stroke:#000000; stroke-width:2; stroke-opacity:0.1; fill:none\" points=\"\n",
       "  1471.62,1487.47 1471.62,47.2441 \n",
       "  \"/>\n",
       "<polyline clip-path=\"url(#clip1502)\" style=\"stroke:#000000; stroke-width:2; stroke-opacity:0.1; fill:none\" points=\"\n",
       "  1881.45,1487.47 1881.45,47.2441 \n",
       "  \"/>\n",
       "<polyline clip-path=\"url(#clip1502)\" style=\"stroke:#000000; stroke-width:2; stroke-opacity:0.1; fill:none\" points=\"\n",
       "  2291.28,1487.47 2291.28,47.2441 \n",
       "  \"/>\n",
       "<polyline clip-path=\"url(#clip1502)\" style=\"stroke:#000000; stroke-width:2; stroke-opacity:0.1; fill:none\" points=\"\n",
       "  180.66,1446.71 2352.76,1446.71 \n",
       "  \"/>\n",
       "<polyline clip-path=\"url(#clip1502)\" style=\"stroke:#000000; stroke-width:2; stroke-opacity:0.1; fill:none\" points=\"\n",
       "  180.66,1105.28 2352.76,1105.28 \n",
       "  \"/>\n",
       "<polyline clip-path=\"url(#clip1502)\" style=\"stroke:#000000; stroke-width:2; stroke-opacity:0.1; fill:none\" points=\"\n",
       "  180.66,763.84 2352.76,763.84 \n",
       "  \"/>\n",
       "<polyline clip-path=\"url(#clip1502)\" style=\"stroke:#000000; stroke-width:2; stroke-opacity:0.1; fill:none\" points=\"\n",
       "  180.66,422.403 2352.76,422.403 \n",
       "  \"/>\n",
       "<polyline clip-path=\"url(#clip1502)\" style=\"stroke:#000000; stroke-width:2; stroke-opacity:0.1; fill:none\" points=\"\n",
       "  180.66,80.9666 2352.76,80.9666 \n",
       "  \"/>\n",
       "<polyline clip-path=\"url(#clip1500)\" style=\"stroke:#000000; stroke-width:4; stroke-opacity:1; fill:none\" points=\"\n",
       "  180.66,1487.47 2352.76,1487.47 \n",
       "  \"/>\n",
       "<polyline clip-path=\"url(#clip1500)\" style=\"stroke:#000000; stroke-width:4; stroke-opacity:1; fill:none\" points=\"\n",
       "  180.66,1487.47 180.66,47.2441 \n",
       "  \"/>\n",
       "<polyline clip-path=\"url(#clip1500)\" style=\"stroke:#000000; stroke-width:4; stroke-opacity:1; fill:none\" points=\"\n",
       "  242.135,1487.47 242.135,1470.19 \n",
       "  \"/>\n",
       "<polyline clip-path=\"url(#clip1500)\" style=\"stroke:#000000; stroke-width:4; stroke-opacity:1; fill:none\" points=\"\n",
       "  651.964,1487.47 651.964,1470.19 \n",
       "  \"/>\n",
       "<polyline clip-path=\"url(#clip1500)\" style=\"stroke:#000000; stroke-width:4; stroke-opacity:1; fill:none\" points=\"\n",
       "  1061.79,1487.47 1061.79,1470.19 \n",
       "  \"/>\n",
       "<polyline clip-path=\"url(#clip1500)\" style=\"stroke:#000000; stroke-width:4; stroke-opacity:1; fill:none\" points=\"\n",
       "  1471.62,1487.47 1471.62,1470.19 \n",
       "  \"/>\n",
       "<polyline clip-path=\"url(#clip1500)\" style=\"stroke:#000000; stroke-width:4; stroke-opacity:1; fill:none\" points=\"\n",
       "  1881.45,1487.47 1881.45,1470.19 \n",
       "  \"/>\n",
       "<polyline clip-path=\"url(#clip1500)\" style=\"stroke:#000000; stroke-width:4; stroke-opacity:1; fill:none\" points=\"\n",
       "  2291.28,1487.47 2291.28,1470.19 \n",
       "  \"/>\n",
       "<polyline clip-path=\"url(#clip1500)\" style=\"stroke:#000000; stroke-width:4; stroke-opacity:1; fill:none\" points=\"\n",
       "  180.66,1446.71 206.725,1446.71 \n",
       "  \"/>\n",
       "<polyline clip-path=\"url(#clip1500)\" style=\"stroke:#000000; stroke-width:4; stroke-opacity:1; fill:none\" points=\"\n",
       "  180.66,1105.28 206.725,1105.28 \n",
       "  \"/>\n",
       "<polyline clip-path=\"url(#clip1500)\" style=\"stroke:#000000; stroke-width:4; stroke-opacity:1; fill:none\" points=\"\n",
       "  180.66,763.84 206.725,763.84 \n",
       "  \"/>\n",
       "<polyline clip-path=\"url(#clip1500)\" style=\"stroke:#000000; stroke-width:4; stroke-opacity:1; fill:none\" points=\"\n",
       "  180.66,422.403 206.725,422.403 \n",
       "  \"/>\n",
       "<polyline clip-path=\"url(#clip1500)\" style=\"stroke:#000000; stroke-width:4; stroke-opacity:1; fill:none\" points=\"\n",
       "  180.66,80.9666 206.725,80.9666 \n",
       "  \"/>\n",
       "<g clip-path=\"url(#clip1500)\">\n",
       "<text style=\"fill:#000000; fill-opacity:1; font-family:Arial,Helvetica Neue,Helvetica,sans-serif; font-size:48px; text-anchor:middle;\" transform=\"rotate(0, 242.135, 1541.47)\" x=\"242.135\" y=\"1541.47\">0</text>\n",
       "</g>\n",
       "<g clip-path=\"url(#clip1500)\">\n",
       "<text style=\"fill:#000000; fill-opacity:1; font-family:Arial,Helvetica Neue,Helvetica,sans-serif; font-size:48px; text-anchor:middle;\" transform=\"rotate(0, 651.964, 1541.47)\" x=\"651.964\" y=\"1541.47\">10</text>\n",
       "</g>\n",
       "<g clip-path=\"url(#clip1500)\">\n",
       "<text style=\"fill:#000000; fill-opacity:1; font-family:Arial,Helvetica Neue,Helvetica,sans-serif; font-size:48px; text-anchor:middle;\" transform=\"rotate(0, 1061.79, 1541.47)\" x=\"1061.79\" y=\"1541.47\">20</text>\n",
       "</g>\n",
       "<g clip-path=\"url(#clip1500)\">\n",
       "<text style=\"fill:#000000; fill-opacity:1; font-family:Arial,Helvetica Neue,Helvetica,sans-serif; font-size:48px; text-anchor:middle;\" transform=\"rotate(0, 1471.62, 1541.47)\" x=\"1471.62\" y=\"1541.47\">30</text>\n",
       "</g>\n",
       "<g clip-path=\"url(#clip1500)\">\n",
       "<text style=\"fill:#000000; fill-opacity:1; font-family:Arial,Helvetica Neue,Helvetica,sans-serif; font-size:48px; text-anchor:middle;\" transform=\"rotate(0, 1881.45, 1541.47)\" x=\"1881.45\" y=\"1541.47\">40</text>\n",
       "</g>\n",
       "<g clip-path=\"url(#clip1500)\">\n",
       "<text style=\"fill:#000000; fill-opacity:1; font-family:Arial,Helvetica Neue,Helvetica,sans-serif; font-size:48px; text-anchor:middle;\" transform=\"rotate(0, 2291.28, 1541.47)\" x=\"2291.28\" y=\"1541.47\">50</text>\n",
       "</g>\n",
       "<g clip-path=\"url(#clip1500)\">\n",
       "<text style=\"fill:#000000; fill-opacity:1; font-family:Arial,Helvetica Neue,Helvetica,sans-serif; font-size:48px; text-anchor:end;\" transform=\"rotate(0, 156.66, 1464.21)\" x=\"156.66\" y=\"1464.21\">0.00</text>\n",
       "</g>\n",
       "<g clip-path=\"url(#clip1500)\">\n",
       "<text style=\"fill:#000000; fill-opacity:1; font-family:Arial,Helvetica Neue,Helvetica,sans-serif; font-size:48px; text-anchor:end;\" transform=\"rotate(0, 156.66, 1122.78)\" x=\"156.66\" y=\"1122.78\">0.25</text>\n",
       "</g>\n",
       "<g clip-path=\"url(#clip1500)\">\n",
       "<text style=\"fill:#000000; fill-opacity:1; font-family:Arial,Helvetica Neue,Helvetica,sans-serif; font-size:48px; text-anchor:end;\" transform=\"rotate(0, 156.66, 781.34)\" x=\"156.66\" y=\"781.34\">0.50</text>\n",
       "</g>\n",
       "<g clip-path=\"url(#clip1500)\">\n",
       "<text style=\"fill:#000000; fill-opacity:1; font-family:Arial,Helvetica Neue,Helvetica,sans-serif; font-size:48px; text-anchor:end;\" transform=\"rotate(0, 156.66, 439.903)\" x=\"156.66\" y=\"439.903\">0.75</text>\n",
       "</g>\n",
       "<g clip-path=\"url(#clip1500)\">\n",
       "<text style=\"fill:#000000; fill-opacity:1; font-family:Arial,Helvetica Neue,Helvetica,sans-serif; font-size:48px; text-anchor:end;\" transform=\"rotate(0, 156.66, 98.4666)\" x=\"156.66\" y=\"98.4666\">1.00</text>\n",
       "</g>\n",
       "<polyline clip-path=\"url(#clip1502)\" style=\"stroke:#009af9; stroke-width:4; stroke-opacity:1; fill:none\" points=\"\n",
       "  242.135,1446.71 283.118,1446.71 283.118,1310.14 324.101,1310.14 324.101,1187.22 365.084,1187.22 365.084,1076.6 406.066,1076.6 406.066,977.033 447.049,977.033 \n",
       "  447.049,887.426 488.032,887.426 488.032,806.78 529.015,806.78 529.015,734.199 569.998,734.199 569.998,668.876 610.981,668.876 610.981,610.085 651.964,610.085 \n",
       "  651.964,557.173 692.947,557.173 692.947,509.552 733.93,509.552 733.93,466.694 774.913,466.694 774.913,428.121 815.896,428.121 815.896,393.406 856.879,393.406 \n",
       "  856.879,362.162 897.862,362.162 897.862,334.042 938.845,334.042 938.845,308.735 979.828,308.735 979.828,285.958 1020.81,285.958 1020.81,265.459 1061.79,265.459 \n",
       "  1061.79,247.01 1102.78,247.01 1102.78,230.405 1143.76,230.405 1143.76,215.461 1184.74,215.461 1184.74,202.012 1225.73,202.012 1225.73,189.907 1266.71,189.907 \n",
       "  1266.71,179.013 1307.69,179.013 1307.69,169.209 1348.67,169.209 1348.67,160.384 1389.66,160.384 1389.66,152.443 1430.64,152.443 1430.64,145.295 1471.62,145.295 \n",
       "  1471.62,138.862 1512.61,138.862 1512.61,133.073 1553.59,133.073 1553.59,127.862 1594.57,127.862 1594.57,123.172 1635.55,123.172 1635.55,118.952 1676.54,118.952 \n",
       "  1676.54,115.153 1717.52,115.153 1717.52,111.735 1758.5,111.735 1758.5,108.658 1799.49,108.658 1799.49,105.889 1840.47,105.889 1840.47,103.397 1881.45,103.397 \n",
       "  1881.45,101.154 1922.44,101.154 1922.44,99.1348 1963.42,99.1348 1963.42,97.318 2004.4,97.318 2004.4,95.6829 2045.38,95.6829 2045.38,94.2112 2086.37,94.2112 \n",
       "  2086.37,92.8868 2127.35,92.8868 2127.35,91.6948 2168.33,91.6948 2168.33,90.6219 2209.32,90.6219 2209.32,89.6564 2250.3,89.6564 2250.3,88.7874 2291.28,88.7874 \n",
       "  2291.28,88.0053 \n",
       "  \"/>\n",
       "<circle clip-path=\"url(#clip1502)\" cx=\"283.118\" cy=\"1310.14\" r=\"14\" fill=\"#e26f46\" fill-rule=\"evenodd\" fill-opacity=\"1\" stroke=\"#000000\" stroke-opacity=\"1\" stroke-width=\"3.2\"/>\n",
       "<circle clip-path=\"url(#clip1502)\" cx=\"324.101\" cy=\"1187.22\" r=\"14\" fill=\"#e26f46\" fill-rule=\"evenodd\" fill-opacity=\"1\" stroke=\"#000000\" stroke-opacity=\"1\" stroke-width=\"3.2\"/>\n",
       "<circle clip-path=\"url(#clip1502)\" cx=\"365.084\" cy=\"1076.6\" r=\"14\" fill=\"#e26f46\" fill-rule=\"evenodd\" fill-opacity=\"1\" stroke=\"#000000\" stroke-opacity=\"1\" stroke-width=\"3.2\"/>\n",
       "<circle clip-path=\"url(#clip1502)\" cx=\"406.066\" cy=\"977.033\" r=\"14\" fill=\"#e26f46\" fill-rule=\"evenodd\" fill-opacity=\"1\" stroke=\"#000000\" stroke-opacity=\"1\" stroke-width=\"3.2\"/>\n",
       "<circle clip-path=\"url(#clip1502)\" cx=\"447.049\" cy=\"887.426\" r=\"14\" fill=\"#e26f46\" fill-rule=\"evenodd\" fill-opacity=\"1\" stroke=\"#000000\" stroke-opacity=\"1\" stroke-width=\"3.2\"/>\n",
       "<circle clip-path=\"url(#clip1502)\" cx=\"488.032\" cy=\"806.78\" r=\"14\" fill=\"#e26f46\" fill-rule=\"evenodd\" fill-opacity=\"1\" stroke=\"#000000\" stroke-opacity=\"1\" stroke-width=\"3.2\"/>\n",
       "<circle clip-path=\"url(#clip1502)\" cx=\"529.015\" cy=\"734.199\" r=\"14\" fill=\"#e26f46\" fill-rule=\"evenodd\" fill-opacity=\"1\" stroke=\"#000000\" stroke-opacity=\"1\" stroke-width=\"3.2\"/>\n",
       "<circle clip-path=\"url(#clip1502)\" cx=\"569.998\" cy=\"668.876\" r=\"14\" fill=\"#e26f46\" fill-rule=\"evenodd\" fill-opacity=\"1\" stroke=\"#000000\" stroke-opacity=\"1\" stroke-width=\"3.2\"/>\n",
       "<circle clip-path=\"url(#clip1502)\" cx=\"610.981\" cy=\"610.085\" r=\"14\" fill=\"#e26f46\" fill-rule=\"evenodd\" fill-opacity=\"1\" stroke=\"#000000\" stroke-opacity=\"1\" stroke-width=\"3.2\"/>\n",
       "<circle clip-path=\"url(#clip1502)\" cx=\"651.964\" cy=\"557.173\" r=\"14\" fill=\"#e26f46\" fill-rule=\"evenodd\" fill-opacity=\"1\" stroke=\"#000000\" stroke-opacity=\"1\" stroke-width=\"3.2\"/>\n",
       "<circle clip-path=\"url(#clip1502)\" cx=\"692.947\" cy=\"509.552\" r=\"14\" fill=\"#e26f46\" fill-rule=\"evenodd\" fill-opacity=\"1\" stroke=\"#000000\" stroke-opacity=\"1\" stroke-width=\"3.2\"/>\n",
       "<circle clip-path=\"url(#clip1502)\" cx=\"733.93\" cy=\"466.694\" r=\"14\" fill=\"#e26f46\" fill-rule=\"evenodd\" fill-opacity=\"1\" stroke=\"#000000\" stroke-opacity=\"1\" stroke-width=\"3.2\"/>\n",
       "<circle clip-path=\"url(#clip1502)\" cx=\"774.913\" cy=\"428.121\" r=\"14\" fill=\"#e26f46\" fill-rule=\"evenodd\" fill-opacity=\"1\" stroke=\"#000000\" stroke-opacity=\"1\" stroke-width=\"3.2\"/>\n",
       "<circle clip-path=\"url(#clip1502)\" cx=\"815.896\" cy=\"393.406\" r=\"14\" fill=\"#e26f46\" fill-rule=\"evenodd\" fill-opacity=\"1\" stroke=\"#000000\" stroke-opacity=\"1\" stroke-width=\"3.2\"/>\n",
       "<circle clip-path=\"url(#clip1502)\" cx=\"856.879\" cy=\"362.162\" r=\"14\" fill=\"#e26f46\" fill-rule=\"evenodd\" fill-opacity=\"1\" stroke=\"#000000\" stroke-opacity=\"1\" stroke-width=\"3.2\"/>\n",
       "<circle clip-path=\"url(#clip1502)\" cx=\"897.862\" cy=\"334.042\" r=\"14\" fill=\"#e26f46\" fill-rule=\"evenodd\" fill-opacity=\"1\" stroke=\"#000000\" stroke-opacity=\"1\" stroke-width=\"3.2\"/>\n",
       "<circle clip-path=\"url(#clip1502)\" cx=\"938.845\" cy=\"308.735\" r=\"14\" fill=\"#e26f46\" fill-rule=\"evenodd\" fill-opacity=\"1\" stroke=\"#000000\" stroke-opacity=\"1\" stroke-width=\"3.2\"/>\n",
       "<circle clip-path=\"url(#clip1502)\" cx=\"979.828\" cy=\"285.958\" r=\"14\" fill=\"#e26f46\" fill-rule=\"evenodd\" fill-opacity=\"1\" stroke=\"#000000\" stroke-opacity=\"1\" stroke-width=\"3.2\"/>\n",
       "<circle clip-path=\"url(#clip1502)\" cx=\"1020.81\" cy=\"265.459\" r=\"14\" fill=\"#e26f46\" fill-rule=\"evenodd\" fill-opacity=\"1\" stroke=\"#000000\" stroke-opacity=\"1\" stroke-width=\"3.2\"/>\n",
       "<circle clip-path=\"url(#clip1502)\" cx=\"1061.79\" cy=\"247.01\" r=\"14\" fill=\"#e26f46\" fill-rule=\"evenodd\" fill-opacity=\"1\" stroke=\"#000000\" stroke-opacity=\"1\" stroke-width=\"3.2\"/>\n",
       "<circle clip-path=\"url(#clip1502)\" cx=\"1102.78\" cy=\"230.405\" r=\"14\" fill=\"#e26f46\" fill-rule=\"evenodd\" fill-opacity=\"1\" stroke=\"#000000\" stroke-opacity=\"1\" stroke-width=\"3.2\"/>\n",
       "<circle clip-path=\"url(#clip1502)\" cx=\"1143.76\" cy=\"215.461\" r=\"14\" fill=\"#e26f46\" fill-rule=\"evenodd\" fill-opacity=\"1\" stroke=\"#000000\" stroke-opacity=\"1\" stroke-width=\"3.2\"/>\n",
       "<circle clip-path=\"url(#clip1502)\" cx=\"1184.74\" cy=\"202.012\" r=\"14\" fill=\"#e26f46\" fill-rule=\"evenodd\" fill-opacity=\"1\" stroke=\"#000000\" stroke-opacity=\"1\" stroke-width=\"3.2\"/>\n",
       "<circle clip-path=\"url(#clip1502)\" cx=\"1225.73\" cy=\"189.907\" r=\"14\" fill=\"#e26f46\" fill-rule=\"evenodd\" fill-opacity=\"1\" stroke=\"#000000\" stroke-opacity=\"1\" stroke-width=\"3.2\"/>\n",
       "<circle clip-path=\"url(#clip1502)\" cx=\"1266.71\" cy=\"179.013\" r=\"14\" fill=\"#e26f46\" fill-rule=\"evenodd\" fill-opacity=\"1\" stroke=\"#000000\" stroke-opacity=\"1\" stroke-width=\"3.2\"/>\n",
       "<circle clip-path=\"url(#clip1502)\" cx=\"1307.69\" cy=\"169.209\" r=\"14\" fill=\"#e26f46\" fill-rule=\"evenodd\" fill-opacity=\"1\" stroke=\"#000000\" stroke-opacity=\"1\" stroke-width=\"3.2\"/>\n",
       "<circle clip-path=\"url(#clip1502)\" cx=\"1348.67\" cy=\"160.384\" r=\"14\" fill=\"#e26f46\" fill-rule=\"evenodd\" fill-opacity=\"1\" stroke=\"#000000\" stroke-opacity=\"1\" stroke-width=\"3.2\"/>\n",
       "<circle clip-path=\"url(#clip1502)\" cx=\"1389.66\" cy=\"152.443\" r=\"14\" fill=\"#e26f46\" fill-rule=\"evenodd\" fill-opacity=\"1\" stroke=\"#000000\" stroke-opacity=\"1\" stroke-width=\"3.2\"/>\n",
       "<circle clip-path=\"url(#clip1502)\" cx=\"1430.64\" cy=\"145.295\" r=\"14\" fill=\"#e26f46\" fill-rule=\"evenodd\" fill-opacity=\"1\" stroke=\"#000000\" stroke-opacity=\"1\" stroke-width=\"3.2\"/>\n",
       "<circle clip-path=\"url(#clip1502)\" cx=\"1471.62\" cy=\"138.862\" r=\"14\" fill=\"#e26f46\" fill-rule=\"evenodd\" fill-opacity=\"1\" stroke=\"#000000\" stroke-opacity=\"1\" stroke-width=\"3.2\"/>\n",
       "<circle clip-path=\"url(#clip1502)\" cx=\"1512.61\" cy=\"133.073\" r=\"14\" fill=\"#e26f46\" fill-rule=\"evenodd\" fill-opacity=\"1\" stroke=\"#000000\" stroke-opacity=\"1\" stroke-width=\"3.2\"/>\n",
       "<circle clip-path=\"url(#clip1502)\" cx=\"1553.59\" cy=\"127.862\" r=\"14\" fill=\"#e26f46\" fill-rule=\"evenodd\" fill-opacity=\"1\" stroke=\"#000000\" stroke-opacity=\"1\" stroke-width=\"3.2\"/>\n",
       "<circle clip-path=\"url(#clip1502)\" cx=\"1594.57\" cy=\"123.172\" r=\"14\" fill=\"#e26f46\" fill-rule=\"evenodd\" fill-opacity=\"1\" stroke=\"#000000\" stroke-opacity=\"1\" stroke-width=\"3.2\"/>\n",
       "<circle clip-path=\"url(#clip1502)\" cx=\"1635.55\" cy=\"118.952\" r=\"14\" fill=\"#e26f46\" fill-rule=\"evenodd\" fill-opacity=\"1\" stroke=\"#000000\" stroke-opacity=\"1\" stroke-width=\"3.2\"/>\n",
       "<circle clip-path=\"url(#clip1502)\" cx=\"1676.54\" cy=\"115.153\" r=\"14\" fill=\"#e26f46\" fill-rule=\"evenodd\" fill-opacity=\"1\" stroke=\"#000000\" stroke-opacity=\"1\" stroke-width=\"3.2\"/>\n",
       "<circle clip-path=\"url(#clip1502)\" cx=\"1717.52\" cy=\"111.735\" r=\"14\" fill=\"#e26f46\" fill-rule=\"evenodd\" fill-opacity=\"1\" stroke=\"#000000\" stroke-opacity=\"1\" stroke-width=\"3.2\"/>\n",
       "<circle clip-path=\"url(#clip1502)\" cx=\"1758.5\" cy=\"108.658\" r=\"14\" fill=\"#e26f46\" fill-rule=\"evenodd\" fill-opacity=\"1\" stroke=\"#000000\" stroke-opacity=\"1\" stroke-width=\"3.2\"/>\n",
       "<circle clip-path=\"url(#clip1502)\" cx=\"1799.49\" cy=\"105.889\" r=\"14\" fill=\"#e26f46\" fill-rule=\"evenodd\" fill-opacity=\"1\" stroke=\"#000000\" stroke-opacity=\"1\" stroke-width=\"3.2\"/>\n",
       "<circle clip-path=\"url(#clip1502)\" cx=\"1840.47\" cy=\"103.397\" r=\"14\" fill=\"#e26f46\" fill-rule=\"evenodd\" fill-opacity=\"1\" stroke=\"#000000\" stroke-opacity=\"1\" stroke-width=\"3.2\"/>\n",
       "<circle clip-path=\"url(#clip1502)\" cx=\"1881.45\" cy=\"101.154\" r=\"14\" fill=\"#e26f46\" fill-rule=\"evenodd\" fill-opacity=\"1\" stroke=\"#000000\" stroke-opacity=\"1\" stroke-width=\"3.2\"/>\n",
       "<circle clip-path=\"url(#clip1502)\" cx=\"1922.44\" cy=\"99.1348\" r=\"14\" fill=\"#e26f46\" fill-rule=\"evenodd\" fill-opacity=\"1\" stroke=\"#000000\" stroke-opacity=\"1\" stroke-width=\"3.2\"/>\n",
       "<circle clip-path=\"url(#clip1502)\" cx=\"1963.42\" cy=\"97.318\" r=\"14\" fill=\"#e26f46\" fill-rule=\"evenodd\" fill-opacity=\"1\" stroke=\"#000000\" stroke-opacity=\"1\" stroke-width=\"3.2\"/>\n",
       "<circle clip-path=\"url(#clip1502)\" cx=\"2004.4\" cy=\"95.6829\" r=\"14\" fill=\"#e26f46\" fill-rule=\"evenodd\" fill-opacity=\"1\" stroke=\"#000000\" stroke-opacity=\"1\" stroke-width=\"3.2\"/>\n",
       "<circle clip-path=\"url(#clip1502)\" cx=\"2045.38\" cy=\"94.2112\" r=\"14\" fill=\"#e26f46\" fill-rule=\"evenodd\" fill-opacity=\"1\" stroke=\"#000000\" stroke-opacity=\"1\" stroke-width=\"3.2\"/>\n",
       "<circle clip-path=\"url(#clip1502)\" cx=\"2086.37\" cy=\"92.8868\" r=\"14\" fill=\"#e26f46\" fill-rule=\"evenodd\" fill-opacity=\"1\" stroke=\"#000000\" stroke-opacity=\"1\" stroke-width=\"3.2\"/>\n",
       "<circle clip-path=\"url(#clip1502)\" cx=\"2127.35\" cy=\"91.6948\" r=\"14\" fill=\"#e26f46\" fill-rule=\"evenodd\" fill-opacity=\"1\" stroke=\"#000000\" stroke-opacity=\"1\" stroke-width=\"3.2\"/>\n",
       "<circle clip-path=\"url(#clip1502)\" cx=\"2168.33\" cy=\"90.6219\" r=\"14\" fill=\"#e26f46\" fill-rule=\"evenodd\" fill-opacity=\"1\" stroke=\"#000000\" stroke-opacity=\"1\" stroke-width=\"3.2\"/>\n",
       "<circle clip-path=\"url(#clip1502)\" cx=\"2209.32\" cy=\"89.6564\" r=\"14\" fill=\"#e26f46\" fill-rule=\"evenodd\" fill-opacity=\"1\" stroke=\"#000000\" stroke-opacity=\"1\" stroke-width=\"3.2\"/>\n",
       "<circle clip-path=\"url(#clip1502)\" cx=\"2250.3\" cy=\"88.7874\" r=\"14\" fill=\"#e26f46\" fill-rule=\"evenodd\" fill-opacity=\"1\" stroke=\"#000000\" stroke-opacity=\"1\" stroke-width=\"3.2\"/>\n",
       "<circle clip-path=\"url(#clip1502)\" cx=\"2291.28\" cy=\"88.0053\" r=\"14\" fill=\"#e26f46\" fill-rule=\"evenodd\" fill-opacity=\"1\" stroke=\"#000000\" stroke-opacity=\"1\" stroke-width=\"3.2\"/>\n",
       "<polyline clip-path=\"url(#clip1502)\" style=\"stroke:#3da44d; stroke-width:12; stroke-opacity:1; fill:none\" points=\"\n",
       "  242.135,1446.71 242.545,1445.28 242.954,1443.84 243.364,1442.4 243.774,1440.97 244.184,1439.54 244.594,1438.11 245.004,1436.68 245.413,1435.25 245.823,1433.82 \n",
       "  246.233,1432.4 246.643,1430.98 247.053,1429.55 247.463,1428.13 247.872,1426.72 248.282,1425.3 248.692,1423.88 249.102,1422.47 249.512,1421.06 249.921,1419.65 \n",
       "  250.331,1418.24 250.741,1416.83 251.151,1415.42 251.561,1414.02 251.971,1412.61 252.38,1411.21 252.79,1409.81 253.2,1408.41 253.61,1407.01 254.02,1405.61 \n",
       "  254.43,1404.22 254.839,1402.83 255.249,1401.43 255.659,1400.04 256.069,1398.65 256.479,1397.27 256.889,1395.88 257.298,1394.5 257.708,1393.11 258.118,1391.73 \n",
       "  258.528,1390.35 258.938,1388.97 259.348,1387.59 259.757,1386.22 260.167,1384.84 260.577,1383.47 260.987,1382.1 261.397,1380.73 261.807,1379.36 262.216,1377.99 \n",
       "  262.626,1376.63 263.036,1375.26 263.446,1373.9 263.856,1372.54 264.266,1371.18 264.675,1369.82 265.085,1368.46 265.495,1367.11 265.905,1365.75 266.315,1364.4 \n",
       "  266.724,1363.05 267.134,1361.7 267.544,1360.35 267.954,1359 268.364,1357.66 268.774,1356.31 269.183,1354.97 269.593,1353.63 270.003,1352.29 270.413,1350.95 \n",
       "  270.823,1349.61 271.233,1348.28 271.642,1346.94 272.052,1345.61 272.462,1344.28 272.872,1342.95 273.282,1341.62 273.692,1340.29 274.101,1338.96 274.511,1337.64 \n",
       "  274.921,1336.31 275.331,1334.99 275.741,1333.67 276.151,1332.35 276.56,1331.04 276.97,1329.72 277.38,1328.4 277.79,1327.09 278.2,1325.78 278.61,1324.47 \n",
       "  279.019,1323.16 279.429,1321.85 279.839,1320.54 280.249,1319.24 280.659,1317.93 281.069,1316.63 281.478,1315.33 281.888,1314.03 282.298,1312.73 282.708,1311.43 \n",
       "  283.118,1310.14 283.527,1308.84 283.937,1307.55 284.347,1306.26 284.757,1304.97 285.167,1303.68 285.577,1302.39 285.986,1301.11 286.396,1299.82 286.806,1298.54 \n",
       "  287.216,1297.26 287.626,1295.98 288.036,1294.7 288.445,1293.42 288.855,1292.14 289.265,1290.87 289.675,1289.59 290.085,1288.32 290.495,1287.05 290.904,1285.78 \n",
       "  291.314,1284.51 291.724,1283.24 292.134,1281.98 292.544,1280.71 292.954,1279.45 293.363,1278.18 293.773,1276.92 294.183,1275.66 294.593,1274.41 295.003,1273.15 \n",
       "  295.413,1271.89 295.822,1270.64 296.232,1269.39 296.642,1268.14 297.052,1266.89 297.462,1265.64 297.872,1264.39 298.281,1263.14 298.691,1261.9 299.101,1260.65 \n",
       "  299.511,1259.41 299.921,1258.17 300.33,1256.93 300.74,1255.69 301.15,1254.46 301.56,1253.22 301.97,1251.99 302.38,1250.75 302.789,1249.52 303.199,1248.29 \n",
       "  303.609,1247.06 304.019,1245.83 304.429,1244.61 304.839,1243.38 305.248,1242.16 305.658,1240.93 306.068,1239.71 306.478,1238.49 306.888,1237.27 307.298,1236.06 \n",
       "  307.707,1234.84 308.117,1233.63 308.527,1232.41 308.937,1231.2 309.347,1229.99 309.757,1228.78 310.166,1227.57 310.576,1226.36 310.986,1225.16 311.396,1223.95 \n",
       "  311.806,1222.75 312.216,1221.54 312.625,1220.34 313.035,1219.14 313.445,1217.94 313.855,1216.75 314.265,1215.55 314.675,1214.36 315.084,1213.16 315.494,1211.97 \n",
       "  315.904,1210.78 316.314,1209.59 316.724,1208.4 317.133,1207.21 317.543,1206.03 317.953,1204.84 318.363,1203.66 318.773,1202.48 319.183,1201.3 319.592,1200.12 \n",
       "  320.002,1198.94 320.412,1197.76 320.822,1196.59 321.232,1195.41 321.642,1194.24 322.051,1193.06 322.461,1191.89 322.871,1190.72 323.281,1189.56 323.691,1188.39 \n",
       "  324.101,1187.22 324.51,1186.06 324.92,1184.89 325.33,1183.73 325.74,1182.57 326.15,1181.41 326.56,1180.25 326.969,1179.09 327.379,1177.94 327.789,1176.78 \n",
       "  328.199,1175.63 328.609,1174.47 329.019,1173.32 329.428,1172.17 329.838,1171.02 330.248,1169.88 330.658,1168.73 331.068,1167.58 331.478,1166.44 331.887,1165.3 \n",
       "  332.297,1164.15 332.707,1163.01 333.117,1161.87 333.527,1160.74 333.936,1159.6 334.346,1158.46 334.756,1157.33 335.166,1156.19 335.576,1155.06 335.986,1153.93 \n",
       "  336.395,1152.8 336.805,1151.67 337.215,1150.55 337.625,1149.42 338.035,1148.29 338.445,1147.17 338.854,1146.05 339.264,1144.93 339.674,1143.81 340.084,1142.69 \n",
       "  340.494,1141.57 340.904,1140.45 341.313,1139.34 341.723,1138.22 342.133,1137.11 342.543,1136 342.953,1134.88 343.363,1133.77 343.772,1132.67 344.182,1131.56 \n",
       "  344.592,1130.45 345.002,1129.35 345.412,1128.24 345.822,1127.14 346.231,1126.04 346.641,1124.94 347.051,1123.84 347.461,1122.74 347.871,1121.64 348.281,1120.55 \n",
       "  348.69,1119.45 349.1,1118.36 349.51,1117.27 349.92,1116.18 350.33,1115.09 350.739,1114 351.149,1112.91 351.559,1111.82 351.969,1110.74 352.379,1109.65 \n",
       "  352.789,1108.57 353.198,1107.49 353.608,1106.41 354.018,1105.33 354.428,1104.25 354.838,1103.17 355.248,1102.09 355.657,1101.02 356.067,1099.94 356.477,1098.87 \n",
       "  356.887,1097.8 357.297,1096.73 357.707,1095.66 358.116,1094.59 358.526,1093.52 358.936,1092.46 359.346,1091.39 359.756,1090.33 360.166,1089.26 360.575,1088.2 \n",
       "  360.985,1087.14 361.395,1086.08 361.805,1085.02 362.215,1083.97 362.625,1082.91 363.034,1081.85 363.444,1080.8 363.854,1079.75 364.264,1078.7 364.674,1077.65 \n",
       "  365.084,1076.6 365.493,1075.55 365.903,1074.5 366.313,1073.45 366.723,1072.41 367.133,1071.36 367.543,1070.32 367.952,1069.28 368.362,1068.24 368.772,1067.2 \n",
       "  369.182,1066.16 369.592,1065.12 370.001,1064.09 370.411,1063.05 370.821,1062.02 371.231,1060.98 371.641,1059.95 372.051,1058.92 372.46,1057.89 372.87,1056.86 \n",
       "  373.28,1055.84 373.69,1054.81 374.1,1053.78 374.51,1052.76 374.919,1051.74 375.329,1050.71 375.739,1049.69 376.149,1048.67 376.559,1047.65 376.969,1046.64 \n",
       "  377.378,1045.62 377.788,1044.6 378.198,1043.59 378.608,1042.57 379.018,1041.56 379.428,1040.55 379.837,1039.54 380.247,1038.53 380.657,1037.52 381.067,1036.51 \n",
       "  381.477,1035.51 381.887,1034.5 382.296,1033.5 382.706,1032.5 383.116,1031.49 383.526,1030.49 383.936,1029.49 384.346,1028.49 384.755,1027.5 385.165,1026.5 \n",
       "  385.575,1025.5 385.985,1024.51 386.395,1023.52 386.804,1022.52 387.214,1021.53 387.624,1020.54 388.034,1019.55 388.444,1018.56 388.854,1017.58 389.263,1016.59 \n",
       "  389.673,1015.6 390.083,1014.62 390.493,1013.64 390.903,1012.65 391.313,1011.67 391.722,1010.69 392.132,1009.71 392.542,1008.74 392.952,1007.76 393.362,1006.78 \n",
       "  393.772,1005.81 394.181,1004.83 394.591,1003.86 395.001,1002.89 395.411,1001.92 395.821,1000.95 396.231,999.98 396.64,999.013 397.05,998.046 397.46,997.08 \n",
       "  397.87,996.115 398.28,995.152 398.69,994.189 399.099,993.227 399.509,992.267 399.919,991.307 400.329,990.348 400.739,989.391 401.149,988.434 401.558,987.479 \n",
       "  401.968,986.524 402.378,985.57 402.788,984.618 403.198,983.666 403.607,982.716 404.017,981.766 404.427,980.817 404.837,979.87 405.247,978.923 405.657,977.978 \n",
       "  406.066,977.033 406.476,976.09 406.886,975.147 407.296,974.205 407.706,973.265 408.116,972.325 408.525,971.386 408.935,970.449 409.345,969.512 409.755,968.576 \n",
       "  410.165,967.642 410.575,966.708 410.984,965.775 411.394,964.843 411.804,963.913 412.214,962.983 412.624,962.054 413.034,961.126 413.443,960.199 413.853,959.274 \n",
       "  414.263,958.349 414.673,957.425 415.083,956.502 415.493,955.58 415.902,954.659 416.312,953.739 416.722,952.82 417.132,951.902 417.542,950.984 417.952,950.068 \n",
       "  418.361,949.153 418.771,948.239 419.181,947.326 419.591,946.413 420.001,945.502 420.41,944.591 420.82,943.682 421.23,942.774 421.64,941.866 422.05,940.959 \n",
       "  422.46,940.054 422.869,939.149 423.279,938.245 423.689,937.343 424.099,936.441 424.509,935.54 424.919,934.64 425.328,933.741 425.738,932.843 426.148,931.946 \n",
       "  426.558,931.05 426.968,930.155 427.378,929.261 427.787,928.367 428.197,927.475 428.607,926.583 429.017,925.693 429.427,924.803 429.837,923.915 430.246,923.027 \n",
       "  430.656,922.14 431.066,921.255 431.476,920.37 431.886,919.486 432.296,918.603 432.705,917.721 433.115,916.84 433.525,915.959 433.935,915.08 434.345,914.202 \n",
       "  434.755,913.324 435.164,912.448 435.574,911.572 435.984,910.698 436.394,909.824 436.804,908.951 437.213,908.079 437.623,907.208 438.033,906.338 438.443,905.469 \n",
       "  438.853,904.601 439.263,903.733 439.672,902.867 440.082,902.001 440.492,901.137 440.902,900.273 441.312,899.41 441.722,898.548 442.131,897.687 442.541,896.827 \n",
       "  442.951,895.968 443.361,895.11 443.771,894.253 444.181,893.396 444.59,892.541 445,891.686 445.41,890.832 445.82,889.98 446.23,889.128 446.64,888.277 \n",
       "  447.049,887.426 447.459,886.577 447.869,885.729 448.279,884.881 448.689,884.035 449.099,883.189 449.508,882.344 449.918,881.501 450.328,880.658 450.738,879.815 \n",
       "  451.148,878.974 451.558,878.134 451.967,877.294 452.377,876.456 452.787,875.618 453.197,874.781 453.607,873.945 454.016,873.11 454.426,872.276 454.836,871.443 \n",
       "  455.246,870.61 455.656,869.779 456.066,868.948 456.475,868.118 456.885,867.29 457.295,866.462 457.705,865.634 458.115,864.808 458.525,863.983 458.934,863.158 \n",
       "  459.344,862.334 459.754,861.512 460.164,860.69 460.574,859.869 460.984,859.048 461.393,858.229 461.803,857.41 462.213,856.593 462.623,855.776 463.033,854.96 \n",
       "  463.443,854.145 463.852,853.331 464.262,852.518 464.672,851.705 465.082,850.893 465.492,850.083 465.902,849.273 466.311,848.464 466.721,847.655 467.131,846.848 \n",
       "  467.541,846.042 467.951,845.236 468.361,844.431 468.77,843.627 469.18,842.824 469.59,842.022 470,841.22 470.41,840.42 470.819,839.62 471.229,838.821 \n",
       "  471.639,838.023 472.049,837.226 472.459,836.429 472.869,835.634 473.278,834.839 473.688,834.045 474.098,833.252 474.508,832.46 474.918,831.669 475.328,830.878 \n",
       "  475.737,830.089 476.147,829.3 476.557,828.512 476.967,827.724 477.377,826.938 477.787,826.153 478.196,825.368 478.606,824.584 479.016,823.801 479.426,823.019 \n",
       "  479.836,822.237 480.246,821.457 480.655,820.677 481.065,819.898 481.475,819.12 481.885,818.342 482.295,817.566 482.705,816.79 483.114,816.015 483.524,815.241 \n",
       "  483.934,814.468 484.344,813.696 484.754,812.924 485.164,812.153 485.573,811.383 485.983,810.614 486.393,809.846 486.803,809.078 487.213,808.312 487.623,807.546 \n",
       "  488.032,806.78 488.442,806.016 488.852,805.253 489.262,804.49 489.672,803.728 490.081,802.967 490.491,802.207 490.901,801.447 491.311,800.688 491.721,799.931 \n",
       "  492.131,799.173 492.54,798.417 492.95,797.662 493.36,796.907 493.77,796.153 494.18,795.4 494.59,794.647 494.999,793.896 495.409,793.145 495.819,792.395 \n",
       "  496.229,791.646 496.639,790.898 497.049,790.15 497.458,789.403 497.868,788.657 498.278,787.912 498.688,787.168 499.098,786.424 499.508,785.681 499.917,784.939 \n",
       "  500.327,784.198 500.737,783.457 501.147,782.717 501.557,781.978 501.967,781.24 502.376,780.503 502.786,779.766 503.196,779.03 503.606,778.295 504.016,777.561 \n",
       "  504.426,776.827 504.835,776.094 505.245,775.362 505.655,774.631 506.065,773.901 506.475,773.171 506.884,772.442 507.294,771.714 507.704,770.987 508.114,770.26 \n",
       "  508.524,769.534 508.934,768.809 509.343,768.085 509.753,767.361 510.163,766.638 510.573,765.916 510.983,765.195 511.393,764.474 511.802,763.755 512.212,763.036 \n",
       "  512.622,762.317 513.032,761.6 513.442,760.883 513.852,760.167 514.261,759.452 514.671,758.737 515.081,758.024 515.491,757.311 515.901,756.599 516.311,755.887 \n",
       "  516.72,755.176 517.13,754.466 517.54,753.757 517.95,753.049 518.36,752.341 518.77,751.634 519.179,750.928 519.589,750.222 519.999,749.517 520.409,748.813 \n",
       "  520.819,748.11 521.229,747.408 521.638,746.706 522.048,746.005 522.458,745.304 522.868,744.605 523.278,743.906 523.687,743.208 524.097,742.511 524.507,741.814 \n",
       "  524.917,741.118 525.327,740.423 525.737,739.728 526.146,739.035 526.556,738.342 526.966,737.649 527.376,736.958 527.786,736.267 528.196,735.577 528.605,734.888 \n",
       "  529.015,734.199 529.425,733.511 529.835,732.824 530.245,732.138 530.655,731.452 531.064,730.767 531.474,730.083 531.884,729.399 532.294,728.716 532.704,728.034 \n",
       "  533.114,727.353 533.523,726.672 533.933,725.992 534.343,725.313 534.753,724.634 535.163,723.957 535.573,723.279 535.982,722.603 536.392,721.927 536.802,721.252 \n",
       "  537.212,720.578 537.622,719.905 538.032,719.232 538.441,718.56 538.851,717.888 539.261,717.217 539.671,716.547 540.081,715.878 540.49,715.21 540.9,714.542 \n",
       "  541.31,713.875 541.72,713.208 542.13,712.542 542.54,711.877 542.949,711.213 543.359,710.549 543.769,709.886 544.179,709.224 544.589,708.562 544.999,707.901 \n",
       "  545.408,707.241 545.818,706.582 546.228,705.923 546.638,705.265 547.048,704.607 547.458,703.951 547.867,703.295 548.277,702.639 548.687,701.985 549.097,701.331 \n",
       "  549.507,700.677 549.917,700.025 550.326,699.373 550.736,698.722 551.146,698.071 551.556,697.421 551.966,696.772 552.376,696.124 552.785,695.476 553.195,694.829 \n",
       "  553.605,694.182 554.015,693.537 554.425,692.892 554.835,692.247 555.244,691.603 555.654,690.96 556.064,690.318 556.474,689.676 556.884,689.035 557.293,688.395 \n",
       "  557.703,687.755 558.113,687.116 558.523,686.478 558.933,685.84 559.343,685.203 559.752,684.567 560.162,683.932 560.572,683.297 560.982,682.662 561.392,682.029 \n",
       "  561.802,681.396 562.211,680.763 562.621,680.132 563.031,679.501 563.441,678.871 563.851,678.241 564.261,677.612 564.67,676.984 565.08,676.356 565.49,675.729 \n",
       "  565.9,675.103 566.31,674.477 566.72,673.852 567.129,673.228 567.539,672.604 567.949,671.981 568.359,671.359 568.769,670.737 569.179,670.116 569.588,669.496 \n",
       "  569.998,668.876 570.408,668.257 570.818,667.638 571.228,667.021 571.638,666.403 572.047,665.787 572.457,665.171 572.867,664.556 573.277,663.941 573.687,663.327 \n",
       "  574.096,662.714 574.506,662.102 574.916,661.49 575.326,660.878 575.736,660.268 576.146,659.658 576.555,659.048 576.965,658.439 577.375,657.831 577.785,657.224 \n",
       "  578.195,656.617 578.605,656.011 579.014,655.405 579.424,654.8 579.834,654.196 580.244,653.592 580.654,652.989 581.064,652.387 581.473,651.785 581.883,651.184 \n",
       "  582.293,650.584 582.703,649.984 583.113,649.385 583.523,648.786 583.932,648.188 584.342,647.591 584.752,646.994 585.162,646.398 585.572,645.803 585.982,645.208 \n",
       "  586.391,644.614 586.801,644.02 587.211,643.427 587.621,642.835 588.031,642.243 588.441,641.652 588.85,641.062 589.26,640.472 589.67,639.883 590.08,639.294 \n",
       "  590.49,638.706 590.9,638.119 591.309,637.532 591.719,636.946 592.129,636.361 592.539,635.776 592.949,635.192 593.358,634.608 593.768,634.025 594.178,633.443 \n",
       "  594.588,632.861 594.998,632.28 595.408,631.699 595.817,631.119 596.227,630.54 596.637,629.961 597.047,629.383 597.457,628.805 597.867,628.228 598.276,627.652 \n",
       "  598.686,627.076 599.096,626.501 599.506,625.927 599.916,625.353 600.326,624.78 600.735,624.207 601.145,623.635 601.555,623.064 601.965,622.493 602.375,621.923 \n",
       "  602.785,621.353 603.194,620.784 603.604,620.215 604.014,619.647 604.424,619.08 604.834,618.514 605.244,617.948 605.653,617.382 606.063,616.817 606.473,616.253 \n",
       "  606.883,615.689 607.293,615.126 607.703,614.564 608.112,614.002 608.522,613.44 608.932,612.88 609.342,612.32 609.752,611.76 610.161,611.201 610.571,610.643 \n",
       "  610.981,610.085 611.391,609.528 611.801,608.971 612.211,608.415 612.62,607.86 613.03,607.305 613.44,606.751 613.85,606.197 614.26,605.644 614.67,605.091 \n",
       "  615.079,604.539 615.489,603.988 615.899,603.437 616.309,602.887 616.719,602.337 617.129,601.788 617.538,601.24 617.948,600.692 618.358,600.145 618.768,599.598 \n",
       "  619.178,599.052 619.588,598.506 619.997,597.961 620.407,597.417 620.817,596.873 621.227,596.33 621.637,595.787 622.047,595.245 622.456,594.703 622.866,594.162 \n",
       "  623.276,593.622 623.686,593.082 624.096,592.543 624.506,592.004 624.915,591.466 625.325,590.928 625.735,590.391 626.145,589.855 626.555,589.319 626.964,588.784 \n",
       "  627.374,588.249 627.784,587.715 628.194,587.181 628.604,586.648 629.014,586.116 629.423,585.584 629.833,585.052 630.243,584.521 630.653,583.991 631.063,583.461 \n",
       "  631.473,582.932 631.882,582.404 632.292,581.876 632.702,581.348 633.112,580.821 633.522,580.295 633.932,579.769 634.341,579.244 634.751,578.719 635.161,578.195 \n",
       "  635.571,577.671 635.981,577.148 636.391,576.626 636.8,576.104 637.21,575.582 637.62,575.062 638.03,574.541 638.44,574.021 638.85,573.502 639.259,572.984 \n",
       "  639.669,572.466 640.079,571.948 640.489,571.431 640.899,570.914 641.309,570.398 641.718,569.883 642.128,569.368 642.538,568.854 642.948,568.34 643.358,567.827 \n",
       "  643.767,567.314 644.177,566.802 644.587,566.29 644.997,565.779 645.407,565.269 645.817,564.759 646.226,564.249 646.636,563.74 647.046,563.232 647.456,562.724 \n",
       "  647.866,562.217 648.276,561.71 648.685,561.204 649.095,560.698 649.505,560.193 649.915,559.688 650.325,559.184 650.735,558.681 651.144,558.178 651.554,557.675 \n",
       "  651.964,557.173 652.374,556.672 652.784,556.171 653.194,555.67 653.603,555.17 654.013,554.671 654.423,554.172 654.833,553.674 655.243,553.176 655.653,552.679 \n",
       "  656.062,552.182 656.472,551.686 656.882,551.19 657.292,550.695 657.702,550.2 658.112,549.706 658.521,549.213 658.931,548.72 659.341,548.227 659.751,547.735 \n",
       "  660.161,547.243 660.57,546.752 660.98,546.262 661.39,545.772 661.8,545.282 662.21,544.793 662.62,544.305 663.029,543.817 663.439,543.33 663.849,542.843 \n",
       "  664.259,542.356 664.669,541.871 665.079,541.385 665.488,540.9 665.898,540.416 666.308,539.932 666.718,539.449 667.128,538.966 667.538,538.484 667.947,538.002 \n",
       "  668.357,537.521 668.767,537.04 669.177,536.56 669.587,536.08 669.997,535.601 670.406,535.122 670.816,534.644 671.226,534.166 671.636,533.689 672.046,533.212 \n",
       "  672.456,532.736 672.865,532.26 673.275,531.785 673.685,531.31 674.095,530.836 674.505,530.362 674.915,529.889 675.324,529.416 675.734,528.944 676.144,528.472 \n",
       "  676.554,528.001 676.964,527.53 677.373,527.06 677.783,526.59 678.193,526.121 678.603,525.652 679.013,525.184 679.423,524.716 679.832,524.249 680.242,523.782 \n",
       "  680.652,523.316 681.062,522.85 681.472,522.384 681.882,521.92 682.291,521.455 682.701,520.991 683.111,520.528 683.521,520.065 683.931,519.603 684.341,519.141 \n",
       "  684.75,518.679 685.16,518.219 685.57,517.758 685.98,517.298 686.39,516.839 686.8,516.38 687.209,515.921 687.619,515.463 688.029,515.006 688.439,514.548 \n",
       "  688.849,514.092 689.259,513.636 689.668,513.18 690.078,512.725 690.488,512.27 690.898,511.816 691.308,511.362 691.718,510.909 692.127,510.457 692.537,510.004 \n",
       "  692.947,509.552 693.357,509.101 693.767,508.65 694.176,508.2 694.586,507.75 694.996,507.301 695.406,506.852 695.816,506.403 696.226,505.955 696.635,505.508 \n",
       "  697.045,505.061 697.455,504.614 697.865,504.168 698.275,503.722 698.685,503.277 699.094,502.832 699.504,502.388 699.914,501.944 700.324,501.501 700.734,501.058 \n",
       "  701.144,500.616 701.553,500.174 701.963,499.732 702.373,499.291 702.783,498.851 703.193,498.411 703.603,497.971 704.012,497.532 704.422,497.093 704.832,496.655 \n",
       "  705.242,496.217 705.652,495.78 706.062,495.343 706.471,494.907 706.881,494.471 707.291,494.036 707.701,493.601 708.111,493.166 708.521,492.732 708.93,492.298 \n",
       "  709.34,491.865 709.75,491.433 710.16,491 710.57,490.569 710.98,490.137 711.389,489.706 711.799,489.276 712.209,488.846 712.619,488.417 713.029,487.987 \n",
       "  713.438,487.559 713.848,487.131 714.258,486.703 714.668,486.276 715.078,485.849 715.488,485.423 715.897,484.997 716.307,484.571 716.717,484.146 717.127,483.722 \n",
       "  717.537,483.297 717.947,482.874 718.356,482.451 718.766,482.028 719.176,481.605 719.586,481.184 719.996,480.762 720.406,480.341 720.815,479.921 721.225,479.5 \n",
       "  721.635,479.081 722.045,478.661 722.455,478.243 722.865,477.824 723.274,477.406 723.684,476.989 724.094,476.572 724.504,476.155 724.914,475.739 725.324,475.323 \n",
       "  725.733,474.908 726.143,474.493 726.553,474.079 726.963,473.665 727.373,473.251 727.783,472.838 728.192,472.426 728.602,472.013 729.012,471.602 729.422,471.19 \n",
       "  729.832,470.779 730.241,470.369 730.651,469.959 731.061,469.549 731.471,469.14 731.881,468.731 732.291,468.323 732.7,467.915 733.11,467.508 733.52,467.1 \n",
       "  733.93,466.694 734.34,466.288 734.75,465.882 735.159,465.477 735.569,465.072 735.979,464.667 736.389,464.263 736.799,463.859 737.209,463.456 737.618,463.053 \n",
       "  738.028,462.651 738.438,462.249 738.848,461.848 739.258,461.447 739.668,461.046 740.077,460.646 740.487,460.246 740.897,459.846 741.307,459.448 741.717,459.049 \n",
       "  742.127,458.651 742.536,458.253 742.946,457.856 743.356,457.459 743.766,457.062 744.176,456.666 744.586,456.271 744.995,455.876 745.405,455.481 745.815,455.086 \n",
       "  746.225,454.692 746.635,454.299 747.044,453.906 747.454,453.513 747.864,453.121 748.274,452.729 748.684,452.337 749.094,451.946 749.503,451.556 749.913,451.165 \n",
       "  750.323,450.775 750.733,450.386 751.143,449.997 751.553,449.608 751.962,449.22 752.372,448.832 752.782,448.445 753.192,448.058 753.602,447.672 754.012,447.285 \n",
       "  754.421,446.9 754.831,446.514 755.241,446.129 755.651,445.745 756.061,445.361 756.471,444.977 756.88,444.594 757.29,444.211 757.7,443.828 758.11,443.446 \n",
       "  758.52,443.064 758.93,442.683 759.339,442.302 759.749,441.922 760.159,441.542 760.569,441.162 760.979,440.783 761.389,440.404 761.798,440.025 762.208,439.647 \n",
       "  762.618,439.269 763.028,438.892 763.438,438.515 763.847,438.139 764.257,437.762 764.667,437.387 765.077,437.011 765.487,436.636 765.897,436.262 766.306,435.888 \n",
       "  766.716,435.514 767.126,435.141 767.536,434.768 767.946,434.395 768.356,434.023 768.765,433.651 769.175,433.28 769.585,432.909 769.995,432.538 770.405,432.168 \n",
       "  770.815,431.798 771.224,431.429 771.634,431.06 772.044,430.691 772.454,430.323 772.864,429.955 773.274,429.587 773.683,429.22 774.093,428.853 774.503,428.487 \n",
       "  774.913,428.121 775.323,427.756 775.733,427.39 776.142,427.026 776.552,426.661 776.962,426.297 777.372,425.933 777.782,425.57 778.192,425.207 778.601,424.845 \n",
       "  779.011,424.483 779.421,424.121 779.831,423.76 780.241,423.399 780.65,423.038 781.06,422.678 781.47,422.318 781.88,421.958 782.29,421.599 782.7,421.241 \n",
       "  783.109,420.882 783.519,420.524 783.929,420.167 784.339,419.81 784.749,419.453 785.159,419.096 785.568,418.74 785.978,418.385 786.388,418.029 786.798,417.674 \n",
       "  787.208,417.32 787.618,416.966 788.027,416.612 788.437,416.258 788.847,415.905 789.257,415.553 789.667,415.2 790.077,414.848 790.486,414.497 790.896,414.145 \n",
       "  791.306,413.795 791.716,413.444 792.126,413.094 792.536,412.744 792.945,412.395 793.355,412.046 793.765,411.697 794.175,411.349 794.585,411.001 794.995,410.653 \n",
       "  795.404,410.306 795.814,409.959 796.224,409.613 796.634,409.267 797.044,408.921 797.453,408.576 797.863,408.231 798.273,407.886 798.683,407.542 799.093,407.198 \n",
       "  799.503,406.855 799.912,406.511 800.322,406.169 800.732,405.826 801.142,405.484 801.552,405.142 801.962,404.801 802.371,404.46 802.781,404.119 803.191,403.779 \n",
       "  803.601,403.439 804.011,403.099 804.421,402.76 804.83,402.421 805.24,402.083 805.65,401.745 806.06,401.407 806.47,401.069 806.88,400.732 807.289,400.396 \n",
       "  807.699,400.059 808.109,399.723 808.519,399.388 808.929,399.052 809.339,398.717 809.748,398.383 810.158,398.048 810.568,397.715 810.978,397.381 811.388,397.048 \n",
       "  811.798,396.715 812.207,396.382 812.617,396.05 813.027,395.718 813.437,395.387 813.847,395.056 814.257,394.725 814.666,394.395 815.076,394.065 815.486,393.735 \n",
       "  815.896,393.406 816.306,393.077 816.715,392.748 817.125,392.42 817.535,392.092 817.945,391.764 818.355,391.437 818.765,391.11 819.174,390.783 819.584,390.457 \n",
       "  819.994,390.131 820.404,389.806 820.814,389.48 821.224,389.155 821.633,388.831 822.043,388.507 822.453,388.183 822.863,387.859 823.273,387.536 823.683,387.213 \n",
       "  824.092,386.891 824.502,386.569 824.912,386.247 825.322,385.925 825.732,385.604 826.142,385.283 826.551,384.963 826.961,384.643 827.371,384.323 827.781,384.004 \n",
       "  828.191,383.684 828.601,383.366 829.01,383.047 829.42,382.729 829.83,382.411 830.24,382.094 830.65,381.777 831.06,381.46 831.469,381.144 831.879,380.828 \n",
       "  832.289,380.512 832.699,380.196 833.109,379.881 833.518,379.566 833.928,379.252 834.338,378.938 834.748,378.624 835.158,378.311 835.568,377.998 835.977,377.685 \n",
       "  836.387,377.372 836.797,377.06 837.207,376.748 837.617,376.437 838.027,376.126 838.436,375.815 838.846,375.504 839.256,375.194 839.666,374.884 840.076,374.575 \n",
       "  840.486,374.266 840.895,373.957 841.305,373.648 841.715,373.34 842.125,373.032 842.535,372.725 842.945,372.417 843.354,372.111 843.764,371.804 844.174,371.498 \n",
       "  844.584,371.192 844.994,370.886 845.404,370.581 845.813,370.276 846.223,369.971 846.633,369.667 847.043,369.363 847.453,369.059 847.863,368.756 848.272,368.453 \n",
       "  848.682,368.15 849.092,367.848 849.502,367.545 849.912,367.244 850.321,366.942 850.731,366.641 851.141,366.34 851.551,366.04 851.961,365.74 852.371,365.44 \n",
       "  852.78,365.14 853.19,364.841 853.6,364.542 854.01,364.243 854.42,363.945 854.83,363.647 855.239,363.349 855.649,363.052 856.059,362.755 856.469,362.458 \n",
       "  856.879,362.162 857.289,361.866 857.698,361.57 858.108,361.274 858.518,360.979 858.928,360.684 859.338,360.39 859.748,360.096 860.157,359.802 860.567,359.508 \n",
       "  860.977,359.215 861.387,358.922 861.797,358.629 862.207,358.337 862.616,358.044 863.026,357.753 863.436,357.461 863.846,357.17 864.256,356.879 864.666,356.589 \n",
       "  865.075,356.298 865.485,356.008 865.895,355.719 866.305,355.429 866.715,355.14 867.124,354.852 867.534,354.563 867.944,354.275 868.354,353.987 868.764,353.7 \n",
       "  869.174,353.413 869.583,353.126 869.993,352.839 870.403,352.553 870.813,352.267 871.223,351.981 871.633,351.696 872.042,351.411 872.452,351.126 872.862,350.841 \n",
       "  873.272,350.557 873.682,350.273 874.092,349.99 874.501,349.706 874.911,349.423 875.321,349.141 875.731,348.858 876.141,348.576 876.551,348.294 876.96,348.013 \n",
       "  877.37,347.732 877.78,347.451 878.19,347.17 878.6,346.89 879.01,346.61 879.419,346.33 879.829,346.051 880.239,345.772 880.649,345.493 881.059,345.214 \n",
       "  881.469,344.936 881.878,344.658 882.288,344.38 882.698,344.103 883.108,343.826 883.518,343.549 883.927,343.272 884.337,342.996 884.747,342.72 885.157,342.445 \n",
       "  885.567,342.169 885.977,341.894 886.386,341.619 886.796,341.345 887.206,341.071 887.616,340.797 888.026,340.523 888.436,340.25 888.845,339.977 889.255,339.704 \n",
       "  889.665,339.432 890.075,339.159 890.485,338.888 890.895,338.616 891.304,338.345 891.714,338.074 892.124,337.803 892.534,337.532 892.944,337.262 893.354,336.992 \n",
       "  893.763,336.723 894.173,336.453 894.583,336.184 894.993,335.916 895.403,335.647 895.813,335.379 896.222,335.111 896.632,334.843 897.042,334.576 897.452,334.309 \n",
       "  897.862,334.042 898.272,333.776 898.681,333.51 899.091,333.244 899.501,332.978 899.911,332.713 900.321,332.447 900.73,332.183 901.14,331.918 901.55,331.654 \n",
       "  901.96,331.39 902.37,331.126 902.78,330.863 903.189,330.6 903.599,330.337 904.009,330.074 904.419,329.812 904.829,329.55 905.239,329.288 905.648,329.026 \n",
       "  906.058,328.765 906.468,328.504 906.878,328.244 907.288,327.983 907.698,327.723 908.107,327.463 908.517,327.204 908.927,326.944 909.337,326.685 909.747,326.427 \n",
       "  910.157,326.168 910.566,325.91 910.976,325.652 911.386,325.394 911.796,325.137 912.206,324.88 912.616,324.623 913.025,324.366 913.435,324.11 913.845,323.854 \n",
       "  914.255,323.598 914.665,323.343 915.075,323.087 915.484,322.832 915.894,322.578 916.304,322.323 916.714,322.069 917.124,321.815 917.533,321.562 917.943,321.308 \n",
       "  918.353,321.055 918.763,320.802 919.173,320.55 919.583,320.298 919.992,320.046 920.402,319.794 920.812,319.542 921.222,319.291 921.632,319.04 922.042,318.789 \n",
       "  922.451,318.539 922.861,318.289 923.271,318.039 923.681,317.789 924.091,317.54 924.501,317.291 924.91,317.042 925.32,316.793 925.73,316.545 926.14,316.297 \n",
       "  926.55,316.049 926.96,315.801 927.369,315.554 927.779,315.307 928.189,315.06 928.599,314.814 929.009,314.568 929.419,314.322 929.828,314.076 930.238,313.83 \n",
       "  930.648,313.585 931.058,313.34 931.468,313.095 931.878,312.851 932.287,312.607 932.697,312.363 933.107,312.119 933.517,311.876 933.927,311.633 934.337,311.39 \n",
       "  934.746,311.147 935.156,310.905 935.566,310.663 935.976,310.421 936.386,310.179 936.795,309.938 937.205,309.697 937.615,309.456 938.025,309.215 938.435,308.975 \n",
       "  938.845,308.735 939.254,308.495 939.664,308.255 940.074,308.016 940.484,307.777 940.894,307.538 941.304,307.299 941.713,307.061 942.123,306.823 942.533,306.585 \n",
       "  942.943,306.347 943.353,306.11 943.763,305.873 944.172,305.636 944.582,305.4 944.992,305.163 945.402,304.927 945.812,304.691 946.222,304.456 946.631,304.22 \n",
       "  947.041,303.985 947.451,303.75 947.861,303.516 948.271,303.282 948.681,303.047 949.09,302.814 949.5,302.58 949.91,302.347 950.32,302.113 950.73,301.881 \n",
       "  951.14,301.648 951.549,301.416 951.959,301.183 952.369,300.952 952.779,300.72 953.189,300.488 953.598,300.257 954.008,300.026 954.418,299.796 954.828,299.565 \n",
       "  955.238,299.335 955.648,299.105 956.057,298.875 956.467,298.646 956.877,298.417 957.287,298.188 957.697,297.959 958.107,297.73 958.516,297.502 958.926,297.274 \n",
       "  959.336,297.046 959.746,296.819 960.156,296.592 960.566,296.364 960.975,296.138 961.385,295.911 961.795,295.685 962.205,295.459 962.615,295.233 963.025,295.007 \n",
       "  963.434,294.782 963.844,294.557 964.254,294.332 964.664,294.107 965.074,293.882 965.484,293.658 965.893,293.434 966.303,293.211 966.713,292.987 967.123,292.764 \n",
       "  967.533,292.541 967.943,292.318 968.352,292.095 968.762,291.873 969.172,291.651 969.582,291.429 969.992,291.207 970.401,290.986 970.811,290.765 971.221,290.544 \n",
       "  971.631,290.323 972.041,290.103 972.451,289.883 972.86,289.663 973.27,289.443 973.68,289.223 974.09,289.004 974.5,288.785 974.91,288.566 975.319,288.347 \n",
       "  975.729,288.129 976.139,287.911 976.549,287.693 976.959,287.475 977.369,287.258 977.778,287.041 978.188,286.824 978.598,286.607 979.008,286.39 979.418,286.174 \n",
       "  979.828,285.958 980.237,285.742 980.647,285.526 981.057,285.311 981.467,285.096 981.877,284.881 982.287,284.666 982.696,284.452 983.106,284.237 983.516,284.023 \n",
       "  983.926,283.809 984.336,283.596 984.746,283.382 985.155,283.169 985.565,282.956 985.975,282.744 986.385,282.531 986.795,282.319 987.204,282.107 987.614,281.895 \n",
       "  988.024,281.683 988.434,281.472 988.844,281.261 989.254,281.05 989.663,280.839 990.073,280.629 990.483,280.419 990.893,280.209 991.303,279.999 991.713,279.789 \n",
       "  992.122,279.58 992.532,279.371 992.942,279.162 993.352,278.953 993.762,278.745 994.172,278.536 994.581,278.328 994.991,278.12 995.401,277.913 995.811,277.705 \n",
       "  996.221,277.498 996.631,277.291 997.04,277.084 997.45,276.878 997.86,276.672 998.27,276.466 998.68,276.26 999.09,276.054 999.499,275.849 999.909,275.643 \n",
       "  1000.32,275.438 1000.73,275.234 1001.14,275.029 1001.55,274.825 1001.96,274.621 1002.37,274.417 1002.78,274.213 1003.19,274.009 1003.6,273.806 1004.01,273.603 \n",
       "  1004.42,273.4 1004.83,273.198 1005.24,272.995 1005.65,272.793 1006.06,272.591 1006.47,272.389 1006.88,272.188 1007.29,271.986 1007.7,271.785 1008.11,271.584 \n",
       "  1008.52,271.383 1008.93,271.183 1009.34,270.983 1009.75,270.782 1010.15,270.583 1010.56,270.383 1010.97,270.183 1011.38,269.984 1011.79,269.785 1012.2,269.586 \n",
       "  1012.61,269.388 1013.02,269.189 1013.43,268.991 1013.84,268.793 1014.25,268.595 1014.66,268.398 1015.07,268.2 1015.48,268.003 1015.89,267.806 1016.3,267.609 \n",
       "  1016.71,267.413 1017.12,267.216 1017.53,267.02 1017.94,266.824 1018.35,266.629 1018.76,266.433 1019.17,266.238 1019.58,266.043 1019.99,265.848 1020.4,265.653 \n",
       "  1020.81,265.459 1021.22,265.264 1021.63,265.07 1022.04,264.877 1022.45,264.683 1022.86,264.489 1023.27,264.296 1023.68,264.103 1024.09,263.91 1024.5,263.718 \n",
       "  1024.91,263.525 1025.32,263.333 1025.73,263.141 1026.14,262.949 1026.55,262.757 1026.96,262.566 1027.37,262.375 1027.78,262.184 1028.19,261.993 1028.6,261.802 \n",
       "  1029.01,261.612 1029.42,261.422 1029.83,261.232 1030.24,261.042 1030.65,260.852 1031.06,260.663 1031.47,260.473 1031.88,260.284 1032.29,260.096 1032.7,259.907 \n",
       "  1033.11,259.718 1033.52,259.53 1033.93,259.342 1034.33,259.154 1034.74,258.967 1035.15,258.779 1035.56,258.592 1035.97,258.405 1036.38,258.218 1036.79,258.031 \n",
       "  1037.2,257.845 1037.61,257.659 1038.02,257.473 1038.43,257.287 1038.84,257.101 1039.25,256.916 1039.66,256.73 1040.07,256.545 1040.48,256.36 1040.89,256.176 \n",
       "  1041.3,255.991 1041.71,255.807 1042.12,255.623 1042.53,255.439 1042.94,255.255 1043.35,255.072 1043.76,254.888 1044.17,254.705 1044.58,254.522 1044.99,254.339 \n",
       "  1045.4,254.157 1045.81,253.974 1046.22,253.792 1046.63,253.61 1047.04,253.428 1047.45,253.247 1047.86,253.065 1048.27,252.884 1048.68,252.703 1049.09,252.522 \n",
       "  1049.5,252.342 1049.91,252.161 1050.32,251.981 1050.73,251.801 1051.14,251.621 1051.55,251.441 1051.96,251.262 1052.37,251.082 1052.78,250.903 1053.19,250.724 \n",
       "  1053.6,250.546 1054.01,250.367 1054.42,250.189 1054.83,250.01 1055.24,249.832 1055.65,249.655 1056.06,249.477 1056.47,249.299 1056.88,249.122 1057.29,248.945 \n",
       "  1057.7,248.768 1058.1,248.592 1058.51,248.415 1058.92,248.239 1059.33,248.063 1059.74,247.887 1060.15,247.711 1060.56,247.535 1060.97,247.36 1061.38,247.185 \n",
       "  1061.79,247.01 \n",
       "  \"/>\n",
       "<path clip-path=\"url(#clip1500)\" d=\"\n",
       "M1989.93 251.724 L2280.76 251.724 L2280.76 130.764 L1989.93 130.764  Z\n",
       "  \" fill=\"#ffffff\" fill-rule=\"evenodd\" fill-opacity=\"1\"/>\n",
       "<polyline clip-path=\"url(#clip1500)\" style=\"stroke:#000000; stroke-width:4; stroke-opacity:1; fill:none\" points=\"\n",
       "  1989.93,251.724 2280.76,251.724 2280.76,130.764 1989.93,130.764 1989.93,251.724 \n",
       "  \"/>\n",
       "<polyline clip-path=\"url(#clip1500)\" style=\"stroke:#3da44d; stroke-width:12; stroke-opacity:1; fill:none\" points=\"\n",
       "  2013.93,191.244 2157.93,191.244 \n",
       "  \"/>\n",
       "<g clip-path=\"url(#clip1500)\">\n",
       "<text style=\"fill:#000000; fill-opacity:1; font-family:Arial,Helvetica Neue,Helvetica,sans-serif; font-size:48px; text-anchor:start;\" transform=\"rotate(0, 2181.93, 208.744)\" x=\"2181.93\" y=\"208.744\">y3</text>\n",
       "</g>\n",
       "</svg>\n"
      ]
     },
     "execution_count": 49,
     "metadata": {},
     "output_type": "execute_result"
    }
   ],
   "source": [
    "plot()\n",
    "\n",
    "p = 0.1\n",
    "λ = -log(1-p)\n",
    "plot_cumulative!(p, 50)\n",
    "\n",
    "plot!(0:0.01:20, t -> 1-exp(-λ*t), lw=3)"
   ]
  },
  {
   "cell_type": "markdown",
   "metadata": {},
   "source": [
    "**Exponential random variable** $Z$\n",
    "\n",
    "At every time step, there is a prob $p$ of recovering from the infection or $(1-p)$ of remaining infected.\n",
    "\n",
    "cumsum is the probability of recovering some time between 1 to $n$\n",
    "\n",
    "1-cumsum is the probability of not recovering (1-$p$ at each time step) any time between 1 to $n$ (failing to recover each time from 1 to $n$)\n",
    "\n",
    "cumsum = $1-(1-p)^n$\n",
    "\n",
    "$F_Z(t) = \\mathbb{P}(Z \\leq t)$"
   ]
  },
  {
   "cell_type": "code",
   "execution_count": 3,
   "metadata": {},
   "outputs": [
    {
     "data": {
      "text/plain": [
       "0.10536051565782628"
      ]
     },
     "execution_count": 3,
     "metadata": {},
     "output_type": "execute_result"
    }
   ],
   "source": [
    "p = 0.1\n",
    "λ = -log(1-p)"
   ]
  },
  {
   "cell_type": "code",
   "execution_count": 4,
   "metadata": {},
   "outputs": [
    {
     "data": {
      "text/plain": [
       "15×2 Array{Float64,2}:\n",
       " 0.1       0.1\n",
       " 0.146185  0.146185\n",
       " 0.19      0.19\n",
       " 0.231567  0.231567\n",
       " 0.271     0.271\n",
       " 0.30841   0.30841\n",
       " 0.3439    0.3439\n",
       " 0.377569  0.377569\n",
       " 0.40951   0.40951\n",
       " 0.439812  0.439812\n",
       " 0.468559  0.468559\n",
       " 0.495831  0.495831\n",
       " 0.521703  0.521703\n",
       " 0.546248  0.546248\n",
       " 0.569533  0.569533"
      ]
     },
     "execution_count": 4,
     "metadata": {},
     "output_type": "execute_result"
    }
   ],
   "source": [
    "[[1-(1-p)^n for n in 1:.5:8] [1-exp(-λ*t) for t in 1:.5:8]]"
   ]
  },
  {
   "cell_type": "markdown",
   "metadata": {},
   "source": [
    "From this point of view, the probability of being greater than $n$ is $(1-p)^n$.\n",
    "\n",
    "We want to consider a tiem scaling which says the probability of being greater than $t\\delta$ is $(1-p)^n=(1-p)^{t/\\delta}$\n",
    "\n",
    "e.g. half time steps. "
   ]
  },
  {
   "cell_type": "markdown",
   "metadata": {},
   "source": [
    "$(1-p/24)^{24} -= (1-p)$"
   ]
  },
  {
   "cell_type": "markdown",
   "metadata": {},
   "source": [
    "$(1 - p\\delta)^(1/\\delta) -= 1-p$"
   ]
  },
  {
   "cell_type": "code",
   "execution_count": null,
   "metadata": {},
   "outputs": [],
   "source": [
    "1 - ℯ ^ (-pt) # the probability of recover somewhere from time 0 to time t"
   ]
  },
  {
   "cell_type": "code",
   "execution_count": 7,
   "metadata": {},
   "outputs": [
    {
     "data": {
      "text/plain": [
       "20-element Array{Float64,1}:\n",
       " 1.3224999999999998\n",
       " 1.3354691406249999\n",
       " 1.3424707842701926\n",
       " 1.3461143313286696\n",
       " 1.347973667392876\n",
       " 1.3489129752343159\n",
       " 1.3493850711865425\n",
       " 1.3496217337405347\n",
       " 1.349740219174496\n",
       " 1.3497995004950871\n",
       " 1.3498291508146365\n",
       " 1.3498439783900025\n",
       " 1.3498513927805198\n",
       " 1.3498551001274237\n",
       " 1.349856953843546\n",
       " 1.3498578807085921\n",
       " 1.3498583441238323\n",
       " 1.3498585758418638\n",
       " 1.3498586917795992\n",
       " 1.3498587497092176"
      ]
     },
     "execution_count": 7,
     "metadata": {},
     "output_type": "execute_result"
    }
   ],
   "source": [
    "[(1 + .3/k)^k for k=2 .^(1:20)]"
   ]
  },
  {
   "cell_type": "code",
   "execution_count": null,
   "metadata": {},
   "outputs": [],
   "source": []
  }
 ],
 "metadata": {
  "@webio": {
   "lastCommId": "77de3887b24e49d68478ea18d9caef46",
   "lastKernelId": "cdb370d1-1ddb-4568-993a-23ad3675cf97"
  },
  "kernelspec": {
   "display_name": "Julia 1.4.0",
   "language": "julia",
   "name": "julia-1.4"
  },
  "language_info": {
   "file_extension": ".jl",
   "mimetype": "application/julia",
   "name": "julia",
   "version": "1.4.0"
  }
 },
 "nbformat": 4,
 "nbformat_minor": 2
}
