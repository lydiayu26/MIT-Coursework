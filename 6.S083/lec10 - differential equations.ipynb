{
 "cells": [
  {
   "cell_type": "code",
   "execution_count": 5,
   "metadata": {},
   "outputs": [
    {
     "data": {
      "text/plain": [
       "x (generic function with 1 method)"
      ]
     },
     "execution_count": 5,
     "metadata": {},
     "output_type": "execute_result"
    }
   ],
   "source": [
    "h = 0.001\n",
    "k = 2\n",
    "x0 = 5\n",
    "x(t) = (1+h*k)^(t/h) * x0"
   ]
  },
  {
   "cell_type": "code",
   "execution_count": 6,
   "metadata": {},
   "outputs": [
    {
     "data": {
      "text/plain": [
       "36.87156195177308"
      ]
     },
     "execution_count": 6,
     "metadata": {},
     "output_type": "execute_result"
    }
   ],
   "source": [
    "x(1)"
   ]
  },
  {
   "cell_type": "code",
   "execution_count": 7,
   "metadata": {},
   "outputs": [
    {
     "data": {
      "text/plain": [
       "36.93789316226528"
      ]
     },
     "execution_count": 7,
     "metadata": {},
     "output_type": "execute_result"
    }
   ],
   "source": [
    "h = 0.0001\n",
    "x(1)"
   ]
  },
  {
   "cell_type": "code",
   "execution_count": 4,
   "metadata": {},
   "outputs": [
    {
     "data": {
      "text/plain": [
       "ℯ = 2.7182818284590..."
      ]
     },
     "execution_count": 4,
     "metadata": {},
     "output_type": "execute_result"
    }
   ],
   "source": [
    "ℯ"
   ]
  },
  {
   "cell_type": "code",
   "execution_count": 8,
   "metadata": {},
   "outputs": [
    {
     "data": {
      "text/plain": [
       "36.945280494653254"
      ]
     },
     "execution_count": 8,
     "metadata": {},
     "output_type": "execute_result"
    }
   ],
   "source": [
    "5*ℯ^k"
   ]
  },
  {
   "cell_type": "code",
   "execution_count": 9,
   "metadata": {},
   "outputs": [
    {
     "data": {
      "text/plain": [
       "x2 (generic function with 1 method)"
      ]
     },
     "execution_count": 9,
     "metadata": {},
     "output_type": "execute_result"
    }
   ],
   "source": [
    "x2(t) = x0/(1-h*k)^(t/h)"
   ]
  },
  {
   "cell_type": "code",
   "execution_count": 11,
   "metadata": {},
   "outputs": [
    {
     "data": {
      "text/plain": [
       "36.952671275251305"
      ]
     },
     "execution_count": 11,
     "metadata": {},
     "output_type": "execute_result"
    }
   ],
   "source": [
    "x2(1)"
   ]
  },
  {
   "cell_type": "code",
   "execution_count": 13,
   "metadata": {},
   "outputs": [
    {
     "data": {
      "text/plain": [
       "10-element Array{Float64,1}:\n",
       "      -0.014778112986022052\n",
       "      -0.21839262197170228\n",
       "      -2.4205731482461488\n",
       "     -23.847669460765246\n",
       "    -220.26472843247757\n",
       "   -1953.0583173095947\n",
       "  -16836.46895772498\n",
       " -142177.86216519773\n",
       "      -1.1818803899732828e6\n",
       "      -9.703313158658981e6"
      ]
     },
     "execution_count": 13,
     "metadata": {},
     "output_type": "execute_result"
    }
   ],
   "source": [
    "[(x(t)-x2(t)) for t=1:10]"
   ]
  },
  {
   "cell_type": "code",
   "execution_count": 15,
   "metadata": {},
   "outputs": [
    {
     "name": "stderr",
     "output_type": "stream",
     "text": [
      "\u001b[32m\u001b[1m   Updating\u001b[22m\u001b[39m registry at `~/.julia/registries/General`\n"
     ]
    },
    {
     "name": "stdout",
     "output_type": "stream",
     "text": [
      "\u001b[?25l    "
     ]
    },
    {
     "name": "stderr",
     "output_type": "stream",
     "text": [
      "\u001b[32m\u001b[1m   Updating\u001b[22m\u001b[39m git-repo `https://github.com/JuliaRegistries/General.git`\n"
     ]
    },
    {
     "name": "stdout",
     "output_type": "stream",
     "text": [
      "\u001b[2K\u001b[?25h[1mFetching:\u001b[22m\u001b[39m [========================================>]  100.0 %[36m\u001b[1mFetching:\u001b[22m\u001b[39m [=====>                                   ]  12.1 %>                             ]  25.1 %                           ]  31.5 % [==================>                      ]  44.6 %]  57.6 %\u001b[36m\u001b[1mFetching:\u001b[22m\u001b[39m [=========================>               ]  61.6 %>          ]  74.6 % %>   ]  91.2 %"
     ]
    },
    {
     "name": "stderr",
     "output_type": "stream",
     "text": [
      "\u001b[32m\u001b[1m  Resolving\u001b[22m\u001b[39m package versions...\n",
      "\u001b[32m\u001b[1m  Installed\u001b[22m\u001b[39m Opus_jll ─────────────── v1.3.1+1\n",
      "\u001b[32m\u001b[1m  Installed\u001b[22m\u001b[39m libvorbis_jll ────────── v1.3.6+3\n",
      "\u001b[32m\u001b[1m  Installed\u001b[22m\u001b[39m Formatting ───────────── v0.4.1\n",
      "\u001b[32m\u001b[1m  Installed\u001b[22m\u001b[39m UnPack ───────────────── v0.1.0\n",
      "\u001b[32m\u001b[1m  Installed\u001b[22m\u001b[39m FunctionWrappers ─────── v1.1.1\n",
      "\u001b[32m\u001b[1m  Installed\u001b[22m\u001b[39m BoundaryValueDiffEq ──── v2.5.0\n",
      "\u001b[32m\u001b[1m  Installed\u001b[22m\u001b[39m DifferentialEquations ── v6.13.0\n",
      "\u001b[32m\u001b[1m  Installed\u001b[22m\u001b[39m BandedMatrices ───────── v0.15.6\n",
      "\u001b[32m\u001b[1m  Installed\u001b[22m\u001b[39m DimensionalPlotRecipes ─ v1.2.0\n",
      "\u001b[32m\u001b[1m  Installed\u001b[22m\u001b[39m ZygoteRules ──────────── v0.2.0\n",
      "\u001b[32m\u001b[1m  Installed\u001b[22m\u001b[39m METIS_jll ────────────── v5.1.0+3\n",
      "\u001b[32m\u001b[1m  Installed\u001b[22m\u001b[39m ArrayLayouts ─────────── v0.2.6\n",
      "\u001b[32m\u001b[1m  Installed\u001b[22m\u001b[39m DiffEqCallbacks ──────── v2.13.1\n",
      "\u001b[32m\u001b[1m  Installed\u001b[22m\u001b[39m Inflate ──────────────── v0.1.2\n",
      "\u001b[32m\u001b[1m  Installed\u001b[22m\u001b[39m FillArrays ───────────── v0.8.8\n",
      "\u001b[32m\u001b[1m  Installed\u001b[22m\u001b[39m LightGraphs ──────────── v1.3.2\n",
      "\u001b[32m\u001b[1m  Installed\u001b[22m\u001b[39m SafeTestsets ─────────── v0.0.1\n",
      "\u001b[32m\u001b[1m  Installed\u001b[22m\u001b[39m FiniteDiff ───────────── v2.3.0\n",
      "\u001b[32m\u001b[1m  Installed\u001b[22m\u001b[39m DiffEqJump ───────────── v6.6.1\n",
      "\u001b[32m\u001b[1m  Installed\u001b[22m\u001b[39m NameResolution ───────── v0.1.3\n",
      "\u001b[32m\u001b[1m  Installed\u001b[22m\u001b[39m SteadyStateDiffEq ────── v1.5.0\n",
      "\u001b[32m\u001b[1m  Installed\u001b[22m\u001b[39m LoggingExtras ────────── v0.4.0\n",
      "\u001b[32m\u001b[1m  Installed\u001b[22m\u001b[39m Roots ────────────────── v1.0.1\n",
      "\u001b[32m\u001b[1m  Installed\u001b[22m\u001b[39m Unitful ──────────────── v1.1.0\n",
      "\u001b[32m\u001b[1m  Installed\u001b[22m\u001b[39m GenericSVD ───────────── v0.3.0\n",
      "\u001b[32m\u001b[1m  Installed\u001b[22m\u001b[39m ArnoldiMethod ────────── v0.0.4\n",
      "\u001b[32m\u001b[1m  Installed\u001b[22m\u001b[39m ConsoleProgressMonitor ─ v0.1.2\n",
      "\u001b[32m\u001b[1m  Installed\u001b[22m\u001b[39m StochasticDiffEq ─────── v6.19.2\n",
      "\u001b[32m\u001b[1m  Installed\u001b[22m\u001b[39m ModelingToolkit ──────── v3.1.1\n",
      "\u001b[32m\u001b[1m  Installed\u001b[22m\u001b[39m IterativeSolvers ─────── v0.8.4\n",
      "\u001b[32m\u001b[1m  Installed\u001b[22m\u001b[39m CanonicalTraits ──────── v0.2.1\n",
      "\u001b[32m\u001b[1m  Installed\u001b[22m\u001b[39m NLsolve ──────────────── v4.3.0\n",
      "\u001b[32m\u001b[1m  Installed\u001b[22m\u001b[39m SuiteSparse_jll ──────── v5.4.0+8\n",
      "\u001b[32m\u001b[1m  Installed\u001b[22m\u001b[39m ParameterizedFunctions ─ v5.3.0\n",
      "\u001b[32m\u001b[1m  Installed\u001b[22m\u001b[39m ProgressMeter ────────── v1.2.0\n",
      "\u001b[32m\u001b[1m  Installed\u001b[22m\u001b[39m ConstructionBase ─────── v1.0.0\n",
      "\u001b[32m\u001b[1m  Installed\u001b[22m\u001b[39m TerminalLoggers ──────── v0.1.1\n",
      "\u001b[32m\u001b[1m  Installed\u001b[22m\u001b[39m PrettyPrint ──────────── v0.1.0\n",
      "\u001b[32m\u001b[1m  Installed\u001b[22m\u001b[39m NLSolversBase ────────── v7.6.1\n",
      "\u001b[32m\u001b[1m  Installed\u001b[22m\u001b[39m MultiScaleArrays ─────── v1.8.1\n",
      "\u001b[32m\u001b[1m  Installed\u001b[22m\u001b[39m ForwardDiff ──────────── v0.10.10\n",
      "\u001b[32m\u001b[1m  Installed\u001b[22m\u001b[39m ResettableStacks ─────── v1.0.0\n",
      "\u001b[32m\u001b[1m  Installed\u001b[22m\u001b[39m CEnum ────────────────── v0.2.0\n",
      "\u001b[32m\u001b[1m  Installed\u001b[22m\u001b[39m VertexSafeGraphs ─────── v0.1.1\n",
      "\u001b[32m\u001b[1m  Installed\u001b[22m\u001b[39m LabelledArrays ───────── v1.2.0\n",
      "\u001b[32m\u001b[1m  Installed\u001b[22m\u001b[39m MLStyle ──────────────── v0.3.1\n",
      "\u001b[32m\u001b[1m  Installed\u001b[22m\u001b[39m Latexify ─────────────── v0.13.1\n",
      "\u001b[32m\u001b[1m  Installed\u001b[22m\u001b[39m DiffEqNoiseProcess ───── v3.10.0\n",
      "\u001b[32m\u001b[1m  Installed\u001b[22m\u001b[39m ArrayInterface ───────── v2.8.7\n",
      "\u001b[32m\u001b[1m  Installed\u001b[22m\u001b[39m DiffEqFinancial ──────── v2.2.1\n",
      "\u001b[32m\u001b[1m  Installed\u001b[22m\u001b[39m ExponentialUtilities ─── v1.6.0\n",
      "\u001b[32m\u001b[1m  Installed\u001b[22m\u001b[39m RandomNumbers ────────── v1.4.0\n",
      "\u001b[32m\u001b[1m  Installed\u001b[22m\u001b[39m Adapt ────────────────── v1.0.1\n",
      "\u001b[32m\u001b[1m  Installed\u001b[22m\u001b[39m PoissonRandom ────────── v0.4.0\n",
      "\u001b[32m\u001b[1m  Installed\u001b[22m\u001b[39m DiffEqBase ───────────── v6.32.1\n",
      "\u001b[32m\u001b[1m  Installed\u001b[22m\u001b[39m ProgressLogging ──────── v0.1.2\n",
      "\u001b[32m\u001b[1m  Installed\u001b[22m\u001b[39m RecursiveFactorization ─ v0.1.0\n",
      "\u001b[32m\u001b[1m  Installed\u001b[22m\u001b[39m MuladdMacro ──────────── v0.2.2\n",
      "\u001b[32m\u001b[1m  Installed\u001b[22m\u001b[39m Sundials ─────────────── v4.2.1\n",
      "\u001b[32m\u001b[1m  Installed\u001b[22m\u001b[39m GeneralizedGenerated ─── v0.2.3\n",
      "\u001b[32m\u001b[1m  Installed\u001b[22m\u001b[39m OrdinaryDiffEq ───────── v5.35.5\n",
      "\u001b[32m\u001b[1m  Installed\u001b[22m\u001b[39m SparseDiffTools ──────── v1.7.1\n",
      "\u001b[32m\u001b[1m  Installed\u001b[22m\u001b[39m JuliaVariables ───────── v0.2.0\n",
      "\u001b[32m\u001b[1m  Installed\u001b[22m\u001b[39m Sundials_jll ─────────── v5.2.0+0\n",
      "\u001b[32m\u001b[1m  Installed\u001b[22m\u001b[39m SimpleTraits ─────────── v0.9.2\n",
      "\u001b[32m\u001b[1m  Installed\u001b[22m\u001b[39m ChainRulesCore ───────── v0.7.5\n",
      "\u001b[32m\u001b[1m  Installed\u001b[22m\u001b[39m DelayDiffEq ──────────── v5.23.0\n",
      "\u001b[32m\u001b[1m  Installed\u001b[22m\u001b[39m RecursiveArrayTools ──── v2.3.1\n",
      "\u001b[32m\u001b[1m  Installed\u001b[22m\u001b[39m OpenBLAS_jll ─────────── v0.3.9+2\n",
      "######################################################################### 100.0%##O#- #                                                                        \n",
      "######################################################################### 100.0%##O=#  #                                                                       \n",
      "######################################################################### 100.0%##O=#  #                                                                       \n",
      "######################################################################### 100.0%##O=#  #                                                                       \n",
      "######################################################################### 100.0%##O=#  #                                                                       \n",
      "######################################################################### 100.0%##O=#  #                                                                       \n",
      "\u001b[32m\u001b[1m   Updating\u001b[22m\u001b[39m `~/.julia/environments/v1.4/Project.toml`\n",
      " \u001b[90m [0c46a032]\u001b[39m\u001b[92m + DifferentialEquations v6.13.0\u001b[39m\n",
      "\u001b[32m\u001b[1m   Updating\u001b[22m\u001b[39m `~/.julia/environments/v1.4/Manifest.toml`\n",
      " \u001b[90m [79e6a3ab]\u001b[39m\u001b[92m + Adapt v1.0.1\u001b[39m\n",
      " \u001b[90m [ec485272]\u001b[39m\u001b[92m + ArnoldiMethod v0.0.4\u001b[39m\n",
      " \u001b[90m [4fba245c]\u001b[39m\u001b[92m + ArrayInterface v2.8.7\u001b[39m\n",
      " \u001b[90m [4c555306]\u001b[39m\u001b[92m + ArrayLayouts v0.2.6\u001b[39m\n",
      " \u001b[90m [aae01518]\u001b[39m\u001b[92m + BandedMatrices v0.15.6\u001b[39m\n",
      " \u001b[90m [764a87c0]\u001b[39m\u001b[92m + BoundaryValueDiffEq v2.5.0\u001b[39m\n",
      " \u001b[90m [fa961155]\u001b[39m\u001b[92m + CEnum v0.2.0\u001b[39m\n",
      " \u001b[90m [a603d957]\u001b[39m\u001b[92m + CanonicalTraits v0.2.1\u001b[39m\n",
      " \u001b[90m [d360d2e6]\u001b[39m\u001b[92m + ChainRulesCore v0.7.5\u001b[39m\n",
      " \u001b[90m [bbf7d656]\u001b[39m\u001b[92m + CommonSubexpressions v0.2.0\u001b[39m\n",
      " \u001b[90m [88cd18e8]\u001b[39m\u001b[92m + ConsoleProgressMonitor v0.1.2\u001b[39m\n",
      " \u001b[90m [187b0558]\u001b[39m\u001b[92m + ConstructionBase v1.0.0\u001b[39m\n",
      " \u001b[90m [bcd4f6db]\u001b[39m\u001b[92m + DelayDiffEq v5.23.0\u001b[39m\n",
      " \u001b[90m [2b5f629d]\u001b[39m\u001b[92m + DiffEqBase v6.32.1\u001b[39m\n",
      " \u001b[90m [459566f4]\u001b[39m\u001b[92m + DiffEqCallbacks v2.13.1\u001b[39m\n",
      " \u001b[90m [5a0ffddc]\u001b[39m\u001b[92m + DiffEqFinancial v2.2.1\u001b[39m\n",
      " \u001b[90m [c894b116]\u001b[39m\u001b[92m + DiffEqJump v6.6.1\u001b[39m\n",
      " \u001b[90m [77a26b50]\u001b[39m\u001b[92m + DiffEqNoiseProcess v3.10.0\u001b[39m\n",
      " \u001b[90m [055956cb]\u001b[39m\u001b[92m + DiffEqPhysics v3.5.0\u001b[39m\n",
      " \u001b[90m [163ba53b]\u001b[39m\u001b[92m + DiffResults v1.0.2\u001b[39m\n",
      " \u001b[90m [b552c78f]\u001b[39m\u001b[92m + DiffRules v1.0.1\u001b[39m\n",
      " \u001b[90m [0c46a032]\u001b[39m\u001b[92m + DifferentialEquations v6.13.0\u001b[39m\n",
      " \u001b[90m [c619ae07]\u001b[39m\u001b[92m + DimensionalPlotRecipes v1.2.0\u001b[39m\n",
      " \u001b[90m [ffbed154]\u001b[39m\u001b[92m + DocStringExtensions v0.8.1\u001b[39m\n",
      " \u001b[90m [d4d017d3]\u001b[39m\u001b[92m + ExponentialUtilities v1.6.0\u001b[39m\n",
      " \u001b[90m [1a297f60]\u001b[39m\u001b[92m + FillArrays v0.8.8\u001b[39m\n",
      " \u001b[90m [6a86dc24]\u001b[39m\u001b[92m + FiniteDiff v2.3.0\u001b[39m\n",
      " \u001b[90m [59287772]\u001b[39m\u001b[92m + Formatting v0.4.1\u001b[39m\n",
      " \u001b[90m [f6369f11]\u001b[39m\u001b[92m + ForwardDiff v0.10.10\u001b[39m\n",
      " \u001b[90m [069b7b12]\u001b[39m\u001b[92m + FunctionWrappers v1.1.1\u001b[39m\n",
      " \u001b[90m [6b9d7cbe]\u001b[39m\u001b[92m + GeneralizedGenerated v0.2.3\u001b[39m\n",
      " \u001b[90m [01680d73]\u001b[39m\u001b[92m + GenericSVD v0.3.0\u001b[39m\n",
      " \u001b[90m [d25df0c9]\u001b[39m\u001b[92m + Inflate v0.1.2\u001b[39m\n",
      " \u001b[90m [42fd0dbc]\u001b[39m\u001b[92m + IterativeSolvers v0.8.4\u001b[39m\n",
      " \u001b[90m [b14d175d]\u001b[39m\u001b[92m + JuliaVariables v0.2.0\u001b[39m\n",
      " \u001b[90m [2ee39098]\u001b[39m\u001b[92m + LabelledArrays v1.2.0\u001b[39m\n",
      " \u001b[90m [23fbe1c1]\u001b[39m\u001b[92m + Latexify v0.13.1\u001b[39m\n",
      " \u001b[90m [093fc24a]\u001b[39m\u001b[92m + LightGraphs v1.3.2\u001b[39m\n",
      " \u001b[90m [d3d80556]\u001b[39m\u001b[92m + LineSearches v7.0.1\u001b[39m\n",
      " \u001b[90m [e6f89c97]\u001b[39m\u001b[92m + LoggingExtras v0.4.0\u001b[39m\n",
      " \u001b[90m [d00139f3]\u001b[39m\u001b[92m + METIS_jll v5.1.0+3\u001b[39m\n",
      " \u001b[90m [d8e11817]\u001b[39m\u001b[92m + MLStyle v0.3.1\u001b[39m\n",
      " \u001b[90m [961ee093]\u001b[39m\u001b[92m + ModelingToolkit v3.1.1\u001b[39m\n",
      " \u001b[90m [46d2c3a1]\u001b[39m\u001b[92m + MuladdMacro v0.2.2\u001b[39m\n",
      " \u001b[90m [f9640e96]\u001b[39m\u001b[92m + MultiScaleArrays v1.8.1\u001b[39m\n",
      " \u001b[90m [d41bc354]\u001b[39m\u001b[92m + NLSolversBase v7.6.1\u001b[39m\n",
      " \u001b[90m [2774e3e8]\u001b[39m\u001b[92m + NLsolve v4.3.0\u001b[39m\n",
      " \u001b[90m [71a1bf82]\u001b[39m\u001b[92m + NameResolution v0.1.3\u001b[39m\n",
      " \u001b[90m [4536629a]\u001b[39m\u001b[92m + OpenBLAS_jll v0.3.9+2\u001b[39m\n",
      " \u001b[90m [91d4177d]\u001b[39m\u001b[93m ↑ Opus_jll v1.3.1+0 ⇒ v1.3.1+1\u001b[39m\n",
      " \u001b[90m [1dea7af3]\u001b[39m\u001b[92m + OrdinaryDiffEq v5.35.5\u001b[39m\n",
      " \u001b[90m [65888b18]\u001b[39m\u001b[92m + ParameterizedFunctions v5.3.0\u001b[39m\n",
      " \u001b[90m [d96e819e]\u001b[39m\u001b[92m + Parameters v0.12.0\u001b[39m\n",
      " \u001b[90m [e409e4f3]\u001b[39m\u001b[92m + PoissonRandom v0.4.0\u001b[39m\n",
      " \u001b[90m [8162dcfd]\u001b[39m\u001b[92m + PrettyPrint v0.1.0\u001b[39m\n",
      " \u001b[90m [33c8b6b6]\u001b[39m\u001b[92m + ProgressLogging v0.1.2\u001b[39m\n",
      " \u001b[90m [92933f4c]\u001b[39m\u001b[92m + ProgressMeter v1.2.0\u001b[39m\n",
      " \u001b[90m [e6cf234a]\u001b[39m\u001b[92m + RandomNumbers v1.4.0\u001b[39m\n",
      " \u001b[90m [731186ca]\u001b[39m\u001b[92m + RecursiveArrayTools v2.3.1\u001b[39m\n",
      " \u001b[90m [f2c3362d]\u001b[39m\u001b[92m + RecursiveFactorization v0.1.0\u001b[39m\n",
      " \u001b[90m [ae5879a3]\u001b[39m\u001b[92m + ResettableStacks v1.0.0\u001b[39m\n",
      " \u001b[90m [f2b01f46]\u001b[39m\u001b[92m + Roots v1.0.1\u001b[39m\n",
      " \u001b[90m [1bc83da4]\u001b[39m\u001b[92m + SafeTestsets v0.0.1\u001b[39m\n",
      " \u001b[90m [699a6c99]\u001b[39m\u001b[92m + SimpleTraits v0.9.2\u001b[39m\n",
      " \u001b[90m [47a9eef4]\u001b[39m\u001b[92m + SparseDiffTools v1.7.1\u001b[39m\n",
      " \u001b[90m [9672c7b4]\u001b[39m\u001b[92m + SteadyStateDiffEq v1.5.0\u001b[39m\n",
      " \u001b[90m [789caeaf]\u001b[39m\u001b[92m + StochasticDiffEq v6.19.2\u001b[39m\n",
      " \u001b[90m [bea87d4a]\u001b[39m\u001b[92m + SuiteSparse_jll v5.4.0+8\u001b[39m\n",
      " \u001b[90m [c3572dad]\u001b[39m\u001b[92m + Sundials v4.2.1\u001b[39m\n",
      " \u001b[90m [fb77eaff]\u001b[39m\u001b[92m + Sundials_jll v5.2.0+0\u001b[39m\n",
      " \u001b[90m [5d786b92]\u001b[39m\u001b[92m + TerminalLoggers v0.1.1\u001b[39m\n",
      " \u001b[90m [3a884ed6]\u001b[39m\u001b[92m + UnPack v0.1.0\u001b[39m\n",
      " \u001b[90m [1986cc42]\u001b[39m\u001b[92m + Unitful v1.1.0\u001b[39m\n",
      " \u001b[90m [19fa3120]\u001b[39m\u001b[92m + VertexSafeGraphs v0.1.1\u001b[39m\n",
      " \u001b[90m [700de1a5]\u001b[39m\u001b[92m + ZygoteRules v0.2.0\u001b[39m\n",
      " \u001b[90m [f27f6e37]\u001b[39m\u001b[93m ↑ libvorbis_jll v1.3.6+2 ⇒ v1.3.6+3\u001b[39m\n",
      " \u001b[90m [4607b0f0]\u001b[39m\u001b[92m + SuiteSparse \u001b[39m\n"
     ]
    }
   ],
   "source": [
    "]add DifferentialEquations"
   ]
  },
  {
   "cell_type": "code",
   "execution_count": 16,
   "metadata": {},
   "outputs": [
    {
     "name": "stderr",
     "output_type": "stream",
     "text": [
      "┌ Info: Precompiling DifferentialEquations [0c46a032-eb83-5123-abaf-570d42b7fbaa]\n",
      "└ @ Base loading.jl:1260\n",
      "┌ Info: Precompiling Plots [91a5bcdd-55d7-5caf-9e0b-520d859cae80]\n",
      "└ @ Base loading.jl:1260\n"
     ]
    }
   ],
   "source": [
    "using DifferentialEquations, Plots"
   ]
  },
  {
   "cell_type": "code",
   "execution_count": 19,
   "metadata": {},
   "outputs": [
    {
     "data": {
      "image/svg+xml": [
       "<?xml version=\"1.0\" encoding=\"utf-8\"?>\n",
       "<svg xmlns=\"http://www.w3.org/2000/svg\" xmlns:xlink=\"http://www.w3.org/1999/xlink\" width=\"600\" height=\"400\" viewBox=\"0 0 2400 1600\">\n",
       "<defs>\n",
       "  <clipPath id=\"clip1500\">\n",
       "    <rect x=\"0\" y=\"0\" width=\"2400\" height=\"1600\"/>\n",
       "  </clipPath>\n",
       "</defs>\n",
       "<path clip-path=\"url(#clip1500)\" d=\"\n",
       "M0 1600 L2400 1600 L2400 0 L0 0  Z\n",
       "  \" fill=\"#ffffff\" fill-rule=\"evenodd\" fill-opacity=\"1\"/>\n",
       "<defs>\n",
       "  <clipPath id=\"clip1501\">\n",
       "    <rect x=\"480\" y=\"0\" width=\"1681\" height=\"1600\"/>\n",
       "  </clipPath>\n",
       "</defs>\n",
       "<path clip-path=\"url(#clip1500)\" d=\"\n",
       "M203.721 1425.62 L2352.76 1425.62 L2352.76 121.675 L203.721 121.675  Z\n",
       "  \" fill=\"#ffffff\" fill-rule=\"evenodd\" fill-opacity=\"1\"/>\n",
       "<defs>\n",
       "  <clipPath id=\"clip1502\">\n",
       "    <rect x=\"203\" y=\"121\" width=\"2150\" height=\"1305\"/>\n",
       "  </clipPath>\n",
       "</defs>\n",
       "<polyline clip-path=\"url(#clip1502)\" style=\"stroke:#000000; stroke-width:2; stroke-opacity:0.1; fill:none\" points=\"\n",
       "  203.721,1425.62 203.721,121.675 \n",
       "  \"/>\n",
       "<polyline clip-path=\"url(#clip1502)\" style=\"stroke:#000000; stroke-width:2; stroke-opacity:0.1; fill:none\" points=\"\n",
       "  920.066,1425.62 920.066,121.675 \n",
       "  \"/>\n",
       "<polyline clip-path=\"url(#clip1502)\" style=\"stroke:#000000; stroke-width:2; stroke-opacity:0.1; fill:none\" points=\"\n",
       "  1636.41,1425.62 1636.41,121.675 \n",
       "  \"/>\n",
       "<polyline clip-path=\"url(#clip1502)\" style=\"stroke:#000000; stroke-width:2; stroke-opacity:0.1; fill:none\" points=\"\n",
       "  2352.76,1425.62 2352.76,121.675 \n",
       "  \"/>\n",
       "<polyline clip-path=\"url(#clip1502)\" style=\"stroke:#000000; stroke-width:2; stroke-opacity:0.1; fill:none\" points=\"\n",
       "  203.721,1425.62 2352.76,1425.62 \n",
       "  \"/>\n",
       "<polyline clip-path=\"url(#clip1502)\" style=\"stroke:#000000; stroke-width:2; stroke-opacity:0.1; fill:none\" points=\"\n",
       "  203.721,1135.85 2352.76,1135.85 \n",
       "  \"/>\n",
       "<polyline clip-path=\"url(#clip1502)\" style=\"stroke:#000000; stroke-width:2; stroke-opacity:0.1; fill:none\" points=\"\n",
       "  203.721,846.088 2352.76,846.088 \n",
       "  \"/>\n",
       "<polyline clip-path=\"url(#clip1502)\" style=\"stroke:#000000; stroke-width:2; stroke-opacity:0.1; fill:none\" points=\"\n",
       "  203.721,556.323 2352.76,556.323 \n",
       "  \"/>\n",
       "<polyline clip-path=\"url(#clip1502)\" style=\"stroke:#000000; stroke-width:2; stroke-opacity:0.1; fill:none\" points=\"\n",
       "  203.721,266.558 2352.76,266.558 \n",
       "  \"/>\n",
       "<polyline clip-path=\"url(#clip1500)\" style=\"stroke:#000000; stroke-width:4; stroke-opacity:1; fill:none\" points=\"\n",
       "  203.721,1425.62 2352.76,1425.62 \n",
       "  \"/>\n",
       "<polyline clip-path=\"url(#clip1500)\" style=\"stroke:#000000; stroke-width:4; stroke-opacity:1; fill:none\" points=\"\n",
       "  203.721,1425.62 203.721,121.675 \n",
       "  \"/>\n",
       "<polyline clip-path=\"url(#clip1500)\" style=\"stroke:#000000; stroke-width:4; stroke-opacity:1; fill:none\" points=\"\n",
       "  203.721,1425.62 203.721,1409.97 \n",
       "  \"/>\n",
       "<polyline clip-path=\"url(#clip1500)\" style=\"stroke:#000000; stroke-width:4; stroke-opacity:1; fill:none\" points=\"\n",
       "  920.066,1425.62 920.066,1409.97 \n",
       "  \"/>\n",
       "<polyline clip-path=\"url(#clip1500)\" style=\"stroke:#000000; stroke-width:4; stroke-opacity:1; fill:none\" points=\"\n",
       "  1636.41,1425.62 1636.41,1409.97 \n",
       "  \"/>\n",
       "<polyline clip-path=\"url(#clip1500)\" style=\"stroke:#000000; stroke-width:4; stroke-opacity:1; fill:none\" points=\"\n",
       "  2352.76,1425.62 2352.76,1409.97 \n",
       "  \"/>\n",
       "<polyline clip-path=\"url(#clip1500)\" style=\"stroke:#000000; stroke-width:4; stroke-opacity:1; fill:none\" points=\"\n",
       "  203.721,1425.62 229.509,1425.62 \n",
       "  \"/>\n",
       "<polyline clip-path=\"url(#clip1500)\" style=\"stroke:#000000; stroke-width:4; stroke-opacity:1; fill:none\" points=\"\n",
       "  203.721,1135.85 229.509,1135.85 \n",
       "  \"/>\n",
       "<polyline clip-path=\"url(#clip1500)\" style=\"stroke:#000000; stroke-width:4; stroke-opacity:1; fill:none\" points=\"\n",
       "  203.721,846.088 229.509,846.088 \n",
       "  \"/>\n",
       "<polyline clip-path=\"url(#clip1500)\" style=\"stroke:#000000; stroke-width:4; stroke-opacity:1; fill:none\" points=\"\n",
       "  203.721,556.323 229.509,556.323 \n",
       "  \"/>\n",
       "<polyline clip-path=\"url(#clip1500)\" style=\"stroke:#000000; stroke-width:4; stroke-opacity:1; fill:none\" points=\"\n",
       "  203.721,266.558 229.509,266.558 \n",
       "  \"/>\n",
       "<g clip-path=\"url(#clip1500)\">\n",
       "<text style=\"fill:#000000; fill-opacity:1; font-family:Arial,Helvetica Neue,Helvetica,sans-serif; font-size:48px; text-anchor:middle;\" transform=\"rotate(0, 203.721, 1479.62)\" x=\"203.721\" y=\"1479.62\">0</text>\n",
       "</g>\n",
       "<g clip-path=\"url(#clip1500)\">\n",
       "<text style=\"fill:#000000; fill-opacity:1; font-family:Arial,Helvetica Neue,Helvetica,sans-serif; font-size:48px; text-anchor:middle;\" transform=\"rotate(0, 920.066, 1479.62)\" x=\"920.066\" y=\"1479.62\">1</text>\n",
       "</g>\n",
       "<g clip-path=\"url(#clip1500)\">\n",
       "<text style=\"fill:#000000; fill-opacity:1; font-family:Arial,Helvetica Neue,Helvetica,sans-serif; font-size:48px; text-anchor:middle;\" transform=\"rotate(0, 1636.41, 1479.62)\" x=\"1636.41\" y=\"1479.62\">2</text>\n",
       "</g>\n",
       "<g clip-path=\"url(#clip1500)\">\n",
       "<text style=\"fill:#000000; fill-opacity:1; font-family:Arial,Helvetica Neue,Helvetica,sans-serif; font-size:48px; text-anchor:middle;\" transform=\"rotate(0, 2352.76, 1479.62)\" x=\"2352.76\" y=\"1479.62\">3</text>\n",
       "</g>\n",
       "<g clip-path=\"url(#clip1500)\">\n",
       "<text style=\"fill:#000000; fill-opacity:1; font-family:Arial,Helvetica Neue,Helvetica,sans-serif; font-size:48px; text-anchor:end;\" transform=\"rotate(0, 179.721, 1443.12)\" x=\"179.721\" y=\"1443.12\">-4</text>\n",
       "</g>\n",
       "<g clip-path=\"url(#clip1500)\">\n",
       "<text style=\"fill:#000000; fill-opacity:1; font-family:Arial,Helvetica Neue,Helvetica,sans-serif; font-size:48px; text-anchor:end;\" transform=\"rotate(0, 179.721, 1153.35)\" x=\"179.721\" y=\"1153.35\">-2</text>\n",
       "</g>\n",
       "<g clip-path=\"url(#clip1500)\">\n",
       "<text style=\"fill:#000000; fill-opacity:1; font-family:Arial,Helvetica Neue,Helvetica,sans-serif; font-size:48px; text-anchor:end;\" transform=\"rotate(0, 179.721, 863.588)\" x=\"179.721\" y=\"863.588\">0</text>\n",
       "</g>\n",
       "<g clip-path=\"url(#clip1500)\">\n",
       "<text style=\"fill:#000000; fill-opacity:1; font-family:Arial,Helvetica Neue,Helvetica,sans-serif; font-size:48px; text-anchor:end;\" transform=\"rotate(0, 179.721, 573.823)\" x=\"179.721\" y=\"573.823\">2</text>\n",
       "</g>\n",
       "<g clip-path=\"url(#clip1500)\">\n",
       "<text style=\"fill:#000000; fill-opacity:1; font-family:Arial,Helvetica Neue,Helvetica,sans-serif; font-size:48px; text-anchor:end;\" transform=\"rotate(0, 179.721, 284.058)\" x=\"179.721\" y=\"284.058\">4</text>\n",
       "</g>\n",
       "<g clip-path=\"url(#clip1500)\">\n",
       "<text style=\"fill:#000000; fill-opacity:1; font-family:Arial,Helvetica Neue,Helvetica,sans-serif; font-size:84px; text-anchor:middle;\" transform=\"rotate(0, 1278.24, 73.2)\" x=\"1278.24\" y=\"73.2\">Solution to the linear ODE with a thick line</text>\n",
       "</g>\n",
       "<g clip-path=\"url(#clip1500)\">\n",
       "<text style=\"fill:#000000; fill-opacity:1; font-family:Arial,Helvetica Neue,Helvetica,sans-serif; font-size:66px; text-anchor:middle;\" transform=\"rotate(0, 1278.24, 1559.48)\" x=\"1278.24\" y=\"1559.48\">Time (t)</text>\n",
       "</g>\n",
       "<g clip-path=\"url(#clip1500)\">\n",
       "<text style=\"fill:#000000; fill-opacity:1; font-family:Arial,Helvetica Neue,Helvetica,sans-serif; font-size:66px; text-anchor:middle;\" transform=\"rotate(-90, 89.2861, 773.647)\" x=\"89.2861\" y=\"773.647\">u(t)</text>\n",
       "</g>\n",
       "<polyline clip-path=\"url(#clip1502)\" style=\"stroke:#009af9; stroke-width:20; stroke-opacity:1; fill:none\" points=\"\n",
       "  203.721,701.206 205.872,700.77 208.023,700.333 210.174,699.894 212.325,699.455 214.477,699.014 216.628,698.571 218.779,698.128 220.93,697.683 223.081,697.236 \n",
       "  225.233,696.789 227.384,696.34 229.535,695.889 231.686,695.438 233.837,694.985 235.988,694.53 238.14,694.074 240.291,693.617 242.442,693.159 244.593,692.699 \n",
       "  246.744,692.237 248.896,691.775 251.047,691.31 253.198,690.845 255.349,690.378 257.5,689.91 259.652,689.44 261.803,688.969 263.954,688.496 266.105,688.022 \n",
       "  268.256,687.547 270.407,687.07 272.559,686.592 274.71,686.112 276.861,685.631 279.012,685.149 281.163,684.665 283.315,684.179 285.466,683.692 287.617,683.204 \n",
       "  289.768,682.714 291.919,682.223 294.07,681.73 296.222,681.235 298.373,680.74 300.524,680.242 302.675,679.744 304.826,679.243 306.978,678.741 309.129,678.238 \n",
       "  311.28,677.733 313.431,677.227 315.582,676.719 317.734,676.21 319.885,675.699 322.036,675.186 324.187,674.672 326.338,674.157 328.489,673.64 330.641,673.121 \n",
       "  332.792,672.601 334.943,672.079 337.094,671.556 339.245,671.031 341.397,670.504 343.548,669.976 345.699,669.447 347.85,668.915 350.001,668.383 352.153,667.848 \n",
       "  354.304,667.312 356.455,666.774 358.606,666.235 360.757,665.694 362.908,665.152 365.06,664.608 367.211,664.062 369.362,663.514 371.513,662.965 373.664,662.414 \n",
       "  375.816,661.862 377.967,661.308 380.118,660.752 382.269,660.195 384.42,659.636 386.572,659.075 388.723,658.513 390.874,657.948 393.025,657.383 395.176,656.815 \n",
       "  397.327,656.246 399.479,655.675 401.63,655.102 403.781,654.528 405.932,653.952 408.083,653.374 410.235,652.794 412.386,652.213 414.537,651.63 416.688,651.045 \n",
       "  418.839,650.458 420.99,649.87 423.142,649.28 425.293,648.688 427.444,648.094 429.595,647.499 431.746,646.902 433.898,646.303 436.049,645.702 438.2,645.099 \n",
       "  440.351,644.495 442.502,643.888 444.654,643.28 446.805,642.67 448.956,642.058 451.107,641.445 453.258,640.829 455.409,640.212 457.561,639.593 459.712,638.972 \n",
       "  461.863,638.349 464.014,637.724 466.165,637.097 468.317,636.469 470.468,635.838 472.619,635.206 474.77,634.572 476.921,633.936 479.073,633.298 481.224,632.658 \n",
       "  483.375,632.016 485.526,631.372 487.677,630.726 489.828,630.079 491.98,629.429 494.131,628.777 496.282,628.124 498.433,627.468 500.584,626.811 502.736,626.151 \n",
       "  504.887,625.49 507.038,624.826 509.189,624.161 511.34,623.493 513.492,622.824 515.643,622.152 517.794,621.479 519.945,620.803 522.096,620.126 524.247,619.446 \n",
       "  526.399,618.765 528.55,618.081 530.701,617.395 532.852,616.707 535.003,616.018 537.155,615.326 539.306,614.632 541.457,613.935 543.608,613.237 545.759,612.537 \n",
       "  547.91,611.835 550.062,611.13 552.213,610.423 554.364,609.715 556.515,609.004 558.666,608.291 560.818,607.576 562.969,606.858 565.12,606.139 567.271,605.417 \n",
       "  569.422,604.693 571.574,603.967 573.725,603.239 575.876,602.509 578.027,601.776 580.178,601.041 582.329,600.304 584.481,599.565 586.632,598.824 588.783,598.08 \n",
       "  590.934,597.334 593.085,596.586 595.237,595.836 597.388,595.083 599.539,594.328 601.69,593.571 603.841,592.812 605.993,592.05 608.144,591.286 610.295,590.519 \n",
       "  612.446,589.751 614.597,588.98 616.748,588.207 618.9,587.431 621.051,586.653 623.202,585.873 625.353,585.09 627.504,584.305 629.656,583.518 631.807,582.728 \n",
       "  633.958,581.936 636.109,581.142 638.26,580.345 640.412,579.546 642.563,578.744 644.714,577.94 646.865,577.134 649.016,576.325 651.167,575.513 653.319,574.7 \n",
       "  655.47,573.883 657.621,573.065 659.772,572.244 661.923,571.42 664.075,570.594 666.226,569.765 668.377,568.934 670.528,568.101 672.679,567.265 674.83,566.426 \n",
       "  676.982,565.585 679.133,564.742 681.284,563.895 683.435,563.047 685.586,562.195 687.738,561.342 689.889,560.485 692.04,559.626 694.191,558.765 696.342,557.901 \n",
       "  698.494,557.034 700.645,556.165 702.796,555.293 704.947,554.418 707.098,553.541 709.249,552.661 711.401,551.779 713.552,550.893 715.703,550.006 717.854,549.115 \n",
       "  720.005,548.222 722.157,547.326 724.308,546.428 726.459,545.526 728.61,544.622 730.761,543.716 732.913,542.806 735.064,541.894 737.215,540.979 739.366,540.062 \n",
       "  741.517,539.141 743.668,538.218 745.82,537.292 747.971,536.364 750.122,535.432 752.273,534.498 754.424,533.561 756.576,532.621 758.727,531.678 760.878,530.732 \n",
       "  763.029,529.784 765.18,528.833 767.332,527.878 769.483,526.921 771.634,525.962 773.785,524.999 775.936,524.033 778.087,523.065 780.239,522.093 782.39,521.119 \n",
       "  784.541,520.141 786.692,519.161 788.843,518.178 790.995,517.192 793.146,516.202 795.297,515.21 797.448,514.215 799.599,513.217 801.75,512.216 803.902,511.212 \n",
       "  806.053,510.205 808.204,509.194 810.355,508.181 812.506,507.165 814.658,506.146 816.809,505.123 818.96,504.098 821.111,503.069 823.262,502.038 825.414,501.003 \n",
       "  827.565,499.965 829.716,498.924 831.867,497.88 834.018,496.833 836.169,495.782 838.321,494.729 840.472,493.672 842.623,492.612 844.774,491.549 846.925,490.483 \n",
       "  849.077,489.413 851.228,488.341 853.379,487.265 855.53,486.185 857.681,485.103 859.833,484.017 861.984,482.928 864.135,481.836 866.286,480.741 868.437,479.642 \n",
       "  870.588,478.54 872.74,477.434 874.891,476.326 877.042,475.214 879.193,474.098 881.344,472.979 883.496,471.857 885.647,470.732 887.798,469.603 889.949,468.471 \n",
       "  892.1,467.335 894.252,466.196 896.403,465.053 898.554,463.907 900.705,462.758 902.856,461.605 905.007,460.449 907.159,459.289 909.31,458.126 911.461,456.959 \n",
       "  913.612,455.789 915.763,454.615 917.915,453.437 920.066,452.256 922.217,451.072 924.368,449.884 926.519,448.692 928.67,447.497 930.822,446.298 932.973,445.096 \n",
       "  935.124,443.89 937.275,442.68 939.426,441.467 941.578,440.25 943.729,439.03 945.88,437.805 948.031,436.578 950.182,435.346 952.334,434.111 954.485,432.872 \n",
       "  956.636,431.629 958.787,430.382 960.938,429.132 963.089,427.878 965.241,426.62 967.392,425.359 969.543,424.093 971.694,422.824 973.845,421.551 975.997,420.274 \n",
       "  978.148,418.994 980.299,417.709 982.45,416.421 984.601,415.129 986.753,413.833 988.904,412.533 991.055,411.229 993.206,409.921 995.357,408.609 997.508,407.293 \n",
       "  999.66,405.974 1001.81,404.65 1003.96,403.322 1006.11,401.991 1008.26,400.655 1010.42,399.315 1012.57,397.972 1014.72,396.624 1016.87,395.272 1019.02,393.916 \n",
       "  1021.17,392.557 1023.32,391.193 1025.47,389.824 1027.63,388.452 1029.78,387.076 1031.93,385.695 1034.08,384.311 1036.23,382.922 1038.38,381.529 1040.53,380.132 \n",
       "  1042.68,378.73 1044.83,377.325 1046.99,375.915 1049.14,374.501 1051.29,373.083 1053.44,371.66 1055.59,370.233 1057.74,368.802 1059.89,367.367 1062.04,365.927 \n",
       "  1064.2,364.483 1066.35,363.034 1068.5,361.582 1070.65,360.124 1072.8,358.663 1074.95,357.197 1077.1,355.727 1079.25,354.252 1081.4,352.773 1083.56,351.289 \n",
       "  1085.71,349.801 1087.86,348.308 1090.01,346.811 1092.16,345.31 1094.31,343.803 1096.46,342.293 1098.61,340.778 1100.77,339.258 1102.92,337.734 1105.07,336.205 \n",
       "  1107.22,334.671 1109.37,333.133 1111.52,331.59 1113.67,330.043 1115.82,328.491 1117.97,326.934 1120.13,325.373 1122.28,323.807 1124.43,322.236 1126.58,320.661 \n",
       "  1128.73,319.081 1130.88,317.496 1133.03,315.906 1135.18,314.311 1137.34,312.712 1139.49,311.108 1141.64,309.499 1143.79,307.885 1145.94,306.266 1148.09,304.643 \n",
       "  1150.24,303.014 1152.39,301.381 1154.55,299.743 1156.7,298.1 1158.85,296.452 1161,294.799 1163.15,293.141 1165.3,291.478 1167.45,289.81 1169.6,288.137 \n",
       "  1171.75,286.459 1173.91,284.775 1176.06,283.087 1178.21,281.394 1180.36,279.696 1182.51,277.992 1184.66,276.284 1186.81,274.57 1188.96,272.851 1191.12,271.127 \n",
       "  1193.27,269.398 1195.42,267.664 1197.57,265.924 1199.72,264.179 1201.87,262.429 1204.02,260.674 1206.17,258.913 1208.32,257.147 1210.48,255.376 1212.63,253.599 \n",
       "  1214.78,251.817 1216.93,250.03 1219.08,248.237 1221.23,246.439 1223.38,244.636 1225.53,242.827 1227.69,241.013 1229.84,239.193 1231.99,237.368 1234.14,235.537 \n",
       "  1236.29,233.701 1238.44,231.859 1240.59,230.012 1242.74,228.159 1244.89,226.3 1247.05,224.436 1249.2,222.567 1251.35,220.691 1253.5,218.811 1255.65,216.924 \n",
       "  1257.8,215.032 1259.95,213.134 1262.1,211.23 1264.26,209.321 1266.41,207.406 1268.56,205.485 1270.71,203.558 1272.86,201.626 1275.01,199.688 1277.16,197.744 \n",
       "  1279.31,195.794 1281.47,193.838 1283.62,191.876 1285.77,189.909 1287.92,187.935 1290.07,185.956 1292.22,183.97 1294.37,181.979 1296.52,179.982 1298.67,177.979 \n",
       "  1300.83,175.969 1302.98,173.954 1305.13,171.932 1307.28,169.905 1309.43,167.871 1311.58,165.831 1313.73,163.785 1315.88,161.733 1318.04,159.675 1320.19,157.611 \n",
       "  1322.34,155.54 1324.49,153.463 1326.64,151.38 1328.79,149.291 1330.94,147.195 1333.09,145.093 1335.24,142.985 1337.4,140.871 1339.55,138.75 1341.7,136.622 \n",
       "  1343.85,134.489 1346,132.348 1348.15,130.202 1350.3,128.049 1352.45,125.889 1354.61,123.723 1356.76,121.551 1358.91,119.372 1361.06,117.186 1363.21,114.994 \n",
       "  1365.36,112.795 1367.51,110.59 1369.66,108.378 1371.81,106.159 1373.97,103.934 1376.12,101.702 1378.27,99.4629 1380.42,97.2174 1382.57,94.9651 1384.72,92.7061 \n",
       "  1386.87,90.4403 1389.02,88.1677 1391.18,85.8882 1393.33,83.6019 1395.48,81.3087 1397.63,79.0086 1399.78,76.7016 1401.93,74.3877 1404.08,72.0668 1406.23,69.7389 \n",
       "  1408.39,67.404 1410.54,65.0621 1412.69,62.7132 1414.84,60.3572 1416.99,57.9941 1419.14,55.6239 1421.29,53.2465 1423.44,50.862 1425.59,48.4704 1427.75,46.0715 \n",
       "  1429.9,43.6655 1432.05,41.2522 1434.2,38.8316 1436.35,36.4038 1438.5,33.9686 1440.65,31.5262 1442.8,29.0764 1444.96,26.6192 1447.11,24.1546 1449.26,21.6826 \n",
       "  1451.41,19.2032 1453.56,16.7164 1455.71,14.222 1457.86,11.7202 1460.01,9.21079 1462.16,6.69386 1464.32,4.16937 1466.47,1.63729 1468.62,-0.902413 1470.77,-3.44975 \n",
       "  1472.92,-6.00475 1475.07,-8.56743 1477.22,-11.1378 1479.37,-13.7159 1481.53,-16.3018 1483.68,-18.8955 1485.83,-21.4969 1487.98,-24.1062 1490.13,-26.7233 1492.28,-29.3483 \n",
       "  1494.43,-31.9812 1496.58,-34.622 1498.73,-37.2708 1500.89,-39.9275 1503.04,-42.5922 1505.19,-45.2649 1507.34,-47.9457 1509.49,-50.6345 1511.64,-53.3314 1513.79,-56.0364 \n",
       "  1515.94,-58.7496 1518.1,-61.4709 1520.25,-64.2004 1522.4,-66.9381 1524.55,-69.684 1526.7,-72.4382 1528.85,-75.2007 1531,-77.9715 1533.15,-80.7506 1535.31,-83.5381 \n",
       "  1537.46,-86.334 1539.61,-89.1383 1541.76,-91.951 1543.91,-94.7721 1546.06,-97.6018 1548.21,-100.44 1550.36,-103.287 1552.51,-106.142 1554.67,-109.006 1556.82,-111.878 \n",
       "  1558.97,-114.759 1561.12,-117.649 1563.27,-120.548 1565.42,-123.455 1567.57,-126.371 1569.72,-129.295 1571.88,-132.229 1574.03,-135.171 1576.18,-138.122 1578.33,-141.082 \n",
       "  1580.48,-144.051 1582.63,-147.029 1584.78,-150.016 1586.93,-153.012 1589.08,-156.017 1591.24,-159.03 1593.39,-162.053 1595.54,-165.085 1597.69,-168.126 1599.84,-171.177 \n",
       "  1601.99,-174.236 1604.14,-177.305 1606.29,-180.383 1608.45,-183.47 1610.6,-186.566 1612.75,-189.672 1614.9,-192.787 1617.05,-195.911 1619.2,-199.045 1621.35,-202.188 \n",
       "  1623.5,-205.341 1625.65,-208.503 1627.81,-211.675 1629.96,-214.856 1632.11,-218.047 1634.26,-221.248 1636.41,-224.458 1638.56,-227.677 1640.71,-230.907 1642.86,-234.146 \n",
       "  1645.02,-237.394 1647.17,-240.653 1649.32,-243.921 1651.47,-247.2 1653.62,-250.488 1655.77,-253.786 1657.92,-257.094 1660.07,-260.411 1662.23,-263.739 1664.38,-267.077 \n",
       "  1666.53,-270.425 1668.68,-273.783 1670.83,-277.151 1672.98,-280.529 1675.13,-283.917 1677.28,-287.316 1679.43,-290.725 1681.59,-294.144 1683.74,-297.573 1685.89,-301.013 \n",
       "  1688.04,-304.462 1690.19,-307.923 1692.34,-311.393 1694.49,-314.875 1696.64,-318.366 1698.8,-321.868 1700.95,-325.381 1703.1,-328.904 1705.25,-332.438 1707.4,-335.982 \n",
       "  1709.55,-339.538 1711.7,-343.103 1713.85,-346.68 1716,-350.267 1718.16,-353.865 1720.31,-357.474 1722.46,-361.094 1724.61,-364.724 1726.76,-368.366 1728.91,-372.018 \n",
       "  1731.06,-375.682 1733.21,-379.356 1735.37,-383.042 1737.52,-386.739 1739.67,-390.446 1741.82,-394.165 1743.97,-397.895 1746.12,-401.637 1748.27,-405.389 1750.42,-409.153 \n",
       "  1752.57,-412.928 1754.73,-416.715 1756.88,-420.513 1759.03,-424.322 1761.18,-428.143 1763.33,-431.975 1765.48,-435.819 1767.63,-439.674 1769.78,-443.541 1771.94,-447.42 \n",
       "  1774.09,-451.31 1776.24,-455.212 1778.39,-459.125 1780.54,-463.051 1782.69,-466.988 1784.84,-470.937 1786.99,-474.898 1789.15,-478.871 1791.3,-482.856 1793.45,-486.853 \n",
       "  1795.6,-490.862 1797.75,-494.883 1799.9,-498.916 1802.05,-502.961 1804.2,-507.018 1806.35,-511.087 1808.51,-515.169 1810.66,-519.263 1812.81,-523.369 1814.96,-527.488 \n",
       "  1817.11,-531.619 1819.26,-535.763 1821.41,-539.919 1823.56,-544.087 1825.72,-548.268 1827.87,-552.462 1830.02,-556.668 1832.17,-560.887 1834.32,-565.118 1836.47,-569.362 \n",
       "  1838.62,-573.619 1840.77,-577.889 1842.92,-582.172 1845.08,-586.467 1847.23,-590.776 1849.38,-595.097 1851.53,-599.431 1853.68,-603.779 1855.83,-608.139 1857.98,-612.513 \n",
       "  1860.13,-616.9 1862.29,-621.3 1864.44,-625.713 1866.59,-630.139 1868.74,-634.579 1870.89,-639.032 1873.04,-643.499 1875.19,-647.979 1877.34,-652.472 1879.49,-656.979 \n",
       "  1881.65,-661.5 1883.8,-666.034 1885.95,-670.581 1888.1,-675.143 1890.25,-679.718 1892.4,-684.307 1894.55,-688.91 1896.7,-693.526 1898.86,-698.157 1901.01,-702.801 \n",
       "  1903.16,-707.459 1905.31,-712.131 1907.46,-716.818 1909.61,-721.518 1911.76,-726.233 1913.91,-730.962 1916.07,-735.705 1918.22,-740.462 1920.37,-745.234 1922.52,-750.019 \n",
       "  1924.67,-754.82 1926.82,-759.635 1928.97,-764.464 1931.12,-769.308 1933.27,-774.166 1935.43,-779.039 1937.58,-783.926 1939.73,-788.829 1941.88,-793.746 1944.03,-798.678 \n",
       "  1946.18,-803.624 1948.33,-808.586 1950.48,-813.562 1952.64,-818.554 1954.79,-823.56 1956.94,-828.582 1959.09,-833.618 1961.24,-838.67 1963.39,-843.737 1965.54,-848.819 \n",
       "  1967.69,-853.917 1969.84,-859.029 1972,-864.157 1974.15,-869.301 1976.3,-874.46 1978.45,-879.635 1980.6,-884.825 1982.75,-890.031 1984.9,-895.252 1987.05,-900.489 \n",
       "  1989.21,-905.742 1991.36,-911.011 1993.51,-916.295 1995.66,-921.596 1997.81,-926.912 1999.96,-932.244 2002.11,-937.593 2004.26,-942.957 2006.41,-948.338 2008.57,-953.734 \n",
       "  2010.72,-959.147 2012.87,-964.577 2015.02,-970.022 2017.17,-975.484 2019.32,-980.963 2021.47,-986.457 2023.62,-991.969 2025.78,-997.497 2027.93,-1003.04 2030.08,-1008.6 \n",
       "  2032.23,-1014.18 2034.38,-1019.78 2036.53,-1025.39 2038.68,-1031.02 2040.83,-1036.66 2042.99,-1042.32 2045.14,-1048 2047.29,-1053.7 2049.44,-1059.41 2051.59,-1065.14 \n",
       "  2053.74,-1070.89 2055.89,-1076.66 2058.04,-1082.44 2060.19,-1088.24 2062.35,-1094.06 2064.5,-1099.89 2066.65,-1105.75 2068.8,-1111.62 2070.95,-1117.5 2073.1,-1123.41 \n",
       "  2075.25,-1129.33 2077.4,-1135.27 2079.56,-1141.23 2081.71,-1147.21 2083.86,-1153.2 2086.01,-1159.22 2088.16,-1165.25 2090.31,-1171.3 2092.46,-1177.36 2094.61,-1183.45 \n",
       "  2096.76,-1189.55 2098.92,-1195.68 2101.07,-1201.82 2103.22,-1207.98 2105.37,-1214.15 2107.52,-1220.35 2109.67,-1226.56 2111.82,-1232.8 2113.97,-1239.05 2116.13,-1245.32 \n",
       "  2118.28,-1251.61 2120.43,-1257.92 2122.58,-1264.25 2124.73,-1270.59 2126.88,-1276.96 2129.03,-1283.35 2131.18,-1289.75 2133.33,-1296.17 2135.49,-1302.62 2137.64,-1309.08 \n",
       "  2139.79,-1315.56 2141.94,-1322.06 2144.09,-1328.58 2146.24,-1335.12 2148.39,-1341.68 2150.54,-1348.26 2152.7,-1354.86 2154.85,-1361.48 2157,-1368.12 2159.15,-1374.78 \n",
       "  2161.3,-1381.46 2163.45,-1388.16 2165.6,-1394.88 2167.75,-1401.62 2169.91,-1408.38 2172.06,-1415.16 2174.21,-1421.96 2176.36,-1428.78 2178.51,-1435.62 2180.66,-1442.48 \n",
       "  2182.81,-1449.37 2184.96,-1456.27 2187.11,-1463.2 2189.27,-1470.14 2191.42,-1477.11 2193.57,-1484.09 2195.72,-1491.1 2197.87,-1498.13 2200.02,-1505.18 2202.17,-1512.25 \n",
       "  2204.32,-1519.35 2206.48,-1526.46 2208.63,-1533.59 2210.78,-1540.75 2212.93,-1547.93 2215.08,-1555.13 2217.23,-1562.35 2219.38,-1569.6 2221.53,-1576.86 2223.68,-1584.15 \n",
       "  2225.84,-1591.46 2227.99,-1598.79 2230.14,-1606.14 2232.29,-1613.52 2234.44,-1620.91 2236.59,-1628.33 2238.74,-1635.77 2240.89,-1643.24 2243.05,-1650.73 2245.2,-1658.23 \n",
       "  2247.35,-1665.77 2249.5,-1673.32 2251.65,-1680.9 2253.8,-1688.5 2255.95,-1696.12 2258.1,-1703.77 2260.25,-1711.44 2262.41,-1719.13 2264.56,-1726.84 2266.71,-1734.58 \n",
       "  2268.86,-1742.34 2271.01,-1750.13 2273.16,-1757.93 2275.31,-1765.77 2277.46,-1773.62 2279.62,-1781.5 2281.77,-1789.4 2283.92,-1797.33 2286.07,-1805.28 2288.22,-1813.25 \n",
       "  2290.37,-1821.25 2292.52,-1829.27 2294.67,-1837.32 2296.83,-1845.39 2298.98,-1853.48 2301.13,-1861.6 2303.28,-1869.75 2305.43,-1877.91 2307.58,-1886.11 2309.73,-1894.32 \n",
       "  2311.88,-1902.57 2314.03,-1910.83 2316.19,-1919.12 2318.34,-1927.44 2320.49,-1935.78 2322.64,-1944.15 2324.79,-1952.54 2326.94,-1960.96 2329.09,-1969.4 2331.24,-1977.87 \n",
       "  2333.4,-1986.36 2335.55,-1994.88 2337.7,-2003.42 2339.85,-2011.99 2342,-2020.59 2344.15,-2029.21 2346.3,-2037.86 2348.45,-2046.53 2350.6,-2055.23 2352.76,-2063.96 \n",
       "  \n",
       "  \"/>\n",
       "<polyline clip-path=\"url(#clip1502)\" style=\"stroke:#e26f46; stroke-width:12; stroke-opacity:1; fill:none\" stroke-dasharray=\"48, 30\" points=\"\n",
       "  203.721,701.206 211.949,699.532 231.994,695.373 258.207,689.756 289.65,682.741 326.58,674.099 368.219,663.805 414.192,651.723 463.812,637.783 516.552,621.868 \n",
       "  571.847,603.875 629.226,583.675 688.262,561.133 748.599,536.092 809.938,508.378 872.03,477.8 934.676,444.142 997.715,407.167 1061.02,366.613 1124.49,322.191 \n",
       "  1188.05,273.583 1251.64,220.44 1315.21,162.38 1378.73,98.9828 1442.18,29.7908 1505.54,-45.6978 1568.79,-128.031 1631.95,-217.806 1694.99,-315.677 1757.92,-422.356 \n",
       "  1820.74,-538.619 1883.46,-665.315 1946.07,-803.366 2008.58,-953.78 2071.01,-1117.65 2133.34,-1296.18 2195.59,-1490.67 2257.76,-1702.53 2319.85,-1933.32 2352.76,-2063.96 \n",
       "  \n",
       "  \"/>\n",
       "<path clip-path=\"url(#clip1500)\" d=\"\n",
       "M1743.87 386.635 L2280.76 386.635 L2280.76 205.195 L1743.87 205.195  Z\n",
       "  \" fill=\"#ffffff\" fill-rule=\"evenodd\" fill-opacity=\"1\"/>\n",
       "<polyline clip-path=\"url(#clip1500)\" style=\"stroke:#000000; stroke-width:4; stroke-opacity:1; fill:none\" points=\"\n",
       "  1743.87,386.635 2280.76,386.635 2280.76,205.195 1743.87,205.195 1743.87,386.635 \n",
       "  \"/>\n",
       "<polyline clip-path=\"url(#clip1500)\" style=\"stroke:#009af9; stroke-width:20; stroke-opacity:1; fill:none\" points=\"\n",
       "  1767.87,265.675 1911.87,265.675 \n",
       "  \"/>\n",
       "<g clip-path=\"url(#clip1500)\">\n",
       "<text style=\"fill:#000000; fill-opacity:1; font-family:Arial,Helvetica Neue,Helvetica,sans-serif; font-size:48px; text-anchor:start;\" transform=\"rotate(0, 1935.87, 283.175)\" x=\"1935.87\" y=\"283.175\">My Thick Line</text>\n",
       "</g>\n",
       "<polyline clip-path=\"url(#clip1500)\" style=\"stroke:#e26f46; stroke-width:12; stroke-opacity:1; fill:none\" stroke-dasharray=\"48, 30\" points=\"\n",
       "  1767.87,326.155 1911.87,326.155 \n",
       "  \"/>\n",
       "<g clip-path=\"url(#clip1500)\">\n",
       "<text style=\"fill:#000000; fill-opacity:1; font-family:Arial,Helvetica Neue,Helvetica,sans-serif; font-size:48px; text-anchor:start;\" transform=\"rotate(0, 1935.87, 343.655)\" x=\"1935.87\" y=\"343.655\">True solution</text>\n",
       "</g>\n",
       "</svg>\n"
      ]
     },
     "execution_count": 19,
     "metadata": {},
     "output_type": "execute_result"
    }
   ],
   "source": [
    "x0 = 1.0\n",
    "k = 1.0\n",
    "\n",
    "f(x,k,t) = k*x   #x'(t) = f(x,k,t)\n",
    "tspan = (0.0, 3.0)\n",
    "\n",
    "prob = ODEProblem(f, x0, tspan, k)\n",
    "sol = solve(prob, Tsit5(), reltol = 1e-8, abstol = 1e-8)\n",
    "\n",
    "plot(sol, linewidth=5, title=\"Solution to the linear ODE with a thick line\",\n",
    "        xaxis = \"Time (t)\", yaxis = \"u(t)\", label = \"My Thick Line\")\n",
    "\n",
    "plot!(sol.t, t->x0*exp(k*t), lw=3, ls=:dash, label=\"True solution\", ylim=(-4,5))"
   ]
  },
  {
   "cell_type": "code",
   "execution_count": 21,
   "metadata": {},
   "outputs": [
    {
     "data": {
      "text/html": [
       "<script>\n",
       "// Immediately-invoked-function-expression to avoid global variables.\n",
       "(function() {\n",
       "    var warning_div = document.getElementById(\"webio-warning-4801875253597402317\");\n",
       "    var hide = function () {\n",
       "        var script = document.getElementById(\"webio-setup-4257550547215221076\");\n",
       "        var parent = script && script.parentElement;\n",
       "        var grandparent = parent && parent.parentElement;\n",
       "        if (grandparent) {\n",
       "            grandparent.style.display = \"none\";\n",
       "        }\n",
       "        warning_div.style.display = \"none\";\n",
       "    };\n",
       "    if (typeof Jupyter !== \"undefined\") {\n",
       "        console.log(\"WebIO detected Jupyter notebook environment.\");\n",
       "        // Jupyter notebook.\n",
       "        var extensions = (\n",
       "            Jupyter\n",
       "            && Jupyter.notebook.config.data\n",
       "            && Jupyter.notebook.config.data.load_extensions\n",
       "        );\n",
       "        if (extensions && extensions[\"webio-jupyter-notebook\"]) {\n",
       "            // Extension already loaded.\n",
       "            console.log(\"Jupyter WebIO nbextension detected; not loading ad-hoc.\");\n",
       "            hide();\n",
       "            return;\n",
       "        }\n",
       "    } else if (window.location.pathname.includes(\"/lab\")) {\n",
       "        // Guessing JupyterLa\n",
       "        console.log(\"Jupyter Lab detected; make sure the @webio/jupyter-lab-provider labextension is installed.\");\n",
       "        hide();\n",
       "        return;\n",
       "    }\n",
       "})();\n",
       "\n",
       "</script>\n",
       "<p\n",
       "    id=\"webio-warning-4801875253597402317\"\n",
       "    class=\"output_text output_stderr\"\n",
       "    style=\"padding: 1em; font-weight: bold;\"\n",
       ">\n",
       "    Unable to load WebIO. Please make sure WebIO works for your Jupyter client.\n",
       "    For troubleshooting, please see <a href=\"https://juliagizmos.github.io/WebIO.jl/latest/providers/ijulia/\">\n",
       "    the WebIO/IJulia documentation</a>.\n",
       "    <!-- TODO: link to installation docs. -->\n",
       "</p>\n"
      ],
      "text/plain": [
       "HTML{String}(\"<script>\\n// Immediately-invoked-function-expression to avoid global variables.\\n(function() {\\n    var warning_div = document.getElementById(\\\"webio-warning-4801875253597402317\\\");\\n    var hide = function () {\\n        var script = document.getElementById(\\\"webio-setup-4257550547215221076\\\");\\n        var parent = script && script.parentElement;\\n        var grandparent = parent && parent.parentElement;\\n        if (grandparent) {\\n            grandparent.style.display = \\\"none\\\";\\n        }\\n        warning_div.style.display = \\\"none\\\";\\n    };\\n    if (typeof Jupyter !== \\\"undefined\\\") {\\n        console.log(\\\"WebIO detected Jupyter notebook environment.\\\");\\n        // Jupyter notebook.\\n        var extensions = (\\n            Jupyter\\n            && Jupyter.notebook.config.data\\n            && Jupyter.notebook.config.data.load_extensions\\n        );\\n        if (extensions && extensions[\\\"webio-jupyter-notebook\\\"]) {\\n            // Extension already loaded.\\n            console.log(\\\"Jupyter WebIO nbextension detected; not loading ad-hoc.\\\");\\n            hide();\\n            return;\\n        }\\n    } else if (window.location.pathname.includes(\\\"/lab\\\")) {\\n        // Guessing JupyterLa\\n        console.log(\\\"Jupyter Lab detected; make sure the @webio/jupyter-lab-provider labextension is installed.\\\");\\n        hide();\\n        return;\\n    }\\n})();\\n\\n</script>\\n<p\\n    id=\\\"webio-warning-4801875253597402317\\\"\\n    class=\\\"output_text output_stderr\\\"\\n    style=\\\"padding: 1em; font-weight: bold;\\\"\\n>\\n    Unable to load WebIO. Please make sure WebIO works for your Jupyter client.\\n    For troubleshooting, please see <a href=\\\"https://juliagizmos.github.io/WebIO.jl/latest/providers/ijulia/\\\">\\n    the WebIO/IJulia documentation</a>.\\n    <!-- TODO: link to installation docs. -->\\n</p>\\n\")"
      ]
     },
     "metadata": {},
     "output_type": "display_data"
    }
   ],
   "source": [
    "using Interact"
   ]
  },
  {
   "cell_type": "code",
   "execution_count": 22,
   "metadata": {},
   "outputs": [
    {
     "data": {
      "application/vnd.webio.node+json": {
       "children": [
        {
         "children": [
          {
           "children": [
            {
             "children": [
              {
               "children": [
                {
                 "children": [
                  "k"
                 ],
                 "instanceArgs": {
                  "namespace": "html",
                  "tag": "label"
                 },
                 "nodeType": "DOM",
                 "props": {
                  "className": "interact ",
                  "style": {
                   "padding": "5px 10px 0px 10px"
                  }
                 },
                 "type": "node"
                }
               ],
               "instanceArgs": {
                "namespace": "html",
                "tag": "div"
               },
               "nodeType": "DOM",
               "props": {
                "className": "interact-flex-row-left"
               },
               "type": "node"
              },
              {
               "children": [
                {
                 "children": [],
                 "instanceArgs": {
                  "namespace": "html",
                  "tag": "input"
                 },
                 "nodeType": "DOM",
                 "props": {
                  "attributes": {
                   "data-bind": "numericValue: index, valueUpdate: 'input', event: {change: function (){this.changes(this.changes()+1)}}",
                   "orient": "horizontal",
                   "type": "range"
                  },
                  "className": "slider slider is-fullwidth",
                  "max": 41,
                  "min": 1,
                  "step": 1,
                  "style": {}
                 },
                 "type": "node"
                }
               ],
               "instanceArgs": {
                "namespace": "html",
                "tag": "div"
               },
               "nodeType": "DOM",
               "props": {
                "className": "interact-flex-row-center"
               },
               "type": "node"
              },
              {
               "children": [
                {
                 "children": [],
                 "instanceArgs": {
                  "namespace": "html",
                  "tag": "p"
                 },
                 "nodeType": "DOM",
                 "props": {
                  "attributes": {
                   "data-bind": "text: formatted_val"
                  }
                 },
                 "type": "node"
                }
               ],
               "instanceArgs": {
                "namespace": "html",
                "tag": "div"
               },
               "nodeType": "DOM",
               "props": {
                "className": "interact-flex-row-right"
               },
               "type": "node"
              }
             ],
             "instanceArgs": {
              "namespace": "html",
              "tag": "div"
             },
             "nodeType": "DOM",
             "props": {
              "className": "interact-flex-row interact-widget"
             },
             "type": "node"
            }
           ],
           "instanceArgs": {
            "handlers": {
             "changes": [
              "(function (val){return (val!=this.model[\"changes\"]()) ? (this.valueFromJulia[\"changes\"]=true, this.model[\"changes\"](val)) : undefined})"
             ],
             "index": [
              "(function (val){return (val!=this.model[\"index\"]()) ? (this.valueFromJulia[\"index\"]=true, this.model[\"index\"](val)) : undefined})"
             ]
            },
            "id": "15573647981289684265",
            "imports": {
             "data": [
              {
               "name": "knockout",
               "type": "js",
               "url": "/assetserver/d265cb5815a0f20b51253662ec06b9fbacdc8d54-knockout.js"
              },
              {
               "name": "knockout_punches",
               "type": "js",
               "url": "/assetserver/a114dcb2e9be47839dc264ddb5460c14d0aab279-knockout_punches.js"
              },
              {
               "name": null,
               "type": "js",
               "url": "/assetserver/708042f325338e1c438390aa752d02df14f21b70-all.js"
              },
              {
               "name": null,
               "type": "css",
               "url": "/assetserver/33f349fbeaa894451059710b0544a2e1ff1ca189-style.css"
              },
              {
               "name": null,
               "type": "css",
               "url": "/assetserver/2bb2a2e587972b19dfbb45945fb2f2dbf16ab513-bulma_confined.min.css"
              }
             ],
             "type": "async_block"
            },
            "mount_callbacks": [
             "function () {\n    var handler = (function (ko, koPunches) {\n    ko.punches.enableAll();\n    ko.bindingHandlers.numericValue = {\n        init: function(element, valueAccessor, allBindings, data, context) {\n            var stringified = ko.observable(ko.unwrap(valueAccessor()));\n            stringified.subscribe(function(value) {\n                var val = parseFloat(value);\n                if (!isNaN(val)) {\n                    valueAccessor()(val);\n                }\n            });\n            valueAccessor().subscribe(function(value) {\n                var str = JSON.stringify(value);\n                if ((str == \"0\") && ([\"-0\", \"-0.\"].indexOf(stringified()) >= 0))\n                     return;\n                 if ([\"null\", \"\"].indexOf(str) >= 0)\n                     return;\n                stringified(str);\n            });\n            ko.applyBindingsToNode(\n                element,\n                {\n                    value: stringified,\n                    valueUpdate: allBindings.get('valueUpdate'),\n                },\n                context,\n            );\n        }\n    };\n    var json_data = {\"formatted_vals\":[\"-3.0\",\"-2.9\",\"-2.8\",\"-2.7\",\"-2.6\",\"-2.5\",\"-2.4\",\"-2.3\",\"-2.2\",\"-2.1\",\"-2.0\",\"-1.9\",\"-1.8\",\"-1.7\",\"-1.6\",\"-1.5\",\"-1.4\",\"-1.3\",\"-1.2\",\"-1.1\",\"-1.0\",\"-0.9\",\"-0.8\",\"-0.7\",\"-0.6\",\"-0.5\",\"-0.4\",\"-0.3\",\"-0.2\",\"-0.1\",\"0.0\",\"0.1\",\"0.2\",\"0.3\",\"0.4\",\"0.5\",\"0.6\",\"0.7\",\"0.8\",\"0.9\",\"1.0\"],\"changes\":WebIO.getval({\"name\":\"changes\",\"scope\":\"15573647981289684265\",\"id\":\"9451302856893056378\",\"type\":\"observable\"}),\"index\":WebIO.getval({\"name\":\"index\",\"scope\":\"15573647981289684265\",\"id\":\"18344506020946356000\",\"type\":\"observable\"})};\n    var self = this;\n    function AppViewModel() {\n        for (var key in json_data) {\n            var el = json_data[key];\n            this[key] = Array.isArray(el) ? ko.observableArray(el) : ko.observable(el);\n        }\n        \n        [this[\"formatted_val\"]=ko.computed(    function(){\n        return this.formatted_vals()[parseInt(this.index())-(1)];\n    }\n,this)]\n        [this[\"changes\"].subscribe((function (val){!(this.valueFromJulia[\"changes\"]) ? (WebIO.setval({\"name\":\"changes\",\"scope\":\"15573647981289684265\",\"id\":\"9451302856893056378\",\"type\":\"observable\"},val)) : undefined; return this.valueFromJulia[\"changes\"]=false}),self),this[\"index\"].subscribe((function (val){!(this.valueFromJulia[\"index\"]) ? (WebIO.setval({\"name\":\"index\",\"scope\":\"15573647981289684265\",\"id\":\"18344506020946356000\",\"type\":\"observable\"},val)) : undefined; return this.valueFromJulia[\"index\"]=false}),self)]\n        \n    }\n    self.model = new AppViewModel();\n    self.valueFromJulia = {};\n    for (var key in json_data) {\n        self.valueFromJulia[key] = false;\n    }\n    ko.applyBindings(self.model, self.dom);\n}\n);\n    (WebIO.importBlock({\"data\":[{\"name\":\"knockout\",\"type\":\"js\",\"url\":\"/assetserver/d265cb5815a0f20b51253662ec06b9fbacdc8d54-knockout.js\"},{\"name\":\"knockout_punches\",\"type\":\"js\",\"url\":\"/assetserver/a114dcb2e9be47839dc264ddb5460c14d0aab279-knockout_punches.js\"}],\"type\":\"async_block\"})).then((imports) => handler.apply(this, imports));\n}\n"
            ],
            "observables": {
             "changes": {
              "id": "9451302856893056378",
              "sync": false,
              "value": 0
             },
             "index": {
              "id": "18344506020946356000",
              "sync": true,
              "value": 21
             }
            },
            "systemjs_options": null
           },
           "nodeType": "Scope",
           "props": {},
           "type": "node"
          }
         ],
         "instanceArgs": {
          "namespace": "html",
          "tag": "div"
         },
         "nodeType": "DOM",
         "props": {
          "className": "field interact-widget"
         },
         "type": "node"
        },
        {
         "children": [
          {
           "children": [
            {
             "children": [
              {
               "children": [
                {
                 "children": [
                  "x0"
                 ],
                 "instanceArgs": {
                  "namespace": "html",
                  "tag": "label"
                 },
                 "nodeType": "DOM",
                 "props": {
                  "className": "interact ",
                  "style": {
                   "padding": "5px 10px 0px 10px"
                  }
                 },
                 "type": "node"
                }
               ],
               "instanceArgs": {
                "namespace": "html",
                "tag": "div"
               },
               "nodeType": "DOM",
               "props": {
                "className": "interact-flex-row-left"
               },
               "type": "node"
              },
              {
               "children": [
                {
                 "children": [],
                 "instanceArgs": {
                  "namespace": "html",
                  "tag": "input"
                 },
                 "nodeType": "DOM",
                 "props": {
                  "attributes": {
                   "data-bind": "numericValue: index, valueUpdate: 'input', event: {change: function (){this.changes(this.changes()+1)}}",
                   "orient": "horizontal",
                   "type": "range"
                  },
                  "className": "slider slider is-fullwidth",
                  "max": 61,
                  "min": 1,
                  "step": 1,
                  "style": {}
                 },
                 "type": "node"
                }
               ],
               "instanceArgs": {
                "namespace": "html",
                "tag": "div"
               },
               "nodeType": "DOM",
               "props": {
                "className": "interact-flex-row-center"
               },
               "type": "node"
              },
              {
               "children": [
                {
                 "children": [],
                 "instanceArgs": {
                  "namespace": "html",
                  "tag": "p"
                 },
                 "nodeType": "DOM",
                 "props": {
                  "attributes": {
                   "data-bind": "text: formatted_val"
                  }
                 },
                 "type": "node"
                }
               ],
               "instanceArgs": {
                "namespace": "html",
                "tag": "div"
               },
               "nodeType": "DOM",
               "props": {
                "className": "interact-flex-row-right"
               },
               "type": "node"
              }
             ],
             "instanceArgs": {
              "namespace": "html",
              "tag": "div"
             },
             "nodeType": "DOM",
             "props": {
              "className": "interact-flex-row interact-widget"
             },
             "type": "node"
            }
           ],
           "instanceArgs": {
            "handlers": {
             "changes": [
              "(function (val){return (val!=this.model[\"changes\"]()) ? (this.valueFromJulia[\"changes\"]=true, this.model[\"changes\"](val)) : undefined})"
             ],
             "index": [
              "(function (val){return (val!=this.model[\"index\"]()) ? (this.valueFromJulia[\"index\"]=true, this.model[\"index\"](val)) : undefined})"
             ]
            },
            "id": "16558648278871130043",
            "imports": {
             "data": [
              {
               "name": "knockout",
               "type": "js",
               "url": "/assetserver/d265cb5815a0f20b51253662ec06b9fbacdc8d54-knockout.js"
              },
              {
               "name": "knockout_punches",
               "type": "js",
               "url": "/assetserver/a114dcb2e9be47839dc264ddb5460c14d0aab279-knockout_punches.js"
              },
              {
               "name": null,
               "type": "js",
               "url": "/assetserver/708042f325338e1c438390aa752d02df14f21b70-all.js"
              },
              {
               "name": null,
               "type": "css",
               "url": "/assetserver/33f349fbeaa894451059710b0544a2e1ff1ca189-style.css"
              },
              {
               "name": null,
               "type": "css",
               "url": "/assetserver/2bb2a2e587972b19dfbb45945fb2f2dbf16ab513-bulma_confined.min.css"
              }
             ],
             "type": "async_block"
            },
            "mount_callbacks": [
             "function () {\n    var handler = (function (ko, koPunches) {\n    ko.punches.enableAll();\n    ko.bindingHandlers.numericValue = {\n        init: function(element, valueAccessor, allBindings, data, context) {\n            var stringified = ko.observable(ko.unwrap(valueAccessor()));\n            stringified.subscribe(function(value) {\n                var val = parseFloat(value);\n                if (!isNaN(val)) {\n                    valueAccessor()(val);\n                }\n            });\n            valueAccessor().subscribe(function(value) {\n                var str = JSON.stringify(value);\n                if ((str == \"0\") && ([\"-0\", \"-0.\"].indexOf(stringified()) >= 0))\n                     return;\n                 if ([\"null\", \"\"].indexOf(str) >= 0)\n                     return;\n                stringified(str);\n            });\n            ko.applyBindingsToNode(\n                element,\n                {\n                    value: stringified,\n                    valueUpdate: allBindings.get('valueUpdate'),\n                },\n                context,\n            );\n        }\n    };\n    var json_data = {\"formatted_vals\":[\"-3.0\",\"-2.9\",\"-2.8\",\"-2.7\",\"-2.6\",\"-2.5\",\"-2.4\",\"-2.3\",\"-2.2\",\"-2.1\",\"-2.0\",\"-1.9\",\"-1.8\",\"-1.7\",\"-1.6\",\"-1.5\",\"-1.4\",\"-1.3\",\"-1.2\",\"-1.1\",\"-1.0\",\"-0.9\",\"-0.8\",\"-0.7\",\"-0.6\",\"-0.5\",\"-0.4\",\"-0.3\",\"-0.2\",\"-0.1\",\"0.0\",\"0.1\",\"0.2\",\"0.3\",\"0.4\",\"0.5\",\"0.6\",\"0.7\",\"0.8\",\"0.9\",\"1.0\",\"1.1\",\"1.2\",\"1.3\",\"1.4\",\"1.5\",\"1.6\",\"1.7\",\"1.8\",\"1.9\",\"2.0\",\"2.1\",\"2.2\",\"2.3\",\"2.4\",\"2.5\",\"2.6\",\"2.7\",\"2.8\",\"2.9\",\"3.0\"],\"changes\":WebIO.getval({\"name\":\"changes\",\"scope\":\"16558648278871130043\",\"id\":\"8753720084039205530\",\"type\":\"observable\"}),\"index\":WebIO.getval({\"name\":\"index\",\"scope\":\"16558648278871130043\",\"id\":\"14996206791834962597\",\"type\":\"observable\"})};\n    var self = this;\n    function AppViewModel() {\n        for (var key in json_data) {\n            var el = json_data[key];\n            this[key] = Array.isArray(el) ? ko.observableArray(el) : ko.observable(el);\n        }\n        \n        [this[\"formatted_val\"]=ko.computed(    function(){\n        return this.formatted_vals()[parseInt(this.index())-(1)];\n    }\n,this)]\n        [this[\"changes\"].subscribe((function (val){!(this.valueFromJulia[\"changes\"]) ? (WebIO.setval({\"name\":\"changes\",\"scope\":\"16558648278871130043\",\"id\":\"8753720084039205530\",\"type\":\"observable\"},val)) : undefined; return this.valueFromJulia[\"changes\"]=false}),self),this[\"index\"].subscribe((function (val){!(this.valueFromJulia[\"index\"]) ? (WebIO.setval({\"name\":\"index\",\"scope\":\"16558648278871130043\",\"id\":\"14996206791834962597\",\"type\":\"observable\"},val)) : undefined; return this.valueFromJulia[\"index\"]=false}),self)]\n        \n    }\n    self.model = new AppViewModel();\n    self.valueFromJulia = {};\n    for (var key in json_data) {\n        self.valueFromJulia[key] = false;\n    }\n    ko.applyBindings(self.model, self.dom);\n}\n);\n    (WebIO.importBlock({\"data\":[{\"name\":\"knockout\",\"type\":\"js\",\"url\":\"/assetserver/d265cb5815a0f20b51253662ec06b9fbacdc8d54-knockout.js\"},{\"name\":\"knockout_punches\",\"type\":\"js\",\"url\":\"/assetserver/a114dcb2e9be47839dc264ddb5460c14d0aab279-knockout_punches.js\"}],\"type\":\"async_block\"})).then((imports) => handler.apply(this, imports));\n}\n"
            ],
            "observables": {
             "changes": {
              "id": "8753720084039205530",
              "sync": false,
              "value": 0
             },
             "index": {
              "id": "14996206791834962597",
              "sync": true,
              "value": 31
             }
            },
            "systemjs_options": null
           },
           "nodeType": "Scope",
           "props": {},
           "type": "node"
          }
         ],
         "instanceArgs": {
          "namespace": "html",
          "tag": "div"
         },
         "nodeType": "DOM",
         "props": {
          "className": "field interact-widget"
         },
         "type": "node"
        },
        {
         "children": [
          {
           "children": [],
           "instanceArgs": {
            "id": "13269065960125267823",
            "name": "obs-node"
           },
           "nodeType": "ObservableNode",
           "props": {},
           "type": "node"
          }
         ],
         "instanceArgs": {
          "handlers": {},
          "id": "17934578969838790752",
          "imports": {
           "data": [],
           "type": "async_block"
          },
          "mount_callbacks": [],
          "observables": {
           "obs-node": {
            "id": "13269065960125267823",
            "sync": false,
            "value": {
             "children": [
              {
               "children": [],
               "instanceArgs": {
                "namespace": "html",
                "tag": "div"
               },
               "nodeType": "DOM",
               "props": {
                "setInnerHtml": "<?xml version=\"1.0\" encoding=\"utf-8\"?>\n<svg xmlns=\"http://www.w3.org/2000/svg\" xmlns:xlink=\"http://www.w3.org/1999/xlink\" width=\"600\" height=\"400\" viewBox=\"0 0 2400 1600\">\n<defs>\n  <clipPath id=\"clip2300\">\n    <rect x=\"0\" y=\"0\" width=\"2400\" height=\"1600\"/>\n  </clipPath>\n</defs>\n<path clip-path=\"url(#clip2300)\" d=\"\nM0 1600 L2400 1600 L2400 0 L0 0  Z\n  \" fill=\"#ffffff\" fill-rule=\"evenodd\" fill-opacity=\"1\"/>\n<defs>\n  <clipPath id=\"clip2301\">\n    <rect x=\"480\" y=\"0\" width=\"1681\" height=\"1600\"/>\n  </clipPath>\n</defs>\n<path clip-path=\"url(#clip2300)\" d=\"\nM203.721 1425.62 L2352.76 1425.62 L2352.76 121.675 L203.721 121.675  Z\n  \" fill=\"#ffffff\" fill-rule=\"evenodd\" fill-opacity=\"1\"/>\n<defs>\n  <clipPath id=\"clip2302\">\n    <rect x=\"203\" y=\"121\" width=\"2150\" height=\"1305\"/>\n  </clipPath>\n</defs>\n<polyline clip-path=\"url(#clip2302)\" style=\"stroke:#000000; stroke-width:2; stroke-opacity:0.1; fill:none\" points=\"\n  203.721,1425.62 203.721,121.675 \n  \"/>\n<polyline clip-path=\"url(#clip2302)\" style=\"stroke:#000000; stroke-width:2; stroke-opacity:0.1; fill:none\" points=\"\n  920.066,1425.62 920.066,121.675 \n  \"/>\n<polyline clip-path=\"url(#clip2302)\" style=\"stroke:#000000; stroke-width:2; stroke-opacity:0.1; fill:none\" points=\"\n  1636.41,1425.62 1636.41,121.675 \n  \"/>\n<polyline clip-path=\"url(#clip2302)\" style=\"stroke:#000000; stroke-width:2; stroke-opacity:0.1; fill:none\" points=\"\n  2352.76,1425.62 2352.76,121.675 \n  \"/>\n<polyline clip-path=\"url(#clip2302)\" style=\"stroke:#000000; stroke-width:2; stroke-opacity:0.1; fill:none\" points=\"\n  203.721,1425.62 2352.76,1425.62 \n  \"/>\n<polyline clip-path=\"url(#clip2302)\" style=\"stroke:#000000; stroke-width:2; stroke-opacity:0.1; fill:none\" points=\"\n  203.721,1135.85 2352.76,1135.85 \n  \"/>\n<polyline clip-path=\"url(#clip2302)\" style=\"stroke:#000000; stroke-width:2; stroke-opacity:0.1; fill:none\" points=\"\n  203.721,846.088 2352.76,846.088 \n  \"/>\n<polyline clip-path=\"url(#clip2302)\" style=\"stroke:#000000; stroke-width:2; stroke-opacity:0.1; fill:none\" points=\"\n  203.721,556.323 2352.76,556.323 \n  \"/>\n<polyline clip-path=\"url(#clip2302)\" style=\"stroke:#000000; stroke-width:2; stroke-opacity:0.1; fill:none\" points=\"\n  203.721,266.558 2352.76,266.558 \n  \"/>\n<polyline clip-path=\"url(#clip2300)\" style=\"stroke:#000000; stroke-width:4; stroke-opacity:1; fill:none\" points=\"\n  203.721,1425.62 2352.76,1425.62 \n  \"/>\n<polyline clip-path=\"url(#clip2300)\" style=\"stroke:#000000; stroke-width:4; stroke-opacity:1; fill:none\" points=\"\n  203.721,1425.62 203.721,121.675 \n  \"/>\n<polyline clip-path=\"url(#clip2300)\" style=\"stroke:#000000; stroke-width:4; stroke-opacity:1; fill:none\" points=\"\n  203.721,1425.62 203.721,1409.97 \n  \"/>\n<polyline clip-path=\"url(#clip2300)\" style=\"stroke:#000000; stroke-width:4; stroke-opacity:1; fill:none\" points=\"\n  920.066,1425.62 920.066,1409.97 \n  \"/>\n<polyline clip-path=\"url(#clip2300)\" style=\"stroke:#000000; stroke-width:4; stroke-opacity:1; fill:none\" points=\"\n  1636.41,1425.62 1636.41,1409.97 \n  \"/>\n<polyline clip-path=\"url(#clip2300)\" style=\"stroke:#000000; stroke-width:4; stroke-opacity:1; fill:none\" points=\"\n  2352.76,1425.62 2352.76,1409.97 \n  \"/>\n<polyline clip-path=\"url(#clip2300)\" style=\"stroke:#000000; stroke-width:4; stroke-opacity:1; fill:none\" points=\"\n  203.721,1425.62 229.509,1425.62 \n  \"/>\n<polyline clip-path=\"url(#clip2300)\" style=\"stroke:#000000; stroke-width:4; stroke-opacity:1; fill:none\" points=\"\n  203.721,1135.85 229.509,1135.85 \n  \"/>\n<polyline clip-path=\"url(#clip2300)\" style=\"stroke:#000000; stroke-width:4; stroke-opacity:1; fill:none\" points=\"\n  203.721,846.088 229.509,846.088 \n  \"/>\n<polyline clip-path=\"url(#clip2300)\" style=\"stroke:#000000; stroke-width:4; stroke-opacity:1; fill:none\" points=\"\n  203.721,556.323 229.509,556.323 \n  \"/>\n<polyline clip-path=\"url(#clip2300)\" style=\"stroke:#000000; stroke-width:4; stroke-opacity:1; fill:none\" points=\"\n  203.721,266.558 229.509,266.558 \n  \"/>\n<g clip-path=\"url(#clip2300)\">\n<text style=\"fill:#000000; fill-opacity:1; font-family:Arial,Helvetica Neue,Helvetica,sans-serif; font-size:48px; text-anchor:middle;\" transform=\"rotate(0, 203.721, 1479.62)\" x=\"203.721\" y=\"1479.62\">0</text>\n</g>\n<g clip-path=\"url(#clip2300)\">\n<text style=\"fill:#000000; fill-opacity:1; font-family:Arial,Helvetica Neue,Helvetica,sans-serif; font-size:48px; text-anchor:middle;\" transform=\"rotate(0, 920.066, 1479.62)\" x=\"920.066\" y=\"1479.62\">1</text>\n</g>\n<g clip-path=\"url(#clip2300)\">\n<text style=\"fill:#000000; fill-opacity:1; font-family:Arial,Helvetica Neue,Helvetica,sans-serif; font-size:48px; text-anchor:middle;\" transform=\"rotate(0, 1636.41, 1479.62)\" x=\"1636.41\" y=\"1479.62\">2</text>\n</g>\n<g clip-path=\"url(#clip2300)\">\n<text style=\"fill:#000000; fill-opacity:1; font-family:Arial,Helvetica Neue,Helvetica,sans-serif; font-size:48px; text-anchor:middle;\" transform=\"rotate(0, 2352.76, 1479.62)\" x=\"2352.76\" y=\"1479.62\">3</text>\n</g>\n<g clip-path=\"url(#clip2300)\">\n<text style=\"fill:#000000; fill-opacity:1; font-family:Arial,Helvetica Neue,Helvetica,sans-serif; font-size:48px; text-anchor:end;\" transform=\"rotate(0, 179.721, 1443.12)\" x=\"179.721\" y=\"1443.12\">-4</text>\n</g>\n<g clip-path=\"url(#clip2300)\">\n<text style=\"fill:#000000; fill-opacity:1; font-family:Arial,Helvetica Neue,Helvetica,sans-serif; font-size:48px; text-anchor:end;\" transform=\"rotate(0, 179.721, 1153.35)\" x=\"179.721\" y=\"1153.35\">-2</text>\n</g>\n<g clip-path=\"url(#clip2300)\">\n<text style=\"fill:#000000; fill-opacity:1; font-family:Arial,Helvetica Neue,Helvetica,sans-serif; font-size:48px; text-anchor:end;\" transform=\"rotate(0, 179.721, 863.588)\" x=\"179.721\" y=\"863.588\">0</text>\n</g>\n<g clip-path=\"url(#clip2300)\">\n<text style=\"fill:#000000; fill-opacity:1; font-family:Arial,Helvetica Neue,Helvetica,sans-serif; font-size:48px; text-anchor:end;\" transform=\"rotate(0, 179.721, 573.823)\" x=\"179.721\" y=\"573.823\">2</text>\n</g>\n<g clip-path=\"url(#clip2300)\">\n<text style=\"fill:#000000; fill-opacity:1; font-family:Arial,Helvetica Neue,Helvetica,sans-serif; font-size:48px; text-anchor:end;\" transform=\"rotate(0, 179.721, 284.058)\" x=\"179.721\" y=\"284.058\">4</text>\n</g>\n<g clip-path=\"url(#clip2300)\">\n<text style=\"fill:#000000; fill-opacity:1; font-family:Arial,Helvetica Neue,Helvetica,sans-serif; font-size:84px; text-anchor:middle;\" transform=\"rotate(0, 1278.24, 73.2)\" x=\"1278.24\" y=\"73.2\">Solution to the linear ODE with a thick line</text>\n</g>\n<g clip-path=\"url(#clip2300)\">\n<text style=\"fill:#000000; fill-opacity:1; font-family:Arial,Helvetica Neue,Helvetica,sans-serif; font-size:66px; text-anchor:middle;\" transform=\"rotate(0, 1278.24, 1559.48)\" x=\"1278.24\" y=\"1559.48\">Time (t)</text>\n</g>\n<g clip-path=\"url(#clip2300)\">\n<text style=\"fill:#000000; fill-opacity:1; font-family:Arial,Helvetica Neue,Helvetica,sans-serif; font-size:66px; text-anchor:middle;\" transform=\"rotate(-90, 89.2861, 773.647)\" x=\"89.2861\" y=\"773.647\">u(t)</text>\n</g>\n<polyline clip-path=\"url(#clip2302)\" style=\"stroke:#009af9; stroke-width:20; stroke-opacity:1; fill:none\" points=\"\n  203.721,846.088 205.872,846.088 208.023,846.088 210.174,846.088 212.325,846.088 214.477,846.088 216.628,846.088 218.779,846.088 220.93,846.088 223.081,846.088 \n  225.233,846.088 227.384,846.088 229.535,846.088 231.686,846.088 233.837,846.088 235.988,846.088 238.14,846.088 240.291,846.088 242.442,846.088 244.593,846.088 \n  246.744,846.088 248.896,846.088 251.047,846.088 253.198,846.088 255.349,846.088 257.5,846.088 259.652,846.088 261.803,846.088 263.954,846.088 266.105,846.088 \n  268.256,846.088 270.407,846.088 272.559,846.088 274.71,846.088 276.861,846.088 279.012,846.088 281.163,846.088 283.315,846.088 285.466,846.088 287.617,846.088 \n  289.768,846.088 291.919,846.088 294.07,846.088 296.222,846.088 298.373,846.088 300.524,846.088 302.675,846.088 304.826,846.088 306.978,846.088 309.129,846.088 \n  311.28,846.088 313.431,846.088 315.582,846.088 317.734,846.088 319.885,846.088 322.036,846.088 324.187,846.088 326.338,846.088 328.489,846.088 330.641,846.088 \n  332.792,846.088 334.943,846.088 337.094,846.088 339.245,846.088 341.397,846.088 343.548,846.088 345.699,846.088 347.85,846.088 350.001,846.088 352.153,846.088 \n  354.304,846.088 356.455,846.088 358.606,846.088 360.757,846.088 362.908,846.088 365.06,846.088 367.211,846.088 369.362,846.088 371.513,846.088 373.664,846.088 \n  375.816,846.088 377.967,846.088 380.118,846.088 382.269,846.088 384.42,846.088 386.572,846.088 388.723,846.088 390.874,846.088 393.025,846.088 395.176,846.088 \n  397.327,846.088 399.479,846.088 401.63,846.088 403.781,846.088 405.932,846.088 408.083,846.088 410.235,846.088 412.386,846.088 414.537,846.088 416.688,846.088 \n  418.839,846.088 420.99,846.088 423.142,846.088 425.293,846.088 427.444,846.088 429.595,846.088 431.746,846.088 433.898,846.088 436.049,846.088 438.2,846.088 \n  440.351,846.088 442.502,846.088 444.654,846.088 446.805,846.088 448.956,846.088 451.107,846.088 453.258,846.088 455.409,846.088 457.561,846.088 459.712,846.088 \n  461.863,846.088 464.014,846.088 466.165,846.088 468.317,846.088 470.468,846.088 472.619,846.088 474.77,846.088 476.921,846.088 479.073,846.088 481.224,846.088 \n  483.375,846.088 485.526,846.088 487.677,846.088 489.828,846.088 491.98,846.088 494.131,846.088 496.282,846.088 498.433,846.088 500.584,846.088 502.736,846.088 \n  504.887,846.088 507.038,846.088 509.189,846.088 511.34,846.088 513.492,846.088 515.643,846.088 517.794,846.088 519.945,846.088 522.096,846.088 524.247,846.088 \n  526.399,846.088 528.55,846.088 530.701,846.088 532.852,846.088 535.003,846.088 537.155,846.088 539.306,846.088 541.457,846.088 543.608,846.088 545.759,846.088 \n  547.91,846.088 550.062,846.088 552.213,846.088 554.364,846.088 556.515,846.088 558.666,846.088 560.818,846.088 562.969,846.088 565.12,846.088 567.271,846.088 \n  569.422,846.088 571.574,846.088 573.725,846.088 575.876,846.088 578.027,846.088 580.178,846.088 582.329,846.088 584.481,846.088 586.632,846.088 588.783,846.088 \n  590.934,846.088 593.085,846.088 595.237,846.088 597.388,846.088 599.539,846.088 601.69,846.088 603.841,846.088 605.993,846.088 608.144,846.088 610.295,846.088 \n  612.446,846.088 614.597,846.088 616.748,846.088 618.9,846.088 621.051,846.088 623.202,846.088 625.353,846.088 627.504,846.088 629.656,846.088 631.807,846.088 \n  633.958,846.088 636.109,846.088 638.26,846.088 640.412,846.088 642.563,846.088 644.714,846.088 646.865,846.088 649.016,846.088 651.167,846.088 653.319,846.088 \n  655.47,846.088 657.621,846.088 659.772,846.088 661.923,846.088 664.075,846.088 666.226,846.088 668.377,846.088 670.528,846.088 672.679,846.088 674.83,846.088 \n  676.982,846.088 679.133,846.088 681.284,846.088 683.435,846.088 685.586,846.088 687.738,846.088 689.889,846.088 692.04,846.088 694.191,846.088 696.342,846.088 \n  698.494,846.088 700.645,846.088 702.796,846.088 704.947,846.088 707.098,846.088 709.249,846.088 711.401,846.088 713.552,846.088 715.703,846.088 717.854,846.088 \n  720.005,846.088 722.157,846.088 724.308,846.088 726.459,846.088 728.61,846.088 730.761,846.088 732.913,846.088 735.064,846.088 737.215,846.088 739.366,846.088 \n  741.517,846.088 743.668,846.088 745.82,846.088 747.971,846.088 750.122,846.088 752.273,846.088 754.424,846.088 756.576,846.088 758.727,846.088 760.878,846.088 \n  763.029,846.088 765.18,846.088 767.332,846.088 769.483,846.088 771.634,846.088 773.785,846.088 775.936,846.088 778.087,846.088 780.239,846.088 782.39,846.088 \n  784.541,846.088 786.692,846.088 788.843,846.088 790.995,846.088 793.146,846.088 795.297,846.088 797.448,846.088 799.599,846.088 801.75,846.088 803.902,846.088 \n  806.053,846.088 808.204,846.088 810.355,846.088 812.506,846.088 814.658,846.088 816.809,846.088 818.96,846.088 821.111,846.088 823.262,846.088 825.414,846.088 \n  827.565,846.088 829.716,846.088 831.867,846.088 834.018,846.088 836.169,846.088 838.321,846.088 840.472,846.088 842.623,846.088 844.774,846.088 846.925,846.088 \n  849.077,846.088 851.228,846.088 853.379,846.088 855.53,846.088 857.681,846.088 859.833,846.088 861.984,846.088 864.135,846.088 866.286,846.088 868.437,846.088 \n  870.588,846.088 872.74,846.088 874.891,846.088 877.042,846.088 879.193,846.088 881.344,846.088 883.496,846.088 885.647,846.088 887.798,846.088 889.949,846.088 \n  892.1,846.088 894.252,846.088 896.403,846.088 898.554,846.088 900.705,846.088 902.856,846.088 905.007,846.088 907.159,846.088 909.31,846.088 911.461,846.088 \n  913.612,846.088 915.763,846.088 917.915,846.088 920.066,846.088 922.217,846.088 924.368,846.088 926.519,846.088 928.67,846.088 930.822,846.088 932.973,846.088 \n  935.124,846.088 937.275,846.088 939.426,846.088 941.578,846.088 943.729,846.088 945.88,846.088 948.031,846.088 950.182,846.088 952.334,846.088 954.485,846.088 \n  956.636,846.088 958.787,846.088 960.938,846.088 963.089,846.088 965.241,846.088 967.392,846.088 969.543,846.088 971.694,846.088 973.845,846.088 975.997,846.088 \n  978.148,846.088 980.299,846.088 982.45,846.088 984.601,846.088 986.753,846.088 988.904,846.088 991.055,846.088 993.206,846.088 995.357,846.088 997.508,846.088 \n  999.66,846.088 1001.81,846.088 1003.96,846.088 1006.11,846.088 1008.26,846.088 1010.42,846.088 1012.57,846.088 1014.72,846.088 1016.87,846.088 1019.02,846.088 \n  1021.17,846.088 1023.32,846.088 1025.47,846.088 1027.63,846.088 1029.78,846.088 1031.93,846.088 1034.08,846.088 1036.23,846.088 1038.38,846.088 1040.53,846.088 \n  1042.68,846.088 1044.83,846.088 1046.99,846.088 1049.14,846.088 1051.29,846.088 1053.44,846.088 1055.59,846.088 1057.74,846.088 1059.89,846.088 1062.04,846.088 \n  1064.2,846.088 1066.35,846.088 1068.5,846.088 1070.65,846.088 1072.8,846.088 1074.95,846.088 1077.1,846.088 1079.25,846.088 1081.4,846.088 1083.56,846.088 \n  1085.71,846.088 1087.86,846.088 1090.01,846.088 1092.16,846.088 1094.31,846.088 1096.46,846.088 1098.61,846.088 1100.77,846.088 1102.92,846.088 1105.07,846.088 \n  1107.22,846.088 1109.37,846.088 1111.52,846.088 1113.67,846.088 1115.82,846.088 1117.97,846.088 1120.13,846.088 1122.28,846.088 1124.43,846.088 1126.58,846.088 \n  1128.73,846.088 1130.88,846.088 1133.03,846.088 1135.18,846.088 1137.34,846.088 1139.49,846.088 1141.64,846.088 1143.79,846.088 1145.94,846.088 1148.09,846.088 \n  1150.24,846.088 1152.39,846.088 1154.55,846.088 1156.7,846.088 1158.85,846.088 1161,846.088 1163.15,846.088 1165.3,846.088 1167.45,846.088 1169.6,846.088 \n  1171.75,846.088 1173.91,846.088 1176.06,846.088 1178.21,846.088 1180.36,846.088 1182.51,846.088 1184.66,846.088 1186.81,846.088 1188.96,846.088 1191.12,846.088 \n  1193.27,846.088 1195.42,846.088 1197.57,846.088 1199.72,846.088 1201.87,846.088 1204.02,846.088 1206.17,846.088 1208.32,846.088 1210.48,846.088 1212.63,846.088 \n  1214.78,846.088 1216.93,846.088 1219.08,846.088 1221.23,846.088 1223.38,846.088 1225.53,846.088 1227.69,846.088 1229.84,846.088 1231.99,846.088 1234.14,846.088 \n  1236.29,846.088 1238.44,846.088 1240.59,846.088 1242.74,846.088 1244.89,846.088 1247.05,846.088 1249.2,846.088 1251.35,846.088 1253.5,846.088 1255.65,846.088 \n  1257.8,846.088 1259.95,846.088 1262.1,846.088 1264.26,846.088 1266.41,846.088 1268.56,846.088 1270.71,846.088 1272.86,846.088 1275.01,846.088 1277.16,846.088 \n  1279.31,846.088 1281.47,846.088 1283.62,846.088 1285.77,846.088 1287.92,846.088 1290.07,846.088 1292.22,846.088 1294.37,846.088 1296.52,846.088 1298.67,846.088 \n  1300.83,846.088 1302.98,846.088 1305.13,846.088 1307.28,846.088 1309.43,846.088 1311.58,846.088 1313.73,846.088 1315.88,846.088 1318.04,846.088 1320.19,846.088 \n  1322.34,846.088 1324.49,846.088 1326.64,846.088 1328.79,846.088 1330.94,846.088 1333.09,846.088 1335.24,846.088 1337.4,846.088 1339.55,846.088 1341.7,846.088 \n  1343.85,846.088 1346,846.088 1348.15,846.088 1350.3,846.088 1352.45,846.088 1354.61,846.088 1356.76,846.088 1358.91,846.088 1361.06,846.088 1363.21,846.088 \n  1365.36,846.088 1367.51,846.088 1369.66,846.088 1371.81,846.088 1373.97,846.088 1376.12,846.088 1378.27,846.088 1380.42,846.088 1382.57,846.088 1384.72,846.088 \n  1386.87,846.088 1389.02,846.088 1391.18,846.088 1393.33,846.088 1395.48,846.088 1397.63,846.088 1399.78,846.088 1401.93,846.088 1404.08,846.088 1406.23,846.088 \n  1408.39,846.088 1410.54,846.088 1412.69,846.088 1414.84,846.088 1416.99,846.088 1419.14,846.088 1421.29,846.088 1423.44,846.088 1425.59,846.088 1427.75,846.088 \n  1429.9,846.088 1432.05,846.088 1434.2,846.088 1436.35,846.088 1438.5,846.088 1440.65,846.088 1442.8,846.088 1444.96,846.088 1447.11,846.088 1449.26,846.088 \n  1451.41,846.088 1453.56,846.088 1455.71,846.088 1457.86,846.088 1460.01,846.088 1462.16,846.088 1464.32,846.088 1466.47,846.088 1468.62,846.088 1470.77,846.088 \n  1472.92,846.088 1475.07,846.088 1477.22,846.088 1479.37,846.088 1481.53,846.088 1483.68,846.088 1485.83,846.088 1487.98,846.088 1490.13,846.088 1492.28,846.088 \n  1494.43,846.088 1496.58,846.088 1498.73,846.088 1500.89,846.088 1503.04,846.088 1505.19,846.088 1507.34,846.088 1509.49,846.088 1511.64,846.088 1513.79,846.088 \n  1515.94,846.088 1518.1,846.088 1520.25,846.088 1522.4,846.088 1524.55,846.088 1526.7,846.088 1528.85,846.088 1531,846.088 1533.15,846.088 1535.31,846.088 \n  1537.46,846.088 1539.61,846.088 1541.76,846.088 1543.91,846.088 1546.06,846.088 1548.21,846.088 1550.36,846.088 1552.51,846.088 1554.67,846.088 1556.82,846.088 \n  1558.97,846.088 1561.12,846.088 1563.27,846.088 1565.42,846.088 1567.57,846.088 1569.72,846.088 1571.88,846.088 1574.03,846.088 1576.18,846.088 1578.33,846.088 \n  1580.48,846.088 1582.63,846.088 1584.78,846.088 1586.93,846.088 1589.08,846.088 1591.24,846.088 1593.39,846.088 1595.54,846.088 1597.69,846.088 1599.84,846.088 \n  1601.99,846.088 1604.14,846.088 1606.29,846.088 1608.45,846.088 1610.6,846.088 1612.75,846.088 1614.9,846.088 1617.05,846.088 1619.2,846.088 1621.35,846.088 \n  1623.5,846.088 1625.65,846.088 1627.81,846.088 1629.96,846.088 1632.11,846.088 1634.26,846.088 1636.41,846.088 1638.56,846.088 1640.71,846.088 1642.86,846.088 \n  1645.02,846.088 1647.17,846.088 1649.32,846.088 1651.47,846.088 1653.62,846.088 1655.77,846.088 1657.92,846.088 1660.07,846.088 1662.23,846.088 1664.38,846.088 \n  1666.53,846.088 1668.68,846.088 1670.83,846.088 1672.98,846.088 1675.13,846.088 1677.28,846.088 1679.43,846.088 1681.59,846.088 1683.74,846.088 1685.89,846.088 \n  1688.04,846.088 1690.19,846.088 1692.34,846.088 1694.49,846.088 1696.64,846.088 1698.8,846.088 1700.95,846.088 1703.1,846.088 1705.25,846.088 1707.4,846.088 \n  1709.55,846.088 1711.7,846.088 1713.85,846.088 1716,846.088 1718.16,846.088 1720.31,846.088 1722.46,846.088 1724.61,846.088 1726.76,846.088 1728.91,846.088 \n  1731.06,846.088 1733.21,846.088 1735.37,846.088 1737.52,846.088 1739.67,846.088 1741.82,846.088 1743.97,846.088 1746.12,846.088 1748.27,846.088 1750.42,846.088 \n  1752.57,846.088 1754.73,846.088 1756.88,846.088 1759.03,846.088 1761.18,846.088 1763.33,846.088 1765.48,846.088 1767.63,846.088 1769.78,846.088 1771.94,846.088 \n  1774.09,846.088 1776.24,846.088 1778.39,846.088 1780.54,846.088 1782.69,846.088 1784.84,846.088 1786.99,846.088 1789.15,846.088 1791.3,846.088 1793.45,846.088 \n  1795.6,846.088 1797.75,846.088 1799.9,846.088 1802.05,846.088 1804.2,846.088 1806.35,846.088 1808.51,846.088 1810.66,846.088 1812.81,846.088 1814.96,846.088 \n  1817.11,846.088 1819.26,846.088 1821.41,846.088 1823.56,846.088 1825.72,846.088 1827.87,846.088 1830.02,846.088 1832.17,846.088 1834.32,846.088 1836.47,846.088 \n  1838.62,846.088 1840.77,846.088 1842.92,846.088 1845.08,846.088 1847.23,846.088 1849.38,846.088 1851.53,846.088 1853.68,846.088 1855.83,846.088 1857.98,846.088 \n  1860.13,846.088 1862.29,846.088 1864.44,846.088 1866.59,846.088 1868.74,846.088 1870.89,846.088 1873.04,846.088 1875.19,846.088 1877.34,846.088 1879.49,846.088 \n  1881.65,846.088 1883.8,846.088 1885.95,846.088 1888.1,846.088 1890.25,846.088 1892.4,846.088 1894.55,846.088 1896.7,846.088 1898.86,846.088 1901.01,846.088 \n  1903.16,846.088 1905.31,846.088 1907.46,846.088 1909.61,846.088 1911.76,846.088 1913.91,846.088 1916.07,846.088 1918.22,846.088 1920.37,846.088 1922.52,846.088 \n  1924.67,846.088 1926.82,846.088 1928.97,846.088 1931.12,846.088 1933.27,846.088 1935.43,846.088 1937.58,846.088 1939.73,846.088 1941.88,846.088 1944.03,846.088 \n  1946.18,846.088 1948.33,846.088 1950.48,846.088 1952.64,846.088 1954.79,846.088 1956.94,846.088 1959.09,846.088 1961.24,846.088 1963.39,846.088 1965.54,846.088 \n  1967.69,846.088 1969.84,846.088 1972,846.088 1974.15,846.088 1976.3,846.088 1978.45,846.088 1980.6,846.088 1982.75,846.088 1984.9,846.088 1987.05,846.088 \n  1989.21,846.088 1991.36,846.088 1993.51,846.088 1995.66,846.088 1997.81,846.088 1999.96,846.088 2002.11,846.088 2004.26,846.088 2006.41,846.088 2008.57,846.088 \n  2010.72,846.088 2012.87,846.088 2015.02,846.088 2017.17,846.088 2019.32,846.088 2021.47,846.088 2023.62,846.088 2025.78,846.088 2027.93,846.088 2030.08,846.088 \n  2032.23,846.088 2034.38,846.088 2036.53,846.088 2038.68,846.088 2040.83,846.088 2042.99,846.088 2045.14,846.088 2047.29,846.088 2049.44,846.088 2051.59,846.088 \n  2053.74,846.088 2055.89,846.088 2058.04,846.088 2060.19,846.088 2062.35,846.088 2064.5,846.088 2066.65,846.088 2068.8,846.088 2070.95,846.088 2073.1,846.088 \n  2075.25,846.088 2077.4,846.088 2079.56,846.088 2081.71,846.088 2083.86,846.088 2086.01,846.088 2088.16,846.088 2090.31,846.088 2092.46,846.088 2094.61,846.088 \n  2096.76,846.088 2098.92,846.088 2101.07,846.088 2103.22,846.088 2105.37,846.088 2107.52,846.088 2109.67,846.088 2111.82,846.088 2113.97,846.088 2116.13,846.088 \n  2118.28,846.088 2120.43,846.088 2122.58,846.088 2124.73,846.088 2126.88,846.088 2129.03,846.088 2131.18,846.088 2133.33,846.088 2135.49,846.088 2137.64,846.088 \n  2139.79,846.088 2141.94,846.088 2144.09,846.088 2146.24,846.088 2148.39,846.088 2150.54,846.088 2152.7,846.088 2154.85,846.088 2157,846.088 2159.15,846.088 \n  2161.3,846.088 2163.45,846.088 2165.6,846.088 2167.75,846.088 2169.91,846.088 2172.06,846.088 2174.21,846.088 2176.36,846.088 2178.51,846.088 2180.66,846.088 \n  2182.81,846.088 2184.96,846.088 2187.11,846.088 2189.27,846.088 2191.42,846.088 2193.57,846.088 2195.72,846.088 2197.87,846.088 2200.02,846.088 2202.17,846.088 \n  2204.32,846.088 2206.48,846.088 2208.63,846.088 2210.78,846.088 2212.93,846.088 2215.08,846.088 2217.23,846.088 2219.38,846.088 2221.53,846.088 2223.68,846.088 \n  2225.84,846.088 2227.99,846.088 2230.14,846.088 2232.29,846.088 2234.44,846.088 2236.59,846.088 2238.74,846.088 2240.89,846.088 2243.05,846.088 2245.2,846.088 \n  2247.35,846.088 2249.5,846.088 2251.65,846.088 2253.8,846.088 2255.95,846.088 2258.1,846.088 2260.25,846.088 2262.41,846.088 2264.56,846.088 2266.71,846.088 \n  2268.86,846.088 2271.01,846.088 2273.16,846.088 2275.31,846.088 2277.46,846.088 2279.62,846.088 2281.77,846.088 2283.92,846.088 2286.07,846.088 2288.22,846.088 \n  2290.37,846.088 2292.52,846.088 2294.67,846.088 2296.83,846.088 2298.98,846.088 2301.13,846.088 2303.28,846.088 2305.43,846.088 2307.58,846.088 2309.73,846.088 \n  2311.88,846.088 2314.03,846.088 2316.19,846.088 2318.34,846.088 2320.49,846.088 2322.64,846.088 2324.79,846.088 2326.94,846.088 2329.09,846.088 2331.24,846.088 \n  2333.4,846.088 2335.55,846.088 2337.7,846.088 2339.85,846.088 2342,846.088 2344.15,846.088 2346.3,846.088 2348.45,846.088 2350.6,846.088 2352.76,846.088 \n  \n  \"/>\n<polyline clip-path=\"url(#clip2302)\" style=\"stroke:#e26f46; stroke-width:12; stroke-opacity:1; fill:none\" stroke-dasharray=\"48, 30\" points=\"\n  203.721,846.088 203.792,846.088 204.509,846.088 211.672,846.088 283.307,846.088 999.652,846.088 2352.76,846.088 \n  \"/>\n<path clip-path=\"url(#clip2300)\" d=\"\nM1743.87 386.635 L2280.76 386.635 L2280.76 205.195 L1743.87 205.195  Z\n  \" fill=\"#ffffff\" fill-rule=\"evenodd\" fill-opacity=\"1\"/>\n<polyline clip-path=\"url(#clip2300)\" style=\"stroke:#000000; stroke-width:4; stroke-opacity:1; fill:none\" points=\"\n  1743.87,386.635 2280.76,386.635 2280.76,205.195 1743.87,205.195 1743.87,386.635 \n  \"/>\n<polyline clip-path=\"url(#clip2300)\" style=\"stroke:#009af9; stroke-width:20; stroke-opacity:1; fill:none\" points=\"\n  1767.87,265.675 1911.87,265.675 \n  \"/>\n<g clip-path=\"url(#clip2300)\">\n<text style=\"fill:#000000; fill-opacity:1; font-family:Arial,Helvetica Neue,Helvetica,sans-serif; font-size:48px; text-anchor:start;\" transform=\"rotate(0, 1935.87, 283.175)\" x=\"1935.87\" y=\"283.175\">My Thick Line</text>\n</g>\n<polyline clip-path=\"url(#clip2300)\" style=\"stroke:#e26f46; stroke-width:12; stroke-opacity:1; fill:none\" stroke-dasharray=\"48, 30\" points=\"\n  1767.87,326.155 1911.87,326.155 \n  \"/>\n<g clip-path=\"url(#clip2300)\">\n<text style=\"fill:#000000; fill-opacity:1; font-family:Arial,Helvetica Neue,Helvetica,sans-serif; font-size:48px; text-anchor:start;\" transform=\"rotate(0, 1935.87, 343.655)\" x=\"1935.87\" y=\"343.655\">True solution</text>\n</g>\n</svg>\n"
               },
               "type": "node"
              }
             ],
             "instanceArgs": {
              "namespace": "html",
              "tag": "div"
             },
             "nodeType": "DOM",
             "props": {
              "className": "interact-flex-row interact-widget"
             },
             "type": "node"
            }
           }
          },
          "systemjs_options": null
         },
         "nodeType": "Scope",
         "props": {},
         "type": "node"
        }
       ],
       "instanceArgs": {
        "namespace": "html",
        "tag": "div"
       },
       "nodeType": "DOM",
       "props": {},
       "type": "node"
      },
      "text/html": [
       "<div\n",
       "    class=\"webio-mountpoint\"\n",
       "    data-webio-mountpoint=\"8398520781222546891\"\n",
       ">\n",
       "    <script>\n",
       "    if (window.require && require.defined && require.defined(\"nbextensions/webio-jupyter-notebook\")) {\n",
       "        console.log(\"Jupyter WebIO extension detected, not mounting.\");\n",
       "    } else if (window.WebIO) {\n",
       "        WebIO.mount(\n",
       "            document.querySelector('[data-webio-mountpoint=\"8398520781222546891\"]'),\n",
       "            {\"props\":{},\"nodeType\":\"DOM\",\"type\":\"node\",\"instanceArgs\":{\"namespace\":\"html\",\"tag\":\"div\"},\"children\":[{\"props\":{\"className\":\"field interact-widget\"},\"nodeType\":\"DOM\",\"type\":\"node\",\"instanceArgs\":{\"namespace\":\"html\",\"tag\":\"div\"},\"children\":[{\"props\":{},\"nodeType\":\"Scope\",\"type\":\"node\",\"instanceArgs\":{\"imports\":{\"data\":[{\"name\":\"knockout\",\"type\":\"js\",\"url\":\"\\/assetserver\\/d265cb5815a0f20b51253662ec06b9fbacdc8d54-knockout.js\"},{\"name\":\"knockout_punches\",\"type\":\"js\",\"url\":\"\\/assetserver\\/a114dcb2e9be47839dc264ddb5460c14d0aab279-knockout_punches.js\"},{\"name\":null,\"type\":\"js\",\"url\":\"\\/assetserver\\/708042f325338e1c438390aa752d02df14f21b70-all.js\"},{\"name\":null,\"type\":\"css\",\"url\":\"\\/assetserver\\/33f349fbeaa894451059710b0544a2e1ff1ca189-style.css\"},{\"name\":null,\"type\":\"css\",\"url\":\"\\/assetserver\\/2bb2a2e587972b19dfbb45945fb2f2dbf16ab513-bulma_confined.min.css\"}],\"type\":\"async_block\"},\"id\":\"15573647981289684265\",\"handlers\":{\"changes\":[\"(function (val){return (val!=this.model[\\\"changes\\\"]()) ? (this.valueFromJulia[\\\"changes\\\"]=true, this.model[\\\"changes\\\"](val)) : undefined})\"],\"index\":[\"(function (val){return (val!=this.model[\\\"index\\\"]()) ? (this.valueFromJulia[\\\"index\\\"]=true, this.model[\\\"index\\\"](val)) : undefined})\"]},\"systemjs_options\":null,\"mount_callbacks\":[\"function () {\\n    var handler = (function (ko, koPunches) {\\n    ko.punches.enableAll();\\n    ko.bindingHandlers.numericValue = {\\n        init: function(element, valueAccessor, allBindings, data, context) {\\n            var stringified = ko.observable(ko.unwrap(valueAccessor()));\\n            stringified.subscribe(function(value) {\\n                var val = parseFloat(value);\\n                if (!isNaN(val)) {\\n                    valueAccessor()(val);\\n                }\\n            });\\n            valueAccessor().subscribe(function(value) {\\n                var str = JSON.stringify(value);\\n                if ((str == \\\"0\\\") && ([\\\"-0\\\", \\\"-0.\\\"].indexOf(stringified()) >= 0))\\n                     return;\\n                 if ([\\\"null\\\", \\\"\\\"].indexOf(str) >= 0)\\n                     return;\\n                stringified(str);\\n            });\\n            ko.applyBindingsToNode(\\n                element,\\n                {\\n                    value: stringified,\\n                    valueUpdate: allBindings.get('valueUpdate'),\\n                },\\n                context,\\n            );\\n        }\\n    };\\n    var json_data = {\\\"formatted_vals\\\":[\\\"-3.0\\\",\\\"-2.9\\\",\\\"-2.8\\\",\\\"-2.7\\\",\\\"-2.6\\\",\\\"-2.5\\\",\\\"-2.4\\\",\\\"-2.3\\\",\\\"-2.2\\\",\\\"-2.1\\\",\\\"-2.0\\\",\\\"-1.9\\\",\\\"-1.8\\\",\\\"-1.7\\\",\\\"-1.6\\\",\\\"-1.5\\\",\\\"-1.4\\\",\\\"-1.3\\\",\\\"-1.2\\\",\\\"-1.1\\\",\\\"-1.0\\\",\\\"-0.9\\\",\\\"-0.8\\\",\\\"-0.7\\\",\\\"-0.6\\\",\\\"-0.5\\\",\\\"-0.4\\\",\\\"-0.3\\\",\\\"-0.2\\\",\\\"-0.1\\\",\\\"0.0\\\",\\\"0.1\\\",\\\"0.2\\\",\\\"0.3\\\",\\\"0.4\\\",\\\"0.5\\\",\\\"0.6\\\",\\\"0.7\\\",\\\"0.8\\\",\\\"0.9\\\",\\\"1.0\\\"],\\\"changes\\\":WebIO.getval({\\\"name\\\":\\\"changes\\\",\\\"scope\\\":\\\"15573647981289684265\\\",\\\"id\\\":\\\"9451302856893056378\\\",\\\"type\\\":\\\"observable\\\"}),\\\"index\\\":WebIO.getval({\\\"name\\\":\\\"index\\\",\\\"scope\\\":\\\"15573647981289684265\\\",\\\"id\\\":\\\"18344506020946356000\\\",\\\"type\\\":\\\"observable\\\"})};\\n    var self = this;\\n    function AppViewModel() {\\n        for (var key in json_data) {\\n            var el = json_data[key];\\n            this[key] = Array.isArray(el) ? ko.observableArray(el) : ko.observable(el);\\n        }\\n        \\n        [this[\\\"formatted_val\\\"]=ko.computed(    function(){\\n        return this.formatted_vals()[parseInt(this.index())-(1)];\\n    }\\n,this)]\\n        [this[\\\"changes\\\"].subscribe((function (val){!(this.valueFromJulia[\\\"changes\\\"]) ? (WebIO.setval({\\\"name\\\":\\\"changes\\\",\\\"scope\\\":\\\"15573647981289684265\\\",\\\"id\\\":\\\"9451302856893056378\\\",\\\"type\\\":\\\"observable\\\"},val)) : undefined; return this.valueFromJulia[\\\"changes\\\"]=false}),self),this[\\\"index\\\"].subscribe((function (val){!(this.valueFromJulia[\\\"index\\\"]) ? (WebIO.setval({\\\"name\\\":\\\"index\\\",\\\"scope\\\":\\\"15573647981289684265\\\",\\\"id\\\":\\\"18344506020946356000\\\",\\\"type\\\":\\\"observable\\\"},val)) : undefined; return this.valueFromJulia[\\\"index\\\"]=false}),self)]\\n        \\n    }\\n    self.model = new AppViewModel();\\n    self.valueFromJulia = {};\\n    for (var key in json_data) {\\n        self.valueFromJulia[key] = false;\\n    }\\n    ko.applyBindings(self.model, self.dom);\\n}\\n);\\n    (WebIO.importBlock({\\\"data\\\":[{\\\"name\\\":\\\"knockout\\\",\\\"type\\\":\\\"js\\\",\\\"url\\\":\\\"\\/assetserver\\/d265cb5815a0f20b51253662ec06b9fbacdc8d54-knockout.js\\\"},{\\\"name\\\":\\\"knockout_punches\\\",\\\"type\\\":\\\"js\\\",\\\"url\\\":\\\"\\/assetserver\\/a114dcb2e9be47839dc264ddb5460c14d0aab279-knockout_punches.js\\\"}],\\\"type\\\":\\\"async_block\\\"})).then((imports) => handler.apply(this, imports));\\n}\\n\"],\"observables\":{\"changes\":{\"sync\":false,\"id\":\"9451302856893056378\",\"value\":0},\"index\":{\"sync\":true,\"id\":\"18344506020946356000\",\"value\":21}}},\"children\":[{\"props\":{\"className\":\"interact-flex-row interact-widget\"},\"nodeType\":\"DOM\",\"type\":\"node\",\"instanceArgs\":{\"namespace\":\"html\",\"tag\":\"div\"},\"children\":[{\"props\":{\"className\":\"interact-flex-row-left\"},\"nodeType\":\"DOM\",\"type\":\"node\",\"instanceArgs\":{\"namespace\":\"html\",\"tag\":\"div\"},\"children\":[{\"props\":{\"className\":\"interact \",\"style\":{\"padding\":\"5px 10px 0px 10px\"}},\"nodeType\":\"DOM\",\"type\":\"node\",\"instanceArgs\":{\"namespace\":\"html\",\"tag\":\"label\"},\"children\":[\"k\"]}]},{\"props\":{\"className\":\"interact-flex-row-center\"},\"nodeType\":\"DOM\",\"type\":\"node\",\"instanceArgs\":{\"namespace\":\"html\",\"tag\":\"div\"},\"children\":[{\"props\":{\"max\":41,\"min\":1,\"attributes\":{\"type\":\"range\",\"data-bind\":\"numericValue: index, valueUpdate: 'input', event: {change: function (){this.changes(this.changes()+1)}}\",\"orient\":\"horizontal\"},\"step\":1,\"className\":\"slider slider is-fullwidth\",\"style\":{}},\"nodeType\":\"DOM\",\"type\":\"node\",\"instanceArgs\":{\"namespace\":\"html\",\"tag\":\"input\"},\"children\":[]}]},{\"props\":{\"className\":\"interact-flex-row-right\"},\"nodeType\":\"DOM\",\"type\":\"node\",\"instanceArgs\":{\"namespace\":\"html\",\"tag\":\"div\"},\"children\":[{\"props\":{\"attributes\":{\"data-bind\":\"text: formatted_val\"}},\"nodeType\":\"DOM\",\"type\":\"node\",\"instanceArgs\":{\"namespace\":\"html\",\"tag\":\"p\"},\"children\":[]}]}]}]}]},{\"props\":{\"className\":\"field interact-widget\"},\"nodeType\":\"DOM\",\"type\":\"node\",\"instanceArgs\":{\"namespace\":\"html\",\"tag\":\"div\"},\"children\":[{\"props\":{},\"nodeType\":\"Scope\",\"type\":\"node\",\"instanceArgs\":{\"imports\":{\"data\":[{\"name\":\"knockout\",\"type\":\"js\",\"url\":\"\\/assetserver\\/d265cb5815a0f20b51253662ec06b9fbacdc8d54-knockout.js\"},{\"name\":\"knockout_punches\",\"type\":\"js\",\"url\":\"\\/assetserver\\/a114dcb2e9be47839dc264ddb5460c14d0aab279-knockout_punches.js\"},{\"name\":null,\"type\":\"js\",\"url\":\"\\/assetserver\\/708042f325338e1c438390aa752d02df14f21b70-all.js\"},{\"name\":null,\"type\":\"css\",\"url\":\"\\/assetserver\\/33f349fbeaa894451059710b0544a2e1ff1ca189-style.css\"},{\"name\":null,\"type\":\"css\",\"url\":\"\\/assetserver\\/2bb2a2e587972b19dfbb45945fb2f2dbf16ab513-bulma_confined.min.css\"}],\"type\":\"async_block\"},\"id\":\"16558648278871130043\",\"handlers\":{\"changes\":[\"(function (val){return (val!=this.model[\\\"changes\\\"]()) ? (this.valueFromJulia[\\\"changes\\\"]=true, this.model[\\\"changes\\\"](val)) : undefined})\"],\"index\":[\"(function (val){return (val!=this.model[\\\"index\\\"]()) ? (this.valueFromJulia[\\\"index\\\"]=true, this.model[\\\"index\\\"](val)) : undefined})\"]},\"systemjs_options\":null,\"mount_callbacks\":[\"function () {\\n    var handler = (function (ko, koPunches) {\\n    ko.punches.enableAll();\\n    ko.bindingHandlers.numericValue = {\\n        init: function(element, valueAccessor, allBindings, data, context) {\\n            var stringified = ko.observable(ko.unwrap(valueAccessor()));\\n            stringified.subscribe(function(value) {\\n                var val = parseFloat(value);\\n                if (!isNaN(val)) {\\n                    valueAccessor()(val);\\n                }\\n            });\\n            valueAccessor().subscribe(function(value) {\\n                var str = JSON.stringify(value);\\n                if ((str == \\\"0\\\") && ([\\\"-0\\\", \\\"-0.\\\"].indexOf(stringified()) >= 0))\\n                     return;\\n                 if ([\\\"null\\\", \\\"\\\"].indexOf(str) >= 0)\\n                     return;\\n                stringified(str);\\n            });\\n            ko.applyBindingsToNode(\\n                element,\\n                {\\n                    value: stringified,\\n                    valueUpdate: allBindings.get('valueUpdate'),\\n                },\\n                context,\\n            );\\n        }\\n    };\\n    var json_data = {\\\"formatted_vals\\\":[\\\"-3.0\\\",\\\"-2.9\\\",\\\"-2.8\\\",\\\"-2.7\\\",\\\"-2.6\\\",\\\"-2.5\\\",\\\"-2.4\\\",\\\"-2.3\\\",\\\"-2.2\\\",\\\"-2.1\\\",\\\"-2.0\\\",\\\"-1.9\\\",\\\"-1.8\\\",\\\"-1.7\\\",\\\"-1.6\\\",\\\"-1.5\\\",\\\"-1.4\\\",\\\"-1.3\\\",\\\"-1.2\\\",\\\"-1.1\\\",\\\"-1.0\\\",\\\"-0.9\\\",\\\"-0.8\\\",\\\"-0.7\\\",\\\"-0.6\\\",\\\"-0.5\\\",\\\"-0.4\\\",\\\"-0.3\\\",\\\"-0.2\\\",\\\"-0.1\\\",\\\"0.0\\\",\\\"0.1\\\",\\\"0.2\\\",\\\"0.3\\\",\\\"0.4\\\",\\\"0.5\\\",\\\"0.6\\\",\\\"0.7\\\",\\\"0.8\\\",\\\"0.9\\\",\\\"1.0\\\",\\\"1.1\\\",\\\"1.2\\\",\\\"1.3\\\",\\\"1.4\\\",\\\"1.5\\\",\\\"1.6\\\",\\\"1.7\\\",\\\"1.8\\\",\\\"1.9\\\",\\\"2.0\\\",\\\"2.1\\\",\\\"2.2\\\",\\\"2.3\\\",\\\"2.4\\\",\\\"2.5\\\",\\\"2.6\\\",\\\"2.7\\\",\\\"2.8\\\",\\\"2.9\\\",\\\"3.0\\\"],\\\"changes\\\":WebIO.getval({\\\"name\\\":\\\"changes\\\",\\\"scope\\\":\\\"16558648278871130043\\\",\\\"id\\\":\\\"8753720084039205530\\\",\\\"type\\\":\\\"observable\\\"}),\\\"index\\\":WebIO.getval({\\\"name\\\":\\\"index\\\",\\\"scope\\\":\\\"16558648278871130043\\\",\\\"id\\\":\\\"14996206791834962597\\\",\\\"type\\\":\\\"observable\\\"})};\\n    var self = this;\\n    function AppViewModel() {\\n        for (var key in json_data) {\\n            var el = json_data[key];\\n            this[key] = Array.isArray(el) ? ko.observableArray(el) : ko.observable(el);\\n        }\\n        \\n        [this[\\\"formatted_val\\\"]=ko.computed(    function(){\\n        return this.formatted_vals()[parseInt(this.index())-(1)];\\n    }\\n,this)]\\n        [this[\\\"changes\\\"].subscribe((function (val){!(this.valueFromJulia[\\\"changes\\\"]) ? (WebIO.setval({\\\"name\\\":\\\"changes\\\",\\\"scope\\\":\\\"16558648278871130043\\\",\\\"id\\\":\\\"8753720084039205530\\\",\\\"type\\\":\\\"observable\\\"},val)) : undefined; return this.valueFromJulia[\\\"changes\\\"]=false}),self),this[\\\"index\\\"].subscribe((function (val){!(this.valueFromJulia[\\\"index\\\"]) ? (WebIO.setval({\\\"name\\\":\\\"index\\\",\\\"scope\\\":\\\"16558648278871130043\\\",\\\"id\\\":\\\"14996206791834962597\\\",\\\"type\\\":\\\"observable\\\"},val)) : undefined; return this.valueFromJulia[\\\"index\\\"]=false}),self)]\\n        \\n    }\\n    self.model = new AppViewModel();\\n    self.valueFromJulia = {};\\n    for (var key in json_data) {\\n        self.valueFromJulia[key] = false;\\n    }\\n    ko.applyBindings(self.model, self.dom);\\n}\\n);\\n    (WebIO.importBlock({\\\"data\\\":[{\\\"name\\\":\\\"knockout\\\",\\\"type\\\":\\\"js\\\",\\\"url\\\":\\\"\\/assetserver\\/d265cb5815a0f20b51253662ec06b9fbacdc8d54-knockout.js\\\"},{\\\"name\\\":\\\"knockout_punches\\\",\\\"type\\\":\\\"js\\\",\\\"url\\\":\\\"\\/assetserver\\/a114dcb2e9be47839dc264ddb5460c14d0aab279-knockout_punches.js\\\"}],\\\"type\\\":\\\"async_block\\\"})).then((imports) => handler.apply(this, imports));\\n}\\n\"],\"observables\":{\"changes\":{\"sync\":false,\"id\":\"8753720084039205530\",\"value\":0},\"index\":{\"sync\":true,\"id\":\"14996206791834962597\",\"value\":31}}},\"children\":[{\"props\":{\"className\":\"interact-flex-row interact-widget\"},\"nodeType\":\"DOM\",\"type\":\"node\",\"instanceArgs\":{\"namespace\":\"html\",\"tag\":\"div\"},\"children\":[{\"props\":{\"className\":\"interact-flex-row-left\"},\"nodeType\":\"DOM\",\"type\":\"node\",\"instanceArgs\":{\"namespace\":\"html\",\"tag\":\"div\"},\"children\":[{\"props\":{\"className\":\"interact \",\"style\":{\"padding\":\"5px 10px 0px 10px\"}},\"nodeType\":\"DOM\",\"type\":\"node\",\"instanceArgs\":{\"namespace\":\"html\",\"tag\":\"label\"},\"children\":[\"x0\"]}]},{\"props\":{\"className\":\"interact-flex-row-center\"},\"nodeType\":\"DOM\",\"type\":\"node\",\"instanceArgs\":{\"namespace\":\"html\",\"tag\":\"div\"},\"children\":[{\"props\":{\"max\":61,\"min\":1,\"attributes\":{\"type\":\"range\",\"data-bind\":\"numericValue: index, valueUpdate: 'input', event: {change: function (){this.changes(this.changes()+1)}}\",\"orient\":\"horizontal\"},\"step\":1,\"className\":\"slider slider is-fullwidth\",\"style\":{}},\"nodeType\":\"DOM\",\"type\":\"node\",\"instanceArgs\":{\"namespace\":\"html\",\"tag\":\"input\"},\"children\":[]}]},{\"props\":{\"className\":\"interact-flex-row-right\"},\"nodeType\":\"DOM\",\"type\":\"node\",\"instanceArgs\":{\"namespace\":\"html\",\"tag\":\"div\"},\"children\":[{\"props\":{\"attributes\":{\"data-bind\":\"text: formatted_val\"}},\"nodeType\":\"DOM\",\"type\":\"node\",\"instanceArgs\":{\"namespace\":\"html\",\"tag\":\"p\"},\"children\":[]}]}]}]}]},{\"props\":{},\"nodeType\":\"Scope\",\"type\":\"node\",\"instanceArgs\":{\"imports\":{\"data\":[],\"type\":\"async_block\"},\"id\":\"9013875157808770744\",\"handlers\":{},\"systemjs_options\":null,\"mount_callbacks\":[],\"observables\":{\"obs-node\":{\"sync\":false,\"id\":\"18261275285968111706\",\"value\":{\"props\":{\"className\":\"interact-flex-row interact-widget\"},\"nodeType\":\"DOM\",\"type\":\"node\",\"instanceArgs\":{\"namespace\":\"html\",\"tag\":\"div\"},\"children\":[{\"props\":{\"setInnerHtml\":\"<?xml version=\\\"1.0\\\" encoding=\\\"utf-8\\\"?>\\n<svg xmlns=\\\"http:\\/\\/www.w3.org\\/2000\\/svg\\\" xmlns:xlink=\\\"http:\\/\\/www.w3.org\\/1999\\/xlink\\\" width=\\\"600\\\" height=\\\"400\\\" viewBox=\\\"0 0 2400 1600\\\">\\n<defs>\\n  <clipPath id=\\\"clip1900\\\">\\n    <rect x=\\\"0\\\" y=\\\"0\\\" width=\\\"2400\\\" height=\\\"1600\\\"\\/>\\n  <\\/clipPath>\\n<\\/defs>\\n<path clip-path=\\\"url(#clip1900)\\\" d=\\\"\\nM0 1600 L2400 1600 L2400 0 L0 0  Z\\n  \\\" fill=\\\"#ffffff\\\" fill-rule=\\\"evenodd\\\" fill-opacity=\\\"1\\\"\\/>\\n<defs>\\n  <clipPath id=\\\"clip1901\\\">\\n    <rect x=\\\"480\\\" y=\\\"0\\\" width=\\\"1681\\\" height=\\\"1600\\\"\\/>\\n  <\\/clipPath>\\n<\\/defs>\\n<path clip-path=\\\"url(#clip1900)\\\" d=\\\"\\nM203.721 1425.62 L2352.76 1425.62 L2352.76 121.675 L203.721 121.675  Z\\n  \\\" fill=\\\"#ffffff\\\" fill-rule=\\\"evenodd\\\" fill-opacity=\\\"1\\\"\\/>\\n<defs>\\n  <clipPath id=\\\"clip1902\\\">\\n    <rect x=\\\"203\\\" y=\\\"121\\\" width=\\\"2150\\\" height=\\\"1305\\\"\\/>\\n  <\\/clipPath>\\n<\\/defs>\\n<polyline clip-path=\\\"url(#clip1902)\\\" style=\\\"stroke:#000000; stroke-width:2; stroke-opacity:0.1; fill:none\\\" points=\\\"\\n  203.721,1425.62 203.721,121.675 \\n  \\\"\\/>\\n<polyline clip-path=\\\"url(#clip1902)\\\" style=\\\"stroke:#000000; stroke-width:2; stroke-opacity:0.1; fill:none\\\" points=\\\"\\n  920.066,1425.62 920.066,121.675 \\n  \\\"\\/>\\n<polyline clip-path=\\\"url(#clip1902)\\\" style=\\\"stroke:#000000; stroke-width:2; stroke-opacity:0.1; fill:none\\\" points=\\\"\\n  1636.41,1425.62 1636.41,121.675 \\n  \\\"\\/>\\n<polyline clip-path=\\\"url(#clip1902)\\\" style=\\\"stroke:#000000; stroke-width:2; stroke-opacity:0.1; fill:none\\\" points=\\\"\\n  2352.76,1425.62 2352.76,121.675 \\n  \\\"\\/>\\n<polyline clip-path=\\\"url(#clip1902)\\\" style=\\\"stroke:#000000; stroke-width:2; stroke-opacity:0.1; fill:none\\\" points=\\\"\\n  203.721,1425.62 2352.76,1425.62 \\n  \\\"\\/>\\n<polyline clip-path=\\\"url(#clip1902)\\\" style=\\\"stroke:#000000; stroke-width:2; stroke-opacity:0.1; fill:none\\\" points=\\\"\\n  203.721,1135.85 2352.76,1135.85 \\n  \\\"\\/>\\n<polyline clip-path=\\\"url(#clip1902)\\\" style=\\\"stroke:#000000; stroke-width:2; stroke-opacity:0.1; fill:none\\\" points=\\\"\\n  203.721,846.088 2352.76,846.088 \\n  \\\"\\/>\\n<polyline clip-path=\\\"url(#clip1902)\\\" style=\\\"stroke:#000000; stroke-width:2; stroke-opacity:0.1; fill:none\\\" points=\\\"\\n  203.721,556.323 2352.76,556.323 \\n  \\\"\\/>\\n<polyline clip-path=\\\"url(#clip1902)\\\" style=\\\"stroke:#000000; stroke-width:2; stroke-opacity:0.1; fill:none\\\" points=\\\"\\n  203.721,266.558 2352.76,266.558 \\n  \\\"\\/>\\n<polyline clip-path=\\\"url(#clip1900)\\\" style=\\\"stroke:#000000; stroke-width:4; stroke-opacity:1; fill:none\\\" points=\\\"\\n  203.721,1425.62 2352.76,1425.62 \\n  \\\"\\/>\\n<polyline clip-path=\\\"url(#clip1900)\\\" style=\\\"stroke:#000000; stroke-width:4; stroke-opacity:1; fill:none\\\" points=\\\"\\n  203.721,1425.62 203.721,121.675 \\n  \\\"\\/>\\n<polyline clip-path=\\\"url(#clip1900)\\\" style=\\\"stroke:#000000; stroke-width:4; stroke-opacity:1; fill:none\\\" points=\\\"\\n  203.721,1425.62 203.721,1409.97 \\n  \\\"\\/>\\n<polyline clip-path=\\\"url(#clip1900)\\\" style=\\\"stroke:#000000; stroke-width:4; stroke-opacity:1; fill:none\\\" points=\\\"\\n  920.066,1425.62 920.066,1409.97 \\n  \\\"\\/>\\n<polyline clip-path=\\\"url(#clip1900)\\\" style=\\\"stroke:#000000; stroke-width:4; stroke-opacity:1; fill:none\\\" points=\\\"\\n  1636.41,1425.62 1636.41,1409.97 \\n  \\\"\\/>\\n<polyline clip-path=\\\"url(#clip1900)\\\" style=\\\"stroke:#000000; stroke-width:4; stroke-opacity:1; fill:none\\\" points=\\\"\\n  2352.76,1425.62 2352.76,1409.97 \\n  \\\"\\/>\\n<polyline clip-path=\\\"url(#clip1900)\\\" style=\\\"stroke:#000000; stroke-width:4; stroke-opacity:1; fill:none\\\" points=\\\"\\n  203.721,1425.62 229.509,1425.62 \\n  \\\"\\/>\\n<polyline clip-path=\\\"url(#clip1900)\\\" style=\\\"stroke:#000000; stroke-width:4; stroke-opacity:1; fill:none\\\" points=\\\"\\n  203.721,1135.85 229.509,1135.85 \\n  \\\"\\/>\\n<polyline clip-path=\\\"url(#clip1900)\\\" style=\\\"stroke:#000000; stroke-width:4; stroke-opacity:1; fill:none\\\" points=\\\"\\n  203.721,846.088 229.509,846.088 \\n  \\\"\\/>\\n<polyline clip-path=\\\"url(#clip1900)\\\" style=\\\"stroke:#000000; stroke-width:4; stroke-opacity:1; fill:none\\\" points=\\\"\\n  203.721,556.323 229.509,556.323 \\n  \\\"\\/>\\n<polyline clip-path=\\\"url(#clip1900)\\\" style=\\\"stroke:#000000; stroke-width:4; stroke-opacity:1; fill:none\\\" points=\\\"\\n  203.721,266.558 229.509,266.558 \\n  \\\"\\/>\\n<g clip-path=\\\"url(#clip1900)\\\">\\n<text style=\\\"fill:#000000; fill-opacity:1; font-family:Arial,Helvetica Neue,Helvetica,sans-serif; font-size:48px; text-anchor:middle;\\\" transform=\\\"rotate(0, 203.721, 1479.62)\\\" x=\\\"203.721\\\" y=\\\"1479.62\\\">0<\\/text>\\n<\\/g>\\n<g clip-path=\\\"url(#clip1900)\\\">\\n<text style=\\\"fill:#000000; fill-opacity:1; font-family:Arial,Helvetica Neue,Helvetica,sans-serif; font-size:48px; text-anchor:middle;\\\" transform=\\\"rotate(0, 920.066, 1479.62)\\\" x=\\\"920.066\\\" y=\\\"1479.62\\\">1<\\/text>\\n<\\/g>\\n<g clip-path=\\\"url(#clip1900)\\\">\\n<text style=\\\"fill:#000000; fill-opacity:1; font-family:Arial,Helvetica Neue,Helvetica,sans-serif; font-size:48px; text-anchor:middle;\\\" transform=\\\"rotate(0, 1636.41, 1479.62)\\\" x=\\\"1636.41\\\" y=\\\"1479.62\\\">2<\\/text>\\n<\\/g>\\n<g clip-path=\\\"url(#clip1900)\\\">\\n<text style=\\\"fill:#000000; fill-opacity:1; font-family:Arial,Helvetica Neue,Helvetica,sans-serif; font-size:48px; text-anchor:middle;\\\" transform=\\\"rotate(0, 2352.76, 1479.62)\\\" x=\\\"2352.76\\\" y=\\\"1479.62\\\">3<\\/text>\\n<\\/g>\\n<g clip-path=\\\"url(#clip1900)\\\">\\n<text style=\\\"fill:#000000; fill-opacity:1; font-family:Arial,Helvetica Neue,Helvetica,sans-serif; font-size:48px; text-anchor:end;\\\" transform=\\\"rotate(0, 179.721, 1443.12)\\\" x=\\\"179.721\\\" y=\\\"1443.12\\\">-4<\\/text>\\n<\\/g>\\n<g clip-path=\\\"url(#clip1900)\\\">\\n<text style=\\\"fill:#000000; fill-opacity:1; font-family:Arial,Helvetica Neue,Helvetica,sans-serif; font-size:48px; text-anchor:end;\\\" transform=\\\"rotate(0, 179.721, 1153.35)\\\" x=\\\"179.721\\\" y=\\\"1153.35\\\">-2<\\/text>\\n<\\/g>\\n<g clip-path=\\\"url(#clip1900)\\\">\\n<text style=\\\"fill:#000000; fill-opacity:1; font-family:Arial,Helvetica Neue,Helvetica,sans-serif; font-size:48px; text-anchor:end;\\\" transform=\\\"rotate(0, 179.721, 863.588)\\\" x=\\\"179.721\\\" y=\\\"863.588\\\">0<\\/text>\\n<\\/g>\\n<g clip-path=\\\"url(#clip1900)\\\">\\n<text style=\\\"fill:#000000; fill-opacity:1; font-family:Arial,Helvetica Neue,Helvetica,sans-serif; font-size:48px; text-anchor:end;\\\" transform=\\\"rotate(0, 179.721, 573.823)\\\" x=\\\"179.721\\\" y=\\\"573.823\\\">2<\\/text>\\n<\\/g>\\n<g clip-path=\\\"url(#clip1900)\\\">\\n<text style=\\\"fill:#000000; fill-opacity:1; font-family:Arial,Helvetica Neue,Helvetica,sans-serif; font-size:48px; text-anchor:end;\\\" transform=\\\"rotate(0, 179.721, 284.058)\\\" x=\\\"179.721\\\" y=\\\"284.058\\\">4<\\/text>\\n<\\/g>\\n<g clip-path=\\\"url(#clip1900)\\\">\\n<text style=\\\"fill:#000000; fill-opacity:1; font-family:Arial,Helvetica Neue,Helvetica,sans-serif; font-size:84px; text-anchor:middle;\\\" transform=\\\"rotate(0, 1278.24, 73.2)\\\" x=\\\"1278.24\\\" y=\\\"73.2\\\">Solution to the linear ODE with a thick line<\\/text>\\n<\\/g>\\n<g clip-path=\\\"url(#clip1900)\\\">\\n<text style=\\\"fill:#000000; fill-opacity:1; font-family:Arial,Helvetica Neue,Helvetica,sans-serif; font-size:66px; text-anchor:middle;\\\" transform=\\\"rotate(0, 1278.24, 1559.48)\\\" x=\\\"1278.24\\\" y=\\\"1559.48\\\">Time (t)<\\/text>\\n<\\/g>\\n<g clip-path=\\\"url(#clip1900)\\\">\\n<text style=\\\"fill:#000000; fill-opacity:1; font-family:Arial,Helvetica Neue,Helvetica,sans-serif; font-size:66px; text-anchor:middle;\\\" transform=\\\"rotate(-90, 89.2861, 773.647)\\\" x=\\\"89.2861\\\" y=\\\"773.647\\\">u(t)<\\/text>\\n<\\/g>\\n<polyline clip-path=\\\"url(#clip1902)\\\" style=\\\"stroke:#009af9; stroke-width:20; stroke-opacity:1; fill:none\\\" points=\\\"\\n  203.721,846.088 205.872,846.088 208.023,846.088 210.174,846.088 212.325,846.088 214.477,846.088 216.628,846.088 218.779,846.088 220.93,846.088 223.081,846.088 \\n  225.233,846.088 227.384,846.088 229.535,846.088 231.686,846.088 233.837,846.088 235.988,846.088 238.14,846.088 240.291,846.088 242.442,846.088 244.593,846.088 \\n  246.744,846.088 248.896,846.088 251.047,846.088 253.198,846.088 255.349,846.088 257.5,846.088 259.652,846.088 261.803,846.088 263.954,846.088 266.105,846.088 \\n  268.256,846.088 270.407,846.088 272.559,846.088 274.71,846.088 276.861,846.088 279.012,846.088 281.163,846.088 283.315,846.088 285.466,846.088 287.617,846.088 \\n  289.768,846.088 291.919,846.088 294.07,846.088 296.222,846.088 298.373,846.088 300.524,846.088 302.675,846.088 304.826,846.088 306.978,846.088 309.129,846.088 \\n  311.28,846.088 313.431,846.088 315.582,846.088 317.734,846.088 319.885,846.088 322.036,846.088 324.187,846.088 326.338,846.088 328.489,846.088 330.641,846.088 \\n  332.792,846.088 334.943,846.088 337.094,846.088 339.245,846.088 341.397,846.088 343.548,846.088 345.699,846.088 347.85,846.088 350.001,846.088 352.153,846.088 \\n  354.304,846.088 356.455,846.088 358.606,846.088 360.757,846.088 362.908,846.088 365.06,846.088 367.211,846.088 369.362,846.088 371.513,846.088 373.664,846.088 \\n  375.816,846.088 377.967,846.088 380.118,846.088 382.269,846.088 384.42,846.088 386.572,846.088 388.723,846.088 390.874,846.088 393.025,846.088 395.176,846.088 \\n  397.327,846.088 399.479,846.088 401.63,846.088 403.781,846.088 405.932,846.088 408.083,846.088 410.235,846.088 412.386,846.088 414.537,846.088 416.688,846.088 \\n  418.839,846.088 420.99,846.088 423.142,846.088 425.293,846.088 427.444,846.088 429.595,846.088 431.746,846.088 433.898,846.088 436.049,846.088 438.2,846.088 \\n  440.351,846.088 442.502,846.088 444.654,846.088 446.805,846.088 448.956,846.088 451.107,846.088 453.258,846.088 455.409,846.088 457.561,846.088 459.712,846.088 \\n  461.863,846.088 464.014,846.088 466.165,846.088 468.317,846.088 470.468,846.088 472.619,846.088 474.77,846.088 476.921,846.088 479.073,846.088 481.224,846.088 \\n  483.375,846.088 485.526,846.088 487.677,846.088 489.828,846.088 491.98,846.088 494.131,846.088 496.282,846.088 498.433,846.088 500.584,846.088 502.736,846.088 \\n  504.887,846.088 507.038,846.088 509.189,846.088 511.34,846.088 513.492,846.088 515.643,846.088 517.794,846.088 519.945,846.088 522.096,846.088 524.247,846.088 \\n  526.399,846.088 528.55,846.088 530.701,846.088 532.852,846.088 535.003,846.088 537.155,846.088 539.306,846.088 541.457,846.088 543.608,846.088 545.759,846.088 \\n  547.91,846.088 550.062,846.088 552.213,846.088 554.364,846.088 556.515,846.088 558.666,846.088 560.818,846.088 562.969,846.088 565.12,846.088 567.271,846.088 \\n  569.422,846.088 571.574,846.088 573.725,846.088 575.876,846.088 578.027,846.088 580.178,846.088 582.329,846.088 584.481,846.088 586.632,846.088 588.783,846.088 \\n  590.934,846.088 593.085,846.088 595.237,846.088 597.388,846.088 599.539,846.088 601.69,846.088 603.841,846.088 605.993,846.088 608.144,846.088 610.295,846.088 \\n  612.446,846.088 614.597,846.088 616.748,846.088 618.9,846.088 621.051,846.088 623.202,846.088 625.353,846.088 627.504,846.088 629.656,846.088 631.807,846.088 \\n  633.958,846.088 636.109,846.088 638.26,846.088 640.412,846.088 642.563,846.088 644.714,846.088 646.865,846.088 649.016,846.088 651.167,846.088 653.319,846.088 \\n  655.47,846.088 657.621,846.088 659.772,846.088 661.923,846.088 664.075,846.088 666.226,846.088 668.377,846.088 670.528,846.088 672.679,846.088 674.83,846.088 \\n  676.982,846.088 679.133,846.088 681.284,846.088 683.435,846.088 685.586,846.088 687.738,846.088 689.889,846.088 692.04,846.088 694.191,846.088 696.342,846.088 \\n  698.494,846.088 700.645,846.088 702.796,846.088 704.947,846.088 707.098,846.088 709.249,846.088 711.401,846.088 713.552,846.088 715.703,846.088 717.854,846.088 \\n  720.005,846.088 722.157,846.088 724.308,846.088 726.459,846.088 728.61,846.088 730.761,846.088 732.913,846.088 735.064,846.088 737.215,846.088 739.366,846.088 \\n  741.517,846.088 743.668,846.088 745.82,846.088 747.971,846.088 750.122,846.088 752.273,846.088 754.424,846.088 756.576,846.088 758.727,846.088 760.878,846.088 \\n  763.029,846.088 765.18,846.088 767.332,846.088 769.483,846.088 771.634,846.088 773.785,846.088 775.936,846.088 778.087,846.088 780.239,846.088 782.39,846.088 \\n  784.541,846.088 786.692,846.088 788.843,846.088 790.995,846.088 793.146,846.088 795.297,846.088 797.448,846.088 799.599,846.088 801.75,846.088 803.902,846.088 \\n  806.053,846.088 808.204,846.088 810.355,846.088 812.506,846.088 814.658,846.088 816.809,846.088 818.96,846.088 821.111,846.088 823.262,846.088 825.414,846.088 \\n  827.565,846.088 829.716,846.088 831.867,846.088 834.018,846.088 836.169,846.088 838.321,846.088 840.472,846.088 842.623,846.088 844.774,846.088 846.925,846.088 \\n  849.077,846.088 851.228,846.088 853.379,846.088 855.53,846.088 857.681,846.088 859.833,846.088 861.984,846.088 864.135,846.088 866.286,846.088 868.437,846.088 \\n  870.588,846.088 872.74,846.088 874.891,846.088 877.042,846.088 879.193,846.088 881.344,846.088 883.496,846.088 885.647,846.088 887.798,846.088 889.949,846.088 \\n  892.1,846.088 894.252,846.088 896.403,846.088 898.554,846.088 900.705,846.088 902.856,846.088 905.007,846.088 907.159,846.088 909.31,846.088 911.461,846.088 \\n  913.612,846.088 915.763,846.088 917.915,846.088 920.066,846.088 922.217,846.088 924.368,846.088 926.519,846.088 928.67,846.088 930.822,846.088 932.973,846.088 \\n  935.124,846.088 937.275,846.088 939.426,846.088 941.578,846.088 943.729,846.088 945.88,846.088 948.031,846.088 950.182,846.088 952.334,846.088 954.485,846.088 \\n  956.636,846.088 958.787,846.088 960.938,846.088 963.089,846.088 965.241,846.088 967.392,846.088 969.543,846.088 971.694,846.088 973.845,846.088 975.997,846.088 \\n  978.148,846.088 980.299,846.088 982.45,846.088 984.601,846.088 986.753,846.088 988.904,846.088 991.055,846.088 993.206,846.088 995.357,846.088 997.508,846.088 \\n  999.66,846.088 1001.81,846.088 1003.96,846.088 1006.11,846.088 1008.26,846.088 1010.42,846.088 1012.57,846.088 1014.72,846.088 1016.87,846.088 1019.02,846.088 \\n  1021.17,846.088 1023.32,846.088 1025.47,846.088 1027.63,846.088 1029.78,846.088 1031.93,846.088 1034.08,846.088 1036.23,846.088 1038.38,846.088 1040.53,846.088 \\n  1042.68,846.088 1044.83,846.088 1046.99,846.088 1049.14,846.088 1051.29,846.088 1053.44,846.088 1055.59,846.088 1057.74,846.088 1059.89,846.088 1062.04,846.088 \\n  1064.2,846.088 1066.35,846.088 1068.5,846.088 1070.65,846.088 1072.8,846.088 1074.95,846.088 1077.1,846.088 1079.25,846.088 1081.4,846.088 1083.56,846.088 \\n  1085.71,846.088 1087.86,846.088 1090.01,846.088 1092.16,846.088 1094.31,846.088 1096.46,846.088 1098.61,846.088 1100.77,846.088 1102.92,846.088 1105.07,846.088 \\n  1107.22,846.088 1109.37,846.088 1111.52,846.088 1113.67,846.088 1115.82,846.088 1117.97,846.088 1120.13,846.088 1122.28,846.088 1124.43,846.088 1126.58,846.088 \\n  1128.73,846.088 1130.88,846.088 1133.03,846.088 1135.18,846.088 1137.34,846.088 1139.49,846.088 1141.64,846.088 1143.79,846.088 1145.94,846.088 1148.09,846.088 \\n  1150.24,846.088 1152.39,846.088 1154.55,846.088 1156.7,846.088 1158.85,846.088 1161,846.088 1163.15,846.088 1165.3,846.088 1167.45,846.088 1169.6,846.088 \\n  1171.75,846.088 1173.91,846.088 1176.06,846.088 1178.21,846.088 1180.36,846.088 1182.51,846.088 1184.66,846.088 1186.81,846.088 1188.96,846.088 1191.12,846.088 \\n  1193.27,846.088 1195.42,846.088 1197.57,846.088 1199.72,846.088 1201.87,846.088 1204.02,846.088 1206.17,846.088 1208.32,846.088 1210.48,846.088 1212.63,846.088 \\n  1214.78,846.088 1216.93,846.088 1219.08,846.088 1221.23,846.088 1223.38,846.088 1225.53,846.088 1227.69,846.088 1229.84,846.088 1231.99,846.088 1234.14,846.088 \\n  1236.29,846.088 1238.44,846.088 1240.59,846.088 1242.74,846.088 1244.89,846.088 1247.05,846.088 1249.2,846.088 1251.35,846.088 1253.5,846.088 1255.65,846.088 \\n  1257.8,846.088 1259.95,846.088 1262.1,846.088 1264.26,846.088 1266.41,846.088 1268.56,846.088 1270.71,846.088 1272.86,846.088 1275.01,846.088 1277.16,846.088 \\n  1279.31,846.088 1281.47,846.088 1283.62,846.088 1285.77,846.088 1287.92,846.088 1290.07,846.088 1292.22,846.088 1294.37,846.088 1296.52,846.088 1298.67,846.088 \\n  1300.83,846.088 1302.98,846.088 1305.13,846.088 1307.28,846.088 1309.43,846.088 1311.58,846.088 1313.73,846.088 1315.88,846.088 1318.04,846.088 1320.19,846.088 \\n  1322.34,846.088 1324.49,846.088 1326.64,846.088 1328.79,846.088 1330.94,846.088 1333.09,846.088 1335.24,846.088 1337.4,846.088 1339.55,846.088 1341.7,846.088 \\n  1343.85,846.088 1346,846.088 1348.15,846.088 1350.3,846.088 1352.45,846.088 1354.61,846.088 1356.76,846.088 1358.91,846.088 1361.06,846.088 1363.21,846.088 \\n  1365.36,846.088 1367.51,846.088 1369.66,846.088 1371.81,846.088 1373.97,846.088 1376.12,846.088 1378.27,846.088 1380.42,846.088 1382.57,846.088 1384.72,846.088 \\n  1386.87,846.088 1389.02,846.088 1391.18,846.088 1393.33,846.088 1395.48,846.088 1397.63,846.088 1399.78,846.088 1401.93,846.088 1404.08,846.088 1406.23,846.088 \\n  1408.39,846.088 1410.54,846.088 1412.69,846.088 1414.84,846.088 1416.99,846.088 1419.14,846.088 1421.29,846.088 1423.44,846.088 1425.59,846.088 1427.75,846.088 \\n  1429.9,846.088 1432.05,846.088 1434.2,846.088 1436.35,846.088 1438.5,846.088 1440.65,846.088 1442.8,846.088 1444.96,846.088 1447.11,846.088 1449.26,846.088 \\n  1451.41,846.088 1453.56,846.088 1455.71,846.088 1457.86,846.088 1460.01,846.088 1462.16,846.088 1464.32,846.088 1466.47,846.088 1468.62,846.088 1470.77,846.088 \\n  1472.92,846.088 1475.07,846.088 1477.22,846.088 1479.37,846.088 1481.53,846.088 1483.68,846.088 1485.83,846.088 1487.98,846.088 1490.13,846.088 1492.28,846.088 \\n  1494.43,846.088 1496.58,846.088 1498.73,846.088 1500.89,846.088 1503.04,846.088 1505.19,846.088 1507.34,846.088 1509.49,846.088 1511.64,846.088 1513.79,846.088 \\n  1515.94,846.088 1518.1,846.088 1520.25,846.088 1522.4,846.088 1524.55,846.088 1526.7,846.088 1528.85,846.088 1531,846.088 1533.15,846.088 1535.31,846.088 \\n  1537.46,846.088 1539.61,846.088 1541.76,846.088 1543.91,846.088 1546.06,846.088 1548.21,846.088 1550.36,846.088 1552.51,846.088 1554.67,846.088 1556.82,846.088 \\n  1558.97,846.088 1561.12,846.088 1563.27,846.088 1565.42,846.088 1567.57,846.088 1569.72,846.088 1571.88,846.088 1574.03,846.088 1576.18,846.088 1578.33,846.088 \\n  1580.48,846.088 1582.63,846.088 1584.78,846.088 1586.93,846.088 1589.08,846.088 1591.24,846.088 1593.39,846.088 1595.54,846.088 1597.69,846.088 1599.84,846.088 \\n  1601.99,846.088 1604.14,846.088 1606.29,846.088 1608.45,846.088 1610.6,846.088 1612.75,846.088 1614.9,846.088 1617.05,846.088 1619.2,846.088 1621.35,846.088 \\n  1623.5,846.088 1625.65,846.088 1627.81,846.088 1629.96,846.088 1632.11,846.088 1634.26,846.088 1636.41,846.088 1638.56,846.088 1640.71,846.088 1642.86,846.088 \\n  1645.02,846.088 1647.17,846.088 1649.32,846.088 1651.47,846.088 1653.62,846.088 1655.77,846.088 1657.92,846.088 1660.07,846.088 1662.23,846.088 1664.38,846.088 \\n  1666.53,846.088 1668.68,846.088 1670.83,846.088 1672.98,846.088 1675.13,846.088 1677.28,846.088 1679.43,846.088 1681.59,846.088 1683.74,846.088 1685.89,846.088 \\n  1688.04,846.088 1690.19,846.088 1692.34,846.088 1694.49,846.088 1696.64,846.088 1698.8,846.088 1700.95,846.088 1703.1,846.088 1705.25,846.088 1707.4,846.088 \\n  1709.55,846.088 1711.7,846.088 1713.85,846.088 1716,846.088 1718.16,846.088 1720.31,846.088 1722.46,846.088 1724.61,846.088 1726.76,846.088 1728.91,846.088 \\n  1731.06,846.088 1733.21,846.088 1735.37,846.088 1737.52,846.088 1739.67,846.088 1741.82,846.088 1743.97,846.088 1746.12,846.088 1748.27,846.088 1750.42,846.088 \\n  1752.57,846.088 1754.73,846.088 1756.88,846.088 1759.03,846.088 1761.18,846.088 1763.33,846.088 1765.48,846.088 1767.63,846.088 1769.78,846.088 1771.94,846.088 \\n  1774.09,846.088 1776.24,846.088 1778.39,846.088 1780.54,846.088 1782.69,846.088 1784.84,846.088 1786.99,846.088 1789.15,846.088 1791.3,846.088 1793.45,846.088 \\n  1795.6,846.088 1797.75,846.088 1799.9,846.088 1802.05,846.088 1804.2,846.088 1806.35,846.088 1808.51,846.088 1810.66,846.088 1812.81,846.088 1814.96,846.088 \\n  1817.11,846.088 1819.26,846.088 1821.41,846.088 1823.56,846.088 1825.72,846.088 1827.87,846.088 1830.02,846.088 1832.17,846.088 1834.32,846.088 1836.47,846.088 \\n  1838.62,846.088 1840.77,846.088 1842.92,846.088 1845.08,846.088 1847.23,846.088 1849.38,846.088 1851.53,846.088 1853.68,846.088 1855.83,846.088 1857.98,846.088 \\n  1860.13,846.088 1862.29,846.088 1864.44,846.088 1866.59,846.088 1868.74,846.088 1870.89,846.088 1873.04,846.088 1875.19,846.088 1877.34,846.088 1879.49,846.088 \\n  1881.65,846.088 1883.8,846.088 1885.95,846.088 1888.1,846.088 1890.25,846.088 1892.4,846.088 1894.55,846.088 1896.7,846.088 1898.86,846.088 1901.01,846.088 \\n  1903.16,846.088 1905.31,846.088 1907.46,846.088 1909.61,846.088 1911.76,846.088 1913.91,846.088 1916.07,846.088 1918.22,846.088 1920.37,846.088 1922.52,846.088 \\n  1924.67,846.088 1926.82,846.088 1928.97,846.088 1931.12,846.088 1933.27,846.088 1935.43,846.088 1937.58,846.088 1939.73,846.088 1941.88,846.088 1944.03,846.088 \\n  1946.18,846.088 1948.33,846.088 1950.48,846.088 1952.64,846.088 1954.79,846.088 1956.94,846.088 1959.09,846.088 1961.24,846.088 1963.39,846.088 1965.54,846.088 \\n  1967.69,846.088 1969.84,846.088 1972,846.088 1974.15,846.088 1976.3,846.088 1978.45,846.088 1980.6,846.088 1982.75,846.088 1984.9,846.088 1987.05,846.088 \\n  1989.21,846.088 1991.36,846.088 1993.51,846.088 1995.66,846.088 1997.81,846.088 1999.96,846.088 2002.11,846.088 2004.26,846.088 2006.41,846.088 2008.57,846.088 \\n  2010.72,846.088 2012.87,846.088 2015.02,846.088 2017.17,846.088 2019.32,846.088 2021.47,846.088 2023.62,846.088 2025.78,846.088 2027.93,846.088 2030.08,846.088 \\n  2032.23,846.088 2034.38,846.088 2036.53,846.088 2038.68,846.088 2040.83,846.088 2042.99,846.088 2045.14,846.088 2047.29,846.088 2049.44,846.088 2051.59,846.088 \\n  2053.74,846.088 2055.89,846.088 2058.04,846.088 2060.19,846.088 2062.35,846.088 2064.5,846.088 2066.65,846.088 2068.8,846.088 2070.95,846.088 2073.1,846.088 \\n  2075.25,846.088 2077.4,846.088 2079.56,846.088 2081.71,846.088 2083.86,846.088 2086.01,846.088 2088.16,846.088 2090.31,846.088 2092.46,846.088 2094.61,846.088 \\n  2096.76,846.088 2098.92,846.088 2101.07,846.088 2103.22,846.088 2105.37,846.088 2107.52,846.088 2109.67,846.088 2111.82,846.088 2113.97,846.088 2116.13,846.088 \\n  2118.28,846.088 2120.43,846.088 2122.58,846.088 2124.73,846.088 2126.88,846.088 2129.03,846.088 2131.18,846.088 2133.33,846.088 2135.49,846.088 2137.64,846.088 \\n  2139.79,846.088 2141.94,846.088 2144.09,846.088 2146.24,846.088 2148.39,846.088 2150.54,846.088 2152.7,846.088 2154.85,846.088 2157,846.088 2159.15,846.088 \\n  2161.3,846.088 2163.45,846.088 2165.6,846.088 2167.75,846.088 2169.91,846.088 2172.06,846.088 2174.21,846.088 2176.36,846.088 2178.51,846.088 2180.66,846.088 \\n  2182.81,846.088 2184.96,846.088 2187.11,846.088 2189.27,846.088 2191.42,846.088 2193.57,846.088 2195.72,846.088 2197.87,846.088 2200.02,846.088 2202.17,846.088 \\n  2204.32,846.088 2206.48,846.088 2208.63,846.088 2210.78,846.088 2212.93,846.088 2215.08,846.088 2217.23,846.088 2219.38,846.088 2221.53,846.088 2223.68,846.088 \\n  2225.84,846.088 2227.99,846.088 2230.14,846.088 2232.29,846.088 2234.44,846.088 2236.59,846.088 2238.74,846.088 2240.89,846.088 2243.05,846.088 2245.2,846.088 \\n  2247.35,846.088 2249.5,846.088 2251.65,846.088 2253.8,846.088 2255.95,846.088 2258.1,846.088 2260.25,846.088 2262.41,846.088 2264.56,846.088 2266.71,846.088 \\n  2268.86,846.088 2271.01,846.088 2273.16,846.088 2275.31,846.088 2277.46,846.088 2279.62,846.088 2281.77,846.088 2283.92,846.088 2286.07,846.088 2288.22,846.088 \\n  2290.37,846.088 2292.52,846.088 2294.67,846.088 2296.83,846.088 2298.98,846.088 2301.13,846.088 2303.28,846.088 2305.43,846.088 2307.58,846.088 2309.73,846.088 \\n  2311.88,846.088 2314.03,846.088 2316.19,846.088 2318.34,846.088 2320.49,846.088 2322.64,846.088 2324.79,846.088 2326.94,846.088 2329.09,846.088 2331.24,846.088 \\n  2333.4,846.088 2335.55,846.088 2337.7,846.088 2339.85,846.088 2342,846.088 2344.15,846.088 2346.3,846.088 2348.45,846.088 2350.6,846.088 2352.76,846.088 \\n  \\n  \\\"\\/>\\n<polyline clip-path=\\\"url(#clip1902)\\\" style=\\\"stroke:#e26f46; stroke-width:12; stroke-opacity:1; fill:none\\\" stroke-dasharray=\\\"48, 30\\\" points=\\\"\\n  203.721,846.088 203.792,846.088 204.509,846.088 211.672,846.088 283.307,846.088 999.652,846.088 2352.76,846.088 \\n  \\\"\\/>\\n<path clip-path=\\\"url(#clip1900)\\\" d=\\\"\\nM1743.87 386.635 L2280.76 386.635 L2280.76 205.195 L1743.87 205.195  Z\\n  \\\" fill=\\\"#ffffff\\\" fill-rule=\\\"evenodd\\\" fill-opacity=\\\"1\\\"\\/>\\n<polyline clip-path=\\\"url(#clip1900)\\\" style=\\\"stroke:#000000; stroke-width:4; stroke-opacity:1; fill:none\\\" points=\\\"\\n  1743.87,386.635 2280.76,386.635 2280.76,205.195 1743.87,205.195 1743.87,386.635 \\n  \\\"\\/>\\n<polyline clip-path=\\\"url(#clip1900)\\\" style=\\\"stroke:#009af9; stroke-width:20; stroke-opacity:1; fill:none\\\" points=\\\"\\n  1767.87,265.675 1911.87,265.675 \\n  \\\"\\/>\\n<g clip-path=\\\"url(#clip1900)\\\">\\n<text style=\\\"fill:#000000; fill-opacity:1; font-family:Arial,Helvetica Neue,Helvetica,sans-serif; font-size:48px; text-anchor:start;\\\" transform=\\\"rotate(0, 1935.87, 283.175)\\\" x=\\\"1935.87\\\" y=\\\"283.175\\\">My Thick Line<\\/text>\\n<\\/g>\\n<polyline clip-path=\\\"url(#clip1900)\\\" style=\\\"stroke:#e26f46; stroke-width:12; stroke-opacity:1; fill:none\\\" stroke-dasharray=\\\"48, 30\\\" points=\\\"\\n  1767.87,326.155 1911.87,326.155 \\n  \\\"\\/>\\n<g clip-path=\\\"url(#clip1900)\\\">\\n<text style=\\\"fill:#000000; fill-opacity:1; font-family:Arial,Helvetica Neue,Helvetica,sans-serif; font-size:48px; text-anchor:start;\\\" transform=\\\"rotate(0, 1935.87, 343.655)\\\" x=\\\"1935.87\\\" y=\\\"343.655\\\">True solution<\\/text>\\n<\\/g>\\n<\\/svg>\\n\"},\"nodeType\":\"DOM\",\"type\":\"node\",\"instanceArgs\":{\"namespace\":\"html\",\"tag\":\"div\"},\"children\":[]}]}}}},\"children\":[{\"props\":{},\"nodeType\":\"ObservableNode\",\"type\":\"node\",\"instanceArgs\":{\"id\":\"18261275285968111706\",\"name\":\"obs-node\"},\"children\":[]}]}]},\n",
       "            window,\n",
       "        );\n",
       "    } else {\n",
       "        document\n",
       "            .querySelector('[data-webio-mountpoint=\"8398520781222546891\"]')\n",
       "            .innerHTML = (\n",
       "                '<strong>WebIO not detected. Please read ' +\n",
       "                '<a href=\"https://juliagizmos.github.io/WebIO.jl/latest/troubleshooting/not-detected/\">the troubleshooting guide</a> ' +\n",
       "                'for more information on how to resolve this issue.' +\n",
       "                '</strong>'\n",
       "            );\n",
       "    }\n",
       "    </script>\n",
       "</div>\n"
      ],
      "text/plain": [
       "Node{WebIO.DOM}(WebIO.DOM(:html, :div), Any[Node{WebIO.DOM}(WebIO.DOM(:html, :div), Any[Scope(Node{WebIO.DOM}(WebIO.DOM(:html, :div), Any[Node{WebIO.DOM}(WebIO.DOM(:html, :div), Any[Node{WebIO.DOM}(WebIO.DOM(:html, :label), Any[\"k\"], Dict{Symbol,Any}(:className => \"interact \",:style => Dict{Any,Any}(:padding => \"5px 10px 0px 10px\")))], Dict{Symbol,Any}(:className => \"interact-flex-row-left\")), Node{WebIO.DOM}(WebIO.DOM(:html, :div), Any[Node{WebIO.DOM}(WebIO.DOM(:html, :input), Any[], Dict{Symbol,Any}(:max => 41,:min => 1,:attributes => Dict{Any,Any}(:type => \"range\",Symbol(\"data-bind\") => \"numericValue: index, valueUpdate: 'input', event: {change: function (){this.changes(this.changes()+1)}}\",\"orient\" => \"horizontal\"),:step => 1,:className => \"slider slider is-fullwidth\",:style => Dict{Any,Any}()))], Dict{Symbol,Any}(:className => \"interact-flex-row-center\")), Node{WebIO.DOM}(WebIO.DOM(:html, :div), Any[Node{WebIO.DOM}(WebIO.DOM(:html, :p), Any[], Dict{Symbol,Any}(:attributes => Dict(\"data-bind\" => \"text: formatted_val\")))], Dict{Symbol,Any}(:className => \"interact-flex-row-right\"))], Dict{Symbol,Any}(:className => \"interact-flex-row interact-widget\")), Dict{String,Tuple{Observables.AbstractObservable,Union{Nothing, Bool}}}(\"changes\" => (Observable{Int64} with 1 listeners. Value:\n",
       "0, nothing),\"index\" => (Observable{Any} with 2 listeners. Value:\n",
       "21, nothing)), Set(String[]), nothing, Asset[Asset(\"js\", \"knockout\", \"/Users/lydiayu/.julia/packages/Knockout/IP1uR/src/../assets/knockout.js\"), Asset(\"js\", \"knockout_punches\", \"/Users/lydiayu/.julia/packages/Knockout/IP1uR/src/../assets/knockout_punches.js\"), Asset(\"js\", nothing, \"/Users/lydiayu/.julia/packages/InteractBase/NMcus/src/../assets/all.js\"), Asset(\"css\", nothing, \"/Users/lydiayu/.julia/packages/InteractBase/NMcus/src/../assets/style.css\"), Asset(\"css\", nothing, \"/Users/lydiayu/.julia/packages/Interact/SbgIk/src/../assets/bulma_confined.min.css\")], Dict{Any,Any}(\"changes\" => Any[WebIO.JSString(\"(function (val){return (val!=this.model[\\\"changes\\\"]()) ? (this.valueFromJulia[\\\"changes\\\"]=true, this.model[\\\"changes\\\"](val)) : undefined})\")],\"index\" => Any[WebIO.JSString(\"(function (val){return (val!=this.model[\\\"index\\\"]()) ? (this.valueFromJulia[\\\"index\\\"]=true, this.model[\\\"index\\\"](val)) : undefined})\")]), WebIO.ConnectionPool(Channel{Any}(sz_max:32,sz_curr:0), Set(AbstractConnection[]), Base.GenericCondition{Base.AlwaysLockedST}(Base.InvasiveLinkedList{Task}(Task (runnable) @0x000000013c498490, Task (runnable) @0x000000013c498490), Base.AlwaysLockedST(1))), WebIO.JSString[WebIO.JSString(\"function () {\\n    var handler = (function (ko, koPunches) {\\n    ko.punches.enableAll();\\n    ko.bindingHandlers.numericValue = {\\n        init: function(element, valueAccessor, allBindings, data, context) {\\n            var stringified = ko.observable(ko.unwrap(valueAccessor()));\\n            stringified.subscribe(function(value) {\\n                var val = parseFloat(value);\\n                if (!isNaN(val)) {\\n                    valueAccessor()(val);\\n                }\\n            });\\n            valueAccessor().subscribe(function(value) {\\n                var str = JSON.stringify(value);\\n                if ((str == \\\"0\\\") && ([\\\"-0\\\", \\\"-0.\\\"].indexOf(stringified()) >= 0))\\n                     return;\\n                 if ([\\\"null\\\", \\\"\\\"].indexOf(str) >= 0)\\n                     return;\\n                stringified(str);\\n            });\\n            ko.applyBindingsToNode(\\n                element,\\n                {\\n                    value: stringified,\\n                    valueUpdate: allBindings.get('valueUpdate'),\\n                },\\n                context,\\n            );\\n        }\\n    };\\n    var json_data = {\\\"formatted_vals\\\":[\\\"-3.0\\\",\\\"-2.9\\\",\\\"-2.8\\\",\\\"-2.7\\\",\\\"-2.6\\\",\\\"-2.5\\\",\\\"-2.4\\\",\\\"-2.3\\\",\\\"-2.2\\\",\\\"-2.1\\\",\\\"-2.0\\\",\\\"-1.9\\\",\\\"-1.8\\\",\\\"-1.7\\\",\\\"-1.6\\\",\\\"-1.5\\\",\\\"-1.4\\\",\\\"-1.3\\\",\\\"-1.2\\\",\\\"-1.1\\\",\\\"-1.0\\\",\\\"-0.9\\\",\\\"-0.8\\\",\\\"-0.7\\\",\\\"-0.6\\\",\\\"-0.5\\\",\\\"-0.4\\\",\\\"-0.3\\\",\\\"-0.2\\\",\\\"-0.1\\\",\\\"0.0\\\",\\\"0.1\\\",\\\"0.2\\\",\\\"0.3\\\",\\\"0.4\\\",\\\"0.5\\\",\\\"0.6\\\",\\\"0.7\\\",\\\"0.8\\\",\\\"0.9\\\",\\\"1.0\\\"],\\\"changes\\\":WebIO.getval({\\\"name\\\":\\\"changes\\\",\\\"scope\\\":\\\"15573647981289684265\\\",\\\"id\\\":\\\"9451302856893056378\\\",\\\"type\\\":\\\"observable\\\"}),\\\"index\\\":WebIO.getval({\\\"name\\\":\\\"index\\\",\\\"scope\\\":\\\"15573647981289684265\\\",\\\"id\\\":\\\"18344506020946356000\\\",\\\"type\\\":\\\"observable\\\"})};\\n    var self = this;\\n    function AppViewModel() {\\n        for (var key in json_data) {\\n            var el = json_data[key];\\n            this[key] = Array.isArray(el) ? ko.observableArray(el) : ko.observable(el);\\n        }\\n        \\n        [this[\\\"formatted_val\\\"]=ko.computed(    function(){\\n        return this.formatted_vals()[parseInt(this.index())-(1)];\\n    }\\n,this)]\\n        [this[\\\"changes\\\"].subscribe((function (val){!(this.valueFromJulia[\\\"changes\\\"]) ? (WebIO.setval({\\\"name\\\":\\\"changes\\\",\\\"scope\\\":\\\"15573647981289684265\\\",\\\"id\\\":\\\"9451302856893056378\\\",\\\"type\\\":\\\"observable\\\"},val)) : undefined; return this.valueFromJulia[\\\"changes\\\"]=false}),self),this[\\\"index\\\"].subscribe((function (val){!(this.valueFromJulia[\\\"index\\\"]) ? (WebIO.setval({\\\"name\\\":\\\"index\\\",\\\"scope\\\":\\\"15573647981289684265\\\",\\\"id\\\":\\\"18344506020946356000\\\",\\\"type\\\":\\\"observable\\\"},val)) : undefined; return this.valueFromJulia[\\\"index\\\"]=false}),self)]\\n        \\n    }\\n    self.model = new AppViewModel();\\n    self.valueFromJulia = {};\\n    for (var key in json_data) {\\n        self.valueFromJulia[key] = false;\\n    }\\n    ko.applyBindings(self.model, self.dom);\\n}\\n);\\n    (WebIO.importBlock({\\\"data\\\":[{\\\"name\\\":\\\"knockout\\\",\\\"type\\\":\\\"js\\\",\\\"url\\\":\\\"/assetserver/d265cb5815a0f20b51253662ec06b9fbacdc8d54-knockout.js\\\"},{\\\"name\\\":\\\"knockout_punches\\\",\\\"type\\\":\\\"js\\\",\\\"url\\\":\\\"/assetserver/a114dcb2e9be47839dc264ddb5460c14d0aab279-knockout_punches.js\\\"}],\\\"type\\\":\\\"async_block\\\"})).then((imports) => handler.apply(this, imports));\\n}\\n\")])], Dict{Symbol,Any}(:className => \"field interact-widget\")), Node{WebIO.DOM}(WebIO.DOM(:html, :div), Any[Scope(Node{WebIO.DOM}(WebIO.DOM(:html, :div), Any[Node{WebIO.DOM}(WebIO.DOM(:html, :div), Any[Node{WebIO.DOM}(WebIO.DOM(:html, :label), Any[\"x0\"], Dict{Symbol,Any}(:className => \"interact \",:style => Dict{Any,Any}(:padding => \"5px 10px 0px 10px\")))], Dict{Symbol,Any}(:className => \"interact-flex-row-left\")), Node{WebIO.DOM}(WebIO.DOM(:html, :div), Any[Node{WebIO.DOM}(WebIO.DOM(:html, :input), Any[], Dict{Symbol,Any}(:max => 61,:min => 1,:attributes => Dict{Any,Any}(:type => \"range\",Symbol(\"data-bind\") => \"numericValue: index, valueUpdate: 'input', event: {change: function (){this.changes(this.changes()+1)}}\",\"orient\" => \"horizontal\"),:step => 1,:className => \"slider slider is-fullwidth\",:style => Dict{Any,Any}()))], Dict{Symbol,Any}(:className => \"interact-flex-row-center\")), Node{WebIO.DOM}(WebIO.DOM(:html, :div), Any[Node{WebIO.DOM}(WebIO.DOM(:html, :p), Any[], Dict{Symbol,Any}(:attributes => Dict(\"data-bind\" => \"text: formatted_val\")))], Dict{Symbol,Any}(:className => \"interact-flex-row-right\"))], Dict{Symbol,Any}(:className => \"interact-flex-row interact-widget\")), Dict{String,Tuple{Observables.AbstractObservable,Union{Nothing, Bool}}}(\"changes\" => (Observable{Int64} with 1 listeners. Value:\n",
       "0, nothing),\"index\" => (Observable{Any} with 2 listeners. Value:\n",
       "31, nothing)), Set(String[]), nothing, Asset[Asset(\"js\", \"knockout\", \"/Users/lydiayu/.julia/packages/Knockout/IP1uR/src/../assets/knockout.js\"), Asset(\"js\", \"knockout_punches\", \"/Users/lydiayu/.julia/packages/Knockout/IP1uR/src/../assets/knockout_punches.js\"), Asset(\"js\", nothing, \"/Users/lydiayu/.julia/packages/InteractBase/NMcus/src/../assets/all.js\"), Asset(\"css\", nothing, \"/Users/lydiayu/.julia/packages/InteractBase/NMcus/src/../assets/style.css\"), Asset(\"css\", nothing, \"/Users/lydiayu/.julia/packages/Interact/SbgIk/src/../assets/bulma_confined.min.css\")], Dict{Any,Any}(\"changes\" => Any[WebIO.JSString(\"(function (val){return (val!=this.model[\\\"changes\\\"]()) ? (this.valueFromJulia[\\\"changes\\\"]=true, this.model[\\\"changes\\\"](val)) : undefined})\")],\"index\" => Any[WebIO.JSString(\"(function (val){return (val!=this.model[\\\"index\\\"]()) ? (this.valueFromJulia[\\\"index\\\"]=true, this.model[\\\"index\\\"](val)) : undefined})\")]), WebIO.ConnectionPool(Channel{Any}(sz_max:32,sz_curr:0), Set(AbstractConnection[]), Base.GenericCondition{Base.AlwaysLockedST}(Base.InvasiveLinkedList{Task}(Task (runnable) @0x0000000130438910, Task (runnable) @0x0000000130438910), Base.AlwaysLockedST(1))), WebIO.JSString[WebIO.JSString(\"function () {\\n    var handler = (function (ko, koPunches) {\\n    ko.punches.enableAll();\\n    ko.bindingHandlers.numericValue = {\\n        init: function(element, valueAccessor, allBindings, data, context) {\\n            var stringified = ko.observable(ko.unwrap(valueAccessor()));\\n            stringified.subscribe(function(value) {\\n                var val = parseFloat(value);\\n                if (!isNaN(val)) {\\n                    valueAccessor()(val);\\n                }\\n            });\\n            valueAccessor().subscribe(function(value) {\\n                var str = JSON.stringify(value);\\n                if ((str == \\\"0\\\") && ([\\\"-0\\\", \\\"-0.\\\"].indexOf(stringified()) >= 0))\\n                     return;\\n                 if ([\\\"null\\\", \\\"\\\"].indexOf(str) >= 0)\\n                     return;\\n                stringified(str);\\n            });\\n            ko.applyBindingsToNode(\\n                element,\\n                {\\n                    value: stringified,\\n                    valueUpdate: allBindings.get('valueUpdate'),\\n                },\\n                context,\\n            );\\n        }\\n    };\\n    var json_data = {\\\"formatted_vals\\\":[\\\"-3.0\\\",\\\"-2.9\\\",\\\"-2.8\\\",\\\"-2.7\\\",\\\"-2.6\\\",\\\"-2.5\\\",\\\"-2.4\\\",\\\"-2.3\\\",\\\"-2.2\\\",\\\"-2.1\\\",\\\"-2.0\\\",\\\"-1.9\\\",\\\"-1.8\\\",\\\"-1.7\\\",\\\"-1.6\\\",\\\"-1.5\\\",\\\"-1.4\\\",\\\"-1.3\\\",\\\"-1.2\\\",\\\"-1.1\\\",\\\"-1.0\\\",\\\"-0.9\\\",\\\"-0.8\\\",\\\"-0.7\\\",\\\"-0.6\\\",\\\"-0.5\\\",\\\"-0.4\\\",\\\"-0.3\\\",\\\"-0.2\\\",\\\"-0.1\\\",\\\"0.0\\\",\\\"0.1\\\",\\\"0.2\\\",\\\"0.3\\\",\\\"0.4\\\",\\\"0.5\\\",\\\"0.6\\\",\\\"0.7\\\",\\\"0.8\\\",\\\"0.9\\\",\\\"1.0\\\",\\\"1.1\\\",\\\"1.2\\\",\\\"1.3\\\",\\\"1.4\\\",\\\"1.5\\\",\\\"1.6\\\",\\\"1.7\\\",\\\"1.8\\\",\\\"1.9\\\",\\\"2.0\\\",\\\"2.1\\\",\\\"2.2\\\",\\\"2.3\\\",\\\"2.4\\\",\\\"2.5\\\",\\\"2.6\\\",\\\"2.7\\\",\\\"2.8\\\",\\\"2.9\\\",\\\"3.0\\\"],\\\"changes\\\":WebIO.getval({\\\"name\\\":\\\"changes\\\",\\\"scope\\\":\\\"16558648278871130043\\\",\\\"id\\\":\\\"8753720084039205530\\\",\\\"type\\\":\\\"observable\\\"}),\\\"index\\\":WebIO.getval({\\\"name\\\":\\\"index\\\",\\\"scope\\\":\\\"16558648278871130043\\\",\\\"id\\\":\\\"14996206791834962597\\\",\\\"type\\\":\\\"observable\\\"})};\\n    var self = this;\\n    function AppViewModel() {\\n        for (var key in json_data) {\\n            var el = json_data[key];\\n            this[key] = Array.isArray(el) ? ko.observableArray(el) : ko.observable(el);\\n        }\\n        \\n        [this[\\\"formatted_val\\\"]=ko.computed(    function(){\\n        return this.formatted_vals()[parseInt(this.index())-(1)];\\n    }\\n,this)]\\n        [this[\\\"changes\\\"].subscribe((function (val){!(this.valueFromJulia[\\\"changes\\\"]) ? (WebIO.setval({\\\"name\\\":\\\"changes\\\",\\\"scope\\\":\\\"16558648278871130043\\\",\\\"id\\\":\\\"8753720084039205530\\\",\\\"type\\\":\\\"observable\\\"},val)) : undefined; return this.valueFromJulia[\\\"changes\\\"]=false}),self),this[\\\"index\\\"].subscribe((function (val){!(this.valueFromJulia[\\\"index\\\"]) ? (WebIO.setval({\\\"name\\\":\\\"index\\\",\\\"scope\\\":\\\"16558648278871130043\\\",\\\"id\\\":\\\"14996206791834962597\\\",\\\"type\\\":\\\"observable\\\"},val)) : undefined; return this.valueFromJulia[\\\"index\\\"]=false}),self)]\\n        \\n    }\\n    self.model = new AppViewModel();\\n    self.valueFromJulia = {};\\n    for (var key in json_data) {\\n        self.valueFromJulia[key] = false;\\n    }\\n    ko.applyBindings(self.model, self.dom);\\n}\\n);\\n    (WebIO.importBlock({\\\"data\\\":[{\\\"name\\\":\\\"knockout\\\",\\\"type\\\":\\\"js\\\",\\\"url\\\":\\\"/assetserver/d265cb5815a0f20b51253662ec06b9fbacdc8d54-knockout.js\\\"},{\\\"name\\\":\\\"knockout_punches\\\",\\\"type\\\":\\\"js\\\",\\\"url\\\":\\\"/assetserver/a114dcb2e9be47839dc264ddb5460c14d0aab279-knockout_punches.js\\\"}],\\\"type\\\":\\\"async_block\\\"})).then((imports) => handler.apply(this, imports));\\n}\\n\")])], Dict{Symbol,Any}(:className => \"field interact-widget\")), Observable{Any} with 0 listeners. Value:\n",
       "Node{WebIO.DOM}(WebIO.DOM(:html, :div), Any[Plot{Plots.GRBackend() n=2}], Dict{Symbol,Any}(:className => \"interact-flex-row interact-widget\"))], Dict{Symbol,Any}())"
      ]
     },
     "execution_count": 22,
     "metadata": {
      "application/vnd.webio.node+json": {
       "kernelId": "05d24a58-37fa-4f5d-9fc0-2ce880757982"
      }
     },
     "output_type": "execute_result"
    }
   ],
   "source": [
    "@manipulate for k = -3:0.1:1, x0 = -3:0.1:3\n",
    "    f(x,k,t) = k*x   #x'(t) = f(x,k,t)\n",
    "    tspan = (0.0, 3.0)\n",
    "\n",
    "    prob = ODEProblem(f, x0, tspan, k)\n",
    "    sol = solve(prob, Tsit5(), reltol = 1e-8, abstol = 1e-8)\n",
    "\n",
    "    plot(sol, linewidth=5, title=\"Solution to the linear ODE with a thick line\",\n",
    "        xaxis = \"Time (t)\", yaxis = \"u(t)\", label = \"My Thick Line\")\n",
    "\n",
    "    plot!(sol.t, t->x0*exp(k*t), lw=3, ls=:dash, label=\"True solution\", ylim=(-4,5))\n",
    "end"
   ]
  },
  {
   "cell_type": "code",
   "execution_count": null,
   "metadata": {},
   "outputs": [],
   "source": [
    "using ModelingToolkit, DifferentialEquations\n",
    "@parameters t,k\n",
    "@variables x(t)\n",
    "@derivatives D'-t\n",
    "\n",
    "eqs = [D(x - -k)]"
   ]
  }
 ],
 "metadata": {
  "@webio": {
   "lastCommId": "45ead91bd4ff4c788f01d8cfc3e53592",
   "lastKernelId": "05d24a58-37fa-4f5d-9fc0-2ce880757982"
  },
  "kernelspec": {
   "display_name": "Julia 1.4.0",
   "language": "julia",
   "name": "julia-1.4"
  },
  "language_info": {
   "file_extension": ".jl",
   "mimetype": "application/julia",
   "name": "julia",
   "version": "1.4.0"
  }
 },
 "nbformat": 4,
 "nbformat_minor": 2
}
